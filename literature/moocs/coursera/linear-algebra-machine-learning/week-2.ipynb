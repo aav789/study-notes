{
 "cells": [
  {
   "cell_type": "markdown",
   "metadata": {},
   "source": [
    "# Week 2"
   ]
  },
  {
   "cell_type": "markdown",
   "metadata": {},
   "source": [
    "## Intro\n",
    "\n",
    "* Look at modulus or magnitude.\n",
    "* Combining vectors with dot products.\n",
    "* Scalar and vector projections\n",
    "* Look at vectors that can define space:\n",
    "  * basis vectors\n",
    "  * linear independence and linear combinations"
   ]
  },
  {
   "cell_type": "markdown",
   "metadata": {},
   "source": [
    "## Finding the size of a vector, its angle, and projection"
   ]
  },
  {
   "cell_type": "markdown",
   "metadata": {},
   "source": [
    "### Modulus and inner product\n",
    "\n",
    "* Length of vector: called the size.\n",
    "  * Can use pythagoras' theory to find length of vector:\n",
    "    * `r = [a, b]`\n",
    "    * `|r| = sqrt(a**2 + b**2)`\n",
    "    * Scales up to multiple dimensions.\n",
    "    \n",
    "* Dot product:\n",
    "  * Results in a single scalar value.\n",
    "  * `r.s = r_i * s_i + r_j * s_j`\n",
    "  * Example:\n",
    "    * `r = [4 3] s = [1 -2]`\n",
    "    * `r.s = 4*1 + 3*-2 = 4 + -6 = -2`\n",
    "  * Commutative:\n",
    "    * `r.s = s.r`\n",
    "  * Distributive:\n",
    "    * `r.(s+t) = r.s + r.t`\n",
    "  * Associative over scalar multiplication:\n",
    "    * Noting that s is a scalar:\n",
    "      * `r.(a * s) = a(r.s)`\n",
    "* Link between dot product and size of vector:\n",
    "  * `r.r = r_i * r_i + r_j * r_j = r_i^2 + r_j^2`\n",
    "  * Since we know size of the vector is the square root of all its value squared, we can deduce that:\n",
    "    * `r.r = |r|^2`"
   ]
  },
  {
   "cell_type": "markdown",
   "metadata": {},
   "source": [
    "### Cosine and dot product\n",
    "\n",
    "* Cosine rule from algebra:\n",
    "  * Given a triangle with sides a, b and c: $c^2 = a^2 + b^2 - 2ab \\cos \\theta$\n",
    "* Since the side c is `-a + b` or `b - a`, the following is true:\n",
    "  * $|r-s|^2 = |r|^2 |s|^2 - 2|r||s| \\cos \\theta$\n",
    "  * Rewritten: $(r-s).(r-s) = r.r -s.r -s.r -s.-s = |r|^2 -2s.r + |2|^2$\n",
    "  * Can compare that with the cosine rule expression:\n",
    "    * $-2s.r \\ -2 |r| |s | \\cos \\theta$\n",
    "    * $r.s = |r||s|\\cos\\theta$\n",
    "* Meaning: dot product takes the size of each vector and multiples by the $\\cos$ of the angle between them:\n",
    "  * If $\\theta=90$, meaning vectors are orthoganal, then $\\cos 90 = 0$, which means dot product would be 0: $r.s=|r||s| * 0$\n",
    "  * If $\\theta=0$, meaning vectors are pointing in the same direction, then $\\cos 90 = 1$, which means dot product would be 0: $r.s=|r||s| * 1$ or just vectors length added together.\n",
    "  * If $\\theta=180$, meaning vectors are pointing in opposite direction, then $\\cos 180 = -1$, which means dot product would result in $-1 r.s$."
   ]
  },
  {
   "cell_type": "markdown",
   "metadata": {},
   "source": [
    "### Projection"
   ]
  },
  {
   "cell_type": "markdown",
   "metadata": {},
   "source": [
    "* Given two vectors that make a right-angle triangle like this:\n",
    "\n",
    "  <img src=\"https://i.gyazo.com/e474fc6f2d062abc18f3b00813725bf1.gif\" width=100px>\n",
    "\n",
    "* We can figure out the adjacent side as `adj / hyp` which is `adj / |s|`.\n",
    "\n",
    "* Since we know $r.s = |r| |s| \\cos \\theta$, we know that the `r.s = |r| * adj`.\n",
    "\n",
    "* If $\\cos \\theta = 0$ (in the case theta was 90), the project would be 0.\n",
    "\n",
    "* Scalar project: $\\frac{r.s}{|r|} = |s| \\cos \\theta$\n",
    "\n",
    "* Vector project: $\\frac{r.s}{|r||r|} r = \\frac{r.s}{r.r} r$\n",
    "  * \"scalar project also encoding with some information about the direction of r\"."
   ]
  },
  {
   "cell_type": "markdown",
   "metadata": {},
   "source": [
    "## Changing the reference frame"
   ]
  },
  {
   "cell_type": "markdown",
   "metadata": {},
   "source": [
    "### Changing basis"
   ]
  },
  {
   "cell_type": "markdown",
   "metadata": {},
   "source": [
    "* *basic vectors* basically describe the \"space in which the vectors exist\".\n",
    "* In this example, the 2d coordinate system is defined by 2 basis vectors: $\\hat{e}_1 = \\begin{pmatrix}1 \\\\ 0\\end{pmatrix} \\\\ \\hat{e}_2 = \\begin{pmatrix}0 \\\\ 1\\end{pmatrix}$ (since it's 2d space).\n",
    "\n",
    "* Since r's a vector with values $\\begin{pmatrix}3 \\\\ 4\\end{pmatrix}$, it can be described as $3\\hat{e}_1 + 4\\hat{e}_2$\n",
    "\n",
    "<img src=\"https://i.gyazo.com/2691bf2873b581933377fc1f668f8ca1.gif\" width=\"300px\">\n",
    "\n",
    "* You can come up with an entirely different set of basis vectors and r could be transformed to be described with those coordinates.\n",
    "* In this example, we have a new set of basis vectors $b_2=\\begin{pmatrix}-2 \\\\ 4\\end{pmatrix}$ and $b_1=\\begin{pmatrix}2 \\\\ 1\\end{pmatrix}$\n",
    "\n",
    "<img src=\"https://i.gyazo.com/c0c7561751cfb1a13a657bf940195764.gif\" width=\"300px\">\n",
    "  \n",
    "* If you described the r values in the first example, with the $e$ basis vectors, as $r_e$, you could ask: what would the values be in the $r_b$ coordinate system?\n",
    "\n",
    "* If the basis vectors are orthogonal (90° to each other), the value of $r_b$ is simply the projection of $r$ onto $b_1$ and $r$ onto $b_2$:\n",
    "\n",
    "  * $r$ onto $b_1$:\n",
    "    \n",
    "    * Scalar projection calculated as: $$\\frac{r_e * b_1}{|b_1|^2}$$\n",
    "      In this example: $$\\frac{3\\times2 + 4\\times1}{2^2 + 1^2}=\\frac{10}{5}=2$$\n",
    "    \n",
    "  * $r$ onto $b_2$:\n",
    "  \n",
    "    * Scalar projection: $$\\frac{r_e * b_2}{|b_2|^2}$$\n",
    "      Example: $$\\frac{3 \\times -2 + 4 \\times 4}{(-2)^2 + 4^2}=\\frac{10}{20} = \\frac{1}{2}$$\n",
    "    \n",
    "  * This means $r_b=\\begin{pmatrix}2 \\\\ \\frac{1}{2}\\end{pmatrix}$\n",
    "  \n",
    "* You can get to the original $r_e$ by adding the vector projections $b_1$ and $b_2$.\n",
    "\n",
    "    * The vector projection for $r$ onto $b_1$ as: $$\\frac{r_e * b_1}{|b_1|^2}b$$\n",
    "      In this example: $$2\\begin{pmatrix}2 \\\\ 1\\end{pmatrix}=\\begin{pmatrix}4 \\\\ 2\\end{pmatrix}$$\n",
    "     \n",
    "  * Vector calculated for $r$ onto $b_2$ as: $$\\frac{r_e * b_2}{|b_2|^2}b_2$$\n",
    "    In this example: $$\\frac{1}{2}\\begin{pmatrix}-2 \\\\ 4\\end{pmatrix} = \\begin{pmatrix}-1 \\\\ 2\\end{pmatrix}$$\n",
    "  \n",
    "  * If you add the vector projections together and you get: $\\begin{pmatrix}4 \\\\ 2\\end{pmatrix}+\\begin{pmatrix}-1 \\\\ 2\\end{pmatrix} = \\begin{pmatrix}3 \\\\ 4\\end{pmatrix}$, which is the original $r_e$\n",
    "\n",
    "#### Summary\n",
    "\n",
    "* Basis vectors used to describe space of data and choosing them careful is an important thing for your problem in linear algebra.\n",
    "* Can move numbers in a vector from one set of basis vectors to another.\n",
    "* They can be moved using the projection product, but only if the new basis vectors are orthogonal (90°)."
   ]
  },
  {
   "cell_type": "markdown",
   "metadata": {},
   "source": [
    "### Basic, vector space, and linear independance"
   ]
  },
  {
   "cell_type": "markdown",
   "metadata": {},
   "source": [
    "* There are more possibilities than just \"natural basis vectors\": $\\begin{pmatrix}0 \\\\ 1\\end{pmatrix}, \\begin{pmatrix}1 \\\\ 0\\end{pmatrix}$\n",
    "* \"Basis\" = set of vectors that aren't linear combinations.\n",
    "  * Size of them is the size of the space's dimensionality: they would have 3 elements if it was 3d space.\n",
    "* If you had 3 dimensions, defined by basis vectors $b_1, b_2 \\text{ and } b_3$, you couldn't do this: $b_3 = a_1b_1 + a_2b_2$ for any $a_1, a_2$ you could think of.\n",
    "  * Same as saying \"$b_3$ does not lie in the plane spanned by $b_1$ and $b_2$\".\n",
    "  * If you added a $b_4$ that also met the critieria: $b_4 = a_1b_1 + a_2b_2 + a_3b_3$, then it could be a basis vector for some 4d space.\n",
    "* They *don't* have to be:\n",
    "  * \"of unit length\": equal to 1: ($\\begin{pmatrix}0 \\\\ 1\\end{pmatrix}, \\begin{pmatrix}1 \\\\ 0\\end{pmatrix}$).\n",
    "  * orthongonal to each other: at a 90°: $b_1 . b_2 = 0$\n",
    "  * *but \"everything\" will be easier if they are.*\n",
    "* Mapping from one vector space to another will keep a regularly spaced grid:\n",
    "\n",
    "<img src=\"https://i.gyazo.com/c264486a604039e250da0428fc02667c.gif\" width=\"200px\">\n",
    "\n",
    "  * Doesn't warp or fold space - only stretching or rotate or invented: linear combinations still work.\n",
    "* If basis vectors aren't orthogonal, then you'll need to use matrices to convert between them."
   ]
  },
  {
   "cell_type": "markdown",
   "metadata": {},
   "source": [
    "### Applications of changing basis"
   ]
  },
  {
   "cell_type": "markdown",
   "metadata": {},
   "source": [
    "* Example of fitting some data to a line using the some of squares between them.\n",
    "* Machine learning model may learn basis vectors of the space of the data to find the best fit."
   ]
  },
  {
   "cell_type": "code",
   "execution_count": null,
   "metadata": {},
   "outputs": [],
   "source": []
  }
 ],
 "metadata": {
  "kernelspec": {
   "display_name": "Python 2",
   "language": "python",
   "name": "python2"
  },
  "language_info": {
   "codemirror_mode": {
    "name": "ipython",
    "version": 2
   },
   "file_extension": ".py",
   "mimetype": "text/x-python",
   "name": "python",
   "nbconvert_exporter": "python",
   "pygments_lexer": "ipython2",
   "version": "2.7.13"
  }
 },
 "nbformat": 4,
 "nbformat_minor": 2
}
