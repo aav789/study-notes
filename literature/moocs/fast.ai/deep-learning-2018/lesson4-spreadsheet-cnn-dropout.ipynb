{
 "cells": [
  {
   "cell_type": "code",
   "execution_count": 1,
   "metadata": {},
   "outputs": [],
   "source": [
    "%load_ext autoreload\n",
    "%autoreload 2\n",
    "\n",
    "import numpy as np\n",
    "import pandas as pd\n",
    "from matplotlib import pyplot as plt\n",
    "from pathlib import Path\n",
    "\n",
    "import torch\n",
    "import torch.nn as nn\n",
    "import torch.nn.functional as F\n",
    "from torch.autograd import Variable\n",
    "from tqdm import tqdm_notebook\n",
    "\n",
    "from fastai.conv_learner import ConvLearner\n",
    "from fastai.dataset import ImageClassifierData, get_cv_idxs\n",
    "from fastai.transforms import tfms_from_model"
   ]
  },
  {
   "cell_type": "code",
   "execution_count": 2,
   "metadata": {},
   "outputs": [],
   "source": [
    "%matplotlib inline"
   ]
  },
  {
   "cell_type": "markdown",
   "metadata": {},
   "source": [
    "# Lesson 4 - Adding Dropout to spreadsheet CNN"
   ]
  },
  {
   "cell_type": "code",
   "execution_count": 3,
   "metadata": {},
   "outputs": [],
   "source": [
    "PATH = Path('./data/mnist')\n",
    "PATH.mkdir(exist_ok=True)"
   ]
  },
  {
   "cell_type": "markdown",
   "metadata": {},
   "source": [
    "## Dataset"
   ]
  },
  {
   "cell_type": "markdown",
   "metadata": {},
   "source": [
    "```\n",
    "kaggle competitions download -c digit-recognizer --path={PATH}\n",
    "```"
   ]
  },
  {
   "cell_type": "code",
   "execution_count": 4,
   "metadata": {},
   "outputs": [],
   "source": [
    "df = pd.read_csv(PATH/'train.csv')"
   ]
  },
  {
   "cell_type": "markdown",
   "metadata": {},
   "source": [
    "### Load a single image"
   ]
  },
  {
   "cell_type": "code",
   "execution_count": 5,
   "metadata": {},
   "outputs": [],
   "source": [
    "img_pixels = df.loc[7, [c for c in df.columns if c.startswith('pixel')]]\n",
    "img_arr = np.array([int(i) for i in img_pixels])\n",
    "img_arr = img_arr.reshape((28, 28))\n",
    "img_arr_float = img_arr / 255."
   ]
  },
  {
   "cell_type": "code",
   "execution_count": 6,
   "metadata": {},
   "outputs": [
    {
     "data": {
      "image/png": "[encoded data removed]",
      "text/plain": [
       "<Figure size 432x288 with 1 Axes>"
      ]
     },
     "metadata": {},
     "output_type": "display_data"
    }
   ],
   "source": [
    "plt.imshow(img_arr_float, cmap='gray')\n",
    "plt.show()"
   ]
  },
  {
   "cell_type": "code",
   "execution_count": 7,
   "metadata": {},
   "outputs": [],
   "source": [
    "img_arr_float = img_arr_float.reshape(1, 28, 28)\n",
    "img_tensor = torch.from_numpy(img_arr_float)\n",
    "img_tensor = img_tensor.unsqueeze(0).cpu().float()"
   ]
  },
  {
   "cell_type": "markdown",
   "metadata": {},
   "source": [
    "### Exploring new model"
   ]
  },
  {
   "cell_type": "markdown",
   "metadata": {},
   "source": [
    "I'll start by improving the model by adding 2 things:\n",
    "  1. Much more output channels in CNN, from 2 to 32 in the first layer and 2 to 64 in the second layer.\n",
    "  2. An extra fully-connected layer on the end.\n",
    "\n",
    "Let's make sure the outputs are as we expect:"
   ]
  },
  {
   "cell_type": "code",
   "execution_count": 8,
   "metadata": {},
   "outputs": [],
   "source": [
    "conv1 = nn.Conv2d(in_channels=1, out_channels=32, kernel_size=3, padding=1)\n",
    "conv2 = nn.Conv2d(in_channels=32, out_channels=64, kernel_size=3, padding=1)"
   ]
  },
  {
   "cell_type": "code",
   "execution_count": 9,
   "metadata": {},
   "outputs": [],
   "source": [
    "output = conv1(Variable(img_tensor))"
   ]
  },
  {
   "cell_type": "code",
   "execution_count": 10,
   "metadata": {},
   "outputs": [
    {
     "data": {
      "text/plain": [
       "torch.Size([1, 32, 28, 28])"
      ]
     },
     "execution_count": 10,
     "metadata": {},
     "output_type": "execute_result"
    }
   ],
   "source": [
    "output.shape"
   ]
  },
  {
   "cell_type": "markdown",
   "metadata": {},
   "source": [
    "Note how I've added 1 pixel of padding on both sides of the output.\n",
    "\n",
    "This means that the conv will return the same size image output, which is slightly easier to deal with. We then know that the Maxpool will return the size by half:"
   ]
  },
  {
   "cell_type": "code",
   "execution_count": 11,
   "metadata": {},
   "outputs": [],
   "source": [
    "output = F.max_pool2d(output, 2)"
   ]
  },
  {
   "cell_type": "code",
   "execution_count": 12,
   "metadata": {},
   "outputs": [
    {
     "data": {
      "text/plain": [
       "torch.Size([1, 32, 14, 14])"
      ]
     },
     "execution_count": 12,
     "metadata": {},
     "output_type": "execute_result"
    }
   ],
   "source": [
    "output.shape"
   ]
  },
  {
   "cell_type": "markdown",
   "metadata": {},
   "source": [
    "### Dropout in action"
   ]
  },
  {
   "cell_type": "markdown",
   "metadata": {},
   "source": [
    "We are also adding Dropout. Let's explore what Dropout with 100% probability will look like.\n",
    "\n",
    "First, let's see the output image:"
   ]
  },
  {
   "cell_type": "code",
   "execution_count": 13,
   "metadata": {},
   "outputs": [
    {
     "data": {
      "text/plain": [
       "Variable containing:\n",
       "(0 ,.,.) = \n",
       "  1.3262e-01  1.3262e-01  1.3262e-01  ...   1.3262e-01  1.3262e-01  1.3262e-01\n",
       "  1.3262e-01  1.3262e-01  1.3262e-01  ...   1.3262e-01  1.3262e-01  1.3262e-01\n",
       "  1.3262e-01  1.3262e-01  1.3262e-01  ...   1.3262e-01  1.3262e-01  1.3262e-01\n",
       "                 ...                   ⋱                   ...                \n",
       "  1.3262e-01  1.3262e-01  1.7289e-02  ...   1.3262e-01  1.3262e-01  1.3262e-01\n",
       "  1.3262e-01  1.3262e-01  1.3262e-01  ...   1.3262e-01  1.3262e-01  1.3262e-01\n",
       "  1.3262e-01  1.3262e-01  1.3262e-01  ...   1.3262e-01  1.3262e-01  1.3262e-01\n",
       "\n",
       "(1 ,.,.) = \n",
       " -6.8213e-02 -6.8213e-02 -6.8213e-02  ...  -6.8213e-02 -6.8213e-02 -6.8213e-02\n",
       " -6.8213e-02 -6.8213e-02 -6.8213e-02  ...  -6.8213e-02 -6.8213e-02 -6.8213e-02\n",
       " -6.8213e-02 -6.8213e-02 -6.8213e-02  ...  -6.8213e-02 -6.8213e-02 -6.8213e-02\n",
       "                 ...                   ⋱                   ...                \n",
       " -6.8213e-02 -6.6136e-02 -3.4751e-02  ...   9.1516e-02 -6.8213e-02 -6.8213e-02\n",
       " -6.8213e-02 -6.8213e-02 -4.8687e-02  ...  -5.8654e-02 -6.8213e-02 -6.8213e-02\n",
       " -6.8213e-02 -6.8213e-02 -6.8213e-02  ...  -6.8213e-02 -6.8213e-02 -6.8213e-02\n",
       "\n",
       "(2 ,.,.) = \n",
       " -2.4363e-01 -2.4363e-01 -2.4363e-01  ...  -2.4363e-01 -2.4363e-01 -2.4363e-01\n",
       " -2.4363e-01 -2.4363e-01 -2.4363e-01  ...  -2.4363e-01 -2.4363e-01 -2.4363e-01\n",
       " -2.4363e-01 -2.4363e-01 -2.4363e-01  ...  -2.4363e-01 -2.4363e-01 -2.4363e-01\n",
       "                 ...                   ⋱                   ...                \n",
       " -2.4363e-01 -2.4363e-01 -1.2141e-01  ...  -2.4363e-01 -2.4363e-01 -2.4363e-01\n",
       " -2.4363e-01 -2.4363e-01 -2.4363e-01  ...  -2.4363e-01 -2.4363e-01 -2.4363e-01\n",
       " -2.4363e-01 -2.4363e-01 -2.4363e-01  ...  -2.4363e-01 -2.4363e-01 -2.4363e-01\n",
       "...\n",
       "\n",
       "(29,.,.) = \n",
       " -8.1198e-02 -8.1198e-02 -8.1198e-02  ...  -8.1198e-02 -8.1198e-02 -8.1198e-02\n",
       " -8.1198e-02 -8.1198e-02 -8.1198e-02  ...  -8.1198e-02 -8.1198e-02 -8.1198e-02\n",
       " -8.1198e-02 -8.1198e-02 -8.1198e-02  ...  -8.1198e-02 -8.1198e-02 -8.1198e-02\n",
       "                 ...                   ⋱                   ...                \n",
       " -8.1198e-02 -7.5891e-02  3.2056e-02  ...  -8.6728e-03 -8.1198e-02 -8.1198e-02\n",
       " -8.1198e-02 -8.1198e-02 -3.1319e-02  ...  -8.1198e-02 -8.1198e-02 -8.1198e-02\n",
       " -8.1198e-02 -8.1198e-02 -8.1198e-02  ...  -8.1198e-02 -8.1198e-02 -8.1198e-02\n",
       "\n",
       "(30,.,.) = \n",
       "  1.8844e-01  1.8844e-01  1.8844e-01  ...   1.8844e-01  1.8844e-01  1.8844e-01\n",
       "  1.8844e-01  1.8844e-01  1.8844e-01  ...   1.8844e-01  1.8844e-01  1.8844e-01\n",
       "  1.8844e-01  1.8844e-01  1.8844e-01  ...   1.8844e-01  1.8844e-01  1.8844e-01\n",
       "                 ...                   ⋱                   ...                \n",
       "  1.8844e-01  1.8844e-01  2.7974e-01  ...   2.7677e-01  1.8844e-01  1.8844e-01\n",
       "  1.8844e-01  1.8844e-01  1.8844e-01  ...   1.8925e-01  1.8844e-01  1.8844e-01\n",
       "  1.8844e-01  1.8844e-01  1.8844e-01  ...   1.8844e-01  1.8844e-01  1.8844e-01\n",
       "\n",
       "(31,.,.) = \n",
       " -2.2231e-01 -2.2231e-01 -2.2231e-01  ...  -2.2231e-01 -2.2231e-01 -2.2231e-01\n",
       " -2.2231e-01 -2.2231e-01 -2.2231e-01  ...  -2.2231e-01 -2.2231e-01 -2.2231e-01\n",
       " -2.2231e-01 -2.2231e-01 -2.2231e-01  ...  -2.2231e-01 -2.2231e-01 -2.2231e-01\n",
       "                 ...                   ⋱                   ...                \n",
       " -2.2231e-01 -2.2231e-01  7.6831e-02  ...  -9.1924e-02 -2.2231e-01 -2.2231e-01\n",
       " -2.2231e-01 -2.2231e-01 -2.2231e-01  ...  -2.1564e-01 -2.2231e-01 -2.2231e-01\n",
       " -2.2231e-01 -2.2231e-01 -2.2231e-01  ...  -2.2231e-01 -2.2231e-01 -2.2231e-01\n",
       "[torch.FloatTensor of size 32x14x14]"
      ]
     },
     "execution_count": 13,
     "metadata": {},
     "output_type": "execute_result"
    }
   ],
   "source": [
    "output[0]"
   ]
  },
  {
   "cell_type": "markdown",
   "metadata": {},
   "source": [
    "Let's now create Dropout with 100% prob:"
   ]
  },
  {
   "cell_type": "code",
   "execution_count": 14,
   "metadata": {},
   "outputs": [],
   "source": [
    "dropout = nn.Dropout(p=1)"
   ]
  },
  {
   "cell_type": "code",
   "execution_count": 15,
   "metadata": {},
   "outputs": [],
   "source": [
    "dropout_output = dropout(output)"
   ]
  },
  {
   "cell_type": "code",
   "execution_count": 16,
   "metadata": {},
   "outputs": [
    {
     "data": {
      "text/plain": [
       "Variable containing:\n",
       "(0 ,.,.) = \n",
       "   0   0   0  ...    0   0   0\n",
       "   0   0   0  ...    0   0   0\n",
       "   0   0   0  ...    0   0   0\n",
       "     ...       ⋱       ...    \n",
       "   0   0   0  ...    0   0   0\n",
       "   0   0   0  ...    0   0   0\n",
       "   0   0   0  ...    0   0   0\n",
       "\n",
       "(1 ,.,.) = \n",
       "  -0  -0  -0  ...   -0  -0  -0\n",
       "  -0  -0  -0  ...   -0  -0  -0\n",
       "  -0  -0  -0  ...   -0  -0  -0\n",
       "     ...       ⋱       ...    \n",
       "  -0  -0  -0  ...    0  -0  -0\n",
       "  -0  -0  -0  ...   -0  -0  -0\n",
       "  -0  -0  -0  ...   -0  -0  -0\n",
       "\n",
       "(2 ,.,.) = \n",
       "  -0  -0  -0  ...   -0  -0  -0\n",
       "  -0  -0  -0  ...   -0  -0  -0\n",
       "  -0  -0  -0  ...   -0  -0  -0\n",
       "     ...       ⋱       ...    \n",
       "  -0  -0  -0  ...   -0  -0  -0\n",
       "  -0  -0  -0  ...   -0  -0  -0\n",
       "  -0  -0  -0  ...   -0  -0  -0\n",
       "...\n",
       "\n",
       "(29,.,.) = \n",
       "  -0  -0  -0  ...   -0  -0  -0\n",
       "  -0  -0  -0  ...   -0  -0  -0\n",
       "  -0  -0  -0  ...   -0  -0  -0\n",
       "     ...       ⋱       ...    \n",
       "  -0  -0   0  ...   -0  -0  -0\n",
       "  -0  -0  -0  ...   -0  -0  -0\n",
       "  -0  -0  -0  ...   -0  -0  -0\n",
       "\n",
       "(30,.,.) = \n",
       "   0   0   0  ...    0   0   0\n",
       "   0   0   0  ...    0   0   0\n",
       "   0   0   0  ...    0   0   0\n",
       "     ...       ⋱       ...    \n",
       "   0   0   0  ...    0   0   0\n",
       "   0   0   0  ...    0   0   0\n",
       "   0   0   0  ...    0   0   0\n",
       "\n",
       "(31,.,.) = \n",
       "  -0  -0  -0  ...   -0  -0  -0\n",
       "  -0  -0  -0  ...   -0  -0  -0\n",
       "  -0  -0  -0  ...   -0  -0  -0\n",
       "     ...       ⋱       ...    \n",
       "  -0  -0   0  ...   -0  -0  -0\n",
       "  -0  -0  -0  ...   -0  -0  -0\n",
       "  -0  -0  -0  ...   -0  -0  -0\n",
       "[torch.FloatTensor of size 32x14x14]"
      ]
     },
     "execution_count": 16,
     "metadata": {},
     "output_type": "execute_result"
    }
   ],
   "source": [
    "dropout_output[0]"
   ]
  },
  {
   "cell_type": "markdown",
   "metadata": {},
   "source": [
    "Notice how all the activations are 0? What about 0.5?"
   ]
  },
  {
   "cell_type": "code",
   "execution_count": 17,
   "metadata": {},
   "outputs": [],
   "source": [
    "dropout = nn.Dropout(p=0.5)\n",
    "dropout_output = dropout(output)"
   ]
  },
  {
   "cell_type": "code",
   "execution_count": 18,
   "metadata": {},
   "outputs": [
    {
     "data": {
      "text/plain": [
       "Variable containing:\n",
       "(0 ,.,.) = \n",
       "  0.0000  0.2652  0.0000  ...   0.2652  0.2652  0.0000\n",
       "  0.0000  0.0000  0.2652  ...   0.2652  0.2652  0.0000\n",
       "  0.0000  0.2652  0.2652  ...   0.0000  0.0000  0.0000\n",
       "           ...             ⋱             ...          \n",
       "  0.0000  0.2652  0.0346  ...   0.0000  0.0000  0.0000\n",
       "  0.0000  0.0000  0.0000  ...   0.0000  0.0000  0.2652\n",
       "  0.2652  0.0000  0.0000  ...   0.2652  0.2652  0.0000\n",
       "\n",
       "(1 ,.,.) = \n",
       " -0.0000 -0.0000 -0.1364  ...  -0.0000 -0.1364 -0.1364\n",
       " -0.1364 -0.1364 -0.0000  ...  -0.1364 -0.1364 -0.0000\n",
       " -0.0000 -0.1364 -0.1364  ...  -0.1364 -0.1364 -0.1364\n",
       "           ...             ⋱             ...          \n",
       " -0.1364 -0.0000 -0.0000  ...   0.1830 -0.1364 -0.1364\n",
       " -0.1364 -0.0000 -0.0974  ...  -0.1173 -0.1364 -0.0000\n",
       " -0.1364 -0.1364 -0.1364  ...  -0.1364 -0.1364 -0.0000\n",
       "\n",
       "(2 ,.,.) = \n",
       " -0.0000 -0.4873 -0.4873  ...  -0.4873 -0.4873 -0.0000\n",
       " -0.0000 -0.0000 -0.0000  ...  -0.0000 -0.0000 -0.0000\n",
       " -0.0000 -0.4873 -0.4873  ...  -0.0000 -0.0000 -0.4873\n",
       "           ...             ⋱             ...          \n",
       " -0.4873 -0.4873 -0.0000  ...  -0.4873 -0.4873 -0.0000\n",
       " -0.4873 -0.4873 -0.4873  ...  -0.0000 -0.4873 -0.4873\n",
       " -0.0000 -0.4873 -0.4873  ...  -0.0000 -0.4873 -0.0000\n",
       "...\n",
       "\n",
       "(29,.,.) = \n",
       " -0.1624 -0.1624 -0.0000  ...  -0.0000 -0.0000 -0.1624\n",
       " -0.0000 -0.0000 -0.1624  ...  -0.0000 -0.1624 -0.0000\n",
       " -0.1624 -0.0000 -0.1624  ...  -0.0000 -0.0000 -0.0000\n",
       "           ...             ⋱             ...          \n",
       " -0.1624 -0.1518  0.0000  ...  -0.0000 -0.1624 -0.0000\n",
       " -0.0000 -0.0000 -0.0000  ...  -0.1624 -0.0000 -0.1624\n",
       " -0.1624 -0.0000 -0.1624  ...  -0.1624 -0.0000 -0.0000\n",
       "\n",
       "(30,.,.) = \n",
       "  0.0000  0.0000  0.3769  ...   0.0000  0.3769  0.3769\n",
       "  0.3769  0.3769  0.3769  ...   0.3769  0.3769  0.0000\n",
       "  0.3769  0.0000  0.3769  ...   0.0000  0.0000  0.3769\n",
       "           ...             ⋱             ...          \n",
       "  0.0000  0.0000  0.5595  ...   0.0000  0.3769  0.0000\n",
       "  0.0000  0.0000  0.0000  ...   0.3785  0.3769  0.3769\n",
       "  0.3769  0.3769  0.0000  ...   0.3769  0.3769  0.0000\n",
       "\n",
       "(31,.,.) = \n",
       " -0.0000 -0.0000 -0.0000  ...  -0.0000 -0.0000 -0.0000\n",
       " -0.4446 -0.0000 -0.4446  ...  -0.4446 -0.0000 -0.4446\n",
       " -0.4446 -0.4446 -0.0000  ...  -0.0000 -0.4446 -0.0000\n",
       "           ...             ⋱             ...          \n",
       " -0.4446 -0.4446  0.0000  ...  -0.1838 -0.0000 -0.4446\n",
       " -0.0000 -0.0000 -0.4446  ...  -0.4313 -0.0000 -0.0000\n",
       " -0.0000 -0.0000 -0.4446  ...  -0.0000 -0.0000 -0.0000\n",
       "[torch.FloatTensor of size 32x14x14]"
      ]
     },
     "execution_count": 18,
     "metadata": {},
     "output_type": "execute_result"
    }
   ],
   "source": [
    "dropout_output[0]"
   ]
  },
  {
   "cell_type": "markdown",
   "metadata": {},
   "source": [
    "Now, 50% of the activations are dropped out."
   ]
  },
  {
   "cell_type": "markdown",
   "metadata": {},
   "source": [
    "## Build model"
   ]
  },
  {
   "cell_type": "code",
   "execution_count": 19,
   "metadata": {},
   "outputs": [],
   "source": [
    "class SimpleCNN(nn.Module):\n",
    "    def __init__(self, in_channels=1, p=0.5):\n",
    "        super(SimpleCNN, self).__init__()\n",
    "        \n",
    "        self.conv1 = nn.Conv2d(\n",
    "            in_channels=in_channels, out_channels=32, kernel_size=3, padding=1)\n",
    "       \n",
    "        self.conv2 = nn.Conv2d(\n",
    "            in_channels=32, out_channels=64, kernel_size=3, padding=1)\n",
    "        \n",
    "        self.maxpool_conv2 = nn.MaxPool2d(kernel_size=2)\n",
    "        \n",
    "        self.conv2_dropout = nn.Dropout(p=p)\n",
    "\n",
    "        self.fc1 = nn.Linear(in_features=64 * 14 * 14, out_features=1024)\n",
    "        self.fc1_dropout = nn.Dropout(p=p)\n",
    "        self.fc2 = nn.Linear(in_features=1024, out_features=10)\n",
    "        self.softmax_output = nn.LogSoftmax(dim=1)\n",
    "        \n",
    "    def forward(self, img_batch):\n",
    "        conv1_output = self.conv1(img_batch)\n",
    "        conv1_relu_output = F.relu(conv1_output)\n",
    "        \n",
    "        conv2_output = self.conv2(conv1_relu_output)\n",
    "        relu2_output = F.relu(conv2_output)\n",
    "\n",
    "        maxpool_conv2_output = self.maxpool_conv2(relu2_output)\n",
    "        dropout_conv2_output = self.conv2_dropout(maxpool_conv2_output)\n",
    "        \n",
    "        flattened_output = dropout_conv2_output.view(img_batch.size(0), -1)\n",
    "        \n",
    "        fc1_output = self.fc1(flattened_output)\n",
    "        fc1_relu_output = F.relu(fc1_output)\n",
    "        \n",
    "        fc1_dropout_output = self.fc1_dropout(fc1_relu_output)\n",
    "        fc2_output = self.fc2(fc1_dropout_output)\n",
    "        softmax_output = self.softmax_output(fc2_output)\n",
    "        return softmax_output"
   ]
  },
  {
   "cell_type": "markdown",
   "metadata": {},
   "source": [
    "## Train"
   ]
  },
  {
   "cell_type": "markdown",
   "metadata": {},
   "source": [
    "### Without dropout"
   ]
  },
  {
   "cell_type": "markdown",
   "metadata": {},
   "source": [
    "I can then create a ImageClassifierData object as usual, use the `from_model_data` constructor to create a `ConvLearner` from my custom model.\n",
    "\n",
    "Note: the `train_prepared.csv` file is created in [lesson3-spreadsheet-cnn.ipynb] notebook."
   ]
  },
  {
   "cell_type": "code",
   "execution_count": 20,
   "metadata": {},
   "outputs": [],
   "source": [
    "train_df = pd.read_csv(PATH/'train_prepared.csv')"
   ]
  },
  {
   "cell_type": "code",
   "execution_count": 21,
   "metadata": {},
   "outputs": [],
   "source": [
    "val_idx = get_cv_idxs(len(train_df))"
   ]
  },
  {
   "cell_type": "markdown",
   "metadata": {},
   "source": [
    "Let's start with a CNN that drops activations with a probability of 0% (ie no Dropout)."
   ]
  },
  {
   "cell_type": "code",
   "execution_count": 22,
   "metadata": {},
   "outputs": [],
   "source": [
    "cnn = SimpleCNN(in_channels=3, p=0)"
   ]
  },
  {
   "cell_type": "code",
   "execution_count": 23,
   "metadata": {},
   "outputs": [
    {
     "data": {
      "text/plain": [
       "SimpleCNN(\n",
       "  (conv1): Conv2d(3, 32, kernel_size=(3, 3), stride=(1, 1), padding=(1, 1))\n",
       "  (conv2): Conv2d(32, 64, kernel_size=(3, 3), stride=(1, 1), padding=(1, 1))\n",
       "  (maxpool_conv2): MaxPool2d(kernel_size=(2, 2), stride=(2, 2), dilation=(1, 1), ceil_mode=False)\n",
       "  (conv2_dropout): Dropout(p=0)\n",
       "  (fc1): Linear(in_features=12544, out_features=1024, bias=True)\n",
       "  (fc1_dropout): Dropout(p=0)\n",
       "  (fc2): Linear(in_features=1024, out_features=10, bias=True)\n",
       "  (softmax_output): LogSoftmax()\n",
       ")"
      ]
     },
     "execution_count": 23,
     "metadata": {},
     "output_type": "execute_result"
    }
   ],
   "source": [
    "cnn"
   ]
  },
  {
   "cell_type": "code",
   "execution_count": 24,
   "metadata": {},
   "outputs": [],
   "source": [
    "data = ImageClassifierData.from_csv(\n",
    "    PATH, 'train', PATH/'train_prepared.csv', tfms=tfms_from_model(cnn, 28), val_idxs=val_idx, suffix='.jpg')"
   ]
  },
  {
   "cell_type": "code",
   "execution_count": 25,
   "metadata": {},
   "outputs": [],
   "source": [
    "conv_learner = ConvLearner.from_model_data(cnn, data)"
   ]
  },
  {
   "cell_type": "code",
   "execution_count": 26,
   "metadata": {
    "scrolled": true
   },
   "outputs": [
    {
     "data": {
      "application/vnd.jupyter.widget-view+json": {
       "model_id": "a62cd6eb28954174b270f53e761e29f1",
       "version_major": 2,
       "version_minor": 0
      },
      "text/plain": [
       "HBox(children=(IntProgress(value=0, description='Epoch', max=1), HTML(value='')))"
      ]
     },
     "metadata": {},
     "output_type": "display_data"
    },
    {
     "name": "stdout",
     "output_type": "stream",
     "text": [
      " 71%|███████▏  | 375/525 [00:03<00:01, 95.46it/s, loss=0.406]\n",
      "                                                             \r"
     ]
    }
   ],
   "source": [
    "conv_learner.lr_find()"
   ]
  },
  {
   "cell_type": "code",
   "execution_count": 27,
   "metadata": {},
   "outputs": [
    {
     "data": {
      "image/png": "[encoded data removed]",
      "text/plain": [
       "<Figure size 432x288 with 1 Axes>"
      ]
     },
     "metadata": {},
     "output_type": "display_data"
    }
   ],
   "source": [
    "conv_learner.sched.plot()"
   ]
  },
  {
   "cell_type": "markdown",
   "metadata": {},
   "source": [
    "* Note that cycle_mult refers to the amount we multiple the cycle each epoch.\n",
    "  * With `cycle_len=1` we multiple the 2nd batch by 2, then the 3rd by 4 and 4th by 8.\n",
    "    * cycle 1: cycle_len = 1\n",
    "    * cycle 2: cycle_len = 1 * 2  # 2\n",
    "    * cycle 3: cycle_len = 2 * 2  # 4\n",
    "    * cycle 4: cycle_len = 4 * 2  # 8\n",
    "    * cycle 5: cycle_len = 8 * 2  # 16 \n",
    "    * total cycles = 1 + 2 + 4 + 8 + 16 = 31"
   ]
  },
  {
   "cell_type": "code",
   "execution_count": 28,
   "metadata": {},
   "outputs": [
    {
     "data": {
      "application/vnd.jupyter.widget-view+json": {
       "model_id": "18fbd92b59ef47278cff828c93a04446",
       "version_major": 2,
       "version_minor": 0
      },
      "text/plain": [
       "HBox(children=(IntProgress(value=0, description='Epoch', max=31), HTML(value='')))"
      ]
     },
     "metadata": {},
     "output_type": "display_data"
    },
    {
     "name": "stdout",
     "output_type": "stream",
     "text": [
      "epoch      trn_loss   val_loss   accuracy                      \n",
      "    0      0.071611   0.072062   0.97869   \n",
      "    1      0.046099   0.049345   0.984405                      \n",
      "    2      0.021095   0.038125   0.988929                      \n",
      "    3      0.033859   0.040211   0.987262                      \n",
      "    4      0.013272   0.037701   0.989167                      \n",
      "    5      0.006975   0.033728   0.99                           \n",
      "    6      0.002763   0.032949   0.990357                       \n",
      "    7      0.017982   0.04124    0.987976                       \n",
      "    8      0.0129     0.03689    0.990952                       \n",
      "    9      0.003133   0.036863   0.990357                       \n",
      "    10     0.001767   0.035983   0.99131                         \n",
      "    11     0.000586   0.03552    0.991667                        \n",
      "    12     0.000436   0.036014   0.991548                        \n",
      "    13     0.000431   0.036234   0.991548                        \n",
      "    14     0.000373   0.036236   0.991548                        \n",
      "    15     0.002683   0.03692    0.991071                        \n",
      "    16     0.002177   0.038138   0.990357                       \n",
      "    17     0.000975   0.038555   0.99119                         \n",
      "    18     0.002566   0.039178   0.991667                        \n",
      "    19     0.000228   0.037598   0.992381                        \n",
      "    20     0.000157   0.038597   0.992024                        \n",
      "    21     0.000118   0.038972   0.992143                        \n",
      "    22     0.000101   0.039394   0.992143                        \n",
      "    23     8.6e-05    0.039862   0.992143                        \n",
      "    24     7.3e-05    0.040065   0.992024                        \n",
      "    25     8.1e-05    0.040238   0.992143                        \n",
      "    26     6.6e-05    0.040361   0.992143                        \n",
      "    27     9e-05      0.040439   0.992143                        \n",
      "    28     7.4e-05    0.040477   0.992143                        \n",
      "    29     6.6e-05    0.040489   0.992143                        \n",
      "    30     7.5e-05    0.04049    0.992143                        \n",
      "\n"
     ]
    },
    {
     "data": {
      "text/plain": [
       "[array([0.04049]), 0.9921428571428571]"
      ]
     },
     "execution_count": 28,
     "metadata": {},
     "output_type": "execute_result"
    }
   ],
   "source": [
    "conv_learner.fit(0.01, 5, cycle_len=1, cycle_mult=2)"
   ]
  },
  {
   "cell_type": "code",
   "execution_count": 29,
   "metadata": {},
   "outputs": [
    {
     "data": {
      "image/png": "[encoded data removed]",
      "text/plain": [
       "<Figure size 432x288 with 1 Axes>"
      ]
     },
     "metadata": {},
     "output_type": "display_data"
    }
   ],
   "source": [
    "epoch_num = list(range(conv_learner.sched.epoch))\n",
    "plt.plot(epoch_num, conv_learner.sched.val_losses, label='Validation loss')\n",
    "plt.plot(\n",
    "    epoch_num,\n",
    "    [conv_learner.sched.losses[i-1] for i in conv_learner.sched.epochs],\n",
    "    label='Training loss')\n",
    "\n",
    "plt.xlabel('Epoch')\n",
    "plt.ylabel('Loss')\n",
    "plt.legend(loc='upper right')\n",
    "\n",
    "plt.show()"
   ]
  },
  {
   "cell_type": "markdown",
   "metadata": {},
   "source": [
    "### With Dropout"
   ]
  },
  {
   "cell_type": "markdown",
   "metadata": {},
   "source": [
    "Let's add a bit of dropout. Set it initially to 0.5 and see if we can train a bit longer before we start to overfit."
   ]
  },
  {
   "cell_type": "code",
   "execution_count": 30,
   "metadata": {},
   "outputs": [],
   "source": [
    "cnn = SimpleCNN(in_channels=3, p=0.5)"
   ]
  },
  {
   "cell_type": "code",
   "execution_count": 31,
   "metadata": {},
   "outputs": [
    {
     "data": {
      "text/plain": [
       "SimpleCNN(\n",
       "  (conv1): Conv2d(3, 32, kernel_size=(3, 3), stride=(1, 1), padding=(1, 1))\n",
       "  (conv2): Conv2d(32, 64, kernel_size=(3, 3), stride=(1, 1), padding=(1, 1))\n",
       "  (maxpool_conv2): MaxPool2d(kernel_size=(2, 2), stride=(2, 2), dilation=(1, 1), ceil_mode=False)\n",
       "  (conv2_dropout): Dropout(p=0.5)\n",
       "  (fc1): Linear(in_features=12544, out_features=1024, bias=True)\n",
       "  (fc1_dropout): Dropout(p=0.5)\n",
       "  (fc2): Linear(in_features=1024, out_features=10, bias=True)\n",
       "  (softmax_output): LogSoftmax()\n",
       ")"
      ]
     },
     "execution_count": 31,
     "metadata": {},
     "output_type": "execute_result"
    }
   ],
   "source": [
    "cnn"
   ]
  },
  {
   "cell_type": "code",
   "execution_count": 32,
   "metadata": {},
   "outputs": [],
   "source": [
    "conv_learner = ConvLearner.from_model_data(cnn, data)"
   ]
  },
  {
   "cell_type": "code",
   "execution_count": 33,
   "metadata": {},
   "outputs": [
    {
     "data": {
      "application/vnd.jupyter.widget-view+json": {
       "model_id": "1112d901beeb4da49b419e6964d25caa",
       "version_major": 2,
       "version_minor": 0
      },
      "text/plain": [
       "HBox(children=(IntProgress(value=0, description='Epoch', max=1), HTML(value='')))"
      ]
     },
     "metadata": {},
     "output_type": "display_data"
    },
    {
     "name": "stdout",
     "output_type": "stream",
     "text": [
      " 73%|███████▎  | 385/525 [00:03<00:01, 97.20it/s, loss=1.48] \n",
      "                                                            \r"
     ]
    }
   ],
   "source": [
    "conv_learner.lr_find()"
   ]
  },
  {
   "cell_type": "code",
   "execution_count": 34,
   "metadata": {},
   "outputs": [
    {
     "data": {
      "image/png": "[encoded data removed]",
      "text/plain": [
       "<Figure size 432x288 with 1 Axes>"
      ]
     },
     "metadata": {},
     "output_type": "display_data"
    }
   ],
   "source": [
    "conv_learner.sched.plot()"
   ]
  },
  {
   "cell_type": "code",
   "execution_count": 35,
   "metadata": {},
   "outputs": [
    {
     "data": {
      "application/vnd.jupyter.widget-view+json": {
       "model_id": "a29df614dc224285aa7bd097e68b8cd4",
       "version_major": 2,
       "version_minor": 0
      },
      "text/plain": [
       "HBox(children=(IntProgress(value=0, description='Epoch', max=31), HTML(value='')))"
      ]
     },
     "metadata": {},
     "output_type": "display_data"
    },
    {
     "name": "stdout",
     "output_type": "stream",
     "text": [
      "epoch      trn_loss   val_loss   accuracy                    \n",
      "    0      0.113108   0.08288    0.974167  \n",
      "    1      0.08609    0.052456   0.984167                     \n",
      "    2      0.050787   0.041255   0.987262                     \n",
      "    3      0.065456   0.045727   0.985476                     \n",
      "    4      0.048877   0.033467   0.989048                     \n",
      "    5      0.033101   0.030289   0.990952                     \n",
      "    6      0.0256     0.029639   0.990952                     \n",
      "    7      0.042441   0.033894   0.989881                     \n",
      "    8      0.038074   0.034747   0.989167                     \n",
      "    9      0.031708   0.039114   0.988571                     \n",
      "    10     0.023437   0.02885    0.99                         \n",
      "    11     0.017076   0.028178   0.99131                      \n",
      "    12     0.015583   0.026814   0.992619                     \n",
      "    13     0.008819   0.026448   0.992976                      \n",
      "    14     0.01094    0.026296   0.993095                      \n",
      "    15     0.021682   0.030672   0.990476                     \n",
      "    16     0.02823    0.02985    0.992143                     \n",
      "    17     0.030354   0.02557    0.9925                       \n",
      "    18     0.02356    0.028614   0.992381                     \n",
      "    19     0.016685   0.035405   0.990357                      \n",
      "    20     0.010892   0.028325   0.992143                      \n",
      "    21     0.013106   0.025464   0.992857                      \n",
      "    22     0.010502   0.02594    0.9925                        \n",
      "    23     0.007657   0.026196   0.992619                      \n",
      "    24     0.004899   0.024601   0.993333                      \n",
      "    25     0.005604   0.023969   0.994048                      \n",
      "    26     0.006186   0.024448   0.99381                       \n",
      "    27     0.004013   0.024171   0.994167                      \n",
      "    28     0.005163   0.024374   0.994167                      \n",
      "    29     0.00361    0.024308   0.994048                      \n",
      "    30     0.004081   0.024284   0.994048                      \n",
      "\n"
     ]
    },
    {
     "data": {
      "text/plain": [
       "[array([0.02428]), 0.9940476190476191]"
      ]
     },
     "execution_count": 35,
     "metadata": {},
     "output_type": "execute_result"
    }
   ],
   "source": [
    "conv_learner.fit(0.01, 5, cycle_len=1, cycle_mult=2)"
   ]
  },
  {
   "cell_type": "code",
   "execution_count": 36,
   "metadata": {},
   "outputs": [
    {
     "data": {
      "image/png": "[encoded data removed]",
      "text/plain": [
       "<Figure size 432x288 with 1 Axes>"
      ]
     },
     "metadata": {},
     "output_type": "display_data"
    }
   ],
   "source": [
    "epoch_num = list(range(conv_learner.sched.epoch))\n",
    "plt.plot(epoch_num, conv_learner.sched.val_losses, label='Validation loss')\n",
    "plt.plot(\n",
    "    epoch_num,\n",
    "    [conv_learner.sched.losses[i-1] for i in conv_learner.sched.epochs],\n",
    "    label='Training loss')\n",
    "\n",
    "plt.xlabel('Epoch')\n",
    "plt.ylabel('Loss')\n",
    "plt.legend(loc='upper right')\n",
    "\n",
    "plt.show()"
   ]
  },
  {
   "cell_type": "markdown",
   "metadata": {},
   "source": [
    "### With augmentations"
   ]
  },
  {
   "cell_type": "code",
   "execution_count": 37,
   "metadata": {},
   "outputs": [],
   "source": [
    "from fastai.transforms import RandomRotate, RandomLighting"
   ]
  },
  {
   "cell_type": "code",
   "execution_count": 38,
   "metadata": {},
   "outputs": [],
   "source": [
    "augs = [RandomRotate(10), RandomLighting(0.05, 0.05)]\n",
    "transforms = tfms_from_model(cnn, 28, aug_tfms=augs)\n",
    "data = ImageClassifierData.from_csv(\n",
    "    PATH, 'train', PATH/'train_prepared.csv', tfms=transforms, val_idxs=val_idx, suffix='.jpg')"
   ]
  },
  {
   "cell_type": "code",
   "execution_count": 39,
   "metadata": {},
   "outputs": [],
   "source": [
    "cnn = SimpleCNN(in_channels=3, p=0.5)"
   ]
  },
  {
   "cell_type": "code",
   "execution_count": 40,
   "metadata": {},
   "outputs": [],
   "source": [
    "conv_learner = ConvLearner.from_model_data(cnn, data)"
   ]
  },
  {
   "cell_type": "code",
   "execution_count": 41,
   "metadata": {},
   "outputs": [
    {
     "data": {
      "application/vnd.jupyter.widget-view+json": {
       "model_id": "9741e6eb9ef142c687dab6e4e1783790",
       "version_major": 2,
       "version_minor": 0
      },
      "text/plain": [
       "HBox(children=(IntProgress(value=0, description='Epoch', max=31), HTML(value='')))"
      ]
     },
     "metadata": {},
     "output_type": "display_data"
    },
    {
     "name": "stdout",
     "output_type": "stream",
     "text": [
      "epoch      trn_loss   val_loss   accuracy                    \n",
      "    0      0.12581    0.082005   0.974524  \n",
      "    1      0.081415   0.055441   0.983214                     \n",
      "    2      0.061585   0.040126   0.987619                     \n",
      "    3      0.075954   0.042168   0.987143                     \n",
      "    4      0.054066   0.032278   0.989167                     \n",
      "    5      0.035698   0.028315   0.990238                     \n",
      "    6      0.028319   0.027239   0.990952                     \n",
      "    7      0.055059   0.033121   0.98881                      \n",
      "    8      0.051193   0.032129   0.989643                     \n",
      "    9      0.03148    0.03251    0.989643                     \n",
      "    10     0.027667   0.024752   0.992619                     \n",
      "    11     0.021723   0.023834   0.992619                     \n",
      "    12     0.019213   0.023622   0.993452                     \n",
      "    13     0.015231   0.023294   0.993214                     \n",
      "    14     0.016722   0.023305   0.993095                     \n",
      "    15     0.036949   0.03132    0.990952                     \n",
      "    16     0.031684   0.027491   0.992262                     \n",
      "    17     0.031015   0.030043   0.991667                     \n",
      "    18     0.027513   0.028756   0.991071                     \n",
      "    19     0.026603   0.023296   0.992976                     \n",
      "    20     0.018959   0.026863   0.993333                     \n",
      "    21     0.022181   0.024012   0.993095                     \n",
      "    22     0.016251   0.026326   0.992857                     \n",
      "    23     0.012527   0.025178   0.99369                      \n",
      "    24     0.013019   0.024827   0.993929                     \n",
      "    25     0.014695   0.023798   0.993452                      \n",
      "    26     0.013464   0.02468    0.994286                      \n",
      "    27     0.01272    0.023851   0.993929                      \n",
      "    28     0.007705   0.023526   0.993929                      \n",
      "    29     0.011909   0.023295   0.99381                       \n",
      "    30     0.006833   0.023321   0.993929                      \n",
      "\n"
     ]
    },
    {
     "data": {
      "text/plain": [
       "[array([0.02332]), 0.9939285714285714]"
      ]
     },
     "execution_count": 41,
     "metadata": {},
     "output_type": "execute_result"
    }
   ],
   "source": [
    "conv_learner.fit(0.01, 5, cycle_len=1, cycle_mult=2)"
   ]
  },
  {
   "cell_type": "code",
   "execution_count": 47,
   "metadata": {},
   "outputs": [
    {
     "data": {
      "image/png": "[encoded data removed]",
      "text/plain": [
       "<Figure size 432x288 with 1 Axes>"
      ]
     },
     "metadata": {},
     "output_type": "display_data"
    }
   ],
   "source": [
    "epoch_num = list(range(conv_learner.sched.epoch))\n",
    "plt.plot(epoch_num, conv_learner.sched.val_losses, label='Validation loss')\n",
    "plt.plot(\n",
    "    epoch_num,\n",
    "    [conv_learner.sched.losses[i-1] for i in conv_learner.sched.epochs],\n",
    "    label='Training loss')\n",
    "\n",
    "plt.xlabel('Epoch')\n",
    "plt.ylabel('Loss')\n",
    "plt.legend(loc='upper right')\n",
    "\n",
    "plt.show()"
   ]
  },
  {
   "cell_type": "code",
   "execution_count": 43,
   "metadata": {},
   "outputs": [
    {
     "name": "stdout",
     "output_type": "stream",
     "text": [
      "                                             \r"
     ]
    }
   ],
   "source": [
    "val_preds, y = conv_learner.TTA()"
   ]
  },
  {
   "cell_type": "code",
   "execution_count": 44,
   "metadata": {},
   "outputs": [],
   "source": [
    "val_preds_mean = np.mean(val_preds, axis=0)"
   ]
  },
  {
   "cell_type": "code",
   "execution_count": 45,
   "metadata": {},
   "outputs": [
    {
     "data": {
      "text/plain": [
       "0.9939285714285714"
      ]
     },
     "execution_count": 45,
     "metadata": {},
     "output_type": "execute_result"
    }
   ],
   "source": [
    "np.mean(np.argmax(val_preds_mean, axis=1) == y)"
   ]
  }
 ],
 "metadata": {
  "kernelspec": {
   "display_name": "Python 3",
   "language": "python",
   "name": "python3"
  },
  "language_info": {
   "codemirror_mode": {
    "name": "ipython",
    "version": 3
   },
   "file_extension": ".py",
   "mimetype": "text/x-python",
   "name": "python",
   "nbconvert_exporter": "python",
   "pygments_lexer": "ipython3",
   "version": "3.6.6"
  }
 },
 "nbformat": 4,
 "nbformat_minor": 2
}
