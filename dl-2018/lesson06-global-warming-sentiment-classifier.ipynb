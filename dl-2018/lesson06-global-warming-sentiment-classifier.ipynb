{
 "cells": [
  {
   "cell_type": "markdown",
   "metadata": {},
   "source": [
    "# Lesson 6 - Global Warning Sentiment Classifier"
   ]
  },
  {
   "cell_type": "code",
   "execution_count": 163,
   "metadata": {},
   "outputs": [],
   "source": [
    "import numpy as np\n",
    "from functools import partial\n",
    "import pandas as pd\n",
    "\n",
    "import torchtext\n",
    "import torch\n",
    "from torch import nn\n",
    "from torch.nn import functional as F\n",
    "import spacy\n",
    "import fastai.nlp\n",
    "from fastai.learner import fit\n",
    "from fastai.core import V\n",
    "from fastai.metrics import accuracy\n",
    "from fastai.lm_rnn import seq2seq_reg, repackage_var\n",
    "from fastai.nlp import RNN_Learner\n",
    "from IPython.display import display\n",
    "\n",
    "from pathlib import Path"
   ]
  },
  {
   "cell_type": "code",
   "execution_count": 112,
   "metadata": {},
   "outputs": [],
   "source": [
    "df = pd.read_csv('./data/global_warming_tweets.csv', encoding='latin1')"
   ]
  },
  {
   "cell_type": "markdown",
   "metadata": {},
   "source": [
    "Drop all Tweets that aren't about global warming:"
   ]
  },
  {
   "cell_type": "code",
   "execution_count": 113,
   "metadata": {},
   "outputs": [
    {
     "data": {
      "text/plain": [
       "Y      2554\n",
       "N      1053\n",
       "Yes     557\n",
       "No       61\n",
       "Name: existence, dtype: int64"
      ]
     },
     "execution_count": 113,
     "metadata": {},
     "output_type": "execute_result"
    }
   ],
   "source": [
    "df.existence.value_counts()"
   ]
  },
  {
   "cell_type": "code",
   "execution_count": 114,
   "metadata": {},
   "outputs": [],
   "source": [
    "df = df.dropna()"
   ]
  },
  {
   "cell_type": "code",
   "execution_count": 115,
   "metadata": {},
   "outputs": [],
   "source": [
    "df.existence = df.existence.replace({'Yes': 'Y', 'No': 'N'})"
   ]
  },
  {
   "cell_type": "code",
   "execution_count": 116,
   "metadata": {},
   "outputs": [
    {
     "data": {
      "text/plain": [
       "Y    3111\n",
       "N    1114\n",
       "Name: existence, dtype: int64"
      ]
     },
     "execution_count": 116,
     "metadata": {},
     "output_type": "execute_result"
    }
   ],
   "source": [
    "df.existence.value_counts(dropna=False)"
   ]
  },
  {
   "cell_type": "code",
   "execution_count": 117,
   "metadata": {},
   "outputs": [],
   "source": [
    "df = df.sample(frac=1, random_state=42)"
   ]
  },
  {
   "cell_type": "code",
   "execution_count": 118,
   "metadata": {},
   "outputs": [],
   "source": [
    "train_df = df[:-1000]\n",
    "val_df = df[-1000:]"
   ]
  },
  {
   "cell_type": "code",
   "execution_count": 119,
   "metadata": {},
   "outputs": [
    {
     "data": {
      "text/plain": [
       "(3225, 3)"
      ]
     },
     "execution_count": 119,
     "metadata": {},
     "output_type": "execute_result"
    }
   ],
   "source": [
    "train_df.shape"
   ]
  },
  {
   "cell_type": "code",
   "execution_count": 120,
   "metadata": {},
   "outputs": [
    {
     "data": {
      "text/plain": [
       "(1000, 3)"
      ]
     },
     "execution_count": 120,
     "metadata": {},
     "output_type": "execute_result"
    }
   ],
   "source": [
    "val_df.shape"
   ]
  },
  {
   "cell_type": "code",
   "execution_count": 121,
   "metadata": {},
   "outputs": [
    {
     "data": {
      "text/plain": [
       "Y    2384\n",
       "N     841\n",
       "Name: existence, dtype: int64"
      ]
     },
     "execution_count": 121,
     "metadata": {},
     "output_type": "execute_result"
    }
   ],
   "source": [
    "train_df.existence.value_counts()"
   ]
  },
  {
   "cell_type": "code",
   "execution_count": 122,
   "metadata": {},
   "outputs": [
    {
     "data": {
      "text/plain": [
       "Y    727\n",
       "N    273\n",
       "Name: existence, dtype: int64"
      ]
     },
     "execution_count": 122,
     "metadata": {},
     "output_type": "execute_result"
    }
   ],
   "source": [
    "val_df.existence.value_counts()"
   ]
  },
  {
   "cell_type": "markdown",
   "metadata": {},
   "source": [
    "## Torchtext basics"
   ]
  },
  {
   "cell_type": "markdown",
   "metadata": {},
   "source": [
    "I'll start with a very simple classifier that uses just one RNN layer. I won't even use a learner object for this and only the `fit` Fast.ai function."
   ]
  },
  {
   "cell_type": "markdown",
   "metadata": {},
   "source": [
    "The `data.Field` Torchtext classes describe how to process a set of text. In this example, we intend to lowercase each string:\n",
    "\n",
    "`HELLO` -> `hello`\n",
    "\n",
    "and tokenise it with Spacy."
   ]
  },
  {
   "cell_type": "code",
   "execution_count": 123,
   "metadata": {},
   "outputs": [],
   "source": [
    "nlp = spacy.load('en')"
   ]
  },
  {
   "cell_type": "code",
   "execution_count": 124,
   "metadata": {},
   "outputs": [
    {
     "data": {
      "text/plain": [
       "'Microbes Contribute Less to Global Warming|New Haven, Conn. .. http://oohja.com/xbNVU'"
      ]
     },
     "execution_count": 124,
     "metadata": {},
     "output_type": "execute_result"
    }
   ],
   "source": [
    "train_df.iloc[10].tweet"
   ]
  },
  {
   "cell_type": "code",
   "execution_count": 125,
   "metadata": {},
   "outputs": [],
   "source": [
    "tokens = nlp(train_df.iloc[0].tweet)"
   ]
  },
  {
   "cell_type": "code",
   "execution_count": 126,
   "metadata": {},
   "outputs": [
    {
     "data": {
      "text/plain": [
       "[Putting,\n",
       " a,\n",
       " Price,\n",
       " on,\n",
       " Climate,\n",
       " Change,\n",
       " :,\n",
       " The,\n",
       " People,\n",
       " 's,\n",
       " World,\n",
       " Conference,\n",
       " on,\n",
       " Climate,\n",
       " Change,\n",
       " in,\n",
       " Cochabamba,\n",
       " ,,\n",
       " Bolivia,\n",
       " kicks,\n",
       " ...,\n",
       " http://bit.ly/8XnI5N,\n",
       " #,\n",
       " p2]"
      ]
     },
     "execution_count": 126,
     "metadata": {},
     "output_type": "execute_result"
    }
   ],
   "source": [
    "[t for t in tokens]"
   ]
  },
  {
   "cell_type": "code",
   "execution_count": 127,
   "metadata": {},
   "outputs": [],
   "source": [
    "TEXT_FIELD = torchtext.data.Field(lower=True, tokenize=\"spacy\")\n",
    "# Tokenisation is not applied when `sequential=False`.\n",
    "LABEL_FIELD = torchtext.data.Field(sequential=False)"
   ]
  },
  {
   "cell_type": "markdown",
   "metadata": {},
   "source": [
    "We'll also need a Dataset. Which in Torch text is an object that stores a list of `examples` which includes the text, it's label and the `Field` used to process it."
   ]
  },
  {
   "cell_type": "code",
   "execution_count": 128,
   "metadata": {},
   "outputs": [],
   "source": [
    "class DataFrameDataset(torchtext.data.Dataset):\n",
    "\n",
    "    def __init__(self, df, text_field, label_field, is_test=False, **kwargs):\n",
    "        fields = [('text', text_field), ('label', label_field)]\n",
    "        examples = []\n",
    "        for i, row in df.iterrows():\n",
    "            label = row.existence if not is_test else None\n",
    "            text = row.tweet\n",
    "            examples.append(torchtext.data.Example.fromlist([text, label], fields))\n",
    "\n",
    "        super().__init__(examples, fields, **kwargs)\n",
    "\n",
    "    @staticmethod\n",
    "    def sort_key(ex):\n",
    "        return len(ex.text)\n",
    "\n",
    "    @classmethod\n",
    "    def splits(cls, text_field, label_field, train_df, val_df=None, test_df=None, **kwargs):\n",
    "        train_data, val_data, test_data = (None, None, None)\n",
    "\n",
    "        if train_df is not None:\n",
    "            train_data = cls(train_df.copy(), text_field, label_field, **kwargs)\n",
    "        if val_df is not None:\n",
    "            val_data = cls(val_df.copy(), text_field, label_field, **kwargs)\n",
    "        if test_df is not None:\n",
    "            test_data = cls(test_df.copy(), text_field, label_field, True, **kwargs)\n",
    "\n",
    "        return tuple(d for d in (train_data, val_data, test_data) if d is not None)"
   ]
  },
  {
   "cell_type": "markdown",
   "metadata": {},
   "source": [
    "`splits` refers to the train, val and test split and is a big part of the Torchtext lingo. Here's how you would construct split:"
   ]
  },
  {
   "cell_type": "code",
   "execution_count": 129,
   "metadata": {},
   "outputs": [],
   "source": [
    "train_ds, val_ds, test_ds = DataFrameDataset.splits(\n",
    "  text_field=TEXT_FIELD, label_field=LABEL_FIELD, train_df=train_df, val_df=val_df, test_df=val_df)"
   ]
  },
  {
   "cell_type": "markdown",
   "metadata": {},
   "source": [
    "We can now prepare our `TEXT_FIELD` by building the vocab on it, which simply maps tokens to ints:"
   ]
  },
  {
   "cell_type": "code",
   "execution_count": 130,
   "metadata": {},
   "outputs": [
    {
     "ename": "AttributeError",
     "evalue": "'Field' object has no attribute 'vocab'",
     "output_type": "error",
     "traceback": [
      "\u001b[0;31m---------------------------------------------------------------------------\u001b[0m",
      "\u001b[0;31mAttributeError\u001b[0m                            Traceback (most recent call last)",
      "\u001b[0;32m<ipython-input-130-c4c60c8136fc>\u001b[0m in \u001b[0;36m<module>\u001b[0;34m()\u001b[0m\n\u001b[0;32m----> 1\u001b[0;31m \u001b[0mTEXT_FIELD\u001b[0m\u001b[0;34m.\u001b[0m\u001b[0mvocab\u001b[0m\u001b[0;34m\u001b[0m\u001b[0m\n\u001b[0m",
      "\u001b[0;31mAttributeError\u001b[0m: 'Field' object has no attribute 'vocab'"
     ]
    }
   ],
   "source": [
    "TEXT_FIELD.vocab"
   ]
  },
  {
   "cell_type": "code",
   "execution_count": 132,
   "metadata": {},
   "outputs": [],
   "source": [
    "TEXT_FIELD.build_vocab(train_ds)"
   ]
  },
  {
   "cell_type": "code",
   "execution_count": 133,
   "metadata": {},
   "outputs": [
    {
     "data": {
      "text/plain": [
       "<torchtext.vocab.Vocab at 0x1c2e5e97f0>"
      ]
     },
     "execution_count": 133,
     "metadata": {},
     "output_type": "execute_result"
    }
   ],
   "source": [
    "TEXT_FIELD.vocab"
   ]
  },
  {
   "cell_type": "code",
   "execution_count": 134,
   "metadata": {},
   "outputs": [
    {
     "data": {
      "text/plain": [
       "344"
      ]
     },
     "execution_count": 134,
     "metadata": {},
     "output_type": "execute_result"
    }
   ],
   "source": [
    "TEXT_FIELD.vocab.stoi['globalwarming']"
   ]
  },
  {
   "cell_type": "code",
   "execution_count": 136,
   "metadata": {},
   "outputs": [
    {
     "data": {
      "text/plain": [
       "'globalwarming'"
      ]
     },
     "execution_count": 136,
     "metadata": {},
     "output_type": "execute_result"
    }
   ],
   "source": [
    "TEXT_FIELD.vocab.itos[344]"
   ]
  },
  {
   "cell_type": "code",
   "execution_count": 137,
   "metadata": {},
   "outputs": [],
   "source": [
    "LABEL_FIELD.build_vocab(train_df)"
   ]
  },
  {
   "cell_type": "markdown",
   "metadata": {},
   "source": [
    "In PyTorch, a dataset is very much like a list: it can be iterated through and we can also fetch individual items by id:"
   ]
  },
  {
   "cell_type": "code",
   "execution_count": 138,
   "metadata": {},
   "outputs": [
    {
     "data": {
      "text/plain": [
       "['boy', '.', 'global', 'warming', 'is', 'one', 'slick', 'buster', '.']"
      ]
     },
     "execution_count": 138,
     "metadata": {},
     "output_type": "execute_result"
    }
   ],
   "source": [
    "train_ds[100].text"
   ]
  },
  {
   "cell_type": "code",
   "execution_count": 139,
   "metadata": {},
   "outputs": [
    {
     "data": {
      "text/plain": [
       "['putting',\n",
       " 'a',\n",
       " 'price',\n",
       " 'on',\n",
       " 'climate',\n",
       " 'change',\n",
       " ':',\n",
       " 'the',\n",
       " 'people',\n",
       " \"'s\",\n",
       " 'world',\n",
       " 'conference',\n",
       " 'on',\n",
       " 'climate',\n",
       " 'change',\n",
       " 'in',\n",
       " 'cochabamba',\n",
       " ',',\n",
       " 'bolivia',\n",
       " 'kicks',\n",
       " '...',\n",
       " 'http://bit.ly/8xni5n',\n",
       " '#',\n",
       " 'p2']"
      ]
     },
     "execution_count": 139,
     "metadata": {},
     "output_type": "execute_result"
    }
   ],
   "source": [
    "next(iter(train_ds)).text"
   ]
  },
  {
   "cell_type": "markdown",
   "metadata": {},
   "source": [
    "What we want is a tool to batch our examples up for us. Since an RNN is a sequence model, which can support variable length sequences (lists of data), what we want is a batching strategy that will let us train on multiple sentences at a time but still let us use a for loop over them. Torchtext solves the problem like this:\n",
    "\n",
    "```\n",
    "First element   |  Second element   |\n",
    "['rt']          |  ['the']\n",
    "['global']      |  ['warming']\n",
    "['Hello']       |  ['world']\n",
    "```\n",
    "\n",
    "So the first element is 64x1, which is the first word in 64 different sequences and so on.\n",
    "\n",
    "Torchtext provides a \"bucket iterator\" which handles batching. In Torchtext, they call these iterators what Torchvision called data loaders (no idea why that is).\n",
    "\n",
    "Let's create an iterator for each split:"
   ]
  },
  {
   "cell_type": "code",
   "execution_count": 56,
   "metadata": {},
   "outputs": [],
   "source": [
    "train_iter, val_iter, test_iter = torchtext.data.BucketIterator.splits(\n",
    "    (train_ds, val_ds, test_ds), batch_sizes=(16, 256, 256), sort_key=lambda x: len(x.text))"
   ]
  },
  {
   "cell_type": "code",
   "execution_count": 57,
   "metadata": {},
   "outputs": [],
   "source": [
    "train_batch = next(iter(train_iter))"
   ]
  },
  {
   "cell_type": "code",
   "execution_count": 58,
   "metadata": {},
   "outputs": [
    {
     "data": {
      "text/plain": [
       "torch.Size([27, 16])"
      ]
     },
     "execution_count": 58,
     "metadata": {},
     "output_type": "execute_result"
    }
   ],
   "source": [
    "train_batch.text.shape"
   ]
  },
  {
   "cell_type": "markdown",
   "metadata": {},
   "source": [
    "What we have is a sentence length of 34, with a batch size of 16."
   ]
  },
  {
   "cell_type": "code",
   "execution_count": 59,
   "metadata": {},
   "outputs": [],
   "source": [
    "train_batch = next(iter(train_iter))"
   ]
  },
  {
   "cell_type": "code",
   "execution_count": 60,
   "metadata": {},
   "outputs": [
    {
     "data": {
      "text/plain": [
       "torch.Size([28, 16])"
      ]
     },
     "execution_count": 60,
     "metadata": {},
     "output_type": "execute_result"
    }
   ],
   "source": [
    "train_batch.text.shape"
   ]
  },
  {
   "cell_type": "markdown",
   "metadata": {},
   "source": [
    "Notice how the sequence length changes each time? An RNN can handle that just fine.\n",
    "\n",
    "Fast.AI provides a convenience wrapper around all this called `fastai.nlp.TextData`. Let's use that and make sure it appears to work the same:"
   ]
  },
  {
   "cell_type": "code",
   "execution_count": 140,
   "metadata": {},
   "outputs": [],
   "source": [
    "PATH = Path('./data/global-sentiment')\n",
    "PATH.mkdir(exist_ok=True)"
   ]
  },
  {
   "cell_type": "code",
   "execution_count": 141,
   "metadata": {},
   "outputs": [],
   "source": [
    "bs = 16"
   ]
  },
  {
   "cell_type": "code",
   "execution_count": 142,
   "metadata": {},
   "outputs": [],
   "source": [
    "text_data = fastai.nlp.TextData.from_splits(PATH, (train_ds, val_ds, test_ds), bs=bs, text_name='text', label_name='label')"
   ]
  },
  {
   "cell_type": "code",
   "execution_count": 63,
   "metadata": {},
   "outputs": [],
   "source": [
    "train_batch, y = next(iter(text_data.trn_dl))"
   ]
  },
  {
   "cell_type": "code",
   "execution_count": 65,
   "metadata": {},
   "outputs": [
    {
     "data": {
      "text/plain": [
       "<torchtext.data.iterator.BucketIterator at 0x1c325dd748>"
      ]
     },
     "execution_count": 65,
     "metadata": {},
     "output_type": "execute_result"
    }
   ],
   "source": [
    "text_data.trn_dl.src"
   ]
  },
  {
   "cell_type": "code",
   "execution_count": 66,
   "metadata": {},
   "outputs": [
    {
     "data": {
      "text/plain": [
       "torch.Size([27, 16])"
      ]
     },
     "execution_count": 66,
     "metadata": {},
     "output_type": "execute_result"
    }
   ],
   "source": [
    "train_batch.shape"
   ]
  },
  {
   "cell_type": "code",
   "execution_count": 67,
   "metadata": {},
   "outputs": [],
   "source": [
    "train_batch, y = next(iter(text_data.trn_dl))"
   ]
  },
  {
   "cell_type": "code",
   "execution_count": 68,
   "metadata": {},
   "outputs": [
    {
     "data": {
      "text/plain": [
       "torch.Size([28, 16])"
      ]
     },
     "execution_count": 68,
     "metadata": {},
     "output_type": "execute_result"
    }
   ],
   "source": [
    "train_batch.shape"
   ]
  },
  {
   "cell_type": "markdown",
   "metadata": {},
   "source": [
    "## Simple RNN classifier"
   ]
  },
  {
   "cell_type": "markdown",
   "metadata": {},
   "source": [
    "It's the same. Okay, so now we understand `TextData`, let's build a simple RNN model. I will use a for loop initially, instead of using the `nn.RNN` class."
   ]
  },
  {
   "cell_type": "code",
   "execution_count": 70,
   "metadata": {},
   "outputs": [],
   "source": [
    "class RNNClassifier(torch.nn.Module):\n",
    "    def __init__(self, embedding_dim, hidden_size, vocab_size):\n",
    "        super().__init__()\n",
    "        \n",
    "        self.hidden_size = hidden_size\n",
    "        \n",
    "        self.embedding = torch.nn.Embedding(vocab_size, embedding_dim)\n",
    "        self.input_layer = torch.nn.Linear(embedding_dim + hidden_size, hidden_size)\n",
    "        self.hidden_layer = torch.nn.Linear(hidden_size, hidden_size)\n",
    "        self.output_layer = torch.nn.Linear(hidden_size, vocab_size)\n",
    "        \n",
    "    def forward(self, words):\n",
    "        batch_size = words[0].size(0)\n",
    "        \n",
    "        hidden = V(torch.zeros(batch_size, self.hidden_size))\n",
    "        \n",
    "        for word in words:\n",
    "            e = self.embedding(word)\n",
    "            concat = torch.cat([hidden, e], dim=1)\n",
    "            inp = self.input_layer(concat)\n",
    "            inp = torch.nn.functional.relu(inp)\n",
    "\n",
    "            hidden = torch.nn.functional.tanh(self.hidden_layer(inp))\n",
    "            \n",
    "        return torch.nn.functional.log_softmax(self.output_layer(hidden), dim=-1)"
   ]
  },
  {
   "cell_type": "code",
   "execution_count": 73,
   "metadata": {},
   "outputs": [],
   "source": [
    "emb_size = 200\n",
    "hidden_size = 256\n",
    "vocab_size = len(TEXT_FIELD.vocab.stoi)\n",
    "\n",
    "model = RNNClassifier(emb_size, hidden_size, vocab_size)\n",
    "opt = torch.optim.Adam(model.parameters(), 1e-3)"
   ]
  },
  {
   "cell_type": "code",
   "execution_count": 74,
   "metadata": {},
   "outputs": [],
   "source": [
    "learner = RNN_Learner.from_model_data(model, text_data)"
   ]
  },
  {
   "cell_type": "code",
   "execution_count": 75,
   "metadata": {},
   "outputs": [
    {
     "data": {
      "application/vnd.jupyter.widget-view+json": {
       "model_id": "819c0d0978c8431f8bc07117a57de580",
       "version_major": 2,
       "version_minor": 0
      },
      "text/plain": [
       "HBox(children=(IntProgress(value=0, description='Epoch', max=1), HTML(value='')))"
      ]
     },
     "metadata": {},
     "output_type": "display_data"
    },
    {
     "name": "stdout",
     "output_type": "stream",
     "text": [
      " 81%|████████  | 138/171 [00:13<00:03, 10.05it/s, loss=9.56]"
     ]
    }
   ],
   "source": [
    "learner.lr_find()"
   ]
  },
  {
   "cell_type": "code",
   "execution_count": 76,
   "metadata": {},
   "outputs": [
    {
     "data": {
      "image/png": "[encoded data removed]",
      "text/plain": [
       "<Figure size 432x288 with 1 Axes>"
      ]
     },
     "metadata": {},
     "output_type": "display_data"
    }
   ],
   "source": [
    "learner.sched.plot()"
   ]
  },
  {
   "cell_type": "code",
   "execution_count": 77,
   "metadata": {},
   "outputs": [
    {
     "data": {
      "application/vnd.jupyter.widget-view+json": {
       "model_id": "aa0d8650b5f5494db8470478d29f1b5a",
       "version_major": 2,
       "version_minor": 0
      },
      "text/plain": [
       "HBox(children=(IntProgress(value=0, description='Epoch', max=1), HTML(value='')))"
      ]
     },
     "metadata": {},
     "output_type": "display_data"
    },
    {
     "name": "stdout",
     "output_type": "stream",
     "text": [
      "epoch      trn_loss   val_loss   accuracy                   \n",
      "    0      1.451926   1.974098   0.295513  \n"
     ]
    },
    {
     "data": {
      "text/plain": [
       "[array([1.9741]), 0.29551334422657954]"
      ]
     },
     "execution_count": 77,
     "metadata": {},
     "output_type": "execute_result"
    }
   ],
   "source": [
    "learner.fit(0.02, 1, metrics=[accuracy])"
   ]
  },
  {
   "cell_type": "code",
   "execution_count": 78,
   "metadata": {},
   "outputs": [
    {
     "data": {
      "application/vnd.jupyter.widget-view+json": {
       "model_id": "c17c7336aa9f4e68952c140f390e1340",
       "version_major": 2,
       "version_minor": 0
      },
      "text/plain": [
       "HBox(children=(IntProgress(value=0, description='Epoch', max=7), HTML(value='')))"
      ]
     },
     "metadata": {},
     "output_type": "display_data"
    },
    {
     "name": "stdout",
     "output_type": "stream",
     "text": [
      "epoch      trn_loss   val_loss   accuracy                    \n",
      "    0      0.990833   0.745997   0.713712  \n",
      "    1      0.993644   0.84675    0.663501                    \n",
      "    2      0.977493   0.608515   0.701355                    \n",
      "    3      0.648026   0.734888   0.482503                    \n",
      "    4      0.607096   0.62423    0.70384                     \n",
      "    5      0.591332   0.612563   0.697644                    \n",
      "    6      0.569476   0.749776   0.524612                    \n"
     ]
    },
    {
     "data": {
      "text/plain": [
       "[array([0.74978]), 0.5246119281045751]"
      ]
     },
     "execution_count": 78,
     "metadata": {},
     "output_type": "execute_result"
    }
   ],
   "source": [
    "learner.fit(0.02, 3, metrics=[accuracy], cycle_mult=2)"
   ]
  },
  {
   "cell_type": "markdown",
   "metadata": {},
   "source": [
    "Results are not amazing. We know that loosing the hidden state in between forward passes is not ideal. Can we try the stateful RNN model."
   ]
  },
  {
   "cell_type": "code",
   "execution_count": 86,
   "metadata": {},
   "outputs": [],
   "source": [
    "class StatefulRNNClassifier(nn.Module):\n",
    "    def __init__(self, vocab_size, n_fac, n_hidden, batch_size):\n",
    "        self.vocab_size = vocab_size\n",
    "        self.n_hidden = n_hidden\n",
    "\n",
    "        super().__init__()\n",
    "    \n",
    "        self.e = nn.Embedding(vocab_size, n_fac)\n",
    "        self.rnn = nn.RNN(n_fac, n_hidden)\n",
    "        self.l_out = nn.Linear(n_hidden, vocab_size)\n",
    "        self.init_hidden(batch_size)\n",
    "        \n",
    "    def forward(self, cs):\n",
    "        batch_size = cs[0].size(0)\n",
    "\n",
    "        if self.h.size(1) != batch_size:\n",
    "            self.init_hidden(batch_size)\n",
    "\n",
    "        outp, h = self.rnn(self.e(cs), self.h)\n",
    "\n",
    "        self.h = repackage_var(h)\n",
    "\n",
    "        return F.log_softmax(\n",
    "            self.l_out(outp[-1]), dim=-1).view(-1, self.vocab_size)\n",
    "    \n",
    "    def init_hidden(self, bs):\n",
    "        self.h = V(torch.zeros(1, bs, self.n_hidden))"
   ]
  },
  {
   "cell_type": "code",
   "execution_count": 87,
   "metadata": {},
   "outputs": [],
   "source": [
    "rank_3_tensor = V(torch.zeros(1, 16, 256))"
   ]
  },
  {
   "cell_type": "code",
   "execution_count": 88,
   "metadata": {},
   "outputs": [
    {
     "data": {
      "text/plain": [
       "torch.Size([1, 16, 256])"
      ]
     },
     "execution_count": 88,
     "metadata": {},
     "output_type": "execute_result"
    }
   ],
   "source": [
    "rank_3_tensor.shape"
   ]
  },
  {
   "cell_type": "code",
   "execution_count": 89,
   "metadata": {},
   "outputs": [
    {
     "data": {
      "text/plain": [
       "torch.Size([16, 256])"
      ]
     },
     "execution_count": 89,
     "metadata": {},
     "output_type": "execute_result"
    }
   ],
   "source": [
    "rank_3_tensor.view(-1, 256).shape"
   ]
  },
  {
   "cell_type": "code",
   "execution_count": 90,
   "metadata": {},
   "outputs": [],
   "source": [
    "emb_size = 200\n",
    "hidden_size = 256\n",
    "vocab_size = len(TEXT_FIELD.vocab.stoi)\n",
    "\n",
    "model = StatefulRNNClassifier(vocab_size, emb_size, hidden_size, 16)\n",
    "opt = torch.optim.Adam(model.parameters(), 1e-3)"
   ]
  },
  {
   "cell_type": "code",
   "execution_count": 91,
   "metadata": {},
   "outputs": [],
   "source": [
    "learner = RNN_Learner.from_model_data(model, text_data)"
   ]
  },
  {
   "cell_type": "code",
   "execution_count": 92,
   "metadata": {},
   "outputs": [],
   "source": [
    "learner.model.reg_fn = partial(seq2seq_reg, alpha=2, beta=1)\n",
    "learner.model.clip = 25."
   ]
  },
  {
   "cell_type": "code",
   "execution_count": 93,
   "metadata": {},
   "outputs": [],
   "source": [
    "learner.unfreeze()"
   ]
  },
  {
   "cell_type": "code",
   "execution_count": 94,
   "metadata": {},
   "outputs": [
    {
     "data": {
      "application/vnd.jupyter.widget-view+json": {
       "model_id": "5872adae1165455fbf47fe19dddd3fb0",
       "version_major": 2,
       "version_minor": 0
      },
      "text/plain": [
       "HBox(children=(IntProgress(value=0, description='Epoch', max=1), HTML(value='')))"
      ]
     },
     "metadata": {},
     "output_type": "display_data"
    },
    {
     "name": "stdout",
     "output_type": "stream",
     "text": [
      "                                                            \r"
     ]
    }
   ],
   "source": [
    "learner.lr_find()"
   ]
  },
  {
   "cell_type": "code",
   "execution_count": 95,
   "metadata": {},
   "outputs": [
    {
     "data": {
      "image/png": "[encoded data removed]",
      "text/plain": [
       "<Figure size 432x288 with 1 Axes>"
      ]
     },
     "metadata": {},
     "output_type": "display_data"
    }
   ],
   "source": [
    "learner.sched.plot()"
   ]
  },
  {
   "cell_type": "code",
   "execution_count": 96,
   "metadata": {},
   "outputs": [
    {
     "data": {
      "application/vnd.jupyter.widget-view+json": {
       "model_id": "1b21555348c84f3d8ba81d631ea1ad02",
       "version_major": 2,
       "version_minor": 0
      },
      "text/plain": [
       "HBox(children=(IntProgress(value=0, description='Epoch', max=1), HTML(value='')))"
      ]
     },
     "metadata": {},
     "output_type": "display_data"
    },
    {
     "name": "stdout",
     "output_type": "stream",
     "text": [
      "epoch      trn_loss   val_loss   accuracy                    \n",
      "    0      0.911752   0.767767   0.47835   \n"
     ]
    },
    {
     "data": {
      "text/plain": [
       "[array([0.76777]), 0.4783496732026144]"
      ]
     },
     "execution_count": 96,
     "metadata": {},
     "output_type": "execute_result"
    }
   ],
   "source": [
    "learner.fit(0.02, 1, metrics=[accuracy])"
   ]
  },
  {
   "cell_type": "code",
   "execution_count": 97,
   "metadata": {},
   "outputs": [
    {
     "data": {
      "application/vnd.jupyter.widget-view+json": {
       "model_id": "af54adec62004fc88d5741a82fb8f8d4",
       "version_major": 2,
       "version_minor": 0
      },
      "text/plain": [
       "HBox(children=(IntProgress(value=0, description='Epoch', max=13), HTML(value='')))"
      ]
     },
     "metadata": {},
     "output_type": "display_data"
    },
    {
     "name": "stdout",
     "output_type": "stream",
     "text": [
      "epoch      trn_loss   val_loss   accuracy                    \n",
      "    0      0.748554   1.019432   0.306781  \n",
      "    1      0.839878   0.935877   0.531148                    \n",
      "    2      0.847822   0.732368   0.627519                    \n",
      "    3      0.681256   0.808527   0.565325                    \n",
      "    4      0.778132   1.7248     0.337963                    \n",
      "    5      0.688554   0.827571   0.66282                     \n",
      "    6      0.623782   0.872698   0.608762                    \n",
      "    7      0.627264   1.113532   0.635417                    \n",
      "    8      0.648929   0.981717   0.608898                    \n",
      "    9      0.597645   1.030251   0.620064                    \n",
      "    10     0.611026   1.184489   0.624081                    \n",
      "    11     0.633573   1.076439   0.668777                    \n",
      "    12     0.744565   1.113526   0.648148                    \n"
     ]
    },
    {
     "data": {
      "text/plain": [
       "[array([1.11353]), 0.6481481481481481]"
      ]
     },
     "execution_count": 97,
     "metadata": {},
     "output_type": "execute_result"
    }
   ],
   "source": [
    "learner.fit(0.02, 3, metrics=[accuracy], cycle_mult=3)"
   ]
  },
  {
   "cell_type": "markdown",
   "metadata": {},
   "source": [
    "## Swap out the RNN for an LSTM"
   ]
  },
  {
   "cell_type": "markdown",
   "metadata": {},
   "source": [
    "An LSTM does a better job at keeping track at longer term dependancies. For example:\n",
    "\n",
    "\"The dog which already walked ... *was* tired\"\n",
    "\n",
    "\"The dogs which already walked ... *were* tired\"\n",
    "\n",
    "A standard RNN tends to "
   ]
  },
  {
   "cell_type": "code",
   "execution_count": 100,
   "metadata": {},
   "outputs": [],
   "source": [
    "class StatefulLSTMClassifier(nn.Module):\n",
    "    def __init__(self, vocab_size, n_fac, n_hidden, batch_size, nl):\n",
    "        self.nl = nl\n",
    "        self.vocab_size = vocab_size\n",
    "        self.n_hidden = n_hidden\n",
    "        super().__init__()\n",
    "        self.e = nn.Embedding(vocab_size, n_fac)\n",
    "        self.rnn = nn.LSTM(n_fac, n_hidden, self.nl)\n",
    "        self.l_out = nn.Linear(n_hidden, vocab_size, 2)\n",
    "        self.init_hidden(batch_size)\n",
    "        \n",
    "    def forward(self, cs):\n",
    "        batch_size = cs[0].size(0)\n",
    "        if self.h[0].size(1) != batch_size:\n",
    "            self.init_hidden(batch_size)\n",
    "\n",
    "        outp, h = self.rnn(self.e(cs), self.h)\n",
    "        self.h = repackage_var(h)\n",
    "        return F.log_softmax(self.l_out(outp[-1]), dim=-1).view(-1, self.vocab_size)\n",
    "    \n",
    "    def init_hidden(self, bs):\n",
    "        self.h = (V(torch.zeros(self.nl, bs, self.n_hidden)),\n",
    "                  V(torch.zeros(self.nl, bs, self.n_hidden)))"
   ]
  },
  {
   "cell_type": "code",
   "execution_count": 101,
   "metadata": {},
   "outputs": [],
   "source": [
    "emb_size = 200\n",
    "hidden_size = 256\n",
    "vocab_size = len(TEXT_FIELD.vocab.stoi)\n",
    "\n",
    "model = StatefulLSTMClassifier(vocab_size, emb_size, hidden_size, 16, 2)\n",
    "opt = torch.optim.Adam(model.parameters(), 1e-3)"
   ]
  },
  {
   "cell_type": "code",
   "execution_count": 102,
   "metadata": {},
   "outputs": [],
   "source": [
    "learner = RNN_Learner.from_model_data(model, text_data)"
   ]
  },
  {
   "cell_type": "code",
   "execution_count": 103,
   "metadata": {},
   "outputs": [],
   "source": [
    "learner.unfreeze()"
   ]
  },
  {
   "cell_type": "code",
   "execution_count": 104,
   "metadata": {},
   "outputs": [
    {
     "data": {
      "application/vnd.jupyter.widget-view+json": {
       "model_id": "9f61af4c338344d1970b97bfedcae721",
       "version_major": 2,
       "version_minor": 0
      },
      "text/plain": [
       "HBox(children=(IntProgress(value=0, description='Epoch', max=1), HTML(value='')))"
      ]
     },
     "metadata": {},
     "output_type": "display_data"
    },
    {
     "name": "stdout",
     "output_type": "stream",
     "text": [
      "epoch      trn_loss   val_loss                              \n",
      "    0      2.450264   4.111816  \n"
     ]
    }
   ],
   "source": [
    "learner.lr_find()"
   ]
  },
  {
   "cell_type": "code",
   "execution_count": 105,
   "metadata": {},
   "outputs": [
    {
     "data": {
      "image/png": "[encoded data removed]",
      "text/plain": [
       "<Figure size 432x288 with 1 Axes>"
      ]
     },
     "metadata": {},
     "output_type": "display_data"
    }
   ],
   "source": [
    "learner.sched.plot()"
   ]
  },
  {
   "cell_type": "code",
   "execution_count": 339,
   "metadata": {},
   "outputs": [
    {
     "data": {
      "application/vnd.jupyter.widget-view+json": {
       "model_id": "dd853a0f448d407aade8d7123e2448db",
       "version_major": 2,
       "version_minor": 0
      },
      "text/plain": [
       "HBox(children=(IntProgress(value=0, description='Epoch', max=13), HTML(value='')))"
      ]
     },
     "metadata": {},
     "output_type": "display_data"
    },
    {
     "name": "stdout",
     "output_type": "stream",
     "text": [
      "epoch      trn_loss   val_loss   accuracy                    \n",
      "    0      0.642714   0.664135   0.704802  \n",
      "    1      0.590536   0.958193   0.293584                    \n",
      "    2      0.587968   0.612797   0.703138                    \n",
      "    3      0.579308   0.803199   0.464033                    \n",
      "    4      0.557207   0.715474   0.60679                     \n",
      "    5      0.535623   0.637085   0.653148                    \n",
      "    6      0.503278   0.558036   0.720642                    \n",
      "    7      0.464245   0.554885   0.728965                    \n",
      "    8      0.45296    0.534932   0.744149                    \n",
      "    9      0.45852    0.532461   0.717514                    \n",
      "    10     0.407448   0.551546   0.754843                    \n",
      "    11     0.437047   0.818363   0.615365                    \n",
      "    12     0.393547   0.673225   0.735472                    \n"
     ]
    },
    {
     "data": {
      "text/plain": [
       "[array([0.67323]), 0.7354721549636803]"
      ]
     },
     "execution_count": 339,
     "metadata": {},
     "output_type": "execute_result"
    }
   ],
   "source": [
    "learner.fit(0.1, 3, metrics=[accuracy], cycle_mult=3)"
   ]
  },
  {
   "cell_type": "code",
   "execution_count": 340,
   "metadata": {},
   "outputs": [
    {
     "data": {
      "application/vnd.jupyter.widget-view+json": {
       "model_id": "cee664ae2eab408e816f4ae4bb7d8623",
       "version_major": 2,
       "version_minor": 0
      },
      "text/plain": [
       "HBox(children=(IntProgress(value=0, description='Epoch', max=13), HTML(value='')))"
      ]
     },
     "metadata": {},
     "output_type": "display_data"
    },
    {
     "name": "stdout",
     "output_type": "stream",
     "text": [
      "epoch      trn_loss   val_loss   accuracy                    \n",
      "    0      0.336083   0.588867   0.765234  \n",
      "    1      0.299134   0.682336   0.766646                    \n",
      "    2      0.274451   0.688969   0.772296                    \n",
      "    3      0.237138   0.760314   0.768261                    \n",
      "    4      0.2239     0.69131    0.786168                    \n",
      "    5      0.165534   0.848869   0.774617                    \n",
      "    6      0.140051   0.887794   0.748234                     \n",
      "    7      0.123986   0.858684   0.769471                     \n",
      "    8      0.121634   0.877789   0.777038                     \n",
      "    9      0.111991   0.986204   0.774314                     \n",
      "    10     0.089316   1.019616   0.772952                     \n",
      "    11     0.066097   1.050458   0.782536                     \n",
      "    12     0.059231   1.125723   0.752522                     \n"
     ]
    },
    {
     "data": {
      "text/plain": [
       "[array([1.12572]), 0.7525221953188055]"
      ]
     },
     "execution_count": 340,
     "metadata": {},
     "output_type": "execute_result"
    }
   ],
   "source": [
    "learner.fit(0.1, 3, metrics=[accuracy], cycle_mult=3)"
   ]
  },
  {
   "cell_type": "markdown",
   "metadata": {},
   "source": [
    "## Use the Fast.ai RNN classifier"
   ]
  },
  {
   "cell_type": "markdown",
   "metadata": {},
   "source": [
    "The TextData has it's own model, let's try that."
   ]
  },
  {
   "cell_type": "code",
   "execution_count": 143,
   "metadata": {},
   "outputs": [],
   "source": [
    "bs = 64\n",
    "bptt = 70\n",
    "em_sz = 200\n",
    "nh = 500\n",
    "nl = 3"
   ]
  },
  {
   "cell_type": "code",
   "execution_count": 144,
   "metadata": {},
   "outputs": [],
   "source": [
    "opt_fn = partial(torch.optim.Adam, betas=(0.7, 0.99))\n",
    "learner = text_data.get_model(\n",
    "    opt_fn, 1500, bptt, emb_sz=em_sz, n_hid=nh, n_layers=nl, \n",
    "    dropout=0.1, dropouti=0.4, wdrop=0.5, dropoute=0.05, dropouth=0.3)"
   ]
  },
  {
   "cell_type": "code",
   "execution_count": 145,
   "metadata": {},
   "outputs": [
    {
     "data": {
      "text/plain": [
       "SequentialRNN(\n",
       "  (0): MultiBatchRNN(\n",
       "    (encoder): Embedding(9065, 200, padding_idx=1)\n",
       "    (encoder_with_dropout): EmbeddingDropout(\n",
       "      (embed): Embedding(9065, 200, padding_idx=1)\n",
       "    )\n",
       "    (rnns): ModuleList(\n",
       "      (0): WeightDrop(\n",
       "        (module): LSTM(200, 500)\n",
       "      )\n",
       "      (1): WeightDrop(\n",
       "        (module): LSTM(500, 500)\n",
       "      )\n",
       "      (2): WeightDrop(\n",
       "        (module): LSTM(500, 200)\n",
       "      )\n",
       "    )\n",
       "    (dropouti): LockedDropout(\n",
       "    )\n",
       "    (dropouths): ModuleList(\n",
       "      (0): LockedDropout(\n",
       "      )\n",
       "      (1): LockedDropout(\n",
       "      )\n",
       "      (2): LockedDropout(\n",
       "      )\n",
       "    )\n",
       "  )\n",
       "  (1): PoolingLinearClassifier(\n",
       "    (layers): ModuleList(\n",
       "      (0): LinearBlock(\n",
       "        (lin): Linear(in_features=600, out_features=3, bias=True)\n",
       "        (drop): Dropout(p=0.1)\n",
       "        (bn): BatchNorm1d(600, eps=1e-05, momentum=0.1, affine=True)\n",
       "      )\n",
       "    )\n",
       "  )\n",
       ")"
      ]
     },
     "execution_count": 145,
     "metadata": {},
     "output_type": "execute_result"
    }
   ],
   "source": [
    "learner"
   ]
  },
  {
   "cell_type": "code",
   "execution_count": 146,
   "metadata": {},
   "outputs": [],
   "source": [
    "learner.reg_fn = partial(seq2seq_reg, alpha=2, beta=1)\n",
    "learner.clip = 0.3"
   ]
  },
  {
   "cell_type": "code",
   "execution_count": 147,
   "metadata": {},
   "outputs": [
    {
     "data": {
      "application/vnd.jupyter.widget-view+json": {
       "model_id": "bb66d593ba324c089ad7e06cfad7450a",
       "version_major": 2,
       "version_minor": 0
      },
      "text/plain": [
       "HBox(children=(IntProgress(value=0, description='Epoch', max=15), HTML(value='')))"
      ]
     },
     "metadata": {},
     "output_type": "display_data"
    },
    {
     "name": "stdout",
     "output_type": "stream",
     "text": [
      "epoch      trn_loss   val_loss   accuracy                    \n",
      "    0      0.473344   0.461434   0.776937  \n",
      "    1      0.393316   0.511505   0.776079                    \n",
      "    2      0.222065   0.460314   0.804782                    \n",
      "    3      0.301563   0.464333   0.792474                    \n",
      "    4      0.222063   0.600617   0.807254                    \n",
      "    5      0.110187   0.698418   0.80231                     \n",
      "    6      0.079147   0.717064   0.798073                     \n",
      "    7      0.218971   0.778986   0.793886                    \n",
      "    8      0.163321   0.707321   0.801907                    \n",
      "    9      0.144864   0.77834    0.794794                    \n",
      "    10     0.102619   0.725458   0.801755                     \n",
      "    11     0.075765   0.777664   0.795046                     \n",
      "    12     0.046675   0.905923   0.7841                       \n",
      "    13     0.041044   0.885935   0.802159                     \n",
      "    14     0.028916   0.875052   0.800192                     \n"
     ]
    },
    {
     "data": {
      "text/plain": [
       "[array([0.87505]), 0.8001916868442293]"
      ]
     },
     "execution_count": 147,
     "metadata": {},
     "output_type": "execute_result"
    }
   ],
   "source": [
    "learner.fit(3e-3, 4, wds=1e-6, cycle_len=1, cycle_mult=2, metrics=[accuracy])"
   ]
  },
  {
   "cell_type": "code",
   "execution_count": 148,
   "metadata": {},
   "outputs": [],
   "source": [
    "learner.save_encoder('enc1')"
   ]
  },
  {
   "cell_type": "code",
   "execution_count": null,
   "metadata": {},
   "outputs": [],
   "source": [
    "learner.save('model_adam1')"
   ]
  },
  {
   "cell_type": "markdown",
   "metadata": {},
   "source": [
    "## Viewing val predictions"
   ]
  },
  {
   "cell_type": "code",
   "execution_count": 200,
   "metadata": {},
   "outputs": [],
   "source": [
    "pd.set_option('display.max_colwidth', -1)"
   ]
  },
  {
   "cell_type": "code",
   "execution_count": 192,
   "metadata": {},
   "outputs": [],
   "source": [
    "probs = learner.predict()\n",
    "preds = np.argmax(probs, axis=1)\n",
    "pred_labels = [LABEL_FIELD.vocab.itos[p] for p in preds]\n",
    "\n",
    "val_results = val_df.copy()\n",
    "val_results['pred'] = pred_labels\n",
    "val_results['prob'] = np.exp(np.max(probs, axis=1))"
   ]
  },
  {
   "cell_type": "markdown",
   "metadata": {},
   "source": [
    "### View correct results"
   ]
  },
  {
   "cell_type": "code",
   "execution_count": 201,
   "metadata": {},
   "outputs": [
    {
     "data": {
      "text/html": [
       "<div>\n",
       "<style scoped>\n",
       "    .dataframe tbody tr th:only-of-type {\n",
       "        vertical-align: middle;\n",
       "    }\n",
       "\n",
       "    .dataframe tbody tr th {\n",
       "        vertical-align: top;\n",
       "    }\n",
       "\n",
       "    .dataframe thead th {\n",
       "        text-align: right;\n",
       "    }\n",
       "</style>\n",
       "<table border=\"1\" class=\"dataframe\">\n",
       "  <thead>\n",
       "    <tr style=\"text-align: right;\">\n",
       "      <th></th>\n",
       "      <th>tweet</th>\n",
       "      <th>existence</th>\n",
       "      <th>pred</th>\n",
       "    </tr>\n",
       "  </thead>\n",
       "  <tbody>\n",
       "    <tr>\n",
       "      <th>4080</th>\n",
       "      <td>@conoverbeth I think the report is valuable in terms of visible, observable climate change impacts in the US right now (but no invlvmnt)</td>\n",
       "      <td>Y</td>\n",
       "      <td>Y</td>\n",
       "    </tr>\n",
       "    <tr>\n",
       "      <th>5494</th>\n",
       "      <td>Is this the end of migration? - Climate Change, Environment - The Independent http://retwt.me/1MShX (via @terriferic)</td>\n",
       "      <td>Y</td>\n",
       "      <td>Y</td>\n",
       "    </tr>\n",
       "    <tr>\n",
       "      <th>1952</th>\n",
       "      <td>Only a Third of Americans Believe Global Warming is Human-Caused: By Bob Ellis on April 26th, 2010 Good news! What... http://bit.ly/9XGqPB</td>\n",
       "      <td>N</td>\n",
       "      <td>N</td>\n",
       "    </tr>\n",
       "    <tr>\n",
       "      <th>1096</th>\n",
       "      <td>Climate change &amp; sustainability will be a key driver of future economic development. Listen at http://bit.ly/9Uytgl</td>\n",
       "      <td>Y</td>\n",
       "      <td>Y</td>\n",
       "    </tr>\n",
       "    <tr>\n",
       "      <th>3150</th>\n",
       "      <td>Snowstorm: E Coast Blizzard Tied to Climate Change - @TIME http://bit.ly/9TRnGU</td>\n",
       "      <td>Y</td>\n",
       "      <td>Y</td>\n",
       "    </tr>\n",
       "  </tbody>\n",
       "</table>\n",
       "</div>"
      ],
      "text/plain": [
       "                                                                                                                                           tweet  \\\n",
       "4080  @conoverbeth I think the report is valuable in terms of visible, observable climate change impacts in the US right now (but no invlvmnt)     \n",
       "5494  Is this the end of migration? - Climate Change, Environment - The Independent http://retwt.me/1MShX (via @terriferic)                        \n",
       "1952  Only a Third of Americans Believe Global Warming is Human-Caused: By Bob Ellis on April 26th, 2010 Good news! What... http://bit.ly/9XGqPB   \n",
       "1096  Climate change & sustainability will be a key driver of future economic development. Listen at http://bit.ly/9Uytgl                          \n",
       "3150  Snowstorm: E Coast Blizzard Tied to Climate Change - @TIME http://bit.ly/9TRnGU                                                              \n",
       "\n",
       "     existence pred  \n",
       "4080  Y         Y    \n",
       "5494  Y         Y    \n",
       "1952  N         N    \n",
       "1096  Y         Y    \n",
       "3150  Y         Y    "
      ]
     },
     "execution_count": 201,
     "metadata": {},
     "output_type": "execute_result"
    }
   ],
   "source": [
    "val_results[val_results['pred'] == val_results['existence']][['tweet', 'existence', 'pred']].head()"
   ]
  },
  {
   "cell_type": "markdown",
   "metadata": {},
   "source": [
    "### Incorrect results"
   ]
  },
  {
   "cell_type": "code",
   "execution_count": 202,
   "metadata": {},
   "outputs": [
    {
     "data": {
      "text/html": [
       "<div>\n",
       "<style scoped>\n",
       "    .dataframe tbody tr th:only-of-type {\n",
       "        vertical-align: middle;\n",
       "    }\n",
       "\n",
       "    .dataframe tbody tr th {\n",
       "        vertical-align: top;\n",
       "    }\n",
       "\n",
       "    .dataframe thead th {\n",
       "        text-align: right;\n",
       "    }\n",
       "</style>\n",
       "<table border=\"1\" class=\"dataframe\">\n",
       "  <thead>\n",
       "    <tr style=\"text-align: right;\">\n",
       "      <th></th>\n",
       "      <th>tweet</th>\n",
       "      <th>existence</th>\n",
       "      <th>pred</th>\n",
       "    </tr>\n",
       "  </thead>\n",
       "  <tbody>\n",
       "    <tr>\n",
       "      <th>5548</th>\n",
       "      <td>Houston Chronicle: 'The heat goes on: After a blitz by climate change skep.. http://retwt.me/1MQpP (via @climateprogress)</td>\n",
       "      <td>Y</td>\n",
       "      <td>N</td>\n",
       "    </tr>\n",
       "    <tr>\n",
       "      <th>1978</th>\n",
       "      <td>Brochure on Global Warming 1992: Brochure on Global Warming 1992 added by: neham 0 comments http://bit.ly/bbxgVF</td>\n",
       "      <td>Y</td>\n",
       "      <td>N</td>\n",
       "    </tr>\n",
       "    <tr>\n",
       "      <th>4189</th>\n",
       "      <td>Global Warming In One State: Like clockwork, whenever there is any kind of change in the natural landscape here in... http://bit.ly/bk1xyA</td>\n",
       "      <td>Y</td>\n",
       "      <td>N</td>\n",
       "    </tr>\n",
       "    <tr>\n",
       "      <th>403</th>\n",
       "      <td>SEC warns publically held companies to advise investors of risks of #climate change. [link]</td>\n",
       "      <td>Y</td>\n",
       "      <td>N</td>\n",
       "    </tr>\n",
       "    <tr>\n",
       "      <th>64</th>\n",
       "      <td>@SooperMexican Global warming. Clearly.</td>\n",
       "      <td>Y</td>\n",
       "      <td>N</td>\n",
       "    </tr>\n",
       "  </tbody>\n",
       "</table>\n",
       "</div>"
      ],
      "text/plain": [
       "                                                                                                                                           tweet  \\\n",
       "5548  Houston Chronicle: 'The heat goes on: After a blitz by climate change skep.. http://retwt.me/1MQpP (via @climateprogress)                    \n",
       "1978  Brochure on Global Warming 1992: Brochure on Global Warming 1992 added by: neham 0 comments http://bit.ly/bbxgVF                             \n",
       "4189  Global Warming In One State: Like clockwork, whenever there is any kind of change in the natural landscape here in... http://bit.ly/bk1xyA   \n",
       "403   SEC warns publically held companies to advise investors of risks of #climate change. [link]                                                  \n",
       "64    @SooperMexican Global warming. Clearly.                                                                                                      \n",
       "\n",
       "     existence pred  \n",
       "5548  Y         N    \n",
       "1978  Y         N    \n",
       "4189  Y         N    \n",
       "403   Y         N    \n",
       "64    Y         N    "
      ]
     },
     "execution_count": 202,
     "metadata": {},
     "output_type": "execute_result"
    }
   ],
   "source": [
    "val_results[val_results['pred'] != val_results['existence']][['tweet', 'existence', 'pred']].head()"
   ]
  },
  {
   "cell_type": "markdown",
   "metadata": {},
   "source": [
    "### Most confident wrong predictions"
   ]
  },
  {
   "cell_type": "code",
   "execution_count": 198,
   "metadata": {},
   "outputs": [
    {
     "data": {
      "text/html": [
       "<div>\n",
       "<style scoped>\n",
       "    .dataframe tbody tr th:only-of-type {\n",
       "        vertical-align: middle;\n",
       "    }\n",
       "\n",
       "    .dataframe tbody tr th {\n",
       "        vertical-align: top;\n",
       "    }\n",
       "\n",
       "    .dataframe thead th {\n",
       "        text-align: right;\n",
       "    }\n",
       "</style>\n",
       "<table border=\"1\" class=\"dataframe\">\n",
       "  <thead>\n",
       "    <tr style=\"text-align: right;\">\n",
       "      <th></th>\n",
       "      <th>tweet</th>\n",
       "      <th>existence</th>\n",
       "      <th>pred</th>\n",
       "    </tr>\n",
       "  </thead>\n",
       "  <tbody>\n",
       "    <tr>\n",
       "      <th>3071</th>\n",
       "      <td>EU Referendum: British Council spends _£3.5 million on climate change propaganda http://retwt.me/1LSjS (via @afashionfan)</td>\n",
       "      <td>N</td>\n",
       "      <td>Y</td>\n",
       "    </tr>\n",
       "    <tr>\n",
       "      <th>3863</th>\n",
       "      <td>RT @BillWilsonALG: Lindsay Graham getting public love from Obama. Someone needs to tell Graham that climate change is a proven lie. http://bit.ly/9w8RHw #tcot</td>\n",
       "      <td>N</td>\n",
       "      <td>Y</td>\n",
       "    </tr>\n",
       "    <tr>\n",
       "      <th>3710</th>\n",
       "      <td>The Great Global Warming Collapse http://bit.ly/9VeLfD</td>\n",
       "      <td>N</td>\n",
       "      <td>Y</td>\n",
       "    </tr>\n",
       "    <tr>\n",
       "      <th>3368</th>\n",
       "      <td>RT @owillis: RT @mmfa Brain Freeze: Conservative media still using winter weather 2 attack global warming http://bit.ly/9nKEcc #p2</td>\n",
       "      <td>N</td>\n",
       "      <td>Y</td>\n",
       "    </tr>\n",
       "    <tr>\n",
       "      <th>5955</th>\n",
       "      <td>Global warming? Well, not exactly. As if we could tell anyway: OCRegister (blog) What a hoot when global warming a... http://bit.ly/9PKvc3</td>\n",
       "      <td>N</td>\n",
       "      <td>Y</td>\n",
       "    </tr>\n",
       "  </tbody>\n",
       "</table>\n",
       "</div>"
      ],
      "text/plain": [
       "                                                                                                                                                               tweet  \\\n",
       "3071  EU Referendum: British Council spends _£3.5 million on climate change propaganda http://retwt.me/1LSjS (via @afashionfan)                                       \n",
       "3863  RT @BillWilsonALG: Lindsay Graham getting public love from Obama. Someone needs to tell Graham that climate change is a proven lie. http://bit.ly/9w8RHw #tcot   \n",
       "3710  The Great Global Warming Collapse http://bit.ly/9VeLfD                                                                                                           \n",
       "3368  RT @owillis: RT @mmfa Brain Freeze: Conservative media still using winter weather 2 attack global warming http://bit.ly/9nKEcc #p2                               \n",
       "5955  Global warming? Well, not exactly. As if we could tell anyway: OCRegister (blog) What a hoot when global warming a... http://bit.ly/9PKvc3                       \n",
       "\n",
       "     existence pred  \n",
       "3071  N         Y    \n",
       "3863  N         Y    \n",
       "3710  N         Y    \n",
       "3368  N         Y    \n",
       "5955  N         Y    "
      ]
     },
     "execution_count": 198,
     "metadata": {},
     "output_type": "execute_result"
    }
   ],
   "source": [
    "val_results[val_results['pred'] != val_results['existence']].sort_values('prob', ascending=False)[['tweet', 'existence', 'pred']].head()"
   ]
  },
  {
   "cell_type": "markdown",
   "metadata": {},
   "source": [
    "### Most confident right predictions"
   ]
  },
  {
   "cell_type": "code",
   "execution_count": 199,
   "metadata": {},
   "outputs": [
    {
     "data": {
      "text/html": [
       "<div>\n",
       "<style scoped>\n",
       "    .dataframe tbody tr th:only-of-type {\n",
       "        vertical-align: middle;\n",
       "    }\n",
       "\n",
       "    .dataframe tbody tr th {\n",
       "        vertical-align: top;\n",
       "    }\n",
       "\n",
       "    .dataframe thead th {\n",
       "        text-align: right;\n",
       "    }\n",
       "</style>\n",
       "<table border=\"1\" class=\"dataframe\">\n",
       "  <thead>\n",
       "    <tr style=\"text-align: right;\">\n",
       "      <th></th>\n",
       "      <th>tweet</th>\n",
       "      <th>existence</th>\n",
       "      <th>pred</th>\n",
       "    </tr>\n",
       "  </thead>\n",
       "  <tbody>\n",
       "    <tr>\n",
       "      <th>2098</th>\n",
       "      <td>RT @charles_baker 3,000 Businesses Create New Ad for Climate Change Action: http://bit.ly/cADHuR (via @FaisalSethi + @DoGoodHQ)</td>\n",
       "      <td>Y</td>\n",
       "      <td>Y</td>\n",
       "    </tr>\n",
       "    <tr>\n",
       "      <th>5703</th>\n",
       "      <td>Gregory Unruh: Oven Dial or Light Switch: Carbon Lock-in and Abrupt Climate Change: Well over a decade ago, I bec... http://huff.to/auGUFY</td>\n",
       "      <td>Y</td>\n",
       "      <td>Y</td>\n",
       "    </tr>\n",
       "    <tr>\n",
       "      <th>1237</th>\n",
       "      <td>RT @hereisawayjose Bolivia President on Global Warming http://su.pr/2YY1Lc \"Main cause of Earth destruction is capitalism\" #Green #EarthDay</td>\n",
       "      <td>Y</td>\n",
       "      <td>Y</td>\n",
       "    </tr>\n",
       "    <tr>\n",
       "      <th>4042</th>\n",
       "      <td>. http://bit.ly/aqwt24 global warming facts World leaders back embattled Pachauri</td>\n",
       "      <td>Y</td>\n",
       "      <td>Y</td>\n",
       "    </tr>\n",
       "    <tr>\n",
       "      <th>5753</th>\n",
       "      <td>Global warming? Great!: \"The threat from climate change is serious, it is urgent, and it is growing,\" President Ob... http://bit.ly/a3FWD0</td>\n",
       "      <td>Y</td>\n",
       "      <td>Y</td>\n",
       "    </tr>\n",
       "  </tbody>\n",
       "</table>\n",
       "</div>"
      ],
      "text/plain": [
       "                                                                                                                                            tweet  \\\n",
       "2098  RT @charles_baker 3,000 Businesses Create New Ad for Climate Change Action: http://bit.ly/cADHuR (via @FaisalSethi + @DoGoodHQ)               \n",
       "5703  Gregory Unruh: Oven Dial or Light Switch: Carbon Lock-in and Abrupt Climate Change: Well over a decade ago, I bec... http://huff.to/auGUFY    \n",
       "1237  RT @hereisawayjose Bolivia President on Global Warming http://su.pr/2YY1Lc \"Main cause of Earth destruction is capitalism\" #Green #EarthDay   \n",
       "4042  . http://bit.ly/aqwt24 global warming facts World leaders back embattled Pachauri                                                             \n",
       "5753  Global warming? Great!: \"The threat from climate change is serious, it is urgent, and it is growing,\" President Ob... http://bit.ly/a3FWD0    \n",
       "\n",
       "     existence pred  \n",
       "2098  Y         Y    \n",
       "5703  Y         Y    \n",
       "1237  Y         Y    \n",
       "4042  Y         Y    \n",
       "5753  Y         Y    "
      ]
     },
     "execution_count": 199,
     "metadata": {},
     "output_type": "execute_result"
    }
   ],
   "source": [
    "val_results[val_results['pred'] == val_results['existence']].sort_values('prob', ascending=False)[['tweet', 'existence', 'pred']].head()"
   ]
  },
  {
   "cell_type": "markdown",
   "metadata": {},
   "source": [
    "## Making test predictions"
   ]
  },
  {
   "cell_type": "code",
   "execution_count": 151,
   "metadata": {},
   "outputs": [],
   "source": [
    "learner.data.test_dl.src.sort = False\n",
    "learner.data.test_dl.src.sort_within_batch = False\n",
    "learner.data.test_dl.src.shuffle = False"
   ]
  },
  {
   "cell_type": "code",
   "execution_count": 153,
   "metadata": {},
   "outputs": [],
   "source": [
    "probs = learner.predict(is_test=True)\n",
    "preds = np.argmax(probs, axis=1)"
   ]
  },
  {
   "cell_type": "code",
   "execution_count": 205,
   "metadata": {},
   "outputs": [
    {
     "data": {
      "text/html": [
       "<div>\n",
       "<style scoped>\n",
       "    .dataframe tbody tr th:only-of-type {\n",
       "        vertical-align: middle;\n",
       "    }\n",
       "\n",
       "    .dataframe tbody tr th {\n",
       "        vertical-align: top;\n",
       "    }\n",
       "\n",
       "    .dataframe thead th {\n",
       "        text-align: right;\n",
       "    }\n",
       "</style>\n",
       "<table border=\"1\" class=\"dataframe\">\n",
       "  <thead>\n",
       "    <tr style=\"text-align: right;\">\n",
       "      <th></th>\n",
       "      <th>id</th>\n",
       "      <th>sentiment</th>\n",
       "    </tr>\n",
       "  </thead>\n",
       "  <tbody>\n",
       "    <tr>\n",
       "      <th>0</th>\n",
       "      <td>4080</td>\n",
       "      <td>Y</td>\n",
       "    </tr>\n",
       "    <tr>\n",
       "      <th>1</th>\n",
       "      <td>5494</td>\n",
       "      <td>Y</td>\n",
       "    </tr>\n",
       "    <tr>\n",
       "      <th>2</th>\n",
       "      <td>1952</td>\n",
       "      <td>N</td>\n",
       "    </tr>\n",
       "    <tr>\n",
       "      <th>3</th>\n",
       "      <td>5548</td>\n",
       "      <td>N</td>\n",
       "    </tr>\n",
       "    <tr>\n",
       "      <th>4</th>\n",
       "      <td>1096</td>\n",
       "      <td>Y</td>\n",
       "    </tr>\n",
       "    <tr>\n",
       "      <th>5</th>\n",
       "      <td>3150</td>\n",
       "      <td>Y</td>\n",
       "    </tr>\n",
       "    <tr>\n",
       "      <th>6</th>\n",
       "      <td>1978</td>\n",
       "      <td>N</td>\n",
       "    </tr>\n",
       "    <tr>\n",
       "      <th>7</th>\n",
       "      <td>4189</td>\n",
       "      <td>N</td>\n",
       "    </tr>\n",
       "    <tr>\n",
       "      <th>8</th>\n",
       "      <td>1544</td>\n",
       "      <td>Y</td>\n",
       "    </tr>\n",
       "    <tr>\n",
       "      <th>9</th>\n",
       "      <td>403</td>\n",
       "      <td>N</td>\n",
       "    </tr>\n",
       "  </tbody>\n",
       "</table>\n",
       "</div>"
      ],
      "text/plain": [
       "     id sentiment\n",
       "0  4080  Y       \n",
       "1  5494  Y       \n",
       "2  1952  N       \n",
       "3  5548  N       \n",
       "4  1096  Y       \n",
       "5  3150  Y       \n",
       "6  1978  N       \n",
       "7  4189  N       \n",
       "8  1544  Y       \n",
       "9  403   N       "
      ]
     },
     "execution_count": 205,
     "metadata": {},
     "output_type": "execute_result"
    }
   ],
   "source": [
    "pd.DataFrame({\n",
    "    'id': val_df.index,\n",
    "    'sentiment': [LABEL_FIELD.vocab.itos[p] for p in preds]}).head(10)"
   ]
  },
  {
   "cell_type": "code",
   "execution_count": null,
   "metadata": {},
   "outputs": [],
   "source": []
  }
 ],
 "metadata": {
  "kernelspec": {
   "display_name": "Python 3",
   "language": "python",
   "name": "python3"
  },
  "language_info": {
   "codemirror_mode": {
    "name": "ipython",
    "version": 3
   },
   "file_extension": ".py",
   "mimetype": "text/x-python",
   "name": "python",
   "nbconvert_exporter": "python",
   "pygments_lexer": "ipython3",
   "version": "3.6.6"
  }
 },
 "nbformat": 4,
 "nbformat_minor": 2
}
