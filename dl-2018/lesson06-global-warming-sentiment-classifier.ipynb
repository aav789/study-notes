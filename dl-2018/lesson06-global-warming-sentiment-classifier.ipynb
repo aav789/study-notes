{
 "cells": [
  {
   "cell_type": "markdown",
   "metadata": {},
   "source": [
    "# Global Warning Sentiment - Word Model"
   ]
  },
  {
   "cell_type": "code",
   "execution_count": 264,
   "metadata": {},
   "outputs": [],
   "source": [
    "import numpy as np\n",
    "from functools import partial\n",
    "import pandas as pd\n",
    "\n",
    "import torchtext\n",
    "import torch\n",
    "from torch import nn\n",
    "from torch.nn import functional as F\n",
    "import spacy\n",
    "import fastai.nlp\n",
    "from fastai.learner import fit\n",
    "from fastai.core import V\n",
    "from fastai.metrics import accuracy\n",
    "from fastai.lm_rnn import seq2seq_reg, repackage_var\n",
    "\n",
    "from pathlib import Path"
   ]
  },
  {
   "cell_type": "code",
   "execution_count": 186,
   "metadata": {},
   "outputs": [],
   "source": [
    "df = pd.read_csv('./data/raw/global_warming_tweets.csv', encoding='latin1')"
   ]
  },
  {
   "cell_type": "markdown",
   "metadata": {},
   "source": [
    "Drop all Tweets that aren't about global warming:"
   ]
  },
  {
   "cell_type": "code",
   "execution_count": 187,
   "metadata": {},
   "outputs": [],
   "source": [
    "df = df.dropna()"
   ]
  },
  {
   "cell_type": "code",
   "execution_count": 188,
   "metadata": {},
   "outputs": [],
   "source": [
    "df.existence = df.existence.replace({'Yes': 'Y', 'No': 'N'})"
   ]
  },
  {
   "cell_type": "code",
   "execution_count": 189,
   "metadata": {},
   "outputs": [
    {
     "data": {
      "text/plain": [
       "Y    3111\n",
       "N    1114\n",
       "Name: existence, dtype: int64"
      ]
     },
     "execution_count": 189,
     "metadata": {},
     "output_type": "execute_result"
    }
   ],
   "source": [
    "df.existence.value_counts(dropna=False)"
   ]
  },
  {
   "cell_type": "code",
   "execution_count": 190,
   "metadata": {},
   "outputs": [],
   "source": [
    "df = df.sample(frac=1, random_state=42)"
   ]
  },
  {
   "cell_type": "code",
   "execution_count": 191,
   "metadata": {},
   "outputs": [],
   "source": [
    "train_df = df[:-1000]\n",
    "val_df = df[-1000:]"
   ]
  },
  {
   "cell_type": "code",
   "execution_count": 192,
   "metadata": {},
   "outputs": [
    {
     "data": {
      "text/plain": [
       "(3225, 3)"
      ]
     },
     "execution_count": 192,
     "metadata": {},
     "output_type": "execute_result"
    }
   ],
   "source": [
    "train_df.shape"
   ]
  },
  {
   "cell_type": "code",
   "execution_count": 193,
   "metadata": {},
   "outputs": [
    {
     "data": {
      "text/plain": [
       "(1000, 3)"
      ]
     },
     "execution_count": 193,
     "metadata": {},
     "output_type": "execute_result"
    }
   ],
   "source": [
    "val_df.shape"
   ]
  },
  {
   "cell_type": "code",
   "execution_count": 194,
   "metadata": {},
   "outputs": [
    {
     "data": {
      "text/plain": [
       "Y    2384\n",
       "N     841\n",
       "Name: existence, dtype: int64"
      ]
     },
     "execution_count": 194,
     "metadata": {},
     "output_type": "execute_result"
    }
   ],
   "source": [
    "train_df.existence.value_counts()"
   ]
  },
  {
   "cell_type": "code",
   "execution_count": 195,
   "metadata": {},
   "outputs": [
    {
     "data": {
      "text/plain": [
       "Y    727\n",
       "N    273\n",
       "Name: existence, dtype: int64"
      ]
     },
     "execution_count": 195,
     "metadata": {},
     "output_type": "execute_result"
    }
   ],
   "source": [
    "val_df.existence.value_counts()"
   ]
  },
  {
   "cell_type": "markdown",
   "metadata": {},
   "source": [
    "## Simple classifier"
   ]
  },
  {
   "cell_type": "markdown",
   "metadata": {},
   "source": [
    "### Torchtext basics"
   ]
  },
  {
   "cell_type": "markdown",
   "metadata": {},
   "source": [
    "I'll start with a very simple classifier that uses just one RNN layer. I won't even use a learner object for this and only the `fit` Fast.ai function."
   ]
  },
  {
   "cell_type": "markdown",
   "metadata": {},
   "source": [
    "The `data.Field` PyTorch classes describe how to process a set of text. In this example, we intend to lowercase each string:\n",
    "\n",
    "`HELLO` -> `hello`\n",
    "\n",
    "and tokenise it with Spacy."
   ]
  },
  {
   "cell_type": "code",
   "execution_count": 196,
   "metadata": {},
   "outputs": [],
   "source": [
    "nlp = spacy.load('en')"
   ]
  },
  {
   "cell_type": "code",
   "execution_count": 197,
   "metadata": {},
   "outputs": [
    {
     "data": {
      "text/plain": [
       "\"Putting a Price on Climate Change: The People's World Conference on Climate Change in Cochabamba, Bolivia kicks... http://bit.ly/8XnI5N #p2\""
      ]
     },
     "execution_count": 197,
     "metadata": {},
     "output_type": "execute_result"
    }
   ],
   "source": [
    "train_df.iloc[0].tweet"
   ]
  },
  {
   "cell_type": "code",
   "execution_count": 198,
   "metadata": {},
   "outputs": [],
   "source": [
    "tokens = nlp(train_df.iloc[0].tweet)"
   ]
  },
  {
   "cell_type": "code",
   "execution_count": 199,
   "metadata": {},
   "outputs": [
    {
     "data": {
      "text/plain": [
       "[Putting,\n",
       " a,\n",
       " Price,\n",
       " on,\n",
       " Climate,\n",
       " Change,\n",
       " :,\n",
       " The,\n",
       " People,\n",
       " 's,\n",
       " World,\n",
       " Conference,\n",
       " on,\n",
       " Climate,\n",
       " Change,\n",
       " in,\n",
       " Cochabamba,\n",
       " ,,\n",
       " Bolivia,\n",
       " kicks,\n",
       " ...,\n",
       " http://bit.ly/8XnI5N,\n",
       " #,\n",
       " p2]"
      ]
     },
     "execution_count": 199,
     "metadata": {},
     "output_type": "execute_result"
    }
   ],
   "source": [
    "[t for t in tokens]"
   ]
  },
  {
   "cell_type": "code",
   "execution_count": 200,
   "metadata": {},
   "outputs": [],
   "source": [
    "TEXT_FIELD = torchtext.data.Field(lower=True, tokenize=\"spacy\")\n",
    "LABEL_FIELD = torchtext.data.Field(sequential=False)"
   ]
  },
  {
   "cell_type": "markdown",
   "metadata": {},
   "source": [
    "We'll also need a Dataset. Which in Torch text is an object that stores a list of `examples` which includes the text, it's label and the `Field` used to process it."
   ]
  },
  {
   "cell_type": "code",
   "execution_count": 201,
   "metadata": {},
   "outputs": [],
   "source": [
    "class DataFrameDataset(torchtext.data.Dataset):\n",
    "\n",
    "    def __init__(self, df, text_field, label_field, is_test=False, **kwargs):\n",
    "        fields = [('text', text_field), ('label', label_field)]\n",
    "        examples = []\n",
    "        for i, row in df.iterrows():\n",
    "            label = row.existence if not is_test else None\n",
    "            text = row.tweet\n",
    "            examples.append(torchtext.data.Example.fromlist([text, label], fields))\n",
    "\n",
    "        super().__init__(examples, fields, **kwargs)\n",
    "\n",
    "    @staticmethod\n",
    "    def sort_key(ex):\n",
    "        return len(ex.text)\n",
    "\n",
    "    @classmethod\n",
    "    def splits(cls, text_field, label_field, train_df, val_df=None, test_df=None, **kwargs):\n",
    "        train_data, val_data, test_data = (None, None, None)\n",
    "\n",
    "        if train_df is not None:\n",
    "            train_data = cls(train_df.copy(), text_field, label_field, **kwargs)\n",
    "        if val_df is not None:\n",
    "            val_data = cls(val_df.copy(), text_field, label_field, **kwargs)\n",
    "        if test_df is not None:\n",
    "            test_data = cls(test_df.copy(), text_field, label_field, True, **kwargs)\n",
    "\n",
    "        return tuple(d for d in (train_data, val_data, test_data) if d is not None)"
   ]
  },
  {
   "cell_type": "markdown",
   "metadata": {},
   "source": [
    "`splits` refers to the train, val and test split and is a big part of the Torchtext lingo. Here's how you would construct split:"
   ]
  },
  {
   "cell_type": "code",
   "execution_count": 202,
   "metadata": {},
   "outputs": [],
   "source": [
    "train_ds, val_ds, test_ds = DataFrameDataset.splits(\n",
    "  text_field=TEXT_FIELD, label_field=LABEL_FIELD, train_df=train_df, val_df=val_df, test_df=val_df)"
   ]
  },
  {
   "cell_type": "markdown",
   "metadata": {},
   "source": [
    "We can now prepare our `TEXT_FIELD` by building the vocab on it, which simply maps tokens to ints:"
   ]
  },
  {
   "cell_type": "code",
   "execution_count": 203,
   "metadata": {},
   "outputs": [],
   "source": [
    "TEXT_FIELD.build_vocab(train_ds)"
   ]
  },
  {
   "cell_type": "code",
   "execution_count": 204,
   "metadata": {},
   "outputs": [
    {
     "data": {
      "text/plain": [
       "344"
      ]
     },
     "execution_count": 204,
     "metadata": {},
     "output_type": "execute_result"
    }
   ],
   "source": [
    "TEXT_FIELD.vocab.stoi['globalwarming']"
   ]
  },
  {
   "cell_type": "code",
   "execution_count": 205,
   "metadata": {},
   "outputs": [
    {
     "data": {
      "text/plain": [
       "'long'"
      ]
     },
     "execution_count": 205,
     "metadata": {},
     "output_type": "execute_result"
    }
   ],
   "source": [
    "TEXT_FIELD.vocab.itos[378]"
   ]
  },
  {
   "cell_type": "code",
   "execution_count": 206,
   "metadata": {},
   "outputs": [],
   "source": [
    "LABEL_FIELD.build_vocab(train_df)"
   ]
  },
  {
   "cell_type": "markdown",
   "metadata": {},
   "source": [
    "A dataset is very much like a list: it can be iterated through and we can also fetch individual items by id:"
   ]
  },
  {
   "cell_type": "code",
   "execution_count": 207,
   "metadata": {},
   "outputs": [
    {
     "data": {
      "text/plain": [
       "['boy', '.', 'global', 'warming', 'is', 'one', 'slick', 'buster', '.']"
      ]
     },
     "execution_count": 207,
     "metadata": {},
     "output_type": "execute_result"
    }
   ],
   "source": [
    "train_ds[100].text"
   ]
  },
  {
   "cell_type": "code",
   "execution_count": 208,
   "metadata": {},
   "outputs": [
    {
     "data": {
      "text/plain": [
       "['putting',\n",
       " 'a',\n",
       " 'price',\n",
       " 'on',\n",
       " 'climate',\n",
       " 'change',\n",
       " ':',\n",
       " 'the',\n",
       " 'people',\n",
       " \"'s\",\n",
       " 'world',\n",
       " 'conference',\n",
       " 'on',\n",
       " 'climate',\n",
       " 'change',\n",
       " 'in',\n",
       " 'cochabamba',\n",
       " ',',\n",
       " 'bolivia',\n",
       " 'kicks',\n",
       " '...',\n",
       " 'http://bit.ly/8xni5n',\n",
       " '#',\n",
       " 'p2']"
      ]
     },
     "execution_count": 208,
     "metadata": {},
     "output_type": "execute_result"
    }
   ],
   "source": [
    "next(iter(train_ds)).text"
   ]
  },
  {
   "cell_type": "markdown",
   "metadata": {},
   "source": [
    "What we want is a tool to batch our examples up for us. Since an RNN is a sequence model, which can support variable length sequences (lists of data), what we want is a batching strategy that will let us train on multiple sentences at a time but still let us use a for loop over them. Torchtext solves the problem like this:\n",
    "\n",
    "First element   |  Second element   |\n",
    "['rt']             ['the']\n",
    "['global']         ['warming']\n",
    "['Hello']          ['world']\n",
    "\n",
    "So the first element is 64x1, which is the first word in 64 different sequences and so on.\n",
    "\n",
    "Torchtext provides a \"bucket iterator\" which handles batching. In Torchtext, they call these iterators what Torchvision called data loaders (no idea why that is).\n",
    "\n",
    "Let's create an iterator for each split:"
   ]
  },
  {
   "cell_type": "code",
   "execution_count": 209,
   "metadata": {},
   "outputs": [],
   "source": [
    "train_iter, val_iter, test_iter = torchtext.data.BucketIterator.splits(\n",
    "    (train_ds, val_ds, test_ds), batch_sizes=(16, 256, 256), sort_key=lambda x: len(x.text))"
   ]
  },
  {
   "cell_type": "code",
   "execution_count": 210,
   "metadata": {},
   "outputs": [],
   "source": [
    "train_batch = next(iter(train_iter))"
   ]
  },
  {
   "cell_type": "code",
   "execution_count": 211,
   "metadata": {},
   "outputs": [
    {
     "data": {
      "text/plain": [
       "torch.Size([32, 16])"
      ]
     },
     "execution_count": 211,
     "metadata": {},
     "output_type": "execute_result"
    }
   ],
   "source": [
    "train_batch.text.shape"
   ]
  },
  {
   "cell_type": "markdown",
   "metadata": {},
   "source": [
    "What we have is a sentence length of 34, with a batch size of 16."
   ]
  },
  {
   "cell_type": "code",
   "execution_count": 212,
   "metadata": {},
   "outputs": [],
   "source": [
    "train_batch = next(iter(train_iter))"
   ]
  },
  {
   "cell_type": "code",
   "execution_count": 213,
   "metadata": {},
   "outputs": [
    {
     "data": {
      "text/plain": [
       "torch.Size([29, 16])"
      ]
     },
     "execution_count": 213,
     "metadata": {},
     "output_type": "execute_result"
    }
   ],
   "source": [
    "train_batch.text.shape"
   ]
  },
  {
   "cell_type": "markdown",
   "metadata": {},
   "source": [
    "Notice how the sequence length changes each time? An RNN can handle that just fine.\n",
    "\n",
    "Fast.AI provides a conveinience wrapper around all this called `fastai.nlp.TextData`. Let's use that and make sure it appears to work the same:"
   ]
  },
  {
   "cell_type": "code",
   "execution_count": 214,
   "metadata": {},
   "outputs": [],
   "source": [
    "PATH = Path('./data/global-sentiment')\n",
    "PATH.mkdir(exist_ok=True)\n",
    "bs = 16"
   ]
  },
  {
   "cell_type": "code",
   "execution_count": 215,
   "metadata": {},
   "outputs": [],
   "source": [
    "text_data = fastai.nlp.TextData.from_splits(PATH, (train_ds, val_ds, test_ds), bs=bs, text_name='text', label_name='label')"
   ]
  },
  {
   "cell_type": "code",
   "execution_count": 216,
   "metadata": {},
   "outputs": [],
   "source": [
    "train_batch, y = next(iter(text_data.trn_dl))"
   ]
  },
  {
   "cell_type": "code",
   "execution_count": 217,
   "metadata": {},
   "outputs": [
    {
     "data": {
      "text/plain": [
       "torch.Size([32, 16])"
      ]
     },
     "execution_count": 217,
     "metadata": {},
     "output_type": "execute_result"
    }
   ],
   "source": [
    "train_batch.shape"
   ]
  },
  {
   "cell_type": "code",
   "execution_count": 218,
   "metadata": {},
   "outputs": [],
   "source": [
    "train_batch, y = next(iter(text_data.trn_dl))"
   ]
  },
  {
   "cell_type": "code",
   "execution_count": 219,
   "metadata": {},
   "outputs": [
    {
     "data": {
      "text/plain": [
       "torch.Size([29, 16])"
      ]
     },
     "execution_count": 219,
     "metadata": {},
     "output_type": "execute_result"
    }
   ],
   "source": [
    "train_batch.shape"
   ]
  },
  {
   "cell_type": "markdown",
   "metadata": {},
   "source": [
    "It's the same. Okay, so now we understand `TextData`, let's build a simple RNN model. I will use a for loop initially, instead of using the `nn.RNN` class."
   ]
  },
  {
   "cell_type": "code",
   "execution_count": 220,
   "metadata": {},
   "outputs": [],
   "source": [
    "class RNNClassifier(torch.nn.Module):\n",
    "    def __init__(self, embedding_dim, hidden_size, vocab_size):\n",
    "        super().__init__()\n",
    "        \n",
    "        self.hidden_size = hidden_size\n",
    "        \n",
    "        self.embedding = torch.nn.Embedding(vocab_size, embedding_dim)\n",
    "        self.input_layer = torch.nn.Linear(embedding_dim + hidden_size, hidden_size)\n",
    "        self.hidden_layer = torch.nn.Linear(hidden_size, hidden_size)\n",
    "        self.output_layer = torch.nn.Linear(hidden_size, vocab_size)\n",
    "        \n",
    "    def forward(self, words):\n",
    "        batch_size = words[0].size(0)\n",
    "        \n",
    "        hidden = V(torch.zeros(batch_size, self.hidden_size))\n",
    "        \n",
    "        for word in words:\n",
    "            e = self.embedding(word)\n",
    "            concat = torch.cat([hidden, e], dim=1)\n",
    "            inp = self.input_layer(concat)\n",
    "            inp = torch.nn.functional.relu(inp)\n",
    "\n",
    "            hidden = torch.nn.functional.tanh(self.hidden_layer(inp))\n",
    "            \n",
    "        return torch.nn.functional.log_softmax(self.output_layer(hidden), dim=-1)"
   ]
  },
  {
   "cell_type": "code",
   "execution_count": 221,
   "metadata": {},
   "outputs": [],
   "source": [
    "emb_size = 50\n",
    "hidden_size = 256\n",
    "vocab_size = len(TEXT_FIELD.vocab.stoi)\n",
    "\n",
    "model = RNNClassifier(emb_size, hidden_size, vocab_size)\n",
    "opt = torch.optim.Adam(model.parameters(), 1e-3)"
   ]
  },
  {
   "cell_type": "code",
   "execution_count": 222,
   "metadata": {},
   "outputs": [],
   "source": [
    "from fastai.nlp import RNN_Learner"
   ]
  },
  {
   "cell_type": "code",
   "execution_count": 223,
   "metadata": {},
   "outputs": [],
   "source": [
    "learner = RNN_Learner.from_model_data(model, text_data)"
   ]
  },
  {
   "cell_type": "code",
   "execution_count": 224,
   "metadata": {},
   "outputs": [
    {
     "data": {
      "application/vnd.jupyter.widget-view+json": {
       "model_id": "3cc6bbb1fe9d44a5b89a7ad396f40899",
       "version_major": 2,
       "version_minor": 0
      },
      "text/plain": [
       "HBox(children=(IntProgress(value=0, description='Epoch', max=1), HTML(value='')))"
      ]
     },
     "metadata": {},
     "output_type": "display_data"
    },
    {
     "name": "stdout",
     "output_type": "stream",
     "text": [
      " 84%|████████▎ | 169/202 [00:10<00:02, 16.46it/s, loss=11.5]"
     ]
    }
   ],
   "source": [
    "learner.lr_find()"
   ]
  },
  {
   "cell_type": "code",
   "execution_count": 225,
   "metadata": {},
   "outputs": [
    {
     "data": {
      "image/png": "[encoded data removed]",
      "text/plain": [
       "<Figure size 432x288 with 1 Axes>"
      ]
     },
     "metadata": {},
     "output_type": "display_data"
    }
   ],
   "source": [
    "learner.sched.plot()"
   ]
  },
  {
   "cell_type": "code",
   "execution_count": 226,
   "metadata": {},
   "outputs": [
    {
     "data": {
      "application/vnd.jupyter.widget-view+json": {
       "model_id": "c0e08c50a4fc4af3840e96f499fbf603",
       "version_major": 2,
       "version_minor": 0
      },
      "text/plain": [
       "HBox(children=(IntProgress(value=0, description='Epoch', max=1), HTML(value='')))"
      ]
     },
     "metadata": {},
     "output_type": "display_data"
    },
    {
     "name": "stdout",
     "output_type": "stream",
     "text": [
      "epoch      trn_loss   val_loss   accuracy                    \n",
      "    0      1.147053   0.679698   0.506759  \n"
     ]
    },
    {
     "data": {
      "text/plain": [
       "[array([0.6797]), 0.5067594834543987]"
      ]
     },
     "execution_count": 226,
     "metadata": {},
     "output_type": "execute_result"
    }
   ],
   "source": [
    "learner.fit(0.02, 1, metrics=[accuracy])"
   ]
  },
  {
   "cell_type": "code",
   "execution_count": 227,
   "metadata": {},
   "outputs": [
    {
     "data": {
      "application/vnd.jupyter.widget-view+json": {
       "model_id": "0258bcfafd55478dad51d86bf7b55807",
       "version_major": 2,
       "version_minor": 0
      },
      "text/plain": [
       "HBox(children=(IntProgress(value=0, description='Epoch', max=7), HTML(value='')))"
      ]
     },
     "metadata": {},
     "output_type": "display_data"
    },
    {
     "name": "stdout",
     "output_type": "stream",
     "text": [
      "epoch      trn_loss   val_loss   accuracy                    \n",
      "    0      0.732736   0.670736   0.626261  \n",
      "    1      0.587422   0.683923   0.703138                    \n",
      "    2      0.605925   0.628018   0.710654                    \n",
      "    3      0.584323   0.618647   0.716959                    \n",
      "    4      0.578456   0.616663   0.706215                    \n",
      "    5      0.586006   0.688242   0.591757                    \n",
      "    6      0.586797   0.656099   0.633727                    \n"
     ]
    },
    {
     "data": {
      "text/plain": [
       "[array([0.6561]), 0.633726795803067]"
      ]
     },
     "execution_count": 227,
     "metadata": {},
     "output_type": "execute_result"
    }
   ],
   "source": [
    "learner.fit(0.02, 3, metrics=[accuracy], cycle_mult=2)"
   ]
  },
  {
   "cell_type": "code",
   "execution_count": 228,
   "metadata": {},
   "outputs": [
    {
     "data": {
      "application/vnd.jupyter.widget-view+json": {
       "model_id": "9018dcdde8714f3d9b31c8d8ee40e097",
       "version_major": 2,
       "version_minor": 0
      },
      "text/plain": [
       "HBox(children=(IntProgress(value=0, description='Epoch', max=7), HTML(value='')))"
      ]
     },
     "metadata": {},
     "output_type": "display_data"
    },
    {
     "name": "stdout",
     "output_type": "stream",
     "text": [
      "epoch      trn_loss   val_loss   accuracy                    \n",
      "    0      0.551233   0.6378     0.665708  \n",
      "    1      0.54869    0.652776   0.633929                    \n",
      "    2      0.545327   0.619783   0.666515                    \n",
      "    3      0.566465   0.607397   0.696529                    \n",
      "    4      0.564823   0.644541   0.638771                    \n",
      "    5      0.5511     0.699693   0.628682                    \n",
      "    6      0.570328   0.64961    0.641243                    \n"
     ]
    },
    {
     "data": {
      "text/plain": [
       "[array([0.64961]), 0.6412429378531074]"
      ]
     },
     "execution_count": 228,
     "metadata": {},
     "output_type": "execute_result"
    }
   ],
   "source": [
    "learner.fit(0.005, 3, metrics=[accuracy], cycle_mult=2)"
   ]
  },
  {
   "cell_type": "markdown",
   "metadata": {},
   "source": [
    "Results are not amazing. We know that loosing the hidden state in between forward passes is not ideal. Can we try the stateful RNN model>"
   ]
  },
  {
   "cell_type": "code",
   "execution_count": 294,
   "metadata": {},
   "outputs": [],
   "source": [
    "class StatefulRNNClassifier(nn.Module):\n",
    "    def __init__(self, vocab_size, n_fac, n_hidden, batch_size):\n",
    "        self.vocab_size = vocab_size\n",
    "        self.n_hidden = n_hidden\n",
    "        super().__init__()\n",
    "        self.e = nn.Embedding(vocab_size, n_fac)\n",
    "        self.rnn = nn.RNN(n_fac, n_hidden)\n",
    "        self.l_out = nn.Linear(n_hidden, vocab_size)\n",
    "        self.init_hidden(batch_size)\n",
    "        \n",
    "    def forward(self, cs):\n",
    "        batch_size = cs[0].size(0)\n",
    "        if self.h.size(1) != batch_size:\n",
    "            self.init_hidden(batch_size)\n",
    "\n",
    "        outp, h = self.rnn(self.e(cs), self.h)\n",
    "        self.h = repackage_var(h)\n",
    "        return F.log_softmax(self.l_out(outp[-1]), dim=-1).view(-1, self.vocab_size)\n",
    "    \n",
    "    def init_hidden(self, bs):\n",
    "        self.h = V(torch.zeros(1, bs, self.n_hidden))"
   ]
  },
  {
   "cell_type": "code",
   "execution_count": 295,
   "metadata": {},
   "outputs": [],
   "source": [
    "emb_size = 50\n",
    "hidden_size = 256\n",
    "vocab_size = len(TEXT_FIELD.vocab.stoi)\n",
    "\n",
    "model = StatefulRNNClassifier(vocab_size, emb_size, hidden_size, 16)\n",
    "opt = torch.optim.Adam(model.parameters(), 1e-3)"
   ]
  },
  {
   "cell_type": "code",
   "execution_count": 296,
   "metadata": {},
   "outputs": [],
   "source": [
    "learner = RNN_Learner.from_model_data(model, text_data)"
   ]
  },
  {
   "cell_type": "code",
   "execution_count": 297,
   "metadata": {},
   "outputs": [],
   "source": [
    "learner.model.reg_fn = partial(seq2seq_reg, alpha=2, beta=1)\n",
    "learner.model.clip = 25."
   ]
  },
  {
   "cell_type": "code",
   "execution_count": 298,
   "metadata": {},
   "outputs": [],
   "source": [
    "learner.unfreeze()"
   ]
  },
  {
   "cell_type": "code",
   "execution_count": 299,
   "metadata": {},
   "outputs": [
    {
     "data": {
      "application/vnd.jupyter.widget-view+json": {
       "model_id": "77a8db84f38247bfa0e2b7b2282e56ac",
       "version_major": 2,
       "version_minor": 0
      },
      "text/plain": [
       "HBox(children=(IntProgress(value=0, description='Epoch', max=1), HTML(value='')))"
      ]
     },
     "metadata": {},
     "output_type": "display_data"
    },
    {
     "name": "stdout",
     "output_type": "stream",
     "text": [
      "                                                            \r"
     ]
    }
   ],
   "source": [
    "learner.lr_find()"
   ]
  },
  {
   "cell_type": "code",
   "execution_count": 300,
   "metadata": {},
   "outputs": [
    {
     "data": {
      "image/png": "[encoded data removed]",
      "text/plain": [
       "<Figure size 432x288 with 1 Axes>"
      ]
     },
     "metadata": {},
     "output_type": "display_data"
    }
   ],
   "source": [
    "learner.sched.plot()"
   ]
  },
  {
   "cell_type": "code",
   "execution_count": 301,
   "metadata": {},
   "outputs": [
    {
     "data": {
      "application/vnd.jupyter.widget-view+json": {
       "model_id": "34de007382e746c380b9a9b64e4d171f",
       "version_major": 2,
       "version_minor": 0
      },
      "text/plain": [
       "HBox(children=(IntProgress(value=0, description='Epoch', max=1), HTML(value='')))"
      ]
     },
     "metadata": {},
     "output_type": "display_data"
    },
    {
     "name": "stdout",
     "output_type": "stream",
     "text": [
      "epoch      trn_loss   val_loss   accuracy                    \n",
      "    0      0.819542   0.709616   0.709443  \n"
     ]
    },
    {
     "data": {
      "text/plain": [
       "[array([0.70962]), 0.7094430992736077]"
      ]
     },
     "execution_count": 301,
     "metadata": {},
     "output_type": "execute_result"
    }
   ],
   "source": [
    "learner.fit(0.02, 1, metrics=[accuracy])"
   ]
  },
  {
   "cell_type": "code",
   "execution_count": 302,
   "metadata": {},
   "outputs": [
    {
     "data": {
      "application/vnd.jupyter.widget-view+json": {
       "model_id": "774b30f31f474726b5f6e7df0aadbd90",
       "version_major": 2,
       "version_minor": 0
      },
      "text/plain": [
       "HBox(children=(IntProgress(value=0, description='Epoch', max=13), HTML(value='')))"
      ]
     },
     "metadata": {},
     "output_type": "display_data"
    },
    {
     "name": "stdout",
     "output_type": "stream",
     "text": [
      "epoch      trn_loss   val_loss   accuracy                    \n",
      "    0      0.708777   0.683185   0.707627  \n",
      "    1      0.675775   0.610942   0.705962                    \n",
      "    2      0.704993   0.802834   0.428622                    \n",
      "    3      0.618514   0.642599   0.650172                    \n",
      "    4      0.672827   0.611914   0.700212                    \n",
      "    5      0.6107     0.60831    0.704651                    \n",
      "    6      0.651113   0.614211   0.714084                    \n",
      "    7      0.62858    0.643714   0.699354                    \n",
      "    8      0.610845   0.802748   0.550797                    \n",
      "    9      0.589073   0.651614   0.674738                    \n",
      "    10     0.609455   0.657861   0.68528                     \n",
      "    11     0.572956   0.689398   0.655266                    \n",
      "    12     0.605903   0.77662    0.60679                     \n"
     ]
    },
    {
     "data": {
      "text/plain": [
       "[array([0.77662]), 0.6067897497982244]"
      ]
     },
     "execution_count": 302,
     "metadata": {},
     "output_type": "execute_result"
    }
   ],
   "source": [
    "learner.fit(0.02, 3, metrics=[accuracy], cycle_mult=3)"
   ]
  },
  {
   "cell_type": "code",
   "execution_count": 304,
   "metadata": {},
   "outputs": [
    {
     "data": {
      "application/vnd.jupyter.widget-view+json": {
       "model_id": "9c4f46a7868243b28f370cb36dd40607",
       "version_major": 2,
       "version_minor": 0
      },
      "text/plain": [
       "HBox(children=(IntProgress(value=0, description='Epoch', max=1), HTML(value='')))"
      ]
     },
     "metadata": {},
     "output_type": "display_data"
    },
    {
     "name": "stdout",
     "output_type": "stream",
     "text": [
      "epoch      trn_loss   val_loss   accuracy                    \n",
      "    0      0.540366   0.68438    0.679933  \n"
     ]
    },
    {
     "data": {
      "text/plain": [
       "[array([0.68438]), 0.6799334140435835]"
      ]
     },
     "execution_count": 304,
     "metadata": {},
     "output_type": "execute_result"
    }
   ],
   "source": [
    "learner.fit(0.001, 1, metrics=[accuracy])"
   ]
  },
  {
   "cell_type": "code",
   "execution_count": 305,
   "metadata": {},
   "outputs": [
    {
     "data": {
      "application/vnd.jupyter.widget-view+json": {
       "model_id": "405d9b5afb3b49efa38428bf1f18a66d",
       "version_major": 2,
       "version_minor": 0
      },
      "text/plain": [
       "HBox(children=(IntProgress(value=0, description='Epoch', max=13), HTML(value='')))"
      ]
     },
     "metadata": {},
     "output_type": "display_data"
    },
    {
     "name": "stdout",
     "output_type": "stream",
     "text": [
      "epoch      trn_loss   val_loss   accuracy                    \n",
      "    0      0.540557   0.684911   0.673123  \n",
      "    1      0.526347   0.673157   0.673577                    \n",
      "    2      0.511267   0.670735   0.673779                    \n",
      "    3      0.545665   0.678953   0.668987                    \n",
      "    4      0.524892   0.680443   0.668533                    \n",
      "    5      0.544276   0.684007   0.668483                    \n",
      "    6      0.523531   0.674075   0.674385                    \n",
      "    7      0.513912   0.677873   0.672266                    \n",
      "    8      0.520259   0.679552   0.667524                    \n",
      "    9      0.531105   0.670982   0.675242                    \n",
      "    10     0.528492   0.675993   0.67504                     \n",
      "    11     0.520752   0.682534   0.673325                    \n",
      "    12     0.533367   0.678197   0.683263                    \n"
     ]
    },
    {
     "data": {
      "text/plain": [
       "[array([0.6782]), 0.6832627118644068]"
      ]
     },
     "execution_count": 305,
     "metadata": {},
     "output_type": "execute_result"
    }
   ],
   "source": [
    "learner.fit(0.001, 3, metrics=[accuracy], cycle_mult=3)"
   ]
  },
  {
   "cell_type": "markdown",
   "metadata": {},
   "source": [
    "## Swap out the RNN for an LSTM"
   ]
  },
  {
   "cell_type": "markdown",
   "metadata": {},
   "source": [
    "An LSTM does a better job at keeping track at longer term dependancies."
   ]
  },
  {
   "cell_type": "code",
   "execution_count": 333,
   "metadata": {},
   "outputs": [],
   "source": [
    "class StatefulLSTMClassifier(nn.Module):\n",
    "    def __init__(self, vocab_size, n_fac, n_hidden, batch_size, nl):\n",
    "        self.nl = nl\n",
    "        self.vocab_size = vocab_size\n",
    "        self.n_hidden = n_hidden\n",
    "        super().__init__()\n",
    "        self.e = nn.Embedding(vocab_size, n_fac)\n",
    "        self.rnn = nn.LSTM(n_fac, n_hidden, self.nl)\n",
    "        self.l_out = nn.Linear(n_hidden, vocab_size, 2)\n",
    "        self.init_hidden(batch_size)\n",
    "        \n",
    "    def forward(self, cs):\n",
    "        batch_size = cs[0].size(0)\n",
    "        if self.h[0].size(1) != batch_size:\n",
    "            self.init_hidden(batch_size)\n",
    "\n",
    "        outp, h = self.rnn(self.e(cs), self.h)\n",
    "        self.h = repackage_var(h)\n",
    "        return F.log_softmax(self.l_out(outp[-1]), dim=-1).view(-1, self.vocab_size)\n",
    "    \n",
    "    def init_hidden(self, bs):\n",
    "        self.h = (V(torch.zeros(self.nl, bs, self.n_hidden)),\n",
    "                  V(torch.zeros(self.nl, bs, self.n_hidden)))"
   ]
  },
  {
   "cell_type": "code",
   "execution_count": 334,
   "metadata": {},
   "outputs": [],
   "source": [
    "emb_size = 50\n",
    "hidden_size = 256\n",
    "vocab_size = len(TEXT_FIELD.vocab.stoi)\n",
    "\n",
    "model = StatefulLSTMClassifier(vocab_size, emb_size, hidden_size, 16, 2)\n",
    "opt = torch.optim.Adam(model.parameters(), 1e-3)"
   ]
  },
  {
   "cell_type": "code",
   "execution_count": 335,
   "metadata": {},
   "outputs": [],
   "source": [
    "learner = RNN_Learner.from_model_data(model, text_data)"
   ]
  },
  {
   "cell_type": "code",
   "execution_count": 336,
   "metadata": {},
   "outputs": [],
   "source": [
    "learner.unfreeze()"
   ]
  },
  {
   "cell_type": "code",
   "execution_count": 337,
   "metadata": {},
   "outputs": [
    {
     "data": {
      "application/vnd.jupyter.widget-view+json": {
       "model_id": "20f9a138e9ff4724a31fb4b077b435da",
       "version_major": 2,
       "version_minor": 0
      },
      "text/plain": [
       "HBox(children=(IntProgress(value=0, description='Epoch', max=1), HTML(value='')))"
      ]
     },
     "metadata": {},
     "output_type": "display_data"
    },
    {
     "name": "stdout",
     "output_type": "stream",
     "text": [
      "epoch      trn_loss   val_loss                              \n",
      "    0      10.172707  54.238545 \n"
     ]
    }
   ],
   "source": [
    "learner.lr_find()"
   ]
  },
  {
   "cell_type": "code",
   "execution_count": 338,
   "metadata": {},
   "outputs": [
    {
     "data": {
      "image/png": "[encoded data removed]",
      "text/plain": [
       "<Figure size 432x288 with 1 Axes>"
      ]
     },
     "metadata": {},
     "output_type": "display_data"
    }
   ],
   "source": [
    "learner.sched.plot()"
   ]
  },
  {
   "cell_type": "code",
   "execution_count": 339,
   "metadata": {},
   "outputs": [
    {
     "data": {
      "application/vnd.jupyter.widget-view+json": {
       "model_id": "dd853a0f448d407aade8d7123e2448db",
       "version_major": 2,
       "version_minor": 0
      },
      "text/plain": [
       "HBox(children=(IntProgress(value=0, description='Epoch', max=13), HTML(value='')))"
      ]
     },
     "metadata": {},
     "output_type": "display_data"
    },
    {
     "name": "stdout",
     "output_type": "stream",
     "text": [
      "epoch      trn_loss   val_loss   accuracy                    \n",
      "    0      0.642714   0.664135   0.704802  \n",
      "    1      0.590536   0.958193   0.293584                    \n",
      "    2      0.587968   0.612797   0.703138                    \n",
      "    3      0.579308   0.803199   0.464033                    \n",
      "    4      0.557207   0.715474   0.60679                     \n",
      "    5      0.535623   0.637085   0.653148                    \n",
      "    6      0.503278   0.558036   0.720642                    \n",
      "    7      0.464245   0.554885   0.728965                    \n",
      "    8      0.45296    0.534932   0.744149                    \n",
      "    9      0.45852    0.532461   0.717514                    \n",
      "    10     0.407448   0.551546   0.754843                    \n",
      "    11     0.437047   0.818363   0.615365                    \n",
      "    12     0.393547   0.673225   0.735472                    \n"
     ]
    },
    {
     "data": {
      "text/plain": [
       "[array([0.67323]), 0.7354721549636803]"
      ]
     },
     "execution_count": 339,
     "metadata": {},
     "output_type": "execute_result"
    }
   ],
   "source": [
    "learner.fit(0.1, 3, metrics=[accuracy], cycle_mult=3)"
   ]
  },
  {
   "cell_type": "code",
   "execution_count": 340,
   "metadata": {},
   "outputs": [
    {
     "data": {
      "application/vnd.jupyter.widget-view+json": {
       "model_id": "cee664ae2eab408e816f4ae4bb7d8623",
       "version_major": 2,
       "version_minor": 0
      },
      "text/plain": [
       "HBox(children=(IntProgress(value=0, description='Epoch', max=13), HTML(value='')))"
      ]
     },
     "metadata": {},
     "output_type": "display_data"
    },
    {
     "name": "stdout",
     "output_type": "stream",
     "text": [
      "epoch      trn_loss   val_loss   accuracy                    \n",
      "    0      0.336083   0.588867   0.765234  \n",
      "    1      0.299134   0.682336   0.766646                    \n",
      "    2      0.274451   0.688969   0.772296                    \n",
      "    3      0.237138   0.760314   0.768261                    \n",
      "    4      0.2239     0.69131    0.786168                    \n",
      "    5      0.165534   0.848869   0.774617                    \n",
      "    6      0.140051   0.887794   0.748234                     \n",
      "    7      0.123986   0.858684   0.769471                     \n",
      "    8      0.121634   0.877789   0.777038                     \n",
      "    9      0.111991   0.986204   0.774314                     \n",
      "    10     0.089316   1.019616   0.772952                     \n",
      "    11     0.066097   1.050458   0.782536                     \n",
      "    12     0.059231   1.125723   0.752522                     \n"
     ]
    },
    {
     "data": {
      "text/plain": [
       "[array([1.12572]), 0.7525221953188055]"
      ]
     },
     "execution_count": 340,
     "metadata": {},
     "output_type": "execute_result"
    }
   ],
   "source": [
    "learner.fit(0.1, 3, metrics=[accuracy], cycle_mult=3)"
   ]
  },
  {
   "cell_type": "markdown",
   "metadata": {},
   "source": [
    "### Use the Fast.ai RNN classifier"
   ]
  },
  {
   "cell_type": "markdown",
   "metadata": {},
   "source": [
    "The TextData has it's own model, let's try that."
   ]
  },
  {
   "cell_type": "code",
   "execution_count": 343,
   "metadata": {},
   "outputs": [],
   "source": [
    "opt_fn = partial(torch.optim.Adam, betas=(0.7, 0.99))"
   ]
  },
  {
   "cell_type": "code",
   "execution_count": 347,
   "metadata": {},
   "outputs": [],
   "source": [
    "bs = 64\n",
    "bptt = 70\n",
    "em_sz = 200\n",
    "nh = 500\n",
    "nl = 3"
   ]
  },
  {
   "cell_type": "code",
   "execution_count": 350,
   "metadata": {},
   "outputs": [],
   "source": [
    "learner = text_data.get_model(\n",
    "    opt_fn, 1500, bptt, emb_sz=em_sz, n_hid=nh, n_layers=nl, \n",
    "    dropout=0.1, dropouti=0.4, wdrop=0.5, dropoute=0.05, dropouth=0.3)"
   ]
  },
  {
   "cell_type": "code",
   "execution_count": 351,
   "metadata": {},
   "outputs": [],
   "source": [
    "learner.reg_fn = partial(seq2seq_reg, alpha=2, beta=1)\n",
    "learner.clip = 0.3"
   ]
  },
  {
   "cell_type": "code",
   "execution_count": 353,
   "metadata": {},
   "outputs": [
    {
     "data": {
      "application/vnd.jupyter.widget-view+json": {
       "model_id": "d9a00d87417b42629523ed12365dc462",
       "version_major": 2,
       "version_minor": 0
      },
      "text/plain": [
       "HBox(children=(IntProgress(value=0, description='Epoch', max=15), HTML(value='')))"
      ]
     },
     "metadata": {},
     "output_type": "display_data"
    },
    {
     "name": "stdout",
     "output_type": "stream",
     "text": [
      "epoch      trn_loss   val_loss   accuracy                    \n",
      "    0      0.443257   0.441434   0.799839  \n",
      "    1      0.400259   0.442425   0.810079                    \n",
      "    2      0.230633   0.489648   0.814064                    \n",
      "    3      0.285576   0.551397   0.791969                    \n",
      "    4      0.180654   0.557323   0.806346                    \n",
      "    5      0.093521   0.695915   0.819713                     \n",
      "    6      0.062698   0.712635   0.811188                     \n",
      "    7      0.136172   0.685649   0.796459                    \n",
      "    8      0.127845   0.760456   0.808464                    \n",
      "    9      0.112893   0.684406   0.801049                     \n",
      "    10     0.065658   0.868925   0.802008                     \n",
      "    11     0.058279   0.936511   0.812096                     \n",
      "    12     0.04041    0.980632   0.804126                     \n",
      "    13     0.025297   0.946414   0.802008                     \n",
      "    14     0.029456   0.958428   0.802411                     \n"
     ]
    },
    {
     "data": {
      "text/plain": [
       "[array([0.95843]), 0.802411218724778]"
      ]
     },
     "execution_count": 353,
     "metadata": {},
     "output_type": "execute_result"
    }
   ],
   "source": [
    "learner.fit(3e-3, 4, wds=1e-6, cycle_len=1, cycle_mult=2, metrics=[accuracy])"
   ]
  },
  {
   "cell_type": "markdown",
   "metadata": {},
   "source": [
    "## Making test predictions"
   ]
  },
  {
   "cell_type": "markdown",
   "metadata": {},
   "source": [
    "Though the dataset is quite small, it still might just be big enough for us to train a useful word model"
   ]
  }
 ],
 "metadata": {
  "kernelspec": {
   "display_name": "Python 3",
   "language": "python",
   "name": "python3"
  },
  "language_info": {
   "codemirror_mode": {
    "name": "ipython",
    "version": 3
   },
   "file_extension": ".py",
   "mimetype": "text/x-python",
   "name": "python",
   "nbconvert_exporter": "python",
   "pygments_lexer": "ipython3",
   "version": "3.6.4"
  }
 },
 "nbformat": 4,
 "nbformat_minor": 2
}
