{
 "cells": [
  {
   "cell_type": "markdown",
   "metadata": {},
   "source": [
    "# Audio Signal Processing"
   ]
  },
  {
   "cell_type": "markdown",
   "metadata": {},
   "source": [
    "## Introduction to Audio Signal Processing"
   ]
  },
  {
   "cell_type": "markdown",
   "metadata": {},
   "source": [
    "### Overview\n",
    "\n",
    "* What is audio signal processing?\n",
    "* Applications of signal processing:\n",
    "  * Storage\n",
    "  * Data compression\n",
    "  * Effects and transformations\n",
    "  * Synthesis"
   ]
  },
  {
   "cell_type": "markdown",
   "metadata": {},
   "source": [
    "### What is audio signal processing?\n",
    "\n",
    "* \"audio signal processing is an engineering field that focuses on the computational methods for intentionally altering sound\"\n",
    "* Concept of an audio signal system can take some signal input and generate a modified signal output.\n",
    "* Can be analog or digitial.\n",
    "\n",
    "### Analog v Digital\n",
    "\n",
    "#### Analog\n",
    "\n",
    "* Analog processors operate directly on the electrical signals.\n",
    "* Voltage level represents the air pressure waveform the sound.\n",
    "* Continuous function.\n",
    "\n",
    "\n",
    "#### Digital\n",
    "\n",
    "* Digital represents the pressure waveform as binary numbers and therefore becomes discreet.\n",
    "  * Discretness would definitely take away some information."
   ]
  },
  {
   "cell_type": "markdown",
   "metadata": {},
   "source": [
    "### Common applications"
   ]
  },
  {
   "cell_type": "markdown",
   "metadata": {},
   "source": [
    "### Storage\n",
    "\n",
    "* Requires their recording and representation.\n",
    "* Sound waves can be recorded as electrial or mechanical inscriptions in a media, and can be recreatd from these inscriptions\n",
    "* That's a very interesting way of putting it.\n",
    "* CDs on the other hands encode a digital representation of the signal.\n",
    "  \n",
    "### Compression\n",
    "\n",
    "* Lossless: no information is lost from the original digital signal.\n",
    "* Lossy: some information is lost.\n",
    "  * Idea is that the information is not perceptually relevant.\n",
    "  * WAV to MP3 involves an audio corer: perceptually audio coder.\n",
    "  \n",
    "### Transformations\n",
    "\n",
    "* Effects and other post-processing techniques\n",
    "    * Echo, equalizer, flanger, phaser, chorus, pitch shift, time stretching, voice effects, 3d audio effects, morphing etc.\n",
    "    \n",
    "### Synthesis\n",
    "\n",
    "* Subtractive synthesis: start from rich sound and filter out components to create new sound.\n",
    "* FM synthesis: modulate frequency of an ossciator by another one.\n",
    "* Additive synthesis: add osciallators to create complex sounds out of simple ones.\n",
    "* Many other synthesis techniques: granular sythensis, physical modelling.\n",
    "\n",
    "### Description\n",
    "\n",
    "* Techniques for describing and classifying music.\n",
    "* Low-level: loudness, timbre, pitch.\n",
    "* Mid-level: rhythm, harmony, melody\n",
    "* High-level: genre, emotions, similarity."
   ]
  },
  {
   "cell_type": "markdown",
   "metadata": {},
   "source": [
    "## Course outline\n",
    "\n",
    "1. Introduction (this part)\n",
    "  * Intro to Audio Signal Processing.\n",
    "  * Course outline\n",
    "  * Basic maths\n",
    "  \n",
    "2. Discrete fourier transform\n",
    "  * DFT equation\n",
    "  * Complex exponentials\n",
    "  * Scalar product in the DFT\n",
    "  * DFT of complex sinusoids\n",
    "  * DFT of real sinusoids\n",
    "  * Inverse-DFT\n",
    "  \n",
    "3. Fourier transform properties\n",
    "  * Linearity, shift, symmetry, convolution\n",
    "  * Energy conservation and decibels\n",
    "  * Phase unwrapping, zero padding\n",
    "  * Fast fourier transform (FFT)\n",
    "  * FFT and zero-phase windowing\n",
    "  * Analysis / synthesis\n",
    "  \n",
    "4. Short-time fourier transform\n",
    "  * STFT equation\n",
    "  * Analysis window\n",
    "  * FFT size and Hop size\n",
    "  * Time-frequency compromise\n",
    "  * Inverse STFT\n",
    "  \n",
    "5. Sinusoidal model\n",
    "  * Sinusoidal model equation\n",
    "  * Sinewaves in a spectrum\n",
    "  * Sinewaves as spectral peaks\n",
    "  * Time-varying sinewaves in spectrogram\n",
    "  * Sinusoidal synthesis\n",
    "  \n",
    "6. Harmonic model\n",
    "  * Harmonic model equation\n",
    "  * Sinusoids-partials-harmonics\n",
    "  * Monophonic/polyphonic signals\n",
    "  * Harmonic detection\n",
    "  * Fundamental frequency detection\n",
    "  \n",
    "7. Sinusoidal plus residual modeling\n",
    "  * Stochastic model\n",
    "  * Stochastic approxmiation of sounds\n",
    "  * Sinusoidal/harmonic plus residual mdoel\n",
    "  * Residual subtraction\n",
    "  * Sinusoidal/harmonic plus stochastic model\n",
    "  * Stochastic model of residual\n",
    "  \n",
    "8. Sound transformations\n",
    "  * Short-time Fourier transform\n",
    "    * Filtering; morphing\n",
    "  * Sinusoidal mdoel\n",
    "    * Time and frequency scaling\n",
    "  * Harmonic plus residual model\n",
    "    * Pitch transposition\n",
    "  * Harmonic plus stochastic model\n",
    "    * Time stretching; morphing\n",
    "    \n",
    "9. Sound/music description\n",
    "  * Spectral-based audio features\n",
    "  * Description of sound/music events and collections\n",
    "  \n",
    "10. Concluding topics\n",
    "  * Review of class\n",
    "  * Beyond audio signal processing for music applications"
   ]
  },
  {
   "cell_type": "markdown",
   "metadata": {},
   "source": [
    "## Some basic mathematics\n",
    "\n",
    "* For this course, sounds are discreet signals so background on discreet is required.\n",
    "* Sinusoidal functions.\n",
    "* Complex numbers.\n",
    "* Euler's forula\n",
    "* Complex sinusoids\n",
    "* Scalar product of sequences\n",
    "* Even and odd function\n",
    "* Convolution\n",
    "\n",
    "### Sinusoidal functions (sinewaves)\n",
    "\n",
    "* Mathmatical function that describes a smooth repetitive oscillation.\n",
    "\n",
    "    \\$ x[n] = A \\cos(\\omega nT + \\phi) = A cos(2 \\pi fnT + \\alpha)\\$\n",
    "\n",
    "* \\$A\\$: amplitude\n",
    "  * (?) Range of the function: min = -A, max = A.\n",
    "* \\$\\omega\\$: angular frequency in radians/seconds\n",
    "* \\$f=\\omega/2\\pi\\$: frequency in Hertz (cycles/seconds)\n",
    "  * To convert \\$\\omega\\$ into Hertz you divide by \\$2\\pi\\$\n",
    "* \\$\\phi\\$: initial phase in radians\n",
    "* \\$n\\$: time index\n",
    "* \\$T=1/f s\\$: sampling period in seconds(\\$t = nT = n/fs\\$)"
   ]
  },
  {
   "cell_type": "code",
   "execution_count": 2,
   "metadata": {},
   "outputs": [],
   "source": [
    "import numpy as np\n",
    "import matplotlib.pyplot as plt\n",
    "\n",
    "A = .8   # amplitude\n",
    "f0 = 1000   # frequency = 100 hertz\n",
    "phi = np.pi / 2   # phase at time 0 \n",
    "fs = 44100    # samples per second\n",
    "t = np.arange(-.002, .002, 1.0 / fs)    # generate time array from -0.002 secs to .002 secs, sampled at fs.\n",
    "x = A * np.cos(2 * np.pi * f0 * t + phi)    # generate sine wave."
   ]
  },
  {
   "cell_type": "code",
   "execution_count": 3,
   "metadata": {},
   "outputs": [
    {
     "data": {
      "text/plain": [
       "[<matplotlib.lines.Line2D at 0x1174fcd10>]"
      ]
     },
     "execution_count": 3,
     "metadata": {},
     "output_type": "execute_result"
    },
    {
     "data": {
      "image/png": "[encoded data removed]",
      "text/plain": [
       "<Figure size 432x288 with 1 Axes>"
      ]
     },
     "metadata": {
      "needs_background": "light"
     },
     "output_type": "display_data"
    }
   ],
   "source": [
    "plt.plot(x)"
   ]
  },
  {
   "cell_type": "markdown",
   "metadata": {},
   "source": [
    "### Complex numbers\n",
    "\n",
    "* Numbers built off two parts: one part real, one part \"imaginary\"\n",
    "\n",
    "* \\$(a+jb)\\$\n",
    "  * \\$a,b\\$: real numbers\n",
    "  * \\$j=\\sqrt{-1}\\$: imaginary unit used to multiple second number to get imaginary units.\n",
    "  \n",
    "* Normally represented in the complex plane.\n",
    "\n",
    "#### Rectangular form\n",
    "\n",
    "* In the rectangular form, real value is plotted on horizontal and vertical access.\n",
    "* Intersection of these 2 values, is the actual complex number.\n",
    "\n",
    "![Rectangular form](images/rectangular-form.png \"Rectangular form\")\n",
    "\n",
    "#### Polar form\n",
    "\n",
    "* Consider complex numbers as the \"tip\" of a vector with origin (0,0).\n",
    "  * Therefore: has a magnitude A computed as the square root of the sum of the squares: \\$A=\\sqrt{a^2+b^2}\\$\n",
    "  * Has an angle, that can be computed as inverse tangent of b/a \\$\\phi = atan2(\\frac{b}{a})\\$\n",
    "  * Makes sum and multiplication operations of complex numbers more intuitive.\n",
    "  \n",
    "![Polar form](images/polar-form.png \"Polar form\")"
   ]
  },
  {
   "cell_type": "markdown",
   "metadata": {},
   "source": [
    "### Euler's formula\n",
    "\n",
    "* Establishes a relationship between rectangular and polar co-ordinates of a complex number\n",
    "* \\$e^{j\\phi}=\\cos\\phi+j\\sin\\phi\\$\n",
    "* We can obtain values in both directions:\n",
    "  * \\$\\cos\\phi=\\frac{e^{j\\phi}+e^{-j\\phi}}{2}\\$\n",
    "  * \\$\\sin\\phi=\\frac{e^{j\\phi}-e^{-j\\phi}}{2j}\\$"
   ]
  },
  {
   "cell_type": "markdown",
   "metadata": {},
   "source": [
    "### Complex sinewaves\n",
    "\n",
    "* Need to come back and revisit this. Not clear at all."
   ]
  },
  {
   "cell_type": "markdown",
   "metadata": {},
   "source": [
    "### Scalar (dot) product of sequences\n",
    "\n",
    "* \\$<x, y>=\\sum{x[n]y*[n]}\\$"
   ]
  },
  {
   "cell_type": "markdown",
   "metadata": {},
   "source": [
    "### Orthogonality of sequences\n",
    "\n",
    "* Dot product is equal to 0.\n",
    "\n",
    "### Even and odd functions\n",
    "\n",
    "* f[n] is even if f[-n] = f[n] (symmetric)\n",
    "* f[n] is odd if f[-n] = -f[n] (antisymmetric)\n",
    "\n",
    "### Convolution\n",
    "\n",
    "* Can take two \"sharp\" functions and implement a smooth one.\n",
    "* Use for filtering amongst other things."
   ]
  },
  {
   "cell_type": "markdown",
   "metadata": {},
   "source": [
    "## Introduction to Audacity"
   ]
  },
  {
   "cell_type": "markdown",
   "metadata": {},
   "source": [
    "* Load audio via File > Open."
   ]
  },
  {
   "cell_type": "markdown",
   "metadata": {},
   "source": [
    "* Loaded clips are summarised in left-hand corner. The default bit depth is 32-bit float - Audacity converts any other bit depth if necessary.\n",
    "\n",
    "![Audacity clip](images/audacity-clip-summary.png \"Audacity clip\")\n",
    "\n",
    "* Optional spectogram visualisation is also available for viewing frequency importance.\n",
    "\n",
    "* Under `Effect` there's a whole lot of transformations that are available and many more are available."
   ]
  },
  {
   "cell_type": "markdown",
   "metadata": {},
   "source": [
    "## Introduction to SonicVisualizer\n",
    "\n",
    "* More oriented to research and has capabilitilies for analyzing and visualizing advanced aspects of sound.\n",
    "* Has concept of \"layers\" on top of spectograms, which are additional visualisations for understanding sound."
   ]
  },
  {
   "cell_type": "markdown",
   "metadata": {},
   "source": [
    "## Introduction to sms-tools"
   ]
  },
  {
   "cell_type": "markdown",
   "metadata": {},
   "source": [
    "## Python and sounds"
   ]
  },
  {
   "cell_type": "code",
   "execution_count": 1,
   "metadata": {},
   "outputs": [],
   "source": [
    "from scipy.io.wavfile import read"
   ]
  },
  {
   "cell_type": "code",
   "execution_count": 3,
   "metadata": {},
   "outputs": [
    {
     "name": "stderr",
     "output_type": "stream",
     "text": [
      "/Users/lextoumbourou/code/study-notes/moocs/coursera/audio-signal-processing/.venv/lib/python3.7/site-packages/ipykernel_launcher.py:1: WavFileWarning: Chunk (non-data) not understood, skipping it.\n",
      "  \"\"\"Entry point for launching an IPython kernel.\n"
     ]
    }
   ],
   "source": [
    "(fs, x) = read('./sounds/503138__mattix__curiosity.wav')"
   ]
  },
  {
   "cell_type": "code",
   "execution_count": 10,
   "metadata": {},
   "outputs": [
    {
     "name": "stdout",
     "output_type": "stream",
     "text": [
      "44100 <class 'int'>\n"
     ]
    }
   ],
   "source": [
    "print(fs, type(fs))"
   ]
  },
  {
   "cell_type": "code",
   "execution_count": 11,
   "metadata": {},
   "outputs": [
    {
     "data": {
      "text/plain": [
       "(1410980, 2)"
      ]
     },
     "execution_count": 11,
     "metadata": {},
     "output_type": "execute_result"
    }
   ],
   "source": [
    "x.shape"
   ]
  },
  {
   "cell_type": "markdown",
   "metadata": {},
   "source": [
    "How many seconds the clip is:"
   ]
  },
  {
   "cell_type": "code",
   "execution_count": 12,
   "metadata": {},
   "outputs": [
    {
     "data": {
      "text/plain": [
       "31.99501133786848"
      ]
     },
     "execution_count": 12,
     "metadata": {},
     "output_type": "execute_result"
    }
   ],
   "source": [
    "x.shape[0] / fs"
   ]
  },
  {
   "cell_type": "markdown",
   "metadata": {},
   "source": [
    "To plot the sound:"
   ]
  },
  {
   "cell_type": "code",
   "execution_count": 13,
   "metadata": {},
   "outputs": [],
   "source": [
    "import matplotlib.pyplot as plt"
   ]
  },
  {
   "cell_type": "code",
   "execution_count": 14,
   "metadata": {},
   "outputs": [
    {
     "data": {
      "text/plain": [
       "[<matplotlib.lines.Line2D at 0x116347250>,\n",
       " <matplotlib.lines.Line2D at 0x1163474d0>]"
      ]
     },
     "execution_count": 14,
     "metadata": {},
     "output_type": "execute_result"
    },
    {
     "data": {
      "image/png": "[encoded data removed]",
      "text/plain": [
       "<Figure size 432x288 with 1 Axes>"
      ]
     },
     "metadata": {
      "needs_background": "light"
     },
     "output_type": "display_data"
    }
   ],
   "source": [
    "plt.plot(x)"
   ]
  },
  {
   "cell_type": "markdown",
   "metadata": {},
   "source": [
    "To visualise the time axis in seconds:"
   ]
  },
  {
   "cell_type": "code",
   "execution_count": 16,
   "metadata": {},
   "outputs": [],
   "source": [
    "import numpy as np"
   ]
  },
  {
   "cell_type": "code",
   "execution_count": 38,
   "metadata": {},
   "outputs": [],
   "source": [
    "t = np.arange(x.shape[0]) / fs"
   ]
  },
  {
   "cell_type": "code",
   "execution_count": 39,
   "metadata": {},
   "outputs": [
    {
     "data": {
      "text/plain": [
       "array([0.00000000e+00, 2.26757370e-05, 4.53514739e-05, ...,\n",
       "       3.19949433e+01, 3.19949660e+01, 3.19949887e+01])"
      ]
     },
     "execution_count": 39,
     "metadata": {},
     "output_type": "execute_result"
    }
   ],
   "source": [
    "t"
   ]
  },
  {
   "cell_type": "code",
   "execution_count": 40,
   "metadata": {},
   "outputs": [
    {
     "data": {
      "text/plain": [
       "[<matplotlib.lines.Line2D at 0x116fc56d0>]"
      ]
     },
     "execution_count": 40,
     "metadata": {},
     "output_type": "execute_result"
    },
    {
     "data": {
      "image/png": "[encoded data removed]",
      "text/plain": [
       "<Figure size 432x288 with 1 Axes>"
      ]
     },
     "metadata": {
      "needs_background": "light"
     },
     "output_type": "display_data"
    }
   ],
   "source": [
    "plt.plot(t, x[:,0])"
   ]
  },
  {
   "cell_type": "markdown",
   "metadata": {},
   "source": [
    "To plot only part of the sound:"
   ]
  },
  {
   "cell_type": "code",
   "execution_count": 41,
   "metadata": {},
   "outputs": [],
   "source": [
    "y = x[44100:45100]"
   ]
  },
  {
   "cell_type": "code",
   "execution_count": 42,
   "metadata": {},
   "outputs": [
    {
     "data": {
      "text/plain": [
       "[<matplotlib.lines.Line2D at 0x116e3c250>,\n",
       " <matplotlib.lines.Line2D at 0x116e3c450>]"
      ]
     },
     "execution_count": 42,
     "metadata": {},
     "output_type": "execute_result"
    },
    {
     "data": {
      "image/png": "[encoded data removed]",
      "text/plain": [
       "<Figure size 432x288 with 1 Axes>"
      ]
     },
     "metadata": {
      "needs_background": "light"
     },
     "output_type": "display_data"
    }
   ],
   "source": [
    "plt.plot(y)"
   ]
  },
  {
   "cell_type": "markdown",
   "metadata": {},
   "source": [
    "To find the abs maximum of the array:"
   ]
  },
  {
   "cell_type": "code",
   "execution_count": 44,
   "metadata": {},
   "outputs": [
    {
     "data": {
      "text/plain": [
       "3503"
      ]
     },
     "execution_count": 44,
     "metadata": {},
     "output_type": "execute_result"
    }
   ],
   "source": [
    "np.max(abs(y))"
   ]
  },
  {
   "cell_type": "code",
   "execution_count": 45,
   "metadata": {},
   "outputs": [
    {
     "data": {
      "text/plain": [
       "3492"
      ]
     },
     "execution_count": 45,
     "metadata": {},
     "output_type": "execute_result"
    }
   ],
   "source": [
    "np.max(y)"
   ]
  },
  {
   "cell_type": "markdown",
   "metadata": {},
   "source": [
    "Can sum all the samples of an array:"
   ]
  },
  {
   "cell_type": "code",
   "execution_count": 47,
   "metadata": {},
   "outputs": [
    {
     "data": {
      "text/plain": [
       "4145917"
      ]
     },
     "execution_count": 47,
     "metadata": {},
     "output_type": "execute_result"
    }
   ],
   "source": [
    "np.sum(abs(y))"
   ]
  },
  {
   "cell_type": "markdown",
   "metadata": {},
   "source": [
    "To write a sound:"
   ]
  },
  {
   "cell_type": "code",
   "execution_count": 48,
   "metadata": {},
   "outputs": [],
   "source": [
    "from scipy.io.wavfile import write"
   ]
  },
  {
   "cell_type": "code",
   "execution_count": 49,
   "metadata": {},
   "outputs": [],
   "source": [
    "write('test.wav', fs, y)"
   ]
  },
  {
   "cell_type": "code",
   "execution_count": 50,
   "metadata": {},
   "outputs": [
    {
     "name": "stdout",
     "output_type": "stream",
     "text": [
      "total 264\r\n",
      "-rw-r--r--  1 lextoumbourou  staff     141 20 Jan 08:19 README.md\r\n",
      "-rw-r--r--  1 lextoumbourou  staff  115164 21 Jan 23:31 audio-signal-processing.ipynb\r\n",
      "drwxr-xr-x  6 lextoumbourou  staff     192 21 Jan 22:43 \u001b[34mimages\u001b[m\u001b[m\r\n",
      "-rw-r--r--  1 lextoumbourou  staff    7410 18 Jan 23:51 md\r\n",
      "drwxr-xr-x  3 lextoumbourou  staff      96 21 Jan 23:23 \u001b[34msounds\u001b[m\u001b[m\r\n",
      "-rw-r--r--  1 lextoumbourou  staff    4044 21 Jan 23:33 test.wav\r\n"
     ]
    }
   ],
   "source": [
    "!ls -l"
   ]
  },
  {
   "cell_type": "code",
   "execution_count": null,
   "metadata": {},
   "outputs": [],
   "source": []
  }
 ],
 "metadata": {
  "kernelspec": {
   "display_name": "Python 3",
   "language": "python",
   "name": "python3"
  },
  "toc": {
   "base_numbering": 1,
   "nav_menu": {},
   "number_sections": true,
   "sideBar": true,
   "skip_h1_title": false,
   "title_cell": "Table of Contents",
   "title_sidebar": "Contents",
   "toc_cell": false,
   "toc_position": {},
   "toc_section_display": true,
   "toc_window_display": false
  }
 },
 "nbformat": 4,
 "nbformat_minor": 4
}
