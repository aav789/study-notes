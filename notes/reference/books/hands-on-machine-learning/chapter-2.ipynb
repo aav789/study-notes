{
 "cells": [
  {
   "cell_type": "code",
   "execution_count": 1,
   "metadata": {
    "collapsed": true,
    "deletable": true,
    "editable": true
   },
   "outputs": [],
   "source": [
    "import os\n",
    "import tarfile\n",
    "import urllib.request\n",
    "\n",
    "DOWNLOAD_ROOT = \"https://raw.githubusercontent.com/ageron/handson-ml/master/\"\n",
    "HOUSING_PATH = \"datasets/housing\"\n",
    "HOUSING_URL = DOWNLOAD_ROOT + HOUSING_PATH + \"/housing.tgz\"\n",
    "\n",
    "def fetch_housing_data(housing_url=HOUSING_URL, housing_path=HOUSING_PATH):\n",
    "    os.makedirs(housing_path, exist_ok=True)\n",
    "    tgz_path = os.path.join(housing_path, \"housing.tgz\")\n",
    "    urllib.request.urlretrieve(housing_url, tgz_path)\n",
    "    housing_tgz = tarfile.open(tgz_path)\n",
    "    housing_tgz.extractall(path=housing_path)\n",
    "    housing_tgz.close()"
   ]
  },
  {
   "cell_type": "code",
   "execution_count": 2,
   "metadata": {
    "collapsed": true,
    "deletable": true,
    "editable": true
   },
   "outputs": [],
   "source": [
    "fetch_housing_data()"
   ]
  },
  {
   "cell_type": "code",
   "execution_count": 3,
   "metadata": {
    "collapsed": false,
    "deletable": true,
    "editable": true
   },
   "outputs": [],
   "source": [
    "import pandas as pd\n",
    "\n",
    "def load_housing_data(housing_path=HOUSING_PATH):\n",
    "    csv_path = os.path.join(housing_path, \"housing.csv\")\n",
    "    return pd.read_csv(csv_path)"
   ]
  },
  {
   "cell_type": "code",
   "execution_count": 4,
   "metadata": {
    "collapsed": false,
    "deletable": true,
    "editable": true
   },
   "outputs": [
    {
     "data": {
      "text/html": [
       "<div>\n",
       "<table border=\"1\" class=\"dataframe\">\n",
       "  <thead>\n",
       "    <tr style=\"text-align: right;\">\n",
       "      <th></th>\n",
       "      <th>longitude</th>\n",
       "      <th>latitude</th>\n",
       "      <th>housing_median_age</th>\n",
       "      <th>total_rooms</th>\n",
       "      <th>total_bedrooms</th>\n",
       "      <th>population</th>\n",
       "      <th>households</th>\n",
       "      <th>median_income</th>\n",
       "      <th>median_house_value</th>\n",
       "      <th>ocean_proximity</th>\n",
       "    </tr>\n",
       "  </thead>\n",
       "  <tbody>\n",
       "    <tr>\n",
       "      <th>0</th>\n",
       "      <td>-122.23</td>\n",
       "      <td>37.88</td>\n",
       "      <td>41.0</td>\n",
       "      <td>880.0</td>\n",
       "      <td>129.0</td>\n",
       "      <td>322.0</td>\n",
       "      <td>126.0</td>\n",
       "      <td>8.3252</td>\n",
       "      <td>452600.0</td>\n",
       "      <td>NEAR BAY</td>\n",
       "    </tr>\n",
       "    <tr>\n",
       "      <th>1</th>\n",
       "      <td>-122.22</td>\n",
       "      <td>37.86</td>\n",
       "      <td>21.0</td>\n",
       "      <td>7099.0</td>\n",
       "      <td>1106.0</td>\n",
       "      <td>2401.0</td>\n",
       "      <td>1138.0</td>\n",
       "      <td>8.3014</td>\n",
       "      <td>358500.0</td>\n",
       "      <td>NEAR BAY</td>\n",
       "    </tr>\n",
       "    <tr>\n",
       "      <th>2</th>\n",
       "      <td>-122.24</td>\n",
       "      <td>37.85</td>\n",
       "      <td>52.0</td>\n",
       "      <td>1467.0</td>\n",
       "      <td>190.0</td>\n",
       "      <td>496.0</td>\n",
       "      <td>177.0</td>\n",
       "      <td>7.2574</td>\n",
       "      <td>352100.0</td>\n",
       "      <td>NEAR BAY</td>\n",
       "    </tr>\n",
       "    <tr>\n",
       "      <th>3</th>\n",
       "      <td>-122.25</td>\n",
       "      <td>37.85</td>\n",
       "      <td>52.0</td>\n",
       "      <td>1274.0</td>\n",
       "      <td>235.0</td>\n",
       "      <td>558.0</td>\n",
       "      <td>219.0</td>\n",
       "      <td>5.6431</td>\n",
       "      <td>341300.0</td>\n",
       "      <td>NEAR BAY</td>\n",
       "    </tr>\n",
       "    <tr>\n",
       "      <th>4</th>\n",
       "      <td>-122.25</td>\n",
       "      <td>37.85</td>\n",
       "      <td>52.0</td>\n",
       "      <td>1627.0</td>\n",
       "      <td>280.0</td>\n",
       "      <td>565.0</td>\n",
       "      <td>259.0</td>\n",
       "      <td>3.8462</td>\n",
       "      <td>342200.0</td>\n",
       "      <td>NEAR BAY</td>\n",
       "    </tr>\n",
       "  </tbody>\n",
       "</table>\n",
       "</div>"
      ],
      "text/plain": [
       "   longitude  latitude  housing_median_age  total_rooms  total_bedrooms  \\\n",
       "0    -122.23     37.88                41.0        880.0           129.0   \n",
       "1    -122.22     37.86                21.0       7099.0          1106.0   \n",
       "2    -122.24     37.85                52.0       1467.0           190.0   \n",
       "3    -122.25     37.85                52.0       1274.0           235.0   \n",
       "4    -122.25     37.85                52.0       1627.0           280.0   \n",
       "\n",
       "   population  households  median_income  median_house_value ocean_proximity  \n",
       "0       322.0       126.0         8.3252            452600.0        NEAR BAY  \n",
       "1      2401.0      1138.0         8.3014            358500.0        NEAR BAY  \n",
       "2       496.0       177.0         7.2574            352100.0        NEAR BAY  \n",
       "3       558.0       219.0         5.6431            341300.0        NEAR BAY  \n",
       "4       565.0       259.0         3.8462            342200.0        NEAR BAY  "
      ]
     },
     "execution_count": 4,
     "metadata": {},
     "output_type": "execute_result"
    }
   ],
   "source": [
    "housing = load_housing_data()\n",
    "housing.head()"
   ]
  },
  {
   "cell_type": "code",
   "execution_count": 5,
   "metadata": {
    "collapsed": false,
    "deletable": true,
    "editable": true
   },
   "outputs": [
    {
     "name": "stdout",
     "output_type": "stream",
     "text": [
      "<class 'pandas.core.frame.DataFrame'>\n",
      "RangeIndex: 20640 entries, 0 to 20639\n",
      "Data columns (total 10 columns):\n",
      "longitude             20640 non-null float64\n",
      "latitude              20640 non-null float64\n",
      "housing_median_age    20640 non-null float64\n",
      "total_rooms           20640 non-null float64\n",
      "total_bedrooms        20433 non-null float64\n",
      "population            20640 non-null float64\n",
      "households            20640 non-null float64\n",
      "median_income         20640 non-null float64\n",
      "median_house_value    20640 non-null float64\n",
      "ocean_proximity       20640 non-null object\n",
      "dtypes: float64(9), object(1)\n",
      "memory usage: 1.6+ MB\n"
     ]
    }
   ],
   "source": [
    "housing.info()"
   ]
  },
  {
   "cell_type": "code",
   "execution_count": 6,
   "metadata": {
    "collapsed": false,
    "deletable": true,
    "editable": true
   },
   "outputs": [
    {
     "data": {
      "text/plain": [
       "<1H OCEAN     9136\n",
       "INLAND        6551\n",
       "NEAR OCEAN    2658\n",
       "NEAR BAY      2290\n",
       "ISLAND           5\n",
       "Name: ocean_proximity, dtype: int64"
      ]
     },
     "execution_count": 6,
     "metadata": {},
     "output_type": "execute_result"
    }
   ],
   "source": [
    "housing[\"ocean_proximity\"].value_counts()"
   ]
  },
  {
   "cell_type": "code",
   "execution_count": 7,
   "metadata": {
    "collapsed": false,
    "deletable": true,
    "editable": true
   },
   "outputs": [
    {
     "data": {
      "text/html": [
       "<div>\n",
       "<table border=\"1\" class=\"dataframe\">\n",
       "  <thead>\n",
       "    <tr style=\"text-align: right;\">\n",
       "      <th></th>\n",
       "      <th>longitude</th>\n",
       "      <th>latitude</th>\n",
       "      <th>housing_median_age</th>\n",
       "      <th>total_rooms</th>\n",
       "      <th>total_bedrooms</th>\n",
       "      <th>population</th>\n",
       "      <th>households</th>\n",
       "      <th>median_income</th>\n",
       "      <th>median_house_value</th>\n",
       "    </tr>\n",
       "  </thead>\n",
       "  <tbody>\n",
       "    <tr>\n",
       "      <th>count</th>\n",
       "      <td>20640.000000</td>\n",
       "      <td>20640.000000</td>\n",
       "      <td>20640.000000</td>\n",
       "      <td>20640.000000</td>\n",
       "      <td>20433.000000</td>\n",
       "      <td>20640.000000</td>\n",
       "      <td>20640.000000</td>\n",
       "      <td>20640.000000</td>\n",
       "      <td>20640.000000</td>\n",
       "    </tr>\n",
       "    <tr>\n",
       "      <th>mean</th>\n",
       "      <td>-119.569704</td>\n",
       "      <td>35.631861</td>\n",
       "      <td>28.639486</td>\n",
       "      <td>2635.763081</td>\n",
       "      <td>537.870553</td>\n",
       "      <td>1425.476744</td>\n",
       "      <td>499.539680</td>\n",
       "      <td>3.870671</td>\n",
       "      <td>206855.816909</td>\n",
       "    </tr>\n",
       "    <tr>\n",
       "      <th>std</th>\n",
       "      <td>2.003532</td>\n",
       "      <td>2.135952</td>\n",
       "      <td>12.585558</td>\n",
       "      <td>2181.615252</td>\n",
       "      <td>421.385070</td>\n",
       "      <td>1132.462122</td>\n",
       "      <td>382.329753</td>\n",
       "      <td>1.899822</td>\n",
       "      <td>115395.615874</td>\n",
       "    </tr>\n",
       "    <tr>\n",
       "      <th>min</th>\n",
       "      <td>-124.350000</td>\n",
       "      <td>32.540000</td>\n",
       "      <td>1.000000</td>\n",
       "      <td>2.000000</td>\n",
       "      <td>1.000000</td>\n",
       "      <td>3.000000</td>\n",
       "      <td>1.000000</td>\n",
       "      <td>0.499900</td>\n",
       "      <td>14999.000000</td>\n",
       "    </tr>\n",
       "    <tr>\n",
       "      <th>25%</th>\n",
       "      <td>-121.800000</td>\n",
       "      <td>33.930000</td>\n",
       "      <td>18.000000</td>\n",
       "      <td>1447.750000</td>\n",
       "      <td>296.000000</td>\n",
       "      <td>787.000000</td>\n",
       "      <td>280.000000</td>\n",
       "      <td>2.563400</td>\n",
       "      <td>119600.000000</td>\n",
       "    </tr>\n",
       "    <tr>\n",
       "      <th>50%</th>\n",
       "      <td>-118.490000</td>\n",
       "      <td>34.260000</td>\n",
       "      <td>29.000000</td>\n",
       "      <td>2127.000000</td>\n",
       "      <td>435.000000</td>\n",
       "      <td>1166.000000</td>\n",
       "      <td>409.000000</td>\n",
       "      <td>3.534800</td>\n",
       "      <td>179700.000000</td>\n",
       "    </tr>\n",
       "    <tr>\n",
       "      <th>75%</th>\n",
       "      <td>-118.010000</td>\n",
       "      <td>37.710000</td>\n",
       "      <td>37.000000</td>\n",
       "      <td>3148.000000</td>\n",
       "      <td>647.000000</td>\n",
       "      <td>1725.000000</td>\n",
       "      <td>605.000000</td>\n",
       "      <td>4.743250</td>\n",
       "      <td>264725.000000</td>\n",
       "    </tr>\n",
       "    <tr>\n",
       "      <th>max</th>\n",
       "      <td>-114.310000</td>\n",
       "      <td>41.950000</td>\n",
       "      <td>52.000000</td>\n",
       "      <td>39320.000000</td>\n",
       "      <td>6445.000000</td>\n",
       "      <td>35682.000000</td>\n",
       "      <td>6082.000000</td>\n",
       "      <td>15.000100</td>\n",
       "      <td>500001.000000</td>\n",
       "    </tr>\n",
       "  </tbody>\n",
       "</table>\n",
       "</div>"
      ],
      "text/plain": [
       "          longitude      latitude  housing_median_age   total_rooms  \\\n",
       "count  20640.000000  20640.000000        20640.000000  20640.000000   \n",
       "mean    -119.569704     35.631861           28.639486   2635.763081   \n",
       "std        2.003532      2.135952           12.585558   2181.615252   \n",
       "min     -124.350000     32.540000            1.000000      2.000000   \n",
       "25%     -121.800000     33.930000           18.000000   1447.750000   \n",
       "50%     -118.490000     34.260000           29.000000   2127.000000   \n",
       "75%     -118.010000     37.710000           37.000000   3148.000000   \n",
       "max     -114.310000     41.950000           52.000000  39320.000000   \n",
       "\n",
       "       total_bedrooms    population    households  median_income  \\\n",
       "count    20433.000000  20640.000000  20640.000000   20640.000000   \n",
       "mean       537.870553   1425.476744    499.539680       3.870671   \n",
       "std        421.385070   1132.462122    382.329753       1.899822   \n",
       "min          1.000000      3.000000      1.000000       0.499900   \n",
       "25%        296.000000    787.000000    280.000000       2.563400   \n",
       "50%        435.000000   1166.000000    409.000000       3.534800   \n",
       "75%        647.000000   1725.000000    605.000000       4.743250   \n",
       "max       6445.000000  35682.000000   6082.000000      15.000100   \n",
       "\n",
       "       median_house_value  \n",
       "count        20640.000000  \n",
       "mean        206855.816909  \n",
       "std         115395.615874  \n",
       "min          14999.000000  \n",
       "25%         119600.000000  \n",
       "50%         179700.000000  \n",
       "75%         264725.000000  \n",
       "max         500001.000000  "
      ]
     },
     "execution_count": 7,
     "metadata": {},
     "output_type": "execute_result"
    }
   ],
   "source": [
    "housing.describe()"
   ]
  },
  {
   "cell_type": "code",
   "execution_count": 8,
   "metadata": {
    "collapsed": false,
    "deletable": true,
    "editable": true
   },
   "outputs": [
    {
     "data": {
      "image/png": "[encoded data removed]",
      "text/plain": [
       "<matplotlib.figure.Figure at 0x10d9b3080>"
      ]
     },
     "metadata": {},
     "output_type": "display_data"
    }
   ],
   "source": [
    "%matplotlib inline\n",
    "import matplotlib.pyplot as plt\n",
    "housing.hist(bins=50, figsize=(20, 15))\n",
    "plt.show()"
   ]
  },
  {
   "cell_type": "code",
   "execution_count": 9,
   "metadata": {
    "collapsed": true,
    "deletable": true,
    "editable": true
   },
   "outputs": [],
   "source": [
    "import numpy as np\n",
    "import numpy.random as rnd\n",
    "\n",
    "def split_train_test(data, test_ratio):\n",
    "    \"\"\"\n",
    "    Simple way to split data into train and test set.\n",
    "    \n",
    "    The seed value ensures a consistent split across runs,\n",
    "    provided the dataset is the same.\n",
    "    \"\"\"\n",
    "    rnd.seed(42)\n",
    "    shuffled_indices = rnd.permutation(len(data))\n",
    "    test_set_size = int(len(data) * test_ratio)\n",
    "    test_indices = shuffled_indices[:test_set_size]\n",
    "    train_indices = shuffled_indices[test_set_size:]\n",
    "    return data.iloc[train_indices], data.iloc[test_indices]"
   ]
  },
  {
   "cell_type": "code",
   "execution_count": 10,
   "metadata": {
    "collapsed": false,
    "deletable": true,
    "editable": true
   },
   "outputs": [],
   "source": [
    "train, test = split_train_test(housing, 0.2)"
   ]
  },
  {
   "cell_type": "code",
   "execution_count": 11,
   "metadata": {
    "collapsed": false,
    "deletable": true,
    "editable": true
   },
   "outputs": [
    {
     "data": {
      "text/plain": [
       "(16512, 4128)"
      ]
     },
     "execution_count": 11,
     "metadata": {},
     "output_type": "execute_result"
    }
   ],
   "source": [
    "len(train), len(test)"
   ]
  },
  {
   "cell_type": "code",
   "execution_count": 12,
   "metadata": {
    "collapsed": false,
    "deletable": true,
    "editable": true
   },
   "outputs": [],
   "source": [
    "import hashlib\n",
    "\n",
    "def test_set_check(identifier, test_ratio, hash):\n",
    "    \"\"\"Compute hash of identifer and \"\"\"\n",
    "    return hash(str(identifier).encode('utf-8')).digest()[-1] < 256 * test_ratio\n",
    "\n",
    "def split_train_test_by_id(data, test_ratio, id_column, hash=hashlib.md5):\n",
    "    ids = data[id_column]\n",
    "    in_test_set = ids.apply(lambda id_: test_set_check(id_, test_ratio, hash))\n",
    "    return data.loc[~in_test_set], data.loc[in_test_set]"
   ]
  },
  {
   "cell_type": "code",
   "execution_count": 13,
   "metadata": {
    "collapsed": false,
    "deletable": true,
    "editable": true
   },
   "outputs": [],
   "source": [
    "housing_with_id = housing.reset_index()\n",
    "# Use the data's index (aka position) to generate the consistent id.\n",
    "# Problem with this approach is it assumes data is only ever appended and never\n",
    "# changes.\n",
    "train_set, test_set = split_train_test_by_id(housing_with_id, 0.2, \"index\")"
   ]
  },
  {
   "cell_type": "code",
   "execution_count": 14,
   "metadata": {
    "collapsed": false,
    "deletable": true,
    "editable": true
   },
   "outputs": [
    {
     "data": {
      "text/plain": [
       "(16432, 4208)"
      ]
     },
     "execution_count": 14,
     "metadata": {},
     "output_type": "execute_result"
    }
   ],
   "source": [
    "len(train_set), len(test_set)"
   ]
  },
  {
   "cell_type": "code",
   "execution_count": 15,
   "metadata": {
    "collapsed": true,
    "deletable": true,
    "editable": true
   },
   "outputs": [],
   "source": [
    "# Better approach might be to use something consistent like the lon/lat.\n",
    "housing_with_id[\"id\"] = housing[\"longitude\"] * 1000 + housing[\"latitude\"]\n",
    "train_set, test_set = split_train_test_by_id(housing_with_id, 0.2, \"id\")"
   ]
  },
  {
   "cell_type": "markdown",
   "metadata": {
    "deletable": true,
    "editable": true
   },
   "source": [
    "* The above approaches to splitting are random sampling methods. Some datasets shouldn't be randomly sampled.\n",
    "  * Consider dataset with a 30% / 70% split of category assignment. Maybe you want to preserve that in your train / test split?\n",
    "  * Enter: stratified sampling.\n",
    "* Stratified sampling:\n",
    "  * Data is assigned into homogenous groups called \"strata\".\n",
    "* Example: housing price dataset has various categories of incomes that should be represented in dataset:"
   ]
  },
  {
   "cell_type": "code",
   "execution_count": 16,
   "metadata": {
    "collapsed": false,
    "deletable": true,
    "editable": true
   },
   "outputs": [
    {
     "data": {
      "text/plain": [
       "<matplotlib.axes._subplots.AxesSubplot at 0x10fb896d8>"
      ]
     },
     "execution_count": 16,
     "metadata": {},
     "output_type": "execute_result"
    },
    {
     "data": {
      "image/png": "[encoded data removed]",
      "text/plain": [
       "<matplotlib.figure.Figure at 0x10eca9cc0>"
      ]
     },
     "metadata": {},
     "output_type": "display_data"
    }
   ],
   "source": [
    "housing['median_income'].hist()"
   ]
  },
  {
   "cell_type": "markdown",
   "metadata": {
    "deletable": true,
    "editable": true
   },
   "source": [
    "* Most people fall into the 20-30k income buckets, need to represent them in your dataset.\n",
    "* ``StratifiedShuffleSplit`` handles this for you, given category labels:"
   ]
  },
  {
   "cell_type": "code",
   "execution_count": 17,
   "metadata": {
    "collapsed": false,
    "deletable": true,
    "editable": true
   },
   "outputs": [
    {
     "name": "stderr",
     "output_type": "stream",
     "text": [
      "/Users/lex/code/study-notes/books/hands-on-machine-learning/ENV/lib/python3.6/site-packages/sklearn/cross_validation.py:44: DeprecationWarning: This module was deprecated in version 0.18 in favor of the model_selection module into which all the refactored classes and functions are moved. Also note that the interface of the new CV iterators are different from that of this module. This module will be removed in 0.20.\n",
      "  \"This module will be removed in 0.20.\", DeprecationWarning)\n"
     ]
    },
    {
     "data": {
      "text/plain": [
       "3.0    0.350581\n",
       "2.0    0.318847\n",
       "4.0    0.176308\n",
       "5.0    0.114438\n",
       "1.0    0.039826\n",
       "Name: income_cat, dtype: float64"
      ]
     },
     "execution_count": 17,
     "metadata": {},
     "output_type": "execute_result"
    }
   ],
   "source": [
    "# Assign data into buckets and add anything above 5 into the same bucket.\n",
    "housing[\"income_cat\"] = np.ceil(housing[\"median_income\"] / 1.5)\n",
    "housing[\"income_cat\"].where(housing[\"income_cat\"] < 5, 5.0, inplace=True)\n",
    "\n",
    "from sklearn.cross_validation import StratifiedShuffleSplit\n",
    "\n",
    "split = StratifiedShuffleSplit(housing[\"income_cat\"], test_size=0.2)\n",
    "train_indices, test_indices = next(iter(split))\n",
    "strat_train_set = housing.loc[train_indices]\n",
    "strat_test_set = housing.loc[test_indices]\n",
    "\n",
    "housing['income_cat'].value_counts() / len(housing)"
   ]
  },
  {
   "cell_type": "markdown",
   "metadata": {
    "deletable": true,
    "editable": true
   },
   "source": [
    "Note, the distribution of the test set is simiar to the whole dataset:"
   ]
  },
  {
   "cell_type": "code",
   "execution_count": 18,
   "metadata": {
    "collapsed": false,
    "deletable": true,
    "editable": true
   },
   "outputs": [
    {
     "data": {
      "text/plain": [
       "<matplotlib.axes._subplots.AxesSubplot at 0x10fb7ef28>"
      ]
     },
     "execution_count": 18,
     "metadata": {},
     "output_type": "execute_result"
    },
    {
     "data": {
      "image/png": "[encoded data removed]",
      "text/plain": [
       "<matplotlib.figure.Figure at 0x10f3f77f0>"
      ]
     },
     "metadata": {},
     "output_type": "display_data"
    }
   ],
   "source": [
    "strat_test_set['median_income'].hist()"
   ]
  },
  {
   "cell_type": "markdown",
   "metadata": {
    "deletable": true,
    "editable": true
   },
   "source": [
    "Create a copy of the dataset, to avoid harming the original:"
   ]
  },
  {
   "cell_type": "code",
   "execution_count": 19,
   "metadata": {
    "collapsed": true,
    "deletable": true,
    "editable": true
   },
   "outputs": [],
   "source": [
    "housing = strat_train_set.copy()"
   ]
  },
  {
   "cell_type": "code",
   "execution_count": 20,
   "metadata": {
    "collapsed": false,
    "deletable": true,
    "editable": true
   },
   "outputs": [
    {
     "data": {
      "text/plain": [
       "<matplotlib.axes._subplots.AxesSubplot at 0x10f0c91d0>"
      ]
     },
     "execution_count": 20,
     "metadata": {},
     "output_type": "execute_result"
    },
    {
     "data": {
      "image/png": "[encoded data removed]",
      "text/plain": [
       "<matplotlib.figure.Figure at 0x10f1e5080>"
      ]
     },
     "metadata": {},
     "output_type": "display_data"
    }
   ],
   "source": [
    "housing.plot(kind=\"scatter\", x=\"longitude\", y=\"latitude\")"
   ]
  },
  {
   "cell_type": "markdown",
   "metadata": {
    "deletable": true,
    "editable": true
   },
   "source": [
    "Set alpha to 0.1 to make it easier to visualise high density points:"
   ]
  },
  {
   "cell_type": "code",
   "execution_count": 21,
   "metadata": {
    "collapsed": false,
    "deletable": true,
    "editable": true
   },
   "outputs": [
    {
     "data": {
      "text/plain": [
       "<matplotlib.axes._subplots.AxesSubplot at 0x10fb4f6d8>"
      ]
     },
     "execution_count": 21,
     "metadata": {},
     "output_type": "execute_result"
    },
    {
     "data": {
      "image/png": "[encoded data removed]",
      "text/plain": [
       "<matplotlib.figure.Figure at 0x10eff1a90>"
      ]
     },
     "metadata": {},
     "output_type": "display_data"
    }
   ],
   "source": [
    "housing.plot(kind=\"scatter\", x=\"longitude\", y=\"latitude\", alpha=0.1)"
   ]
  },
  {
   "cell_type": "markdown",
   "metadata": {
    "deletable": true,
    "editable": true
   },
   "source": [
    "Another improvement: Radius of each circle represents the district population and colour for the price. Uses a built in colour map called \"jet\"."
   ]
  },
  {
   "cell_type": "code",
   "execution_count": 22,
   "metadata": {
    "collapsed": false,
    "deletable": true,
    "editable": true
   },
   "outputs": [
    {
     "data": {
      "text/plain": [
       "<matplotlib.legend.Legend at 0x10eb796d8>"
      ]
     },
     "execution_count": 22,
     "metadata": {},
     "output_type": "execute_result"
    },
    {
     "data": {
      "image/png": "[encoded data removed]",
      "text/plain": [
       "<matplotlib.figure.Figure at 0x10e80ff60>"
      ]
     },
     "metadata": {},
     "output_type": "display_data"
    }
   ],
   "source": [
    "housing.plot(\n",
    "    kind=\"scatter\", x=\"longitude\", y=\"latitude\", alpha=0.4,\n",
    "    s=housing[\"population\"] / 100, label=\"population\",\n",
    "    c=\"median_house_value\", cmap=plt.get_cmap(\"jet\"), colorbar=True\n",
    ")\n",
    "plt.legend()"
   ]
  },
  {
   "cell_type": "markdown",
   "metadata": {
    "deletable": true,
    "editable": true
   },
   "source": [
    "Can use the \"standard correlation coefficient\" (aka Pearson's r) to determine correlation between every pair of attributes, as follows:"
   ]
  },
  {
   "cell_type": "code",
   "execution_count": 23,
   "metadata": {
    "collapsed": true,
    "deletable": true,
    "editable": true
   },
   "outputs": [],
   "source": [
    "corr_matrix = housing.corr()"
   ]
  },
  {
   "cell_type": "code",
   "execution_count": 24,
   "metadata": {
    "collapsed": false,
    "deletable": true,
    "editable": true
   },
   "outputs": [
    {
     "data": {
      "text/plain": [
       "median_house_value    1.000000\n",
       "median_income         0.687444\n",
       "income_cat            0.642504\n",
       "total_rooms           0.134736\n",
       "housing_median_age    0.100349\n",
       "households            0.066135\n",
       "total_bedrooms        0.048853\n",
       "population           -0.023135\n",
       "longitude            -0.044848\n",
       "latitude             -0.144215\n",
       "Name: median_house_value, dtype: float64"
      ]
     },
     "execution_count": 24,
     "metadata": {},
     "output_type": "execute_result"
    }
   ],
   "source": [
    "corr_matrix['median_house_value'].sort_values(ascending=False)"
   ]
  },
  {
   "cell_type": "markdown",
   "metadata": {
    "deletable": true,
    "editable": true
   },
   "source": [
    "Can also check for correlations using Pandas' scatter_matrix function"
   ]
  },
  {
   "cell_type": "code",
   "execution_count": 25,
   "metadata": {
    "collapsed": false,
    "deletable": true,
    "editable": true
   },
   "outputs": [
    {
     "data": {
      "text/plain": [
       "array([[<matplotlib.axes._subplots.AxesSubplot object at 0x10eb8b588>,\n",
       "        <matplotlib.axes._subplots.AxesSubplot object at 0x10ece06d8>,\n",
       "        <matplotlib.axes._subplots.AxesSubplot object at 0x10eb86f60>,\n",
       "        <matplotlib.axes._subplots.AxesSubplot object at 0x10fc07278>],\n",
       "       [<matplotlib.axes._subplots.AxesSubplot object at 0x10e825048>,\n",
       "        <matplotlib.axes._subplots.AxesSubplot object at 0x10e825f60>,\n",
       "        <matplotlib.axes._subplots.AxesSubplot object at 0x10fb76cf8>,\n",
       "        <matplotlib.axes._subplots.AxesSubplot object at 0x10fb5aac8>],\n",
       "       [<matplotlib.axes._subplots.AxesSubplot object at 0x10eee95f8>,\n",
       "        <matplotlib.axes._subplots.AxesSubplot object at 0x10ee8aa58>,\n",
       "        <matplotlib.axes._subplots.AxesSubplot object at 0x10ee3c5f8>,\n",
       "        <matplotlib.axes._subplots.AxesSubplot object at 0x10f33f4e0>],\n",
       "       [<matplotlib.axes._subplots.AxesSubplot object at 0x10ef50860>,\n",
       "        <matplotlib.axes._subplots.AxesSubplot object at 0x10eb07390>,\n",
       "        <matplotlib.axes._subplots.AxesSubplot object at 0x10e7f0c88>,\n",
       "        <matplotlib.axes._subplots.AxesSubplot object at 0x10ea20f98>]], dtype=object)"
      ]
     },
     "execution_count": 25,
     "metadata": {},
     "output_type": "execute_result"
    },
    {
     "data": {
      "image/png": "[encoded data removed]",
      "text/plain": [
       "<matplotlib.figure.Figure at 0x10e79a550>"
      ]
     },
     "metadata": {},
     "output_type": "display_data"
    }
   ],
   "source": [
    "from pandas.tools.plotting import scatter_matrix\n",
    "\n",
    "attributes = ['median_house_value', 'median_income', 'total_rooms', 'housing_median_age']\n",
    "\n",
    "scatter_matrix(housing[attributes], figsize=(12, 8))"
   ]
  },
  {
   "cell_type": "code",
   "execution_count": 26,
   "metadata": {
    "collapsed": false,
    "deletable": true,
    "editable": true
   },
   "outputs": [
    {
     "data": {
      "text/plain": [
       "<matplotlib.axes._subplots.AxesSubplot at 0x10f77c240>"
      ]
     },
     "execution_count": 26,
     "metadata": {},
     "output_type": "execute_result"
    },
    {
     "data": {
      "image/png": "[encoded data removed]",
      "text/plain": [
       "<matplotlib.figure.Figure at 0x10e881ef0>"
      ]
     },
     "metadata": {},
     "output_type": "display_data"
    }
   ],
   "source": [
    "housing.plot(kind='scatter', x='median_income', y='median_house_value', alpha=0.1)"
   ]
  },
  {
   "cell_type": "markdown",
   "metadata": {
    "deletable": true,
    "editable": true
   },
   "source": [
    "Some other correlations to try out: number of rooms per household, bedrooms per room and population per household:"
   ]
  },
  {
   "cell_type": "code",
   "execution_count": 27,
   "metadata": {
    "collapsed": true,
    "deletable": true,
    "editable": true
   },
   "outputs": [],
   "source": [
    "housing['rooms_per_household'] = housing['total_rooms'] / housing['population']\n",
    "housing['bedrooms_per_room'] = housing['total_bedrooms'] / housing['total_rooms']\n",
    "housing['population_per_household'] = housing['population'] / housing['households']"
   ]
  },
  {
   "cell_type": "code",
   "execution_count": 28,
   "metadata": {
    "collapsed": false,
    "deletable": true,
    "editable": true
   },
   "outputs": [
    {
     "data": {
      "text/plain": [
       "median_house_value          1.000000\n",
       "median_income               0.687444\n",
       "income_cat                  0.642504\n",
       "rooms_per_household         0.202108\n",
       "total_rooms                 0.134736\n",
       "housing_median_age          0.100349\n",
       "households                  0.066135\n",
       "total_bedrooms              0.048853\n",
       "population_per_household   -0.021676\n",
       "population                 -0.023135\n",
       "longitude                  -0.044848\n",
       "latitude                   -0.144215\n",
       "bedrooms_per_room          -0.255089\n",
       "Name: median_house_value, dtype: float64"
      ]
     },
     "execution_count": 28,
     "metadata": {},
     "output_type": "execute_result"
    }
   ],
   "source": [
    "corr_matrix = housing.corr()\n",
    "corr_matrix['median_house_value'].sort_values(ascending=False)"
   ]
  },
  {
   "cell_type": "markdown",
   "metadata": {
    "deletable": true,
    "editable": true
   },
   "source": [
    "Revert to a clean training set:"
   ]
  },
  {
   "cell_type": "code",
   "execution_count": 29,
   "metadata": {
    "collapsed": true,
    "deletable": true,
    "editable": true
   },
   "outputs": [],
   "source": [
    "housing = strat_train_set.drop(\"median_house_value\", axis=1)\n",
    "housing_labels = strat_train_set['median_house_value'].copy()"
   ]
  },
  {
   "cell_type": "markdown",
   "metadata": {
    "deletable": true,
    "editable": true
   },
   "source": [
    "Options for working with missing features values:\n",
    "\n",
    "1. Get rid of whole attribute.\n",
    "2. Set values to some value (0, mean etc)"
   ]
  },
  {
   "cell_type": "code",
   "execution_count": 30,
   "metadata": {
    "collapsed": false,
    "deletable": true,
    "editable": true
   },
   "outputs": [
    {
     "data": {
      "text/plain": [
       "1171      383.0\n",
       "20217     373.0\n",
       "17392     445.0\n",
       "4977      387.0\n",
       "2177      245.0\n",
       "11836     906.0\n",
       "20154     381.0\n",
       "19378      86.0\n",
       "5598      327.0\n",
       "15628     568.0\n",
       "11872     261.0\n",
       "16980     436.0\n",
       "6583      263.0\n",
       "16105     435.0\n",
       "2997      549.0\n",
       "1614      760.0\n",
       "15980     165.0\n",
       "12041    2238.0\n",
       "7380      263.0\n",
       "2863      433.0\n",
       "4633     1707.0\n",
       "11996     935.0\n",
       "429       200.0\n",
       "5207      461.0\n",
       "3425      308.0\n",
       "12796     295.0\n",
       "18683     705.0\n",
       "7876      982.0\n",
       "16893     226.0\n",
       "9201      424.0\n",
       "          ...  \n",
       "10649    1292.0\n",
       "10951     598.0\n",
       "3192      214.0\n",
       "14401     442.0\n",
       "18893    1084.0\n",
       "11036     667.0\n",
       "7698      348.0\n",
       "9781      443.0\n",
       "2817      516.0\n",
       "12874    1507.0\n",
       "4611      815.0\n",
       "10250     328.0\n",
       "19697     548.0\n",
       "18810     537.0\n",
       "7428      328.0\n",
       "4156      398.0\n",
       "10862     654.0\n",
       "215       711.0\n",
       "9277      871.0\n",
       "8757      339.0\n",
       "7784      463.0\n",
       "374       275.0\n",
       "3011      168.0\n",
       "12110     769.0\n",
       "8139      233.0\n",
       "20368     716.0\n",
       "6061     2862.0\n",
       "7587      553.0\n",
       "2117      282.0\n",
       "1695      166.0\n",
       "Name: total_bedrooms, dtype: float64"
      ]
     },
     "execution_count": 30,
     "metadata": {},
     "output_type": "execute_result"
    }
   ],
   "source": [
    "median = housing['total_bedrooms'].median()\n",
    "housing['total_bedrooms'].fillna(median)"
   ]
  },
  {
   "cell_type": "markdown",
   "metadata": {
    "deletable": true,
    "editable": true
   },
   "source": [
    "Scikit-Learn provides a call for taking care of missing values called \"Imputer\". To use it:\n",
    "\n",
    "1. Remove any non-numeric attributes (Imputer only works on numeric).\n",
    "2. Create instance of Imputer with strategy and fit to data."
   ]
  },
  {
   "cell_type": "code",
   "execution_count": 31,
   "metadata": {
    "collapsed": false,
    "deletable": true,
    "editable": true
   },
   "outputs": [
    {
     "data": {
      "text/plain": [
       "Imputer(axis=0, copy=True, missing_values='NaN', strategy='median', verbose=0)"
      ]
     },
     "execution_count": 31,
     "metadata": {},
     "output_type": "execute_result"
    }
   ],
   "source": [
    "from sklearn.preprocessing import Imputer\n",
    "\n",
    "imputer = Imputer(strategy='median')\n",
    "\n",
    "housing_only_num = housing.drop('ocean_proximity', axis=1)\n",
    "\n",
    "imputer.fit(housing_only_num)"
   ]
  },
  {
   "cell_type": "code",
   "execution_count": 32,
   "metadata": {
    "collapsed": false,
    "deletable": true,
    "editable": true
   },
   "outputs": [
    {
     "data": {
      "text/plain": [
       "array([ -118.48  ,    34.25  ,    29.    ,  2130.    ,   435.    ,\n",
       "        1167.    ,   409.    ,     3.5391,     3.    ])"
      ]
     },
     "execution_count": 32,
     "metadata": {},
     "output_type": "execute_result"
    }
   ],
   "source": [
    "imputer.statistics_"
   ]
  },
  {
   "cell_type": "code",
   "execution_count": 33,
   "metadata": {
    "collapsed": false,
    "deletable": true,
    "editable": true
   },
   "outputs": [],
   "source": [
    "X = imputer.transform(housing_only_num)"
   ]
  },
  {
   "cell_type": "code",
   "execution_count": 34,
   "metadata": {
    "collapsed": false,
    "deletable": true,
    "editable": true
   },
   "outputs": [],
   "source": [
    "# Convert back to a Pandas dataframe\n",
    "housing_tr = pd.DataFrame(X, columns=housing_only_num.columns)"
   ]
  },
  {
   "cell_type": "code",
   "execution_count": 35,
   "metadata": {
    "collapsed": false,
    "deletable": true,
    "editable": true
   },
   "outputs": [
    {
     "data": {
      "text/html": [
       "<div>\n",
       "<table border=\"1\" class=\"dataframe\">\n",
       "  <thead>\n",
       "    <tr style=\"text-align: right;\">\n",
       "      <th></th>\n",
       "      <th>longitude</th>\n",
       "      <th>latitude</th>\n",
       "      <th>housing_median_age</th>\n",
       "      <th>total_rooms</th>\n",
       "      <th>total_bedrooms</th>\n",
       "      <th>population</th>\n",
       "      <th>households</th>\n",
       "      <th>median_income</th>\n",
       "      <th>income_cat</th>\n",
       "    </tr>\n",
       "  </thead>\n",
       "  <tbody>\n",
       "    <tr>\n",
       "      <th>0</th>\n",
       "      <td>-121.58</td>\n",
       "      <td>39.50</td>\n",
       "      <td>29.0</td>\n",
       "      <td>1947.0</td>\n",
       "      <td>383.0</td>\n",
       "      <td>925.0</td>\n",
       "      <td>337.0</td>\n",
       "      <td>2.1658</td>\n",
       "      <td>2.0</td>\n",
       "    </tr>\n",
       "    <tr>\n",
       "      <th>1</th>\n",
       "      <td>-119.25</td>\n",
       "      <td>34.28</td>\n",
       "      <td>36.0</td>\n",
       "      <td>2232.0</td>\n",
       "      <td>373.0</td>\n",
       "      <td>951.0</td>\n",
       "      <td>368.0</td>\n",
       "      <td>5.2261</td>\n",
       "      <td>4.0</td>\n",
       "    </tr>\n",
       "    <tr>\n",
       "      <th>2</th>\n",
       "      <td>-120.45</td>\n",
       "      <td>34.96</td>\n",
       "      <td>21.0</td>\n",
       "      <td>2121.0</td>\n",
       "      <td>445.0</td>\n",
       "      <td>2211.0</td>\n",
       "      <td>463.0</td>\n",
       "      <td>4.0603</td>\n",
       "      <td>3.0</td>\n",
       "    </tr>\n",
       "    <tr>\n",
       "      <th>3</th>\n",
       "      <td>-118.29</td>\n",
       "      <td>34.00</td>\n",
       "      <td>44.0</td>\n",
       "      <td>1753.0</td>\n",
       "      <td>387.0</td>\n",
       "      <td>1165.0</td>\n",
       "      <td>380.0</td>\n",
       "      <td>2.1354</td>\n",
       "      <td>2.0</td>\n",
       "    </tr>\n",
       "    <tr>\n",
       "      <th>4</th>\n",
       "      <td>-119.85</td>\n",
       "      <td>36.75</td>\n",
       "      <td>24.0</td>\n",
       "      <td>1143.0</td>\n",
       "      <td>245.0</td>\n",
       "      <td>608.0</td>\n",
       "      <td>240.0</td>\n",
       "      <td>2.8194</td>\n",
       "      <td>2.0</td>\n",
       "    </tr>\n",
       "    <tr>\n",
       "      <th>5</th>\n",
       "      <td>-120.98</td>\n",
       "      <td>39.08</td>\n",
       "      <td>20.0</td>\n",
       "      <td>4570.0</td>\n",
       "      <td>906.0</td>\n",
       "      <td>2125.0</td>\n",
       "      <td>815.0</td>\n",
       "      <td>3.0403</td>\n",
       "      <td>3.0</td>\n",
       "    </tr>\n",
       "    <tr>\n",
       "      <th>6</th>\n",
       "      <td>-119.19</td>\n",
       "      <td>34.46</td>\n",
       "      <td>39.0</td>\n",
       "      <td>2056.0</td>\n",
       "      <td>381.0</td>\n",
       "      <td>939.0</td>\n",
       "      <td>371.0</td>\n",
       "      <td>6.6257</td>\n",
       "      <td>5.0</td>\n",
       "    </tr>\n",
       "    <tr>\n",
       "      <th>7</th>\n",
       "      <td>-120.69</td>\n",
       "      <td>37.77</td>\n",
       "      <td>46.0</td>\n",
       "      <td>431.0</td>\n",
       "      <td>86.0</td>\n",
       "      <td>239.0</td>\n",
       "      <td>80.0</td>\n",
       "      <td>3.3182</td>\n",
       "      <td>3.0</td>\n",
       "    </tr>\n",
       "    <tr>\n",
       "      <th>8</th>\n",
       "      <td>-118.27</td>\n",
       "      <td>33.80</td>\n",
       "      <td>38.0</td>\n",
       "      <td>1446.0</td>\n",
       "      <td>327.0</td>\n",
       "      <td>980.0</td>\n",
       "      <td>319.0</td>\n",
       "      <td>3.3500</td>\n",
       "      <td>3.0</td>\n",
       "    </tr>\n",
       "    <tr>\n",
       "      <th>9</th>\n",
       "      <td>-122.40</td>\n",
       "      <td>37.80</td>\n",
       "      <td>52.0</td>\n",
       "      <td>2094.0</td>\n",
       "      <td>568.0</td>\n",
       "      <td>920.0</td>\n",
       "      <td>503.0</td>\n",
       "      <td>4.2015</td>\n",
       "      <td>3.0</td>\n",
       "    </tr>\n",
       "    <tr>\n",
       "      <th>10</th>\n",
       "      <td>-117.36</td>\n",
       "      <td>33.99</td>\n",
       "      <td>42.0</td>\n",
       "      <td>1178.0</td>\n",
       "      <td>261.0</td>\n",
       "      <td>804.0</td>\n",
       "      <td>283.0</td>\n",
       "      <td>2.9688</td>\n",
       "      <td>2.0</td>\n",
       "    </tr>\n",
       "    <tr>\n",
       "      <th>11</th>\n",
       "      <td>-122.30</td>\n",
       "      <td>37.57</td>\n",
       "      <td>36.0</td>\n",
       "      <td>2406.0</td>\n",
       "      <td>436.0</td>\n",
       "      <td>1189.0</td>\n",
       "      <td>403.0</td>\n",
       "      <td>4.7917</td>\n",
       "      <td>4.0</td>\n",
       "    </tr>\n",
       "    <tr>\n",
       "      <th>12</th>\n",
       "      <td>-118.21</td>\n",
       "      <td>34.21</td>\n",
       "      <td>41.0</td>\n",
       "      <td>1676.0</td>\n",
       "      <td>263.0</td>\n",
       "      <td>757.0</td>\n",
       "      <td>255.0</td>\n",
       "      <td>4.7734</td>\n",
       "      <td>4.0</td>\n",
       "    </tr>\n",
       "    <tr>\n",
       "      <th>13</th>\n",
       "      <td>-122.50</td>\n",
       "      <td>37.75</td>\n",
       "      <td>44.0</td>\n",
       "      <td>1819.0</td>\n",
       "      <td>435.0</td>\n",
       "      <td>1137.0</td>\n",
       "      <td>354.0</td>\n",
       "      <td>3.4919</td>\n",
       "      <td>3.0</td>\n",
       "    </tr>\n",
       "    <tr>\n",
       "      <th>14</th>\n",
       "      <td>-119.03</td>\n",
       "      <td>35.32</td>\n",
       "      <td>12.0</td>\n",
       "      <td>2721.0</td>\n",
       "      <td>549.0</td>\n",
       "      <td>1294.0</td>\n",
       "      <td>523.0</td>\n",
       "      <td>2.5575</td>\n",
       "      <td>2.0</td>\n",
       "    </tr>\n",
       "    <tr>\n",
       "      <th>15</th>\n",
       "      <td>-122.09</td>\n",
       "      <td>37.86</td>\n",
       "      <td>27.0</td>\n",
       "      <td>5484.0</td>\n",
       "      <td>760.0</td>\n",
       "      <td>2212.0</td>\n",
       "      <td>770.0</td>\n",
       "      <td>7.6202</td>\n",
       "      <td>5.0</td>\n",
       "    </tr>\n",
       "    <tr>\n",
       "      <th>16</th>\n",
       "      <td>-122.46</td>\n",
       "      <td>37.76</td>\n",
       "      <td>28.0</td>\n",
       "      <td>1072.0</td>\n",
       "      <td>165.0</td>\n",
       "      <td>363.0</td>\n",
       "      <td>168.0</td>\n",
       "      <td>6.1636</td>\n",
       "      <td>5.0</td>\n",
       "    </tr>\n",
       "    <tr>\n",
       "      <th>17</th>\n",
       "      <td>-117.49</td>\n",
       "      <td>33.90</td>\n",
       "      <td>7.0</td>\n",
       "      <td>10235.0</td>\n",
       "      <td>2238.0</td>\n",
       "      <td>5271.0</td>\n",
       "      <td>2094.0</td>\n",
       "      <td>3.6071</td>\n",
       "      <td>3.0</td>\n",
       "    </tr>\n",
       "    <tr>\n",
       "      <th>18</th>\n",
       "      <td>-118.24</td>\n",
       "      <td>33.97</td>\n",
       "      <td>37.0</td>\n",
       "      <td>1053.0</td>\n",
       "      <td>263.0</td>\n",
       "      <td>1354.0</td>\n",
       "      <td>292.0</td>\n",
       "      <td>2.5833</td>\n",
       "      <td>2.0</td>\n",
       "    </tr>\n",
       "    <tr>\n",
       "      <th>19</th>\n",
       "      <td>-118.87</td>\n",
       "      <td>35.37</td>\n",
       "      <td>14.0</td>\n",
       "      <td>2458.0</td>\n",
       "      <td>433.0</td>\n",
       "      <td>1352.0</td>\n",
       "      <td>411.0</td>\n",
       "      <td>3.5441</td>\n",
       "      <td>3.0</td>\n",
       "    </tr>\n",
       "    <tr>\n",
       "      <th>20</th>\n",
       "      <td>-118.29</td>\n",
       "      <td>34.07</td>\n",
       "      <td>24.0</td>\n",
       "      <td>4021.0</td>\n",
       "      <td>1707.0</td>\n",
       "      <td>3727.0</td>\n",
       "      <td>1529.0</td>\n",
       "      <td>1.7365</td>\n",
       "      <td>2.0</td>\n",
       "    </tr>\n",
       "    <tr>\n",
       "      <th>21</th>\n",
       "      <td>-117.53</td>\n",
       "      <td>33.94</td>\n",
       "      <td>21.0</td>\n",
       "      <td>5675.0</td>\n",
       "      <td>935.0</td>\n",
       "      <td>2834.0</td>\n",
       "      <td>865.0</td>\n",
       "      <td>4.2263</td>\n",
       "      <td>3.0</td>\n",
       "    </tr>\n",
       "    <tr>\n",
       "      <th>22</th>\n",
       "      <td>-122.28</td>\n",
       "      <td>37.88</td>\n",
       "      <td>52.0</td>\n",
       "      <td>1193.0</td>\n",
       "      <td>200.0</td>\n",
       "      <td>506.0</td>\n",
       "      <td>207.0</td>\n",
       "      <td>4.1912</td>\n",
       "      <td>3.0</td>\n",
       "    </tr>\n",
       "    <tr>\n",
       "      <th>23</th>\n",
       "      <td>-118.29</td>\n",
       "      <td>33.92</td>\n",
       "      <td>40.0</td>\n",
       "      <td>1935.0</td>\n",
       "      <td>461.0</td>\n",
       "      <td>1616.0</td>\n",
       "      <td>433.0</td>\n",
       "      <td>2.8750</td>\n",
       "      <td>2.0</td>\n",
       "    </tr>\n",
       "    <tr>\n",
       "      <th>24</th>\n",
       "      <td>-118.43</td>\n",
       "      <td>34.28</td>\n",
       "      <td>30.0</td>\n",
       "      <td>1384.0</td>\n",
       "      <td>308.0</td>\n",
       "      <td>2054.0</td>\n",
       "      <td>301.0</td>\n",
       "      <td>3.0132</td>\n",
       "      <td>3.0</td>\n",
       "    </tr>\n",
       "    <tr>\n",
       "      <th>25</th>\n",
       "      <td>-121.45</td>\n",
       "      <td>38.63</td>\n",
       "      <td>28.0</td>\n",
       "      <td>1246.0</td>\n",
       "      <td>295.0</td>\n",
       "      <td>884.0</td>\n",
       "      <td>258.0</td>\n",
       "      <td>1.4397</td>\n",
       "      <td>1.0</td>\n",
       "    </tr>\n",
       "    <tr>\n",
       "      <th>26</th>\n",
       "      <td>-121.83</td>\n",
       "      <td>36.98</td>\n",
       "      <td>19.0</td>\n",
       "      <td>4431.0</td>\n",
       "      <td>705.0</td>\n",
       "      <td>1764.0</td>\n",
       "      <td>679.0</td>\n",
       "      <td>4.3321</td>\n",
       "      <td>3.0</td>\n",
       "    </tr>\n",
       "    <tr>\n",
       "      <th>27</th>\n",
       "      <td>-118.14</td>\n",
       "      <td>33.88</td>\n",
       "      <td>24.0</td>\n",
       "      <td>3305.0</td>\n",
       "      <td>982.0</td>\n",
       "      <td>2085.0</td>\n",
       "      <td>881.0</td>\n",
       "      <td>2.6641</td>\n",
       "      <td>2.0</td>\n",
       "    </tr>\n",
       "    <tr>\n",
       "      <th>28</th>\n",
       "      <td>-122.38</td>\n",
       "      <td>37.58</td>\n",
       "      <td>52.0</td>\n",
       "      <td>1704.0</td>\n",
       "      <td>226.0</td>\n",
       "      <td>671.0</td>\n",
       "      <td>243.0</td>\n",
       "      <td>8.4704</td>\n",
       "      <td>5.0</td>\n",
       "    </tr>\n",
       "    <tr>\n",
       "      <th>29</th>\n",
       "      <td>-119.72</td>\n",
       "      <td>37.38</td>\n",
       "      <td>16.0</td>\n",
       "      <td>2131.0</td>\n",
       "      <td>424.0</td>\n",
       "      <td>989.0</td>\n",
       "      <td>369.0</td>\n",
       "      <td>2.6071</td>\n",
       "      <td>2.0</td>\n",
       "    </tr>\n",
       "    <tr>\n",
       "      <th>...</th>\n",
       "      <td>...</td>\n",
       "      <td>...</td>\n",
       "      <td>...</td>\n",
       "      <td>...</td>\n",
       "      <td>...</td>\n",
       "      <td>...</td>\n",
       "      <td>...</td>\n",
       "      <td>...</td>\n",
       "      <td>...</td>\n",
       "    </tr>\n",
       "    <tr>\n",
       "      <th>16482</th>\n",
       "      <td>-117.79</td>\n",
       "      <td>33.55</td>\n",
       "      <td>39.0</td>\n",
       "      <td>5066.0</td>\n",
       "      <td>1292.0</td>\n",
       "      <td>1915.0</td>\n",
       "      <td>1117.0</td>\n",
       "      <td>3.8210</td>\n",
       "      <td>3.0</td>\n",
       "    </tr>\n",
       "    <tr>\n",
       "      <th>16483</th>\n",
       "      <td>-117.86</td>\n",
       "      <td>33.75</td>\n",
       "      <td>13.0</td>\n",
       "      <td>1632.0</td>\n",
       "      <td>598.0</td>\n",
       "      <td>3356.0</td>\n",
       "      <td>659.0</td>\n",
       "      <td>1.5054</td>\n",
       "      <td>2.0</td>\n",
       "    </tr>\n",
       "    <tr>\n",
       "      <th>16484</th>\n",
       "      <td>-119.72</td>\n",
       "      <td>36.34</td>\n",
       "      <td>33.0</td>\n",
       "      <td>1287.0</td>\n",
       "      <td>214.0</td>\n",
       "      <td>580.0</td>\n",
       "      <td>210.0</td>\n",
       "      <td>3.2019</td>\n",
       "      <td>3.0</td>\n",
       "    </tr>\n",
       "    <tr>\n",
       "      <th>16485</th>\n",
       "      <td>-117.25</td>\n",
       "      <td>32.79</td>\n",
       "      <td>37.0</td>\n",
       "      <td>1467.0</td>\n",
       "      <td>442.0</td>\n",
       "      <td>651.0</td>\n",
       "      <td>354.0</td>\n",
       "      <td>2.3750</td>\n",
       "      <td>2.0</td>\n",
       "    </tr>\n",
       "    <tr>\n",
       "      <th>16486</th>\n",
       "      <td>-122.23</td>\n",
       "      <td>38.13</td>\n",
       "      <td>29.0</td>\n",
       "      <td>5154.0</td>\n",
       "      <td>1084.0</td>\n",
       "      <td>2459.0</td>\n",
       "      <td>1019.0</td>\n",
       "      <td>3.2664</td>\n",
       "      <td>3.0</td>\n",
       "    </tr>\n",
       "    <tr>\n",
       "      <th>16487</th>\n",
       "      <td>-117.82</td>\n",
       "      <td>33.78</td>\n",
       "      <td>28.0</td>\n",
       "      <td>4485.0</td>\n",
       "      <td>667.0</td>\n",
       "      <td>2048.0</td>\n",
       "      <td>685.0</td>\n",
       "      <td>5.4562</td>\n",
       "      <td>4.0</td>\n",
       "    </tr>\n",
       "    <tr>\n",
       "      <th>16488</th>\n",
       "      <td>-118.12</td>\n",
       "      <td>33.96</td>\n",
       "      <td>38.0</td>\n",
       "      <td>2105.0</td>\n",
       "      <td>348.0</td>\n",
       "      <td>956.0</td>\n",
       "      <td>350.0</td>\n",
       "      <td>4.4125</td>\n",
       "      <td>3.0</td>\n",
       "    </tr>\n",
       "    <tr>\n",
       "      <th>16489</th>\n",
       "      <td>-121.13</td>\n",
       "      <td>36.20</td>\n",
       "      <td>16.0</td>\n",
       "      <td>1868.0</td>\n",
       "      <td>443.0</td>\n",
       "      <td>1323.0</td>\n",
       "      <td>436.0</td>\n",
       "      <td>2.9559</td>\n",
       "      <td>2.0</td>\n",
       "    </tr>\n",
       "    <tr>\n",
       "      <th>16490</th>\n",
       "      <td>-119.02</td>\n",
       "      <td>35.41</td>\n",
       "      <td>41.0</td>\n",
       "      <td>2221.0</td>\n",
       "      <td>516.0</td>\n",
       "      <td>1106.0</td>\n",
       "      <td>473.0</td>\n",
       "      <td>1.9700</td>\n",
       "      <td>2.0</td>\n",
       "    </tr>\n",
       "    <tr>\n",
       "      <th>16491</th>\n",
       "      <td>-121.36</td>\n",
       "      <td>38.67</td>\n",
       "      <td>5.0</td>\n",
       "      <td>5819.0</td>\n",
       "      <td>1507.0</td>\n",
       "      <td>3237.0</td>\n",
       "      <td>1356.0</td>\n",
       "      <td>2.2339</td>\n",
       "      <td>2.0</td>\n",
       "    </tr>\n",
       "    <tr>\n",
       "      <th>16492</th>\n",
       "      <td>-118.29</td>\n",
       "      <td>34.06</td>\n",
       "      <td>9.0</td>\n",
       "      <td>1554.0</td>\n",
       "      <td>815.0</td>\n",
       "      <td>1704.0</td>\n",
       "      <td>761.0</td>\n",
       "      <td>2.0185</td>\n",
       "      <td>2.0</td>\n",
       "    </tr>\n",
       "    <tr>\n",
       "      <th>16493</th>\n",
       "      <td>-117.86</td>\n",
       "      <td>33.88</td>\n",
       "      <td>19.0</td>\n",
       "      <td>1621.0</td>\n",
       "      <td>328.0</td>\n",
       "      <td>871.0</td>\n",
       "      <td>322.0</td>\n",
       "      <td>3.7361</td>\n",
       "      <td>3.0</td>\n",
       "    </tr>\n",
       "    <tr>\n",
       "      <th>16494</th>\n",
       "      <td>-121.63</td>\n",
       "      <td>39.10</td>\n",
       "      <td>22.0</td>\n",
       "      <td>3585.0</td>\n",
       "      <td>548.0</td>\n",
       "      <td>1757.0</td>\n",
       "      <td>577.0</td>\n",
       "      <td>4.1740</td>\n",
       "      <td>3.0</td>\n",
       "    </tr>\n",
       "    <tr>\n",
       "      <th>16495</th>\n",
       "      <td>-121.67</td>\n",
       "      <td>40.89</td>\n",
       "      <td>17.0</td>\n",
       "      <td>2548.0</td>\n",
       "      <td>537.0</td>\n",
       "      <td>1118.0</td>\n",
       "      <td>461.0</td>\n",
       "      <td>2.2670</td>\n",
       "      <td>2.0</td>\n",
       "    </tr>\n",
       "    <tr>\n",
       "      <th>16496</th>\n",
       "      <td>-118.21</td>\n",
       "      <td>33.95</td>\n",
       "      <td>32.0</td>\n",
       "      <td>1116.0</td>\n",
       "      <td>328.0</td>\n",
       "      <td>1265.0</td>\n",
       "      <td>302.0</td>\n",
       "      <td>2.2950</td>\n",
       "      <td>2.0</td>\n",
       "    </tr>\n",
       "    <tr>\n",
       "      <th>16497</th>\n",
       "      <td>-118.20</td>\n",
       "      <td>34.12</td>\n",
       "      <td>44.0</td>\n",
       "      <td>1565.0</td>\n",
       "      <td>398.0</td>\n",
       "      <td>1500.0</td>\n",
       "      <td>407.0</td>\n",
       "      <td>2.8125</td>\n",
       "      <td>2.0</td>\n",
       "    </tr>\n",
       "    <tr>\n",
       "      <th>16498</th>\n",
       "      <td>-117.87</td>\n",
       "      <td>33.70</td>\n",
       "      <td>21.0</td>\n",
       "      <td>3648.0</td>\n",
       "      <td>654.0</td>\n",
       "      <td>2266.0</td>\n",
       "      <td>628.0</td>\n",
       "      <td>5.0956</td>\n",
       "      <td>4.0</td>\n",
       "    </tr>\n",
       "    <tr>\n",
       "      <th>16499</th>\n",
       "      <td>-122.22</td>\n",
       "      <td>37.79</td>\n",
       "      <td>38.0</td>\n",
       "      <td>3049.0</td>\n",
       "      <td>711.0</td>\n",
       "      <td>2167.0</td>\n",
       "      <td>659.0</td>\n",
       "      <td>2.7969</td>\n",
       "      <td>2.0</td>\n",
       "    </tr>\n",
       "    <tr>\n",
       "      <th>16500</th>\n",
       "      <td>-122.58</td>\n",
       "      <td>38.12</td>\n",
       "      <td>13.0</td>\n",
       "      <td>5027.0</td>\n",
       "      <td>871.0</td>\n",
       "      <td>1912.0</td>\n",
       "      <td>770.0</td>\n",
       "      <td>4.9286</td>\n",
       "      <td>4.0</td>\n",
       "    </tr>\n",
       "    <tr>\n",
       "      <th>16501</th>\n",
       "      <td>-118.37</td>\n",
       "      <td>33.81</td>\n",
       "      <td>36.0</td>\n",
       "      <td>2031.0</td>\n",
       "      <td>339.0</td>\n",
       "      <td>817.0</td>\n",
       "      <td>337.0</td>\n",
       "      <td>5.1271</td>\n",
       "      <td>4.0</td>\n",
       "    </tr>\n",
       "    <tr>\n",
       "      <th>16502</th>\n",
       "      <td>-118.07</td>\n",
       "      <td>33.91</td>\n",
       "      <td>35.0</td>\n",
       "      <td>2228.0</td>\n",
       "      <td>463.0</td>\n",
       "      <td>1558.0</td>\n",
       "      <td>427.0</td>\n",
       "      <td>4.0230</td>\n",
       "      <td>3.0</td>\n",
       "    </tr>\n",
       "    <tr>\n",
       "      <th>16503</th>\n",
       "      <td>-122.15</td>\n",
       "      <td>37.74</td>\n",
       "      <td>43.0</td>\n",
       "      <td>1383.0</td>\n",
       "      <td>275.0</td>\n",
       "      <td>853.0</td>\n",
       "      <td>272.0</td>\n",
       "      <td>3.5083</td>\n",
       "      <td>3.0</td>\n",
       "    </tr>\n",
       "    <tr>\n",
       "      <th>16504</th>\n",
       "      <td>-118.93</td>\n",
       "      <td>34.82</td>\n",
       "      <td>24.0</td>\n",
       "      <td>806.0</td>\n",
       "      <td>168.0</td>\n",
       "      <td>323.0</td>\n",
       "      <td>136.0</td>\n",
       "      <td>3.5000</td>\n",
       "      <td>3.0</td>\n",
       "    </tr>\n",
       "    <tr>\n",
       "      <th>16505</th>\n",
       "      <td>-117.35</td>\n",
       "      <td>34.01</td>\n",
       "      <td>23.0</td>\n",
       "      <td>3707.0</td>\n",
       "      <td>769.0</td>\n",
       "      <td>1938.0</td>\n",
       "      <td>658.0</td>\n",
       "      <td>2.7250</td>\n",
       "      <td>2.0</td>\n",
       "    </tr>\n",
       "    <tr>\n",
       "      <th>16506</th>\n",
       "      <td>-118.11</td>\n",
       "      <td>33.83</td>\n",
       "      <td>36.0</td>\n",
       "      <td>1462.0</td>\n",
       "      <td>233.0</td>\n",
       "      <td>664.0</td>\n",
       "      <td>220.0</td>\n",
       "      <td>5.1171</td>\n",
       "      <td>4.0</td>\n",
       "    </tr>\n",
       "    <tr>\n",
       "      <th>16507</th>\n",
       "      <td>-118.91</td>\n",
       "      <td>34.18</td>\n",
       "      <td>17.0</td>\n",
       "      <td>3220.0</td>\n",
       "      <td>716.0</td>\n",
       "      <td>1381.0</td>\n",
       "      <td>733.0</td>\n",
       "      <td>2.8958</td>\n",
       "      <td>2.0</td>\n",
       "    </tr>\n",
       "    <tr>\n",
       "      <th>16508</th>\n",
       "      <td>-117.79</td>\n",
       "      <td>34.02</td>\n",
       "      <td>5.0</td>\n",
       "      <td>18690.0</td>\n",
       "      <td>2862.0</td>\n",
       "      <td>9427.0</td>\n",
       "      <td>2777.0</td>\n",
       "      <td>6.4266</td>\n",
       "      <td>5.0</td>\n",
       "    </tr>\n",
       "    <tr>\n",
       "      <th>16509</th>\n",
       "      <td>-118.23</td>\n",
       "      <td>33.90</td>\n",
       "      <td>34.0</td>\n",
       "      <td>2462.0</td>\n",
       "      <td>553.0</td>\n",
       "      <td>2334.0</td>\n",
       "      <td>502.0</td>\n",
       "      <td>1.6410</td>\n",
       "      <td>2.0</td>\n",
       "    </tr>\n",
       "    <tr>\n",
       "      <th>16510</th>\n",
       "      <td>-119.73</td>\n",
       "      <td>36.76</td>\n",
       "      <td>30.0</td>\n",
       "      <td>1548.0</td>\n",
       "      <td>282.0</td>\n",
       "      <td>886.0</td>\n",
       "      <td>311.0</td>\n",
       "      <td>3.1000</td>\n",
       "      <td>3.0</td>\n",
       "    </tr>\n",
       "    <tr>\n",
       "      <th>16511</th>\n",
       "      <td>-122.27</td>\n",
       "      <td>38.00</td>\n",
       "      <td>15.0</td>\n",
       "      <td>1216.0</td>\n",
       "      <td>166.0</td>\n",
       "      <td>572.0</td>\n",
       "      <td>178.0</td>\n",
       "      <td>5.8418</td>\n",
       "      <td>4.0</td>\n",
       "    </tr>\n",
       "  </tbody>\n",
       "</table>\n",
       "<p>16512 rows × 9 columns</p>\n",
       "</div>"
      ],
      "text/plain": [
       "       longitude  latitude  housing_median_age  total_rooms  total_bedrooms  \\\n",
       "0        -121.58     39.50                29.0       1947.0           383.0   \n",
       "1        -119.25     34.28                36.0       2232.0           373.0   \n",
       "2        -120.45     34.96                21.0       2121.0           445.0   \n",
       "3        -118.29     34.00                44.0       1753.0           387.0   \n",
       "4        -119.85     36.75                24.0       1143.0           245.0   \n",
       "5        -120.98     39.08                20.0       4570.0           906.0   \n",
       "6        -119.19     34.46                39.0       2056.0           381.0   \n",
       "7        -120.69     37.77                46.0        431.0            86.0   \n",
       "8        -118.27     33.80                38.0       1446.0           327.0   \n",
       "9        -122.40     37.80                52.0       2094.0           568.0   \n",
       "10       -117.36     33.99                42.0       1178.0           261.0   \n",
       "11       -122.30     37.57                36.0       2406.0           436.0   \n",
       "12       -118.21     34.21                41.0       1676.0           263.0   \n",
       "13       -122.50     37.75                44.0       1819.0           435.0   \n",
       "14       -119.03     35.32                12.0       2721.0           549.0   \n",
       "15       -122.09     37.86                27.0       5484.0           760.0   \n",
       "16       -122.46     37.76                28.0       1072.0           165.0   \n",
       "17       -117.49     33.90                 7.0      10235.0          2238.0   \n",
       "18       -118.24     33.97                37.0       1053.0           263.0   \n",
       "19       -118.87     35.37                14.0       2458.0           433.0   \n",
       "20       -118.29     34.07                24.0       4021.0          1707.0   \n",
       "21       -117.53     33.94                21.0       5675.0           935.0   \n",
       "22       -122.28     37.88                52.0       1193.0           200.0   \n",
       "23       -118.29     33.92                40.0       1935.0           461.0   \n",
       "24       -118.43     34.28                30.0       1384.0           308.0   \n",
       "25       -121.45     38.63                28.0       1246.0           295.0   \n",
       "26       -121.83     36.98                19.0       4431.0           705.0   \n",
       "27       -118.14     33.88                24.0       3305.0           982.0   \n",
       "28       -122.38     37.58                52.0       1704.0           226.0   \n",
       "29       -119.72     37.38                16.0       2131.0           424.0   \n",
       "...          ...       ...                 ...          ...             ...   \n",
       "16482    -117.79     33.55                39.0       5066.0          1292.0   \n",
       "16483    -117.86     33.75                13.0       1632.0           598.0   \n",
       "16484    -119.72     36.34                33.0       1287.0           214.0   \n",
       "16485    -117.25     32.79                37.0       1467.0           442.0   \n",
       "16486    -122.23     38.13                29.0       5154.0          1084.0   \n",
       "16487    -117.82     33.78                28.0       4485.0           667.0   \n",
       "16488    -118.12     33.96                38.0       2105.0           348.0   \n",
       "16489    -121.13     36.20                16.0       1868.0           443.0   \n",
       "16490    -119.02     35.41                41.0       2221.0           516.0   \n",
       "16491    -121.36     38.67                 5.0       5819.0          1507.0   \n",
       "16492    -118.29     34.06                 9.0       1554.0           815.0   \n",
       "16493    -117.86     33.88                19.0       1621.0           328.0   \n",
       "16494    -121.63     39.10                22.0       3585.0           548.0   \n",
       "16495    -121.67     40.89                17.0       2548.0           537.0   \n",
       "16496    -118.21     33.95                32.0       1116.0           328.0   \n",
       "16497    -118.20     34.12                44.0       1565.0           398.0   \n",
       "16498    -117.87     33.70                21.0       3648.0           654.0   \n",
       "16499    -122.22     37.79                38.0       3049.0           711.0   \n",
       "16500    -122.58     38.12                13.0       5027.0           871.0   \n",
       "16501    -118.37     33.81                36.0       2031.0           339.0   \n",
       "16502    -118.07     33.91                35.0       2228.0           463.0   \n",
       "16503    -122.15     37.74                43.0       1383.0           275.0   \n",
       "16504    -118.93     34.82                24.0        806.0           168.0   \n",
       "16505    -117.35     34.01                23.0       3707.0           769.0   \n",
       "16506    -118.11     33.83                36.0       1462.0           233.0   \n",
       "16507    -118.91     34.18                17.0       3220.0           716.0   \n",
       "16508    -117.79     34.02                 5.0      18690.0          2862.0   \n",
       "16509    -118.23     33.90                34.0       2462.0           553.0   \n",
       "16510    -119.73     36.76                30.0       1548.0           282.0   \n",
       "16511    -122.27     38.00                15.0       1216.0           166.0   \n",
       "\n",
       "       population  households  median_income  income_cat  \n",
       "0           925.0       337.0         2.1658         2.0  \n",
       "1           951.0       368.0         5.2261         4.0  \n",
       "2          2211.0       463.0         4.0603         3.0  \n",
       "3          1165.0       380.0         2.1354         2.0  \n",
       "4           608.0       240.0         2.8194         2.0  \n",
       "5          2125.0       815.0         3.0403         3.0  \n",
       "6           939.0       371.0         6.6257         5.0  \n",
       "7           239.0        80.0         3.3182         3.0  \n",
       "8           980.0       319.0         3.3500         3.0  \n",
       "9           920.0       503.0         4.2015         3.0  \n",
       "10          804.0       283.0         2.9688         2.0  \n",
       "11         1189.0       403.0         4.7917         4.0  \n",
       "12          757.0       255.0         4.7734         4.0  \n",
       "13         1137.0       354.0         3.4919         3.0  \n",
       "14         1294.0       523.0         2.5575         2.0  \n",
       "15         2212.0       770.0         7.6202         5.0  \n",
       "16          363.0       168.0         6.1636         5.0  \n",
       "17         5271.0      2094.0         3.6071         3.0  \n",
       "18         1354.0       292.0         2.5833         2.0  \n",
       "19         1352.0       411.0         3.5441         3.0  \n",
       "20         3727.0      1529.0         1.7365         2.0  \n",
       "21         2834.0       865.0         4.2263         3.0  \n",
       "22          506.0       207.0         4.1912         3.0  \n",
       "23         1616.0       433.0         2.8750         2.0  \n",
       "24         2054.0       301.0         3.0132         3.0  \n",
       "25          884.0       258.0         1.4397         1.0  \n",
       "26         1764.0       679.0         4.3321         3.0  \n",
       "27         2085.0       881.0         2.6641         2.0  \n",
       "28          671.0       243.0         8.4704         5.0  \n",
       "29          989.0       369.0         2.6071         2.0  \n",
       "...           ...         ...            ...         ...  \n",
       "16482      1915.0      1117.0         3.8210         3.0  \n",
       "16483      3356.0       659.0         1.5054         2.0  \n",
       "16484       580.0       210.0         3.2019         3.0  \n",
       "16485       651.0       354.0         2.3750         2.0  \n",
       "16486      2459.0      1019.0         3.2664         3.0  \n",
       "16487      2048.0       685.0         5.4562         4.0  \n",
       "16488       956.0       350.0         4.4125         3.0  \n",
       "16489      1323.0       436.0         2.9559         2.0  \n",
       "16490      1106.0       473.0         1.9700         2.0  \n",
       "16491      3237.0      1356.0         2.2339         2.0  \n",
       "16492      1704.0       761.0         2.0185         2.0  \n",
       "16493       871.0       322.0         3.7361         3.0  \n",
       "16494      1757.0       577.0         4.1740         3.0  \n",
       "16495      1118.0       461.0         2.2670         2.0  \n",
       "16496      1265.0       302.0         2.2950         2.0  \n",
       "16497      1500.0       407.0         2.8125         2.0  \n",
       "16498      2266.0       628.0         5.0956         4.0  \n",
       "16499      2167.0       659.0         2.7969         2.0  \n",
       "16500      1912.0       770.0         4.9286         4.0  \n",
       "16501       817.0       337.0         5.1271         4.0  \n",
       "16502      1558.0       427.0         4.0230         3.0  \n",
       "16503       853.0       272.0         3.5083         3.0  \n",
       "16504       323.0       136.0         3.5000         3.0  \n",
       "16505      1938.0       658.0         2.7250         2.0  \n",
       "16506       664.0       220.0         5.1171         4.0  \n",
       "16507      1381.0       733.0         2.8958         2.0  \n",
       "16508      9427.0      2777.0         6.4266         5.0  \n",
       "16509      2334.0       502.0         1.6410         2.0  \n",
       "16510       886.0       311.0         3.1000         3.0  \n",
       "16511       572.0       178.0         5.8418         4.0  \n",
       "\n",
       "[16512 rows x 9 columns]"
      ]
     },
     "execution_count": 35,
     "metadata": {},
     "output_type": "execute_result"
    }
   ],
   "source": [
    "housing_tr"
   ]
  },
  {
   "cell_type": "markdown",
   "metadata": {
    "deletable": true,
    "editable": true
   },
   "source": [
    "## Handling text and categorical attributes\n",
    "\n",
    "* Scikit has a transformed called ``LabelEncoder`` that can be used to convert labels to numbers."
   ]
  },
  {
   "cell_type": "code",
   "execution_count": 36,
   "metadata": {
    "collapsed": false,
    "deletable": true,
    "editable": true
   },
   "outputs": [
    {
     "data": {
      "text/plain": [
       "array([1, 4, 0, ..., 0, 1, 3])"
      ]
     },
     "execution_count": 36,
     "metadata": {},
     "output_type": "execute_result"
    }
   ],
   "source": [
    "from sklearn.preprocessing import LabelEncoder\n",
    "encoder = LabelEncoder()\n",
    "housing_cat = housing['ocean_proximity']\n",
    "housing_cat_encoded = encoder.fit_transform(housing_cat)\n",
    "housing_cat_encoded"
   ]
  },
  {
   "cell_type": "code",
   "execution_count": 37,
   "metadata": {
    "collapsed": false,
    "deletable": true,
    "editable": true
   },
   "outputs": [
    {
     "data": {
      "text/plain": [
       "array(['<1H OCEAN', 'INLAND', 'ISLAND', 'NEAR BAY', 'NEAR OCEAN'], dtype=object)"
      ]
     },
     "execution_count": 37,
     "metadata": {},
     "output_type": "execute_result"
    }
   ],
   "source": [
    "encoder.classes_"
   ]
  },
  {
   "cell_type": "markdown",
   "metadata": {
    "deletable": true,
    "editable": true
   },
   "source": [
    "* Issue with this representation: ML algorithms may assume nearby values are meaningful (eg 0 and 1 are more similar than 0 and 4).\n",
    "  * Fix it using 1-hot encoding: each possibilities are columns and they are either yes or no (1 or 0)."
   ]
  },
  {
   "cell_type": "code",
   "execution_count": 38,
   "metadata": {
    "collapsed": false,
    "deletable": true,
    "editable": true
   },
   "outputs": [
    {
     "data": {
      "text/plain": [
       "<16512x5 sparse matrix of type '<class 'numpy.float64'>'\n",
       "\twith 16512 stored elements in Compressed Sparse Row format>"
      ]
     },
     "execution_count": 38,
     "metadata": {},
     "output_type": "execute_result"
    }
   ],
   "source": [
    "from sklearn.preprocessing import OneHotEncoder\n",
    "\n",
    "encoder = OneHotEncoder()\n",
    "housing_cat_1hot = encoder.fit_transform(housing_cat_encoded.reshape(-1, 1))\n",
    "housing_cat_1hot"
   ]
  },
  {
   "cell_type": "markdown",
   "metadata": {
    "deletable": true,
    "editable": true
   },
   "source": [
    "* Returns a sparse matrix so the zeros (of which there are a lot) don't take up any space.\n",
    "\n",
    "* Can apply both transformation: text to integer, integet to one-hot using ``LabelBinarizer`` class:"
   ]
  },
  {
   "cell_type": "code",
   "execution_count": 39,
   "metadata": {
    "collapsed": false,
    "deletable": true,
    "editable": true
   },
   "outputs": [
    {
     "data": {
      "text/plain": [
       "array([[0, 1, 0, 0, 0],\n",
       "       [0, 0, 0, 0, 1],\n",
       "       [1, 0, 0, 0, 0],\n",
       "       ..., \n",
       "       [1, 0, 0, 0, 0],\n",
       "       [0, 1, 0, 0, 0],\n",
       "       [0, 0, 0, 1, 0]])"
      ]
     },
     "execution_count": 39,
     "metadata": {},
     "output_type": "execute_result"
    }
   ],
   "source": [
    "from sklearn.preprocessing import LabelBinarizer\n",
    "\n",
    "encoder = LabelBinarizer()\n",
    "housing_cat_1hot = encoder.fit_transform(housing_cat)\n",
    "housing_cat_1hot"
   ]
  },
  {
   "cell_type": "markdown",
   "metadata": {
    "deletable": true,
    "editable": true
   },
   "source": [
    "## Custom transformers\n",
    "\n",
    "* Just need to implement 3 methods: ``fit()``, ``transform()`` and ``fit_transform()``.\n",
    "  * If you inherit from ``TransformerMixing``, you can ``fit_transform()`` for free.\n",
    "  * If you add ``BaseEstimator`` as base class, you get ``get_params()`` and ``set_params()`` - useful for hyperparam tuning.\n",
    "* Example of adding extra attributes using custom transformer:"
   ]
  },
  {
   "cell_type": "code",
   "execution_count": 40,
   "metadata": {
    "collapsed": false,
    "deletable": true,
    "editable": true
   },
   "outputs": [],
   "source": [
    "from sklearn.base import BaseEstimator, TransformerMixin\n",
    "\n",
    "rooms_ix, bedrooms_ix, population_ix, household_ix = 3, 4, 5, 6\n",
    "\n",
    "class CombinedAttributesAdder(BaseEstimator, TransformerMixin):\n",
    "    def __init__(self, add_bedrooms_per_room=True):\n",
    "        self.add_bedrooms_per_room = add_bedrooms_per_room\n",
    "        \n",
    "    def fit(self, X, y=None):\n",
    "        return self\n",
    "    \n",
    "    def transform(self, X, y=None):\n",
    "        rooms_per_household = X[:, rooms_ix] / X[:, household_ix]\n",
    "        population_per_household = X[:, population_ix] / X[:, household_ix]\n",
    "        if self.add_bedrooms_per_room:\n",
    "            bedrooms_per_room = X[:, bedrooms_ix] / X[:, rooms_ix]\n",
    "            return np.c_[X, rooms_per_household, population_per_household, bedrooms_per_room]"
   ]
  },
  {
   "cell_type": "code",
   "execution_count": 41,
   "metadata": {
    "collapsed": true,
    "deletable": true,
    "editable": true
   },
   "outputs": [],
   "source": [
    "attr_adder = CombinedAttributesAdder(add_bedrooms_per_room=False)\n",
    "housing_extra_attribs = attr_adder.transform(housing.values)"
   ]
  },
  {
   "cell_type": "markdown",
   "metadata": {
    "deletable": true,
    "editable": true
   },
   "source": [
    "## Feature scaling\n",
    "\n",
    "* Most ML algoritms don't work well with features of different scales.\n",
    "* 2 common ways to solve it:\n",
    "  1. Min-max scaling.\n",
    "  2. Standardization.\n",
    "  \n",
    "* Min-max:\n",
    "  * subtract the min and divide by max-min.\n",
    "    ```\n",
    "    (value - min(values)) / max(values) - min(values)\n",
    "    ```\n",
    "  * Provided by Scikit as ``MinMaxScaler``.\n",
    "* Standardization:\n",
    "  * Subtract the mean and divide by the variance.\n",
    "  * Less affected by outliers than min-max.\n",
    "  * Provided by Scikit as ``StandardScaler``."
   ]
  },
  {
   "cell_type": "markdown",
   "metadata": {
    "collapsed": true,
    "deletable": true,
    "editable": true
   },
   "source": [
    "## Transformation pipelines\n",
    "\n",
    "* Run a series of transformations."
   ]
  },
  {
   "cell_type": "code",
   "execution_count": 42,
   "metadata": {
    "collapsed": true,
    "deletable": true,
    "editable": true
   },
   "outputs": [],
   "source": [
    "from sklearn.pipeline import Pipeline\n",
    "from sklearn.preprocessing import StandardScaler\n",
    "\n",
    "num_pipeline = Pipeline([\n",
    "    ('imputer', Imputer(strategy='median')),\n",
    "    ('attribs_addr', CombinedAttributesAdder()),\n",
    "    ('std_scaler', StandardScaler())\n",
    "])"
   ]
  },
  {
   "cell_type": "code",
   "execution_count": 43,
   "metadata": {
    "collapsed": false,
    "deletable": true,
    "editable": true
   },
   "outputs": [],
   "source": [
    "from sklearn.base import BaseEstimator, TransformerMixin\n",
    "\n",
    "class DataFrameSelector(BaseEstimator, TransformerMixin):\n",
    "    def __init__(self, attribute_names):\n",
    "        self.attribute_names = attribute_names\n",
    "        \n",
    "    def fit(self, X, y=None):\n",
    "        return self\n",
    "\n",
    "    def transform(self, X):\n",
    "        return X[self.attribute_names].values"
   ]
  },
  {
   "cell_type": "markdown",
   "metadata": {
    "deletable": true,
    "editable": true
   },
   "source": [
    "* Can join multiple transformation pipelines using a ``FeatureUnion`` class."
   ]
  },
  {
   "cell_type": "code",
   "execution_count": 44,
   "metadata": {
    "collapsed": false,
    "deletable": true,
    "editable": true
   },
   "outputs": [],
   "source": [
    "from sklearn.pipeline import FeatureUnion\n",
    "\n",
    "num_attribs = list(housing_only_num)\n",
    "cat_attribs = ['ocean_proximity']\n",
    "\n",
    "num_pipeline = Pipeline([\n",
    "    ('selector', DataFrameSelector(num_attribs)),\n",
    "    ('imputer', Imputer(strategy='median')),\n",
    "    ('attribs_addr', CombinedAttributesAdder()),\n",
    "    ('std_scaler', StandardScaler())\n",
    "])\n",
    "\n",
    "cat_pipeline = Pipeline([\n",
    "    ('selector', DataFrameSelector(cat_attribs)),\n",
    "    ('label_binarizer', LabelBinarizer()),\n",
    "])\n",
    "\n",
    "full_pipeline = FeatureUnion(transformer_list=[\n",
    "    (\"num_pipeline\", num_pipeline),\n",
    "    (\"cat_pipeline\", cat_pipeline),\n",
    "])"
   ]
  },
  {
   "cell_type": "code",
   "execution_count": 45,
   "metadata": {
    "collapsed": false,
    "deletable": true,
    "editable": true
   },
   "outputs": [],
   "source": [
    "housing_prepared = full_pipeline.fit_transform(housing)"
   ]
  },
  {
   "cell_type": "markdown",
   "metadata": {
    "collapsed": false,
    "deletable": true,
    "editable": true
   },
   "source": [
    "* Train first linear regression model:"
   ]
  },
  {
   "cell_type": "code",
   "execution_count": 46,
   "metadata": {
    "collapsed": false,
    "deletable": true,
    "editable": true
   },
   "outputs": [
    {
     "name": "stderr",
     "output_type": "stream",
     "text": [
      "/Users/lex/code/study-notes/books/hands-on-machine-learning/ENV/lib/python3.6/site-packages/scipy/linalg/basic.py:1018: RuntimeWarning: internal gelsd driver lwork query error, required iwork dimension not returned. This is likely the result of LAPACK bug 0038, fixed in LAPACK 3.2.2 (released July 21, 2010). Falling back to 'gelss' driver.\n",
      "  warnings.warn(mesg, RuntimeWarning)\n"
     ]
    },
    {
     "data": {
      "text/plain": [
       "LinearRegression(copy_X=True, fit_intercept=True, n_jobs=1, normalize=False)"
      ]
     },
     "execution_count": 46,
     "metadata": {},
     "output_type": "execute_result"
    }
   ],
   "source": [
    "from sklearn.linear_model import LinearRegression\n",
    "\n",
    "lin_reg = LinearRegression()\n",
    "lin_reg.fit(housing_prepared, housing_labels)"
   ]
  },
  {
   "cell_type": "code",
   "execution_count": 47,
   "metadata": {
    "collapsed": false,
    "deletable": true,
    "editable": true
   },
   "outputs": [
    {
     "data": {
      "text/plain": [
       "68076.0853509843"
      ]
     },
     "execution_count": 47,
     "metadata": {},
     "output_type": "execute_result"
    }
   ],
   "source": [
    "from sklearn.metrics import mean_squared_error\n",
    "\n",
    "housing_predictions = lin_reg.predict(housing_prepared)\n",
    "lin_mse = mean_squared_error(housing_labels, housing_predictions)\n",
    "lin_rmse = np.sqrt(lin_mse)\n",
    "lin_rmse"
   ]
  },
  {
   "cell_type": "markdown",
   "metadata": {
    "deletable": true,
    "editable": true
   },
   "source": [
    "* Result indicates we have a root mean squared error of $68k. Not a great result.\n",
    "  * Indicates overfitting.\n",
    "  \n",
    "* Trying out a ``DecisionTreeRegressor`` yields no error. Very likely overfitting:"
   ]
  },
  {
   "cell_type": "code",
   "execution_count": 48,
   "metadata": {
    "collapsed": false,
    "deletable": true,
    "editable": true
   },
   "outputs": [
    {
     "data": {
      "text/plain": [
       "0.0"
      ]
     },
     "execution_count": 48,
     "metadata": {},
     "output_type": "execute_result"
    }
   ],
   "source": [
    "from sklearn.tree import DecisionTreeRegressor\n",
    "\n",
    "tree_reg = DecisionTreeRegressor()\n",
    "tree_reg.fit(housing_prepared, housing_labels)\n",
    "housing_predictions = tree_reg.predict(housing_prepared)\n",
    "tree_mse = mean_squared_error(housing_labels, housing_predictions)\n",
    "tree_rmse = np.sqrt(tree_mse)\n",
    "tree_rmse"
   ]
  },
  {
   "cell_type": "markdown",
   "metadata": {
    "deletable": true,
    "editable": true
   },
   "source": [
    "* Cross-validation can be useful for evaluating model.\n",
    "  * Random splits data set into 10 distinct subsets called \"folds\".\n",
    "  * It runs training 10 times, picking 9 folds to use for training and one for evaluation."
   ]
  },
  {
   "cell_type": "code",
   "execution_count": 49,
   "metadata": {
    "collapsed": false,
    "deletable": true,
    "editable": true
   },
   "outputs": [
    {
     "name": "stderr",
     "output_type": "stream",
     "text": [
      "/Users/lex/code/study-notes/books/hands-on-machine-learning/ENV/lib/python3.6/site-packages/sklearn/metrics/scorer.py:90: DeprecationWarning: Scoring method mean_squared_error was renamed to neg_mean_squared_error in version 0.18 and will be removed in 0.20.\n",
      "  sample_weight=sample_weight)\n",
      "/Users/lex/code/study-notes/books/hands-on-machine-learning/ENV/lib/python3.6/site-packages/sklearn/metrics/scorer.py:90: DeprecationWarning: Scoring method mean_squared_error was renamed to neg_mean_squared_error in version 0.18 and will be removed in 0.20.\n",
      "  sample_weight=sample_weight)\n",
      "/Users/lex/code/study-notes/books/hands-on-machine-learning/ENV/lib/python3.6/site-packages/sklearn/metrics/scorer.py:90: DeprecationWarning: Scoring method mean_squared_error was renamed to neg_mean_squared_error in version 0.18 and will be removed in 0.20.\n",
      "  sample_weight=sample_weight)\n",
      "/Users/lex/code/study-notes/books/hands-on-machine-learning/ENV/lib/python3.6/site-packages/sklearn/metrics/scorer.py:90: DeprecationWarning: Scoring method mean_squared_error was renamed to neg_mean_squared_error in version 0.18 and will be removed in 0.20.\n",
      "  sample_weight=sample_weight)\n",
      "/Users/lex/code/study-notes/books/hands-on-machine-learning/ENV/lib/python3.6/site-packages/sklearn/metrics/scorer.py:90: DeprecationWarning: Scoring method mean_squared_error was renamed to neg_mean_squared_error in version 0.18 and will be removed in 0.20.\n",
      "  sample_weight=sample_weight)\n",
      "/Users/lex/code/study-notes/books/hands-on-machine-learning/ENV/lib/python3.6/site-packages/sklearn/metrics/scorer.py:90: DeprecationWarning: Scoring method mean_squared_error was renamed to neg_mean_squared_error in version 0.18 and will be removed in 0.20.\n",
      "  sample_weight=sample_weight)\n",
      "/Users/lex/code/study-notes/books/hands-on-machine-learning/ENV/lib/python3.6/site-packages/sklearn/metrics/scorer.py:90: DeprecationWarning: Scoring method mean_squared_error was renamed to neg_mean_squared_error in version 0.18 and will be removed in 0.20.\n",
      "  sample_weight=sample_weight)\n",
      "/Users/lex/code/study-notes/books/hands-on-machine-learning/ENV/lib/python3.6/site-packages/sklearn/metrics/scorer.py:90: DeprecationWarning: Scoring method mean_squared_error was renamed to neg_mean_squared_error in version 0.18 and will be removed in 0.20.\n",
      "  sample_weight=sample_weight)\n",
      "/Users/lex/code/study-notes/books/hands-on-machine-learning/ENV/lib/python3.6/site-packages/sklearn/metrics/scorer.py:90: DeprecationWarning: Scoring method mean_squared_error was renamed to neg_mean_squared_error in version 0.18 and will be removed in 0.20.\n",
      "  sample_weight=sample_weight)\n",
      "/Users/lex/code/study-notes/books/hands-on-machine-learning/ENV/lib/python3.6/site-packages/sklearn/metrics/scorer.py:90: DeprecationWarning: Scoring method mean_squared_error was renamed to neg_mean_squared_error in version 0.18 and will be removed in 0.20.\n",
      "  sample_weight=sample_weight)\n"
     ]
    }
   ],
   "source": [
    "from sklearn.cross_validation import cross_val_score\n",
    "scores = cross_val_score(\n",
    "    tree_reg, housing_prepared, housing_labels, scoring='mean_squared_error', cv=10)\n",
    "tree_rmse_scores = np.sqrt(-scores)"
   ]
  },
  {
   "cell_type": "code",
   "execution_count": 50,
   "metadata": {
    "collapsed": false,
    "deletable": true,
    "editable": true
   },
   "outputs": [
    {
     "name": "stdout",
     "output_type": "stream",
     "text": [
      "Scores:  [ 73651.24957013  73324.82628305  76017.90866926  70740.33567143\n",
      "  66347.00170989  68824.33584693  72519.26810552  68518.00740316\n",
      "  75101.99801233  70503.25788175]\n",
      "Mean:  71554.8189153\n",
      "Standard deviation:  2941.56497574\n"
     ]
    }
   ],
   "source": [
    "def display_scores(scores):\n",
    "    print(\"Scores: \", scores)\n",
    "    print(\"Mean: \", scores.mean())\n",
    "    print(\"Standard deviation: \", scores.std())\n",
    "    \n",
    "display_scores(tree_rmse_scores)"
   ]
  },
  {
   "cell_type": "code",
   "execution_count": 51,
   "metadata": {
    "collapsed": false,
    "deletable": true,
    "editable": true
   },
   "outputs": [
    {
     "name": "stderr",
     "output_type": "stream",
     "text": [
      "/Users/lex/code/study-notes/books/hands-on-machine-learning/ENV/lib/python3.6/site-packages/sklearn/metrics/scorer.py:90: DeprecationWarning: Scoring method mean_squared_error was renamed to neg_mean_squared_error in version 0.18 and will be removed in 0.20.\n",
      "  sample_weight=sample_weight)\n",
      "/Users/lex/code/study-notes/books/hands-on-machine-learning/ENV/lib/python3.6/site-packages/sklearn/metrics/scorer.py:90: DeprecationWarning: Scoring method mean_squared_error was renamed to neg_mean_squared_error in version 0.18 and will be removed in 0.20.\n",
      "  sample_weight=sample_weight)\n",
      "/Users/lex/code/study-notes/books/hands-on-machine-learning/ENV/lib/python3.6/site-packages/sklearn/metrics/scorer.py:90: DeprecationWarning: Scoring method mean_squared_error was renamed to neg_mean_squared_error in version 0.18 and will be removed in 0.20.\n",
      "  sample_weight=sample_weight)\n",
      "/Users/lex/code/study-notes/books/hands-on-machine-learning/ENV/lib/python3.6/site-packages/sklearn/metrics/scorer.py:90: DeprecationWarning: Scoring method mean_squared_error was renamed to neg_mean_squared_error in version 0.18 and will be removed in 0.20.\n",
      "  sample_weight=sample_weight)\n",
      "/Users/lex/code/study-notes/books/hands-on-machine-learning/ENV/lib/python3.6/site-packages/sklearn/metrics/scorer.py:90: DeprecationWarning: Scoring method mean_squared_error was renamed to neg_mean_squared_error in version 0.18 and will be removed in 0.20.\n",
      "  sample_weight=sample_weight)\n",
      "/Users/lex/code/study-notes/books/hands-on-machine-learning/ENV/lib/python3.6/site-packages/sklearn/metrics/scorer.py:90: DeprecationWarning: Scoring method mean_squared_error was renamed to neg_mean_squared_error in version 0.18 and will be removed in 0.20.\n",
      "  sample_weight=sample_weight)\n",
      "/Users/lex/code/study-notes/books/hands-on-machine-learning/ENV/lib/python3.6/site-packages/sklearn/metrics/scorer.py:90: DeprecationWarning: Scoring method mean_squared_error was renamed to neg_mean_squared_error in version 0.18 and will be removed in 0.20.\n",
      "  sample_weight=sample_weight)\n",
      "/Users/lex/code/study-notes/books/hands-on-machine-learning/ENV/lib/python3.6/site-packages/sklearn/metrics/scorer.py:90: DeprecationWarning: Scoring method mean_squared_error was renamed to neg_mean_squared_error in version 0.18 and will be removed in 0.20.\n",
      "  sample_weight=sample_weight)\n",
      "/Users/lex/code/study-notes/books/hands-on-machine-learning/ENV/lib/python3.6/site-packages/sklearn/metrics/scorer.py:90: DeprecationWarning: Scoring method mean_squared_error was renamed to neg_mean_squared_error in version 0.18 and will be removed in 0.20.\n",
      "  sample_weight=sample_weight)\n"
     ]
    },
    {
     "name": "stdout",
     "output_type": "stream",
     "text": [
      "Scores:  [ 68326.15330564  69355.66745184  69935.14111396  69365.217275\n",
      "  73591.2144789   66891.70255438  68000.8601807   65520.59398059\n",
      "  67274.07041823  67483.80620253]\n",
      "Mean:  68574.4426962\n",
      "Standard deviation:  2090.06800765\n"
     ]
    },
    {
     "name": "stderr",
     "output_type": "stream",
     "text": [
      "/Users/lex/code/study-notes/books/hands-on-machine-learning/ENV/lib/python3.6/site-packages/sklearn/metrics/scorer.py:90: DeprecationWarning: Scoring method mean_squared_error was renamed to neg_mean_squared_error in version 0.18 and will be removed in 0.20.\n",
      "  sample_weight=sample_weight)\n"
     ]
    }
   ],
   "source": [
    "lin_scores = cross_val_score(\n",
    "    lin_reg, housing_prepared, housing_labels,\n",
    "    scoring=\"mean_squared_error\", cv=10)\n",
    "lin_rmse_scores = np.sqrt(-lin_scores)\n",
    "display_scores(lin_rmse_scores)"
   ]
  },
  {
   "cell_type": "markdown",
   "metadata": {
    "deletable": true,
    "editable": true
   },
   "source": [
    "* Can see that the ``DecisionTreeRegressor`` performed worse than Linear Regression because of overfitting.\n",
    "* Another attempt: Random Forest.\n",
    "  * RF trains a bunch of decision trees on random subsets of the data and often yields strong perform."
   ]
  },
  {
   "cell_type": "code",
   "execution_count": 52,
   "metadata": {
    "collapsed": false,
    "deletable": true,
    "editable": true
   },
   "outputs": [
    {
     "name": "stderr",
     "output_type": "stream",
     "text": [
      "/Users/lex/code/study-notes/books/hands-on-machine-learning/ENV/lib/python3.6/site-packages/sklearn/metrics/scorer.py:90: DeprecationWarning: Scoring method mean_squared_error was renamed to neg_mean_squared_error in version 0.18 and will be removed in 0.20.\n",
      "  sample_weight=sample_weight)\n",
      "/Users/lex/code/study-notes/books/hands-on-machine-learning/ENV/lib/python3.6/site-packages/sklearn/metrics/scorer.py:90: DeprecationWarning: Scoring method mean_squared_error was renamed to neg_mean_squared_error in version 0.18 and will be removed in 0.20.\n",
      "  sample_weight=sample_weight)\n",
      "/Users/lex/code/study-notes/books/hands-on-machine-learning/ENV/lib/python3.6/site-packages/sklearn/metrics/scorer.py:90: DeprecationWarning: Scoring method mean_squared_error was renamed to neg_mean_squared_error in version 0.18 and will be removed in 0.20.\n",
      "  sample_weight=sample_weight)\n",
      "/Users/lex/code/study-notes/books/hands-on-machine-learning/ENV/lib/python3.6/site-packages/sklearn/metrics/scorer.py:90: DeprecationWarning: Scoring method mean_squared_error was renamed to neg_mean_squared_error in version 0.18 and will be removed in 0.20.\n",
      "  sample_weight=sample_weight)\n",
      "/Users/lex/code/study-notes/books/hands-on-machine-learning/ENV/lib/python3.6/site-packages/sklearn/metrics/scorer.py:90: DeprecationWarning: Scoring method mean_squared_error was renamed to neg_mean_squared_error in version 0.18 and will be removed in 0.20.\n",
      "  sample_weight=sample_weight)\n",
      "/Users/lex/code/study-notes/books/hands-on-machine-learning/ENV/lib/python3.6/site-packages/sklearn/metrics/scorer.py:90: DeprecationWarning: Scoring method mean_squared_error was renamed to neg_mean_squared_error in version 0.18 and will be removed in 0.20.\n",
      "  sample_weight=sample_weight)\n",
      "/Users/lex/code/study-notes/books/hands-on-machine-learning/ENV/lib/python3.6/site-packages/sklearn/metrics/scorer.py:90: DeprecationWarning: Scoring method mean_squared_error was renamed to neg_mean_squared_error in version 0.18 and will be removed in 0.20.\n",
      "  sample_weight=sample_weight)\n",
      "/Users/lex/code/study-notes/books/hands-on-machine-learning/ENV/lib/python3.6/site-packages/sklearn/metrics/scorer.py:90: DeprecationWarning: Scoring method mean_squared_error was renamed to neg_mean_squared_error in version 0.18 and will be removed in 0.20.\n",
      "  sample_weight=sample_weight)\n",
      "/Users/lex/code/study-notes/books/hands-on-machine-learning/ENV/lib/python3.6/site-packages/sklearn/metrics/scorer.py:90: DeprecationWarning: Scoring method mean_squared_error was renamed to neg_mean_squared_error in version 0.18 and will be removed in 0.20.\n",
      "  sample_weight=sample_weight)\n"
     ]
    },
    {
     "name": "stdout",
     "output_type": "stream",
     "text": [
      "Scores:  [ 51319.12584344  52022.64385419  55243.75603728  50995.4407346\n",
      "  50874.35845263  51995.77921989  53989.75118107  50813.80228627\n",
      "  53570.94022943  51881.85102953]\n",
      "Mean:  52270.7448868\n",
      "Standard deviation:  1427.48873345\n"
     ]
    },
    {
     "name": "stderr",
     "output_type": "stream",
     "text": [
      "/Users/lex/code/study-notes/books/hands-on-machine-learning/ENV/lib/python3.6/site-packages/sklearn/metrics/scorer.py:90: DeprecationWarning: Scoring method mean_squared_error was renamed to neg_mean_squared_error in version 0.18 and will be removed in 0.20.\n",
      "  sample_weight=sample_weight)\n"
     ]
    }
   ],
   "source": [
    "from sklearn.ensemble import RandomForestRegressor\n",
    "\n",
    "forest_reg = RandomForestRegressor()\n",
    "forest_reg.fit(housing_prepared, housing_labels)\n",
    "lin_scores = cross_val_score(\n",
    "    forest_reg, housing_prepared, housing_labels,\n",
    "    scoring=\"mean_squared_error\", cv=10)\n",
    "forest_rmse_scores = np.sqrt(-lin_scores)\n",
    "display_scores(forest_rmse_scores)"
   ]
  },
  {
   "cell_type": "markdown",
   "metadata": {
    "deletable": true,
    "editable": true
   },
   "source": [
    "* Before you dive too far into one algorithm, ensure you shortlist around 2 - 5 other potentials.\n",
    "* Can save models using the ``joblib`` library."
   ]
  },
  {
   "cell_type": "markdown",
   "metadata": {
    "collapsed": true,
    "deletable": true,
    "editable": true
   },
   "source": [
    "### Grid search\n",
    "\n",
    "* ``GridSearchCV`` can do automatic hyperparameter tuning.\n",
    "   * If you have no idea what hyperparameter value to use, try consecutive powers of 10."
   ]
  },
  {
   "cell_type": "code",
   "execution_count": 53,
   "metadata": {
    "collapsed": false,
    "deletable": true,
    "editable": true
   },
   "outputs": [
    {
     "name": "stderr",
     "output_type": "stream",
     "text": [
      "/Users/lex/code/study-notes/books/hands-on-machine-learning/ENV/lib/python3.6/site-packages/sklearn/grid_search.py:43: DeprecationWarning: This module was deprecated in version 0.18 in favor of the model_selection module into which all the refactored classes and functions are moved. This module will be removed in 0.20.\n",
      "  DeprecationWarning)\n",
      "/Users/lex/code/study-notes/books/hands-on-machine-learning/ENV/lib/python3.6/site-packages/sklearn/metrics/scorer.py:90: DeprecationWarning: Scoring method mean_squared_error was renamed to neg_mean_squared_error in version 0.18 and will be removed in 0.20.\n",
      "  sample_weight=sample_weight)\n",
      "/Users/lex/code/study-notes/books/hands-on-machine-learning/ENV/lib/python3.6/site-packages/sklearn/metrics/scorer.py:90: DeprecationWarning: Scoring method mean_squared_error was renamed to neg_mean_squared_error in version 0.18 and will be removed in 0.20.\n",
      "  sample_weight=sample_weight)\n",
      "/Users/lex/code/study-notes/books/hands-on-machine-learning/ENV/lib/python3.6/site-packages/sklearn/metrics/scorer.py:90: DeprecationWarning: Scoring method mean_squared_error was renamed to neg_mean_squared_error in version 0.18 and will be removed in 0.20.\n",
      "  sample_weight=sample_weight)\n",
      "/Users/lex/code/study-notes/books/hands-on-machine-learning/ENV/lib/python3.6/site-packages/sklearn/metrics/scorer.py:90: DeprecationWarning: Scoring method mean_squared_error was renamed to neg_mean_squared_error in version 0.18 and will be removed in 0.20.\n",
      "  sample_weight=sample_weight)\n",
      "/Users/lex/code/study-notes/books/hands-on-machine-learning/ENV/lib/python3.6/site-packages/sklearn/metrics/scorer.py:90: DeprecationWarning: Scoring method mean_squared_error was renamed to neg_mean_squared_error in version 0.18 and will be removed in 0.20.\n",
      "  sample_weight=sample_weight)\n",
      "/Users/lex/code/study-notes/books/hands-on-machine-learning/ENV/lib/python3.6/site-packages/sklearn/metrics/scorer.py:90: DeprecationWarning: Scoring method mean_squared_error was renamed to neg_mean_squared_error in version 0.18 and will be removed in 0.20.\n",
      "  sample_weight=sample_weight)\n",
      "/Users/lex/code/study-notes/books/hands-on-machine-learning/ENV/lib/python3.6/site-packages/sklearn/metrics/scorer.py:90: DeprecationWarning: Scoring method mean_squared_error was renamed to neg_mean_squared_error in version 0.18 and will be removed in 0.20.\n",
      "  sample_weight=sample_weight)\n",
      "/Users/lex/code/study-notes/books/hands-on-machine-learning/ENV/lib/python3.6/site-packages/sklearn/metrics/scorer.py:90: DeprecationWarning: Scoring method mean_squared_error was renamed to neg_mean_squared_error in version 0.18 and will be removed in 0.20.\n",
      "  sample_weight=sample_weight)\n",
      "/Users/lex/code/study-notes/books/hands-on-machine-learning/ENV/lib/python3.6/site-packages/sklearn/metrics/scorer.py:90: DeprecationWarning: Scoring method mean_squared_error was renamed to neg_mean_squared_error in version 0.18 and will be removed in 0.20.\n",
      "  sample_weight=sample_weight)\n",
      "/Users/lex/code/study-notes/books/hands-on-machine-learning/ENV/lib/python3.6/site-packages/sklearn/metrics/scorer.py:90: DeprecationWarning: Scoring method mean_squared_error was renamed to neg_mean_squared_error in version 0.18 and will be removed in 0.20.\n",
      "  sample_weight=sample_weight)\n",
      "/Users/lex/code/study-notes/books/hands-on-machine-learning/ENV/lib/python3.6/site-packages/sklearn/metrics/scorer.py:90: DeprecationWarning: Scoring method mean_squared_error was renamed to neg_mean_squared_error in version 0.18 and will be removed in 0.20.\n",
      "  sample_weight=sample_weight)\n",
      "/Users/lex/code/study-notes/books/hands-on-machine-learning/ENV/lib/python3.6/site-packages/sklearn/metrics/scorer.py:90: DeprecationWarning: Scoring method mean_squared_error was renamed to neg_mean_squared_error in version 0.18 and will be removed in 0.20.\n",
      "  sample_weight=sample_weight)\n",
      "/Users/lex/code/study-notes/books/hands-on-machine-learning/ENV/lib/python3.6/site-packages/sklearn/metrics/scorer.py:90: DeprecationWarning: Scoring method mean_squared_error was renamed to neg_mean_squared_error in version 0.18 and will be removed in 0.20.\n",
      "  sample_weight=sample_weight)\n",
      "/Users/lex/code/study-notes/books/hands-on-machine-learning/ENV/lib/python3.6/site-packages/sklearn/metrics/scorer.py:90: DeprecationWarning: Scoring method mean_squared_error was renamed to neg_mean_squared_error in version 0.18 and will be removed in 0.20.\n",
      "  sample_weight=sample_weight)\n",
      "/Users/lex/code/study-notes/books/hands-on-machine-learning/ENV/lib/python3.6/site-packages/sklearn/metrics/scorer.py:90: DeprecationWarning: Scoring method mean_squared_error was renamed to neg_mean_squared_error in version 0.18 and will be removed in 0.20.\n",
      "  sample_weight=sample_weight)\n",
      "/Users/lex/code/study-notes/books/hands-on-machine-learning/ENV/lib/python3.6/site-packages/sklearn/metrics/scorer.py:90: DeprecationWarning: Scoring method mean_squared_error was renamed to neg_mean_squared_error in version 0.18 and will be removed in 0.20.\n",
      "  sample_weight=sample_weight)\n",
      "/Users/lex/code/study-notes/books/hands-on-machine-learning/ENV/lib/python3.6/site-packages/sklearn/metrics/scorer.py:90: DeprecationWarning: Scoring method mean_squared_error was renamed to neg_mean_squared_error in version 0.18 and will be removed in 0.20.\n",
      "  sample_weight=sample_weight)\n",
      "/Users/lex/code/study-notes/books/hands-on-machine-learning/ENV/lib/python3.6/site-packages/sklearn/metrics/scorer.py:90: DeprecationWarning: Scoring method mean_squared_error was renamed to neg_mean_squared_error in version 0.18 and will be removed in 0.20.\n",
      "  sample_weight=sample_weight)\n",
      "/Users/lex/code/study-notes/books/hands-on-machine-learning/ENV/lib/python3.6/site-packages/sklearn/metrics/scorer.py:90: DeprecationWarning: Scoring method mean_squared_error was renamed to neg_mean_squared_error in version 0.18 and will be removed in 0.20.\n",
      "  sample_weight=sample_weight)\n",
      "/Users/lex/code/study-notes/books/hands-on-machine-learning/ENV/lib/python3.6/site-packages/sklearn/metrics/scorer.py:90: DeprecationWarning: Scoring method mean_squared_error was renamed to neg_mean_squared_error in version 0.18 and will be removed in 0.20.\n",
      "  sample_weight=sample_weight)\n",
      "/Users/lex/code/study-notes/books/hands-on-machine-learning/ENV/lib/python3.6/site-packages/sklearn/metrics/scorer.py:90: DeprecationWarning: Scoring method mean_squared_error was renamed to neg_mean_squared_error in version 0.18 and will be removed in 0.20.\n",
      "  sample_weight=sample_weight)\n",
      "/Users/lex/code/study-notes/books/hands-on-machine-learning/ENV/lib/python3.6/site-packages/sklearn/metrics/scorer.py:90: DeprecationWarning: Scoring method mean_squared_error was renamed to neg_mean_squared_error in version 0.18 and will be removed in 0.20.\n",
      "  sample_weight=sample_weight)\n",
      "/Users/lex/code/study-notes/books/hands-on-machine-learning/ENV/lib/python3.6/site-packages/sklearn/metrics/scorer.py:90: DeprecationWarning: Scoring method mean_squared_error was renamed to neg_mean_squared_error in version 0.18 and will be removed in 0.20.\n",
      "  sample_weight=sample_weight)\n",
      "/Users/lex/code/study-notes/books/hands-on-machine-learning/ENV/lib/python3.6/site-packages/sklearn/metrics/scorer.py:90: DeprecationWarning: Scoring method mean_squared_error was renamed to neg_mean_squared_error in version 0.18 and will be removed in 0.20.\n",
      "  sample_weight=sample_weight)\n",
      "/Users/lex/code/study-notes/books/hands-on-machine-learning/ENV/lib/python3.6/site-packages/sklearn/metrics/scorer.py:90: DeprecationWarning: Scoring method mean_squared_error was renamed to neg_mean_squared_error in version 0.18 and will be removed in 0.20.\n",
      "  sample_weight=sample_weight)\n",
      "/Users/lex/code/study-notes/books/hands-on-machine-learning/ENV/lib/python3.6/site-packages/sklearn/metrics/scorer.py:90: DeprecationWarning: Scoring method mean_squared_error was renamed to neg_mean_squared_error in version 0.18 and will be removed in 0.20.\n",
      "  sample_weight=sample_weight)\n",
      "/Users/lex/code/study-notes/books/hands-on-machine-learning/ENV/lib/python3.6/site-packages/sklearn/metrics/scorer.py:90: DeprecationWarning: Scoring method mean_squared_error was renamed to neg_mean_squared_error in version 0.18 and will be removed in 0.20.\n",
      "  sample_weight=sample_weight)\n",
      "/Users/lex/code/study-notes/books/hands-on-machine-learning/ENV/lib/python3.6/site-packages/sklearn/metrics/scorer.py:90: DeprecationWarning: Scoring method mean_squared_error was renamed to neg_mean_squared_error in version 0.18 and will be removed in 0.20.\n",
      "  sample_weight=sample_weight)\n",
      "/Users/lex/code/study-notes/books/hands-on-machine-learning/ENV/lib/python3.6/site-packages/sklearn/metrics/scorer.py:90: DeprecationWarning: Scoring method mean_squared_error was renamed to neg_mean_squared_error in version 0.18 and will be removed in 0.20.\n",
      "  sample_weight=sample_weight)\n",
      "/Users/lex/code/study-notes/books/hands-on-machine-learning/ENV/lib/python3.6/site-packages/sklearn/metrics/scorer.py:90: DeprecationWarning: Scoring method mean_squared_error was renamed to neg_mean_squared_error in version 0.18 and will be removed in 0.20.\n",
      "  sample_weight=sample_weight)\n",
      "/Users/lex/code/study-notes/books/hands-on-machine-learning/ENV/lib/python3.6/site-packages/sklearn/metrics/scorer.py:90: DeprecationWarning: Scoring method mean_squared_error was renamed to neg_mean_squared_error in version 0.18 and will be removed in 0.20.\n",
      "  sample_weight=sample_weight)\n",
      "/Users/lex/code/study-notes/books/hands-on-machine-learning/ENV/lib/python3.6/site-packages/sklearn/metrics/scorer.py:90: DeprecationWarning: Scoring method mean_squared_error was renamed to neg_mean_squared_error in version 0.18 and will be removed in 0.20.\n",
      "  sample_weight=sample_weight)\n",
      "/Users/lex/code/study-notes/books/hands-on-machine-learning/ENV/lib/python3.6/site-packages/sklearn/metrics/scorer.py:90: DeprecationWarning: Scoring method mean_squared_error was renamed to neg_mean_squared_error in version 0.18 and will be removed in 0.20.\n",
      "  sample_weight=sample_weight)\n",
      "/Users/lex/code/study-notes/books/hands-on-machine-learning/ENV/lib/python3.6/site-packages/sklearn/metrics/scorer.py:90: DeprecationWarning: Scoring method mean_squared_error was renamed to neg_mean_squared_error in version 0.18 and will be removed in 0.20.\n",
      "  sample_weight=sample_weight)\n",
      "/Users/lex/code/study-notes/books/hands-on-machine-learning/ENV/lib/python3.6/site-packages/sklearn/metrics/scorer.py:90: DeprecationWarning: Scoring method mean_squared_error was renamed to neg_mean_squared_error in version 0.18 and will be removed in 0.20.\n",
      "  sample_weight=sample_weight)\n",
      "/Users/lex/code/study-notes/books/hands-on-machine-learning/ENV/lib/python3.6/site-packages/sklearn/metrics/scorer.py:90: DeprecationWarning: Scoring method mean_squared_error was renamed to neg_mean_squared_error in version 0.18 and will be removed in 0.20.\n",
      "  sample_weight=sample_weight)\n",
      "/Users/lex/code/study-notes/books/hands-on-machine-learning/ENV/lib/python3.6/site-packages/sklearn/metrics/scorer.py:90: DeprecationWarning: Scoring method mean_squared_error was renamed to neg_mean_squared_error in version 0.18 and will be removed in 0.20.\n",
      "  sample_weight=sample_weight)\n",
      "/Users/lex/code/study-notes/books/hands-on-machine-learning/ENV/lib/python3.6/site-packages/sklearn/metrics/scorer.py:90: DeprecationWarning: Scoring method mean_squared_error was renamed to neg_mean_squared_error in version 0.18 and will be removed in 0.20.\n",
      "  sample_weight=sample_weight)\n",
      "/Users/lex/code/study-notes/books/hands-on-machine-learning/ENV/lib/python3.6/site-packages/sklearn/metrics/scorer.py:90: DeprecationWarning: Scoring method mean_squared_error was renamed to neg_mean_squared_error in version 0.18 and will be removed in 0.20.\n",
      "  sample_weight=sample_weight)\n",
      "/Users/lex/code/study-notes/books/hands-on-machine-learning/ENV/lib/python3.6/site-packages/sklearn/metrics/scorer.py:90: DeprecationWarning: Scoring method mean_squared_error was renamed to neg_mean_squared_error in version 0.18 and will be removed in 0.20.\n",
      "  sample_weight=sample_weight)\n",
      "/Users/lex/code/study-notes/books/hands-on-machine-learning/ENV/lib/python3.6/site-packages/sklearn/metrics/scorer.py:90: DeprecationWarning: Scoring method mean_squared_error was renamed to neg_mean_squared_error in version 0.18 and will be removed in 0.20.\n",
      "  sample_weight=sample_weight)\n",
      "/Users/lex/code/study-notes/books/hands-on-machine-learning/ENV/lib/python3.6/site-packages/sklearn/metrics/scorer.py:90: DeprecationWarning: Scoring method mean_squared_error was renamed to neg_mean_squared_error in version 0.18 and will be removed in 0.20.\n",
      "  sample_weight=sample_weight)\n",
      "/Users/lex/code/study-notes/books/hands-on-machine-learning/ENV/lib/python3.6/site-packages/sklearn/metrics/scorer.py:90: DeprecationWarning: Scoring method mean_squared_error was renamed to neg_mean_squared_error in version 0.18 and will be removed in 0.20.\n",
      "  sample_weight=sample_weight)\n",
      "/Users/lex/code/study-notes/books/hands-on-machine-learning/ENV/lib/python3.6/site-packages/sklearn/metrics/scorer.py:90: DeprecationWarning: Scoring method mean_squared_error was renamed to neg_mean_squared_error in version 0.18 and will be removed in 0.20.\n",
      "  sample_weight=sample_weight)\n",
      "/Users/lex/code/study-notes/books/hands-on-machine-learning/ENV/lib/python3.6/site-packages/sklearn/metrics/scorer.py:90: DeprecationWarning: Scoring method mean_squared_error was renamed to neg_mean_squared_error in version 0.18 and will be removed in 0.20.\n",
      "  sample_weight=sample_weight)\n",
      "/Users/lex/code/study-notes/books/hands-on-machine-learning/ENV/lib/python3.6/site-packages/sklearn/metrics/scorer.py:90: DeprecationWarning: Scoring method mean_squared_error was renamed to neg_mean_squared_error in version 0.18 and will be removed in 0.20.\n",
      "  sample_weight=sample_weight)\n",
      "/Users/lex/code/study-notes/books/hands-on-machine-learning/ENV/lib/python3.6/site-packages/sklearn/metrics/scorer.py:90: DeprecationWarning: Scoring method mean_squared_error was renamed to neg_mean_squared_error in version 0.18 and will be removed in 0.20.\n",
      "  sample_weight=sample_weight)\n",
      "/Users/lex/code/study-notes/books/hands-on-machine-learning/ENV/lib/python3.6/site-packages/sklearn/metrics/scorer.py:90: DeprecationWarning: Scoring method mean_squared_error was renamed to neg_mean_squared_error in version 0.18 and will be removed in 0.20.\n",
      "  sample_weight=sample_weight)\n",
      "/Users/lex/code/study-notes/books/hands-on-machine-learning/ENV/lib/python3.6/site-packages/sklearn/metrics/scorer.py:90: DeprecationWarning: Scoring method mean_squared_error was renamed to neg_mean_squared_error in version 0.18 and will be removed in 0.20.\n",
      "  sample_weight=sample_weight)\n",
      "/Users/lex/code/study-notes/books/hands-on-machine-learning/ENV/lib/python3.6/site-packages/sklearn/metrics/scorer.py:90: DeprecationWarning: Scoring method mean_squared_error was renamed to neg_mean_squared_error in version 0.18 and will be removed in 0.20.\n",
      "  sample_weight=sample_weight)\n",
      "/Users/lex/code/study-notes/books/hands-on-machine-learning/ENV/lib/python3.6/site-packages/sklearn/metrics/scorer.py:90: DeprecationWarning: Scoring method mean_squared_error was renamed to neg_mean_squared_error in version 0.18 and will be removed in 0.20.\n",
      "  sample_weight=sample_weight)\n",
      "/Users/lex/code/study-notes/books/hands-on-machine-learning/ENV/lib/python3.6/site-packages/sklearn/metrics/scorer.py:90: DeprecationWarning: Scoring method mean_squared_error was renamed to neg_mean_squared_error in version 0.18 and will be removed in 0.20.\n",
      "  sample_weight=sample_weight)\n",
      "/Users/lex/code/study-notes/books/hands-on-machine-learning/ENV/lib/python3.6/site-packages/sklearn/metrics/scorer.py:90: DeprecationWarning: Scoring method mean_squared_error was renamed to neg_mean_squared_error in version 0.18 and will be removed in 0.20.\n",
      "  sample_weight=sample_weight)\n",
      "/Users/lex/code/study-notes/books/hands-on-machine-learning/ENV/lib/python3.6/site-packages/sklearn/metrics/scorer.py:90: DeprecationWarning: Scoring method mean_squared_error was renamed to neg_mean_squared_error in version 0.18 and will be removed in 0.20.\n",
      "  sample_weight=sample_weight)\n",
      "/Users/lex/code/study-notes/books/hands-on-machine-learning/ENV/lib/python3.6/site-packages/sklearn/metrics/scorer.py:90: DeprecationWarning: Scoring method mean_squared_error was renamed to neg_mean_squared_error in version 0.18 and will be removed in 0.20.\n",
      "  sample_weight=sample_weight)\n",
      "/Users/lex/code/study-notes/books/hands-on-machine-learning/ENV/lib/python3.6/site-packages/sklearn/metrics/scorer.py:90: DeprecationWarning: Scoring method mean_squared_error was renamed to neg_mean_squared_error in version 0.18 and will be removed in 0.20.\n",
      "  sample_weight=sample_weight)\n",
      "/Users/lex/code/study-notes/books/hands-on-machine-learning/ENV/lib/python3.6/site-packages/sklearn/metrics/scorer.py:90: DeprecationWarning: Scoring method mean_squared_error was renamed to neg_mean_squared_error in version 0.18 and will be removed in 0.20.\n",
      "  sample_weight=sample_weight)\n",
      "/Users/lex/code/study-notes/books/hands-on-machine-learning/ENV/lib/python3.6/site-packages/sklearn/metrics/scorer.py:90: DeprecationWarning: Scoring method mean_squared_error was renamed to neg_mean_squared_error in version 0.18 and will be removed in 0.20.\n",
      "  sample_weight=sample_weight)\n",
      "/Users/lex/code/study-notes/books/hands-on-machine-learning/ENV/lib/python3.6/site-packages/sklearn/metrics/scorer.py:90: DeprecationWarning: Scoring method mean_squared_error was renamed to neg_mean_squared_error in version 0.18 and will be removed in 0.20.\n",
      "  sample_weight=sample_weight)\n",
      "/Users/lex/code/study-notes/books/hands-on-machine-learning/ENV/lib/python3.6/site-packages/sklearn/metrics/scorer.py:90: DeprecationWarning: Scoring method mean_squared_error was renamed to neg_mean_squared_error in version 0.18 and will be removed in 0.20.\n",
      "  sample_weight=sample_weight)\n",
      "/Users/lex/code/study-notes/books/hands-on-machine-learning/ENV/lib/python3.6/site-packages/sklearn/metrics/scorer.py:90: DeprecationWarning: Scoring method mean_squared_error was renamed to neg_mean_squared_error in version 0.18 and will be removed in 0.20.\n",
      "  sample_weight=sample_weight)\n",
      "/Users/lex/code/study-notes/books/hands-on-machine-learning/ENV/lib/python3.6/site-packages/sklearn/metrics/scorer.py:90: DeprecationWarning: Scoring method mean_squared_error was renamed to neg_mean_squared_error in version 0.18 and will be removed in 0.20.\n",
      "  sample_weight=sample_weight)\n",
      "/Users/lex/code/study-notes/books/hands-on-machine-learning/ENV/lib/python3.6/site-packages/sklearn/metrics/scorer.py:90: DeprecationWarning: Scoring method mean_squared_error was renamed to neg_mean_squared_error in version 0.18 and will be removed in 0.20.\n",
      "  sample_weight=sample_weight)\n",
      "/Users/lex/code/study-notes/books/hands-on-machine-learning/ENV/lib/python3.6/site-packages/sklearn/metrics/scorer.py:90: DeprecationWarning: Scoring method mean_squared_error was renamed to neg_mean_squared_error in version 0.18 and will be removed in 0.20.\n",
      "  sample_weight=sample_weight)\n",
      "/Users/lex/code/study-notes/books/hands-on-machine-learning/ENV/lib/python3.6/site-packages/sklearn/metrics/scorer.py:90: DeprecationWarning: Scoring method mean_squared_error was renamed to neg_mean_squared_error in version 0.18 and will be removed in 0.20.\n",
      "  sample_weight=sample_weight)\n",
      "/Users/lex/code/study-notes/books/hands-on-machine-learning/ENV/lib/python3.6/site-packages/sklearn/metrics/scorer.py:90: DeprecationWarning: Scoring method mean_squared_error was renamed to neg_mean_squared_error in version 0.18 and will be removed in 0.20.\n",
      "  sample_weight=sample_weight)\n",
      "/Users/lex/code/study-notes/books/hands-on-machine-learning/ENV/lib/python3.6/site-packages/sklearn/metrics/scorer.py:90: DeprecationWarning: Scoring method mean_squared_error was renamed to neg_mean_squared_error in version 0.18 and will be removed in 0.20.\n",
      "  sample_weight=sample_weight)\n",
      "/Users/lex/code/study-notes/books/hands-on-machine-learning/ENV/lib/python3.6/site-packages/sklearn/metrics/scorer.py:90: DeprecationWarning: Scoring method mean_squared_error was renamed to neg_mean_squared_error in version 0.18 and will be removed in 0.20.\n",
      "  sample_weight=sample_weight)\n",
      "/Users/lex/code/study-notes/books/hands-on-machine-learning/ENV/lib/python3.6/site-packages/sklearn/metrics/scorer.py:90: DeprecationWarning: Scoring method mean_squared_error was renamed to neg_mean_squared_error in version 0.18 and will be removed in 0.20.\n",
      "  sample_weight=sample_weight)\n",
      "/Users/lex/code/study-notes/books/hands-on-machine-learning/ENV/lib/python3.6/site-packages/sklearn/metrics/scorer.py:90: DeprecationWarning: Scoring method mean_squared_error was renamed to neg_mean_squared_error in version 0.18 and will be removed in 0.20.\n",
      "  sample_weight=sample_weight)\n",
      "/Users/lex/code/study-notes/books/hands-on-machine-learning/ENV/lib/python3.6/site-packages/sklearn/metrics/scorer.py:90: DeprecationWarning: Scoring method mean_squared_error was renamed to neg_mean_squared_error in version 0.18 and will be removed in 0.20.\n",
      "  sample_weight=sample_weight)\n",
      "/Users/lex/code/study-notes/books/hands-on-machine-learning/ENV/lib/python3.6/site-packages/sklearn/metrics/scorer.py:90: DeprecationWarning: Scoring method mean_squared_error was renamed to neg_mean_squared_error in version 0.18 and will be removed in 0.20.\n",
      "  sample_weight=sample_weight)\n",
      "/Users/lex/code/study-notes/books/hands-on-machine-learning/ENV/lib/python3.6/site-packages/sklearn/metrics/scorer.py:90: DeprecationWarning: Scoring method mean_squared_error was renamed to neg_mean_squared_error in version 0.18 and will be removed in 0.20.\n",
      "  sample_weight=sample_weight)\n",
      "/Users/lex/code/study-notes/books/hands-on-machine-learning/ENV/lib/python3.6/site-packages/sklearn/metrics/scorer.py:90: DeprecationWarning: Scoring method mean_squared_error was renamed to neg_mean_squared_error in version 0.18 and will be removed in 0.20.\n",
      "  sample_weight=sample_weight)\n",
      "/Users/lex/code/study-notes/books/hands-on-machine-learning/ENV/lib/python3.6/site-packages/sklearn/metrics/scorer.py:90: DeprecationWarning: Scoring method mean_squared_error was renamed to neg_mean_squared_error in version 0.18 and will be removed in 0.20.\n",
      "  sample_weight=sample_weight)\n",
      "/Users/lex/code/study-notes/books/hands-on-machine-learning/ENV/lib/python3.6/site-packages/sklearn/metrics/scorer.py:90: DeprecationWarning: Scoring method mean_squared_error was renamed to neg_mean_squared_error in version 0.18 and will be removed in 0.20.\n",
      "  sample_weight=sample_weight)\n",
      "/Users/lex/code/study-notes/books/hands-on-machine-learning/ENV/lib/python3.6/site-packages/sklearn/metrics/scorer.py:90: DeprecationWarning: Scoring method mean_squared_error was renamed to neg_mean_squared_error in version 0.18 and will be removed in 0.20.\n",
      "  sample_weight=sample_weight)\n",
      "/Users/lex/code/study-notes/books/hands-on-machine-learning/ENV/lib/python3.6/site-packages/sklearn/metrics/scorer.py:90: DeprecationWarning: Scoring method mean_squared_error was renamed to neg_mean_squared_error in version 0.18 and will be removed in 0.20.\n",
      "  sample_weight=sample_weight)\n",
      "/Users/lex/code/study-notes/books/hands-on-machine-learning/ENV/lib/python3.6/site-packages/sklearn/metrics/scorer.py:90: DeprecationWarning: Scoring method mean_squared_error was renamed to neg_mean_squared_error in version 0.18 and will be removed in 0.20.\n",
      "  sample_weight=sample_weight)\n",
      "/Users/lex/code/study-notes/books/hands-on-machine-learning/ENV/lib/python3.6/site-packages/sklearn/metrics/scorer.py:90: DeprecationWarning: Scoring method mean_squared_error was renamed to neg_mean_squared_error in version 0.18 and will be removed in 0.20.\n",
      "  sample_weight=sample_weight)\n",
      "/Users/lex/code/study-notes/books/hands-on-machine-learning/ENV/lib/python3.6/site-packages/sklearn/metrics/scorer.py:90: DeprecationWarning: Scoring method mean_squared_error was renamed to neg_mean_squared_error in version 0.18 and will be removed in 0.20.\n",
      "  sample_weight=sample_weight)\n",
      "/Users/lex/code/study-notes/books/hands-on-machine-learning/ENV/lib/python3.6/site-packages/sklearn/metrics/scorer.py:90: DeprecationWarning: Scoring method mean_squared_error was renamed to neg_mean_squared_error in version 0.18 and will be removed in 0.20.\n",
      "  sample_weight=sample_weight)\n",
      "/Users/lex/code/study-notes/books/hands-on-machine-learning/ENV/lib/python3.6/site-packages/sklearn/metrics/scorer.py:90: DeprecationWarning: Scoring method mean_squared_error was renamed to neg_mean_squared_error in version 0.18 and will be removed in 0.20.\n",
      "  sample_weight=sample_weight)\n",
      "/Users/lex/code/study-notes/books/hands-on-machine-learning/ENV/lib/python3.6/site-packages/sklearn/metrics/scorer.py:90: DeprecationWarning: Scoring method mean_squared_error was renamed to neg_mean_squared_error in version 0.18 and will be removed in 0.20.\n",
      "  sample_weight=sample_weight)\n",
      "/Users/lex/code/study-notes/books/hands-on-machine-learning/ENV/lib/python3.6/site-packages/sklearn/metrics/scorer.py:90: DeprecationWarning: Scoring method mean_squared_error was renamed to neg_mean_squared_error in version 0.18 and will be removed in 0.20.\n",
      "  sample_weight=sample_weight)\n",
      "/Users/lex/code/study-notes/books/hands-on-machine-learning/ENV/lib/python3.6/site-packages/sklearn/metrics/scorer.py:90: DeprecationWarning: Scoring method mean_squared_error was renamed to neg_mean_squared_error in version 0.18 and will be removed in 0.20.\n",
      "  sample_weight=sample_weight)\n",
      "/Users/lex/code/study-notes/books/hands-on-machine-learning/ENV/lib/python3.6/site-packages/sklearn/metrics/scorer.py:90: DeprecationWarning: Scoring method mean_squared_error was renamed to neg_mean_squared_error in version 0.18 and will be removed in 0.20.\n",
      "  sample_weight=sample_weight)\n",
      "/Users/lex/code/study-notes/books/hands-on-machine-learning/ENV/lib/python3.6/site-packages/sklearn/metrics/scorer.py:90: DeprecationWarning: Scoring method mean_squared_error was renamed to neg_mean_squared_error in version 0.18 and will be removed in 0.20.\n",
      "  sample_weight=sample_weight)\n",
      "/Users/lex/code/study-notes/books/hands-on-machine-learning/ENV/lib/python3.6/site-packages/sklearn/metrics/scorer.py:90: DeprecationWarning: Scoring method mean_squared_error was renamed to neg_mean_squared_error in version 0.18 and will be removed in 0.20.\n",
      "  sample_weight=sample_weight)\n",
      "/Users/lex/code/study-notes/books/hands-on-machine-learning/ENV/lib/python3.6/site-packages/sklearn/metrics/scorer.py:90: DeprecationWarning: Scoring method mean_squared_error was renamed to neg_mean_squared_error in version 0.18 and will be removed in 0.20.\n",
      "  sample_weight=sample_weight)\n"
     ]
    },
    {
     "data": {
      "text/plain": [
       "GridSearchCV(cv=5, error_score='raise',\n",
       "       estimator=RandomForestRegressor(bootstrap=True, criterion='mse', max_depth=None,\n",
       "           max_features='auto', max_leaf_nodes=None,\n",
       "           min_impurity_split=1e-07, min_samples_leaf=1,\n",
       "           min_samples_split=2, min_weight_fraction_leaf=0.0,\n",
       "           n_estimators=10, n_jobs=1, oob_score=False, random_state=None,\n",
       "           verbose=0, warm_start=False),\n",
       "       fit_params={}, iid=True, n_jobs=1,\n",
       "       param_grid=[{'n_estimators': [3, 10, 30], 'max_features': [2, 4, 6, 8]}, {'bootstrap': [False], 'n_estimators': [3, 10], 'max_features': [2, 3, 4]}],\n",
       "       pre_dispatch='2*n_jobs', refit=True, scoring='mean_squared_error',\n",
       "       verbose=0)"
      ]
     },
     "execution_count": 53,
     "metadata": {},
     "output_type": "execute_result"
    }
   ],
   "source": [
    "from sklearn.grid_search import GridSearchCV\n",
    "param_grid = [\n",
    "    {'n_estimators': [3, 10, 30], 'max_features': [2, 4, 6, 8]},\n",
    "    {'bootstrap': [False], 'n_estimators': [3, 10], 'max_features': [2, 3, 4]},\n",
    "]\n",
    "forest_reg = RandomForestRegressor()\n",
    "grid_search = GridSearchCV(\n",
    "    forest_reg, param_grid, cv=5, scoring='mean_squared_error')\n",
    "grid_search.fit(housing_prepared, housing_labels)"
   ]
  },
  {
   "cell_type": "markdown",
   "metadata": {
    "deletable": true,
    "editable": true
   },
   "source": [
    "* Param grid is a list of hyperparameters to try in combination.\n",
    "  1. 3 n_estimator * 4 max_features\n",
    "  2 2 * 3 with bootstrap set to False.\n",
    "* Grid search explores 12 + 6 = 18 combinations of RandomForestRegression, and trains each model 5 times.\n",
    "* Can use ``best_params_`` attribute to find best params discovered and ``best_estimator_`` to find the best estimator."
   ]
  },
  {
   "cell_type": "code",
   "execution_count": 57,
   "metadata": {
    "collapsed": false
   },
   "outputs": [
    {
     "name": "stdout",
     "output_type": "stream",
     "text": [
      "{'max_features': 8, 'n_estimators': 30}\n",
      "RandomForestRegressor(bootstrap=True, criterion='mse', max_depth=None,\n",
      "           max_features=8, max_leaf_nodes=None, min_impurity_split=1e-07,\n",
      "           min_samples_leaf=1, min_samples_split=2,\n",
      "           min_weight_fraction_leaf=0.0, n_estimators=30, n_jobs=1,\n",
      "           oob_score=False, random_state=None, verbose=0, warm_start=False)\n"
     ]
    }
   ],
   "source": [
    "print(grid_search.best_params_)\n",
    "print(grid_search.best_estimator_)"
   ]
  },
  {
   "cell_type": "markdown",
   "metadata": {},
   "source": [
    "### Randomized search\n",
    "\n",
    "* Use ``RandomizedSearchCV`` when the hyperparameter search space is large.\n",
    "* Instead of evaluating a bunch of combinations, it tries all combos up to some max iterations."
   ]
  },
  {
   "cell_type": "markdown",
   "metadata": {},
   "source": [
    "### Analyze best models and their errors\n",
    "\n",
    "* Inspect models to gain insights into the best features."
   ]
  },
  {
   "cell_type": "code",
   "execution_count": 58,
   "metadata": {
    "collapsed": false
   },
   "outputs": [
    {
     "data": {
      "text/plain": [
       "[(0.33178320226662655, 'median_income'),\n",
       " (0.12577165417460004, 'INLAND'),\n",
       " (0.11419044721111653, 'income_cat'),\n",
       " (0.11147527433235875, 'pop_per_hhold'),\n",
       " (0.062767392814968404, 'longitude'),\n",
       " (0.060975827797232353, 'latitude'),\n",
       " (0.042813764436975786, 'housing_median_age'),\n",
       " (0.038479889652941655, 'bedrooms_per_room'),\n",
       " (0.036585187872255398, 'rooms_per_hhold'),\n",
       " (0.016198496376566236, 'population'),\n",
       " (0.015383382951016124, 'total_rooms'),\n",
       " (0.015273835446543147, 'total_bedrooms'),\n",
       " (0.014757502287463756, 'households'),\n",
       " (0.0075309383097244831, '<1H OCEAN'),\n",
       " (0.004116921454446548, 'NEAR OCEAN'),\n",
       " (0.0016896353594853669, 'NEAR BAY'),\n",
       " (0.00020664725567880741, 'ISLAND')]"
      ]
     },
     "execution_count": 58,
     "metadata": {},
     "output_type": "execute_result"
    }
   ],
   "source": [
    "feature_importances = grid_search.best_estimator_.feature_importances_\n",
    "extra_attribs = [\"rooms_per_hhold\", \"pop_per_hhold\", \"bedrooms_per_room\"]\n",
    "cat_one_hot_attribs = list(encoder.classes_)\n",
    "attributes = num_attribs + extra_attribs + cat_one_hot_attribs\n",
    "sorted(zip(feature_importances, attributes), reverse=True)"
   ]
  },
  {
   "cell_type": "markdown",
   "metadata": {},
   "source": [
    "* Can see that median income and whether it's inland or not are the most influential features in the model."
   ]
  },
  {
   "cell_type": "markdown",
   "metadata": {},
   "source": [
    "### Evaluate on the test set\n",
    "\n",
    "* Get the predictors and labels from test set, run pipeline and evaluate the model."
   ]
  },
  {
   "cell_type": "code",
   "execution_count": 62,
   "metadata": {
    "collapsed": false
   },
   "outputs": [
    {
     "name": "stdout",
     "output_type": "stream",
     "text": [
      "50290.1850629\n"
     ]
    }
   ],
   "source": [
    "final_model = grid_search.best_estimator_\n",
    "\n",
    "X_test = strat_test_set.drop('median_house_value', axis=1)\n",
    "y_test = strat_test_set['median_house_value'].copy()\n",
    "\n",
    "X_test_prepared = full_pipeline.transform(X_test)\n",
    "\n",
    "final_predictions = final_model.predict(X_test_prepared)\n",
    "\n",
    "final_mse = mean_squared_error(y_test, final_predictions)\n",
    "final_rmse = np.sqrt(final_mse)\n",
    "print(final_rmse)"
   ]
  },
  {
   "cell_type": "markdown",
   "metadata": {},
   "source": [
    "## Launch, monitor and maintain system\n",
    "\n",
    "* Write monitoring to check system's live performance at reg intervals.\n",
    "  * May require human analysis to evaluate the model.\n",
    "* Also want to monitor you inputs (signals, another team's output etc).\n",
    "* Retrain your models on an ongoing basis."
   ]
  },
  {
   "cell_type": "markdown",
   "metadata": {},
   "source": [
    "## Exercises\n",
    "\n",
    "### 1. Suppoer"
   ]
  }
 ],
 "metadata": {
  "kernelspec": {
   "display_name": "Python 3",
   "language": "python",
   "name": "python3"
  },
  "language_info": {
   "codemirror_mode": {
    "name": "ipython",
    "version": 3
   },
   "file_extension": ".py",
   "mimetype": "text/x-python",
   "name": "python",
   "nbconvert_exporter": "python",
   "pygments_lexer": "ipython3",
   "version": "3.6.0"
  }
 },
 "nbformat": 4,
 "nbformat_minor": 2
}
