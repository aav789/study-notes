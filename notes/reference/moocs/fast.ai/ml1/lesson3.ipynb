{
 "cells": [
  {
   "cell_type": "code",
   "execution_count": 1,
   "metadata": {},
   "outputs": [],
   "source": [
    "%load_ext autoreload\n",
    "%autoreload 2\n",
    "\n",
    "%matplotlib inline\n",
    "\n",
    "from fastai.imports import *\n",
    "from fastai.structured import *\n",
    "\n",
    "from pandas_summary import DataFrameSummary\n",
    "from sklearn.ensemble import RandomForestRegressor, RandomForestClassifier\n",
    "from IPython.display import display\n",
    "from pathlib import Path\n",
    "from sklearn.ensemble import ExtraTreesRegressor\n",
    "\n",
    "from sklearn import metrics"
   ]
  },
  {
   "cell_type": "code",
   "execution_count": 2,
   "metadata": {},
   "outputs": [],
   "source": [
    "PATH = Path('./data/bluebook/')"
   ]
  },
  {
   "cell_type": "markdown",
   "metadata": {},
   "source": [
    "# Lesson 3\n",
    "\n",
    "## 00:00:00 - Lesson 2 recap\n",
    "\n",
    "* Common refrain = things like Random Forests hide meaning from us - not the case: can understand data deeper and quicker.\n",
    "* Going to look at larger datasets."
   ]
  },
  {
   "cell_type": "markdown",
   "metadata": {},
   "source": [
    "## 00:02:32 - Audience questions\n",
    "\n",
    "* Q1: When should I use Random Forests?\n",
    "* A1: Almost always for structured data: good starting point.\n",
    "  * Deep learning for unstructured data."
   ]
  },
  {
   "cell_type": "markdown",
   "metadata": {},
   "source": [
    "## 00:04:42 - proc_df function bug\n",
    "\n",
    "* `proc_df` didn't have a way to reuse the missing data values in the test set.\n",
    "  * Now returns `nas` as a third return elemnt in the tuple"
   ]
  },
  {
   "cell_type": "code",
   "execution_count": 4,
   "metadata": {},
   "outputs": [],
   "source": [
    "df_raw = pd.read_csv(f'{PATH}/Train.csv', low_memory=False, parse_dates=['saledate'])\n",
    "add_datepart(df_raw, 'saledate')\n",
    "train_cats(df_raw)"
   ]
  },
  {
   "cell_type": "code",
   "execution_count": 5,
   "metadata": {},
   "outputs": [],
   "source": [
    "df, y, na_dict = proc_df(df_raw, 'SalePrice')"
   ]
  },
  {
   "cell_type": "code",
   "execution_count": 6,
   "metadata": {},
   "outputs": [
    {
     "data": {
      "text/plain": [
       "{'auctioneerID': 2.0, 'MachineHoursCurrentMeter': 0.0}"
      ]
     },
     "execution_count": 6,
     "metadata": {},
     "output_type": "execute_result"
    }
   ],
   "source": [
    "na_dict"
   ]
  },
  {
   "cell_type": "markdown",
   "metadata": {},
   "source": [
    "## 00:09:25 - Bigger datasets and Groceries competition\n",
    "\n",
    "* Ability to explain problem key to machine learning.\n",
    "* Favorita Grocery Sales Forecasting:\n",
    "  * Goal: Predict how much stock would be sold on each day for each item during a 2 week period.\n",
    "  * Data provided:\n",
    "    * how many units of each product on each sold was sold in the last year.\n",
    "    * Metadata for store (location, class of store)\n",
    "    * Metadata for each product (category of product)\n",
    "    * Metadata for each data (oil price on the date)\n",
    "\n",
    "* \"Relational dataset\" - number of things you can join together.\n",
    "* Star schema:\n",
    "  * Central transactions table `train.csv`\n",
    "    * Includes `unit_sales` by `date`, `store_nbr` and `item_nbr`\n",
    "  * Can join metadata to central table.\n",
    "* Snowflake schema:\n",
    "  * Tables join other tables."
   ]
  },
  {
   "cell_type": "code",
   "execution_count": 7,
   "metadata": {},
   "outputs": [],
   "source": [
    "PATH = Path('./data/grocery-sales')"
   ]
  },
  {
   "cell_type": "code",
   "execution_count": 8,
   "metadata": {},
   "outputs": [
    {
     "name": "stdout",
     "output_type": "stream",
     "text": [
      "Warning: Looks like you're using an outdated API Version, please consider updating (server 1.3.9.1 / client 1.3.8)\n",
      "test.csv.7z: Skipping, found more recently modified local copy (use --force to force download)\n",
      "stores.csv.7z: Skipping, found more recently modified local copy (use --force to force download)\n",
      "oil.csv.7z: Skipping, found more recently modified local copy (use --force to force download)\n",
      "items.csv.7z: Skipping, found more recently modified local copy (use --force to force download)\n",
      "holidays_events.csv.7z: Skipping, found more recently modified local copy (use --force to force download)\n",
      "transactions.csv.7z: Skipping, found more recently modified local copy (use --force to force download)\n",
      "train.csv.7z: Skipping, found more recently modified local copy (use --force to force download)\n",
      "sample_submission.csv.7z: Skipping, found more recently modified local copy (use --force to force download)\n"
     ]
    }
   ],
   "source": [
    "!kaggle competitions download -c favorita-grocery-sales-forecasting --path {PATH}"
   ]
  },
  {
   "cell_type": "code",
   "execution_count": 9,
   "metadata": {},
   "outputs": [],
   "source": [
    "for file in PATH.iterdir():\n",
    "    if not str(file).endswith('7z'):\n",
    "        continue\n",
    "\n",
    "    !7z x {file} -o{PATH} -aoa > /dev/null"
   ]
  },
  {
   "cell_type": "code",
   "execution_count": 10,
   "metadata": {},
   "outputs": [],
   "source": [
    "!mkdir -p {PATH}/tmp"
   ]
  },
  {
   "cell_type": "markdown",
   "metadata": {},
   "source": [
    "### 00:15:14 - `limit_memory` in `read_csv`\n",
    "\n",
    "* Set `limit_memory=False` will run out of memory on big datasets.\n",
    "  * Instead, want to tell Pandas what the dataframe types are by passing a `dtype` argument to `read_csv`.  "
   ]
  },
  {
   "cell_type": "code",
   "execution_count": 11,
   "metadata": {},
   "outputs": [],
   "source": [
    "types = {\n",
    "    'id': 'int64', 'item_nbr': 'int32', 'store_nbr': 'int8',\n",
    "    'unit_sales': 'float32', 'onpromotion': 'object'\n",
    "}"
   ]
  },
  {
   "cell_type": "code",
   "execution_count": 12,
   "metadata": {},
   "outputs": [
    {
     "name": "stdout",
     "output_type": "stream",
     "text": [
      "CPU times: user 1min 52s, sys: 7.83 s, total: 1min 59s\n",
      "Wall time: 2min\n"
     ]
    }
   ],
   "source": [
    "%%time\n",
    "df_all = pd.read_csv(\n",
    "    PATH / 'train.csv', parse_dates=['date'], dtype=types,\n",
    "    infer_datetime_format=True\n",
    ")"
   ]
  },
  {
   "cell_type": "code",
   "execution_count": 13,
   "metadata": {},
   "outputs": [
    {
     "name": "stdout",
     "output_type": "stream",
     "text": [
      "CPU times: user 1.82 s, sys: 3.59 s, total: 5.4 s\n",
      "Wall time: 4.21 s\n"
     ]
    }
   ],
   "source": [
    "df_all.onpromotion.fillna(False, inplace=True)\n",
    "df_all.onpromotion = df_all.onpromotion.map({'False': False, 'True': True})\n",
    "df_all.onpromotion = df_all.onpromotion.astype(bool)\n",
    "\n",
    "%time df_all.to_feather(PATH / 'tmp/raw_groceries')"
   ]
  },
  {
   "cell_type": "code",
   "execution_count": 14,
   "metadata": {},
   "outputs": [
    {
     "name": "stdout",
     "output_type": "stream",
     "text": [
      "CPU times: user 35.8 s, sys: 9.41 s, total: 45.3 s\n",
      "Wall time: 45.5 s\n"
     ]
    },
    {
     "data": {
      "text/html": [
       "<div>\n",
       "<style scoped>\n",
       "    .dataframe tbody tr th:only-of-type {\n",
       "        vertical-align: middle;\n",
       "    }\n",
       "\n",
       "    .dataframe tbody tr th {\n",
       "        vertical-align: top;\n",
       "    }\n",
       "\n",
       "    .dataframe thead th {\n",
       "        text-align: right;\n",
       "    }\n",
       "</style>\n",
       "<table border=\"1\" class=\"dataframe\">\n",
       "  <thead>\n",
       "    <tr style=\"text-align: right;\">\n",
       "      <th></th>\n",
       "      <th>id</th>\n",
       "      <th>date</th>\n",
       "      <th>store_nbr</th>\n",
       "      <th>item_nbr</th>\n",
       "      <th>unit_sales</th>\n",
       "      <th>onpromotion</th>\n",
       "    </tr>\n",
       "  </thead>\n",
       "  <tbody>\n",
       "    <tr>\n",
       "      <th>count</th>\n",
       "      <td>1.254970e+08</td>\n",
       "      <td>125497040</td>\n",
       "      <td>1.254970e+08</td>\n",
       "      <td>1.254970e+08</td>\n",
       "      <td>1.254970e+08</td>\n",
       "      <td>125497040</td>\n",
       "    </tr>\n",
       "    <tr>\n",
       "      <th>unique</th>\n",
       "      <td>NaN</td>\n",
       "      <td>1684</td>\n",
       "      <td>NaN</td>\n",
       "      <td>NaN</td>\n",
       "      <td>NaN</td>\n",
       "      <td>2</td>\n",
       "    </tr>\n",
       "    <tr>\n",
       "      <th>top</th>\n",
       "      <td>NaN</td>\n",
       "      <td>2017-07-01 00:00:00</td>\n",
       "      <td>NaN</td>\n",
       "      <td>NaN</td>\n",
       "      <td>NaN</td>\n",
       "      <td>False</td>\n",
       "    </tr>\n",
       "    <tr>\n",
       "      <th>freq</th>\n",
       "      <td>NaN</td>\n",
       "      <td>118194</td>\n",
       "      <td>NaN</td>\n",
       "      <td>NaN</td>\n",
       "      <td>NaN</td>\n",
       "      <td>96028767</td>\n",
       "    </tr>\n",
       "    <tr>\n",
       "      <th>first</th>\n",
       "      <td>NaN</td>\n",
       "      <td>2013-01-01 00:00:00</td>\n",
       "      <td>NaN</td>\n",
       "      <td>NaN</td>\n",
       "      <td>NaN</td>\n",
       "      <td>NaN</td>\n",
       "    </tr>\n",
       "    <tr>\n",
       "      <th>last</th>\n",
       "      <td>NaN</td>\n",
       "      <td>2017-08-15 00:00:00</td>\n",
       "      <td>NaN</td>\n",
       "      <td>NaN</td>\n",
       "      <td>NaN</td>\n",
       "      <td>NaN</td>\n",
       "    </tr>\n",
       "    <tr>\n",
       "      <th>mean</th>\n",
       "      <td>6.274852e+07</td>\n",
       "      <td>NaN</td>\n",
       "      <td>2.746458e+01</td>\n",
       "      <td>9.727692e+05</td>\n",
       "      <td>8.554856e+00</td>\n",
       "      <td>NaN</td>\n",
       "    </tr>\n",
       "    <tr>\n",
       "      <th>std</th>\n",
       "      <td>3.622788e+07</td>\n",
       "      <td>NaN</td>\n",
       "      <td>1.633051e+01</td>\n",
       "      <td>5.205336e+05</td>\n",
       "      <td>2.360515e+01</td>\n",
       "      <td>NaN</td>\n",
       "    </tr>\n",
       "    <tr>\n",
       "      <th>min</th>\n",
       "      <td>0.000000e+00</td>\n",
       "      <td>NaN</td>\n",
       "      <td>1.000000e+00</td>\n",
       "      <td>9.699500e+04</td>\n",
       "      <td>-1.537200e+04</td>\n",
       "      <td>NaN</td>\n",
       "    </tr>\n",
       "    <tr>\n",
       "      <th>25%</th>\n",
       "      <td>3.137426e+07</td>\n",
       "      <td>NaN</td>\n",
       "      <td>1.200000e+01</td>\n",
       "      <td>5.223830e+05</td>\n",
       "      <td>2.000000e+00</td>\n",
       "      <td>NaN</td>\n",
       "    </tr>\n",
       "    <tr>\n",
       "      <th>50%</th>\n",
       "      <td>6.274852e+07</td>\n",
       "      <td>NaN</td>\n",
       "      <td>2.800000e+01</td>\n",
       "      <td>9.595000e+05</td>\n",
       "      <td>4.000000e+00</td>\n",
       "      <td>NaN</td>\n",
       "    </tr>\n",
       "    <tr>\n",
       "      <th>75%</th>\n",
       "      <td>9.412278e+07</td>\n",
       "      <td>NaN</td>\n",
       "      <td>4.300000e+01</td>\n",
       "      <td>1.354380e+06</td>\n",
       "      <td>9.000000e+00</td>\n",
       "      <td>NaN</td>\n",
       "    </tr>\n",
       "    <tr>\n",
       "      <th>max</th>\n",
       "      <td>1.254970e+08</td>\n",
       "      <td>NaN</td>\n",
       "      <td>5.400000e+01</td>\n",
       "      <td>2.127114e+06</td>\n",
       "      <td>8.944000e+04</td>\n",
       "      <td>NaN</td>\n",
       "    </tr>\n",
       "  </tbody>\n",
       "</table>\n",
       "</div>"
      ],
      "text/plain": [
       "                  id                 date     store_nbr      item_nbr  \\\n",
       "count   1.254970e+08            125497040  1.254970e+08  1.254970e+08   \n",
       "unique           NaN                 1684           NaN           NaN   \n",
       "top              NaN  2017-07-01 00:00:00           NaN           NaN   \n",
       "freq             NaN               118194           NaN           NaN   \n",
       "first            NaN  2013-01-01 00:00:00           NaN           NaN   \n",
       "last             NaN  2017-08-15 00:00:00           NaN           NaN   \n",
       "mean    6.274852e+07                  NaN  2.746458e+01  9.727692e+05   \n",
       "std     3.622788e+07                  NaN  1.633051e+01  5.205336e+05   \n",
       "min     0.000000e+00                  NaN  1.000000e+00  9.699500e+04   \n",
       "25%     3.137426e+07                  NaN  1.200000e+01  5.223830e+05   \n",
       "50%     6.274852e+07                  NaN  2.800000e+01  9.595000e+05   \n",
       "75%     9.412278e+07                  NaN  4.300000e+01  1.354380e+06   \n",
       "max     1.254970e+08                  NaN  5.400000e+01  2.127114e+06   \n",
       "\n",
       "          unit_sales onpromotion  \n",
       "count   1.254970e+08   125497040  \n",
       "unique           NaN           2  \n",
       "top              NaN       False  \n",
       "freq             NaN    96028767  \n",
       "first            NaN         NaN  \n",
       "last             NaN         NaN  \n",
       "mean    8.554856e+00         NaN  \n",
       "std     2.360515e+01         NaN  \n",
       "min    -1.537200e+04         NaN  \n",
       "25%     2.000000e+00         NaN  \n",
       "50%     4.000000e+00         NaN  \n",
       "75%     9.000000e+00         NaN  \n",
       "max     8.944000e+04         NaN  "
      ]
     },
     "execution_count": 14,
     "metadata": {},
     "output_type": "execute_result"
    }
   ],
   "source": [
    "%time df_all.describe(include='all')"
   ]
  },
  {
   "cell_type": "markdown",
   "metadata": {},
   "source": [
    "### 00:20:30 - `shuf` command\n",
    "\n",
    "* [`shuf`](https://shapeshed.com/unix-shuf/) can be used to read in a random sample of a file."
   ]
  },
  {
   "cell_type": "code",
   "execution_count": 15,
   "metadata": {},
   "outputs": [
    {
     "name": "stdout",
     "output_type": "stream",
     "text": [
      "CPU times: user 1.94 s, sys: 4.55 s, total: 6.49 s\n",
      "Wall time: 14.5 s\n"
     ]
    }
   ],
   "source": [
    "%time df_all = pd.read_feather(PATH / 'tmp/raw_groceries')"
   ]
  },
  {
   "cell_type": "markdown",
   "metadata": {},
   "source": [
    "### 00:23:15 - Overlapping dates in training and test set"
   ]
  },
  {
   "cell_type": "markdown",
   "metadata": {},
   "source": [
    "* Want to ensure dates in training and test set don't overlap.\n",
    "* If you are using a sample of the training dataset, don't get random rows: get the most recent dates (or some range)."
   ]
  },
  {
   "cell_type": "markdown",
   "metadata": {},
   "source": [
    "Need to set the log of the dependant to match the Kaggle eval criteria."
   ]
  },
  {
   "cell_type": "code",
   "execution_count": 16,
   "metadata": {},
   "outputs": [],
   "source": [
    "df_test = pd.read_csv(PATH / 'test.csv')"
   ]
  },
  {
   "cell_type": "code",
   "execution_count": 17,
   "metadata": {},
   "outputs": [],
   "source": [
    "df_all.unit_sales = np.log1p(np.clip(df_all.unit_sales, 0, None))"
   ]
  },
  {
   "cell_type": "code",
   "execution_count": 18,
   "metadata": {},
   "outputs": [
    {
     "name": "stdout",
     "output_type": "stream",
     "text": [
      "CPU times: user 1min 21s, sys: 43.2 s, total: 2min 4s\n",
      "Wall time: 2min 11s\n"
     ]
    }
   ],
   "source": [
    "%time add_datepart(df_all, 'date')"
   ]
  },
  {
   "cell_type": "code",
   "execution_count": 19,
   "metadata": {},
   "outputs": [],
   "source": [
    "def split_vals(a, n):\n",
    "    return a[:n].copy(), a[n:].copy()"
   ]
  },
  {
   "cell_type": "code",
   "execution_count": 20,
   "metadata": {},
   "outputs": [
    {
     "data": {
      "text/plain": [
       "((122126576, 18), (3370464, 18))"
      ]
     },
     "execution_count": 20,
     "metadata": {},
     "output_type": "execute_result"
    }
   ],
   "source": [
    "n_valid = len(df_test)\n",
    "n_trn = len(df_all) - n_valid\n",
    "train, valid = split_vals(df_all, n_trn)\n",
    "train.shape, valid.shape"
   ]
  },
  {
   "cell_type": "code",
   "execution_count": 21,
   "metadata": {},
   "outputs": [
    {
     "name": "stdout",
     "output_type": "stream",
     "text": [
      "CPU times: user 1min 4s, sys: 1min 38s, total: 2min 42s\n",
      "Wall time: 3min\n"
     ]
    }
   ],
   "source": [
    "%%time\n",
    "trn, y, nas = proc_df(train, 'unit_sales')\n",
    "val, y_val, _ = proc_df(valid, 'unit_sales', nas)"
   ]
  },
  {
   "cell_type": "markdown",
   "metadata": {},
   "source": [
    "### 00:28:10 - set `rf_samples`"
   ]
  },
  {
   "cell_type": "markdown",
   "metadata": {},
   "source": [
    "* Data set size is 120m records: probably don't want to create a tree from that.\n",
    "* Since a random forest size is determined by number of estimators * sample size, you can use `set_rf_samples(1_000_000)` to reduce the sample size per estimate."
   ]
  },
  {
   "cell_type": "code",
   "execution_count": 22,
   "metadata": {},
   "outputs": [],
   "source": [
    "def rmse(x, y):\n",
    "    return math.sqrt( ((x-y)**2).mean())\n",
    "\n",
    "def print_score(m):\n",
    "    res = [rmse(m.predict(x), y), rmse(m.predict(val), y_val),\n",
    "                m.score(x, y), m.score(x, y_val)]\n",
    "    if hasattr(m, 'oob_score_'): res.append(m.oob_score_)\n",
    "    print(res)"
   ]
  },
  {
   "cell_type": "code",
   "execution_count": 23,
   "metadata": {},
   "outputs": [],
   "source": [
    "set_rf_samples(1_000_000)"
   ]
  },
  {
   "cell_type": "markdown",
   "metadata": {},
   "source": [
    "### 00:29:40 - why set `n_jobs`?\n",
    "\n",
    "* Q1: Why is `n_jobs` not -1.\n",
    "* A1: Number of jobs is number of cores. J had 60 cores on a machine and found it slower to use all cores"
   ]
  },
  {
   "cell_type": "markdown",
   "metadata": {},
   "source": [
    "### 00:30:11 - `%prun`\n",
    "\n",
    "* Jeremy learned that the random forest was calling this line:"
   ]
  },
  {
   "cell_type": "code",
   "execution_count": 24,
   "metadata": {},
   "outputs": [
    {
     "name": "stdout",
     "output_type": "stream",
     "text": [
      "CPU times: user 2min 24s, sys: 3min 3s, total: 5min 27s\n",
      "Wall time: 6min 9s\n"
     ]
    }
   ],
   "source": [
    "%time x = np.array(trn, dtype=np.float32)"
   ]
  },
  {
   "cell_type": "markdown",
   "metadata": {},
   "source": [
    "  so he pulled it out and ran it himself.\n",
    "* He found that using the profiler: `%prun`."
   ]
  },
  {
   "cell_type": "code",
   "execution_count": 25,
   "metadata": {},
   "outputs": [],
   "source": [
    "m = RandomForestRegressor(n_estimators=20, min_samples_leaf=100, n_jobs=8)"
   ]
  },
  {
   "cell_type": "code",
   "execution_count": 26,
   "metadata": {},
   "outputs": [
    {
     "name": "stdout",
     "output_type": "stream",
     "text": [
      " "
     ]
    }
   ],
   "source": [
    "%prun m.fit(x, y)"
   ]
  },
  {
   "cell_type": "markdown",
   "metadata": {},
   "source": [
    "```\n",
    "40010 function calls (39760 primitive calls) in 291.961 seconds\n",
    "\n",
    "   Ordered by: internal time\n",
    "\n",
    "   ncalls  tottime  percall  cumtime  percall filename:lineno(function)\n",
    "       90  281.232    3.125  281.232    3.125 {method 'acquire' of '_thread.lock' objects}\n",
    "        2   10.016    5.008   10.016    5.008 {method 'reduce' of 'numpy.ufunc' objects}\n",
    "        8    0.472    0.059    0.472    0.059 {built-in method numpy.core.multiarray.array}\n",
    "        1    0.094    0.094  291.960  291.960 <string>:1(<module>)\n",
    "        2    0.010    0.005    0.010    0.005 {built-in method marshal.loads}\n",
    "       21    0.007    0.000    0.008    0.000 validation.py:617(check_random_state)\n",
    "        1    0.006    0.006    0.099    0.099 _parallel_backends.py:132(terminate)\n",
    "        5    0.005    0.001    0.005    0.001 {built-in method builtins.__build_class__}\n",
    "        1    0.005    0.005  281.317  281.317 parallel.py:742(__call__)\n",
    "        1    0.004    0.004  281.166  281.166 parallel.py:684(retrieve)\n",
    "        2    0.004    0.002   10.022    5.011 validation.py:33(_assert_all_finite)\n",
    "        1    0.004    0.004    0.036    0.036 pool.py:153(__init__)\n",
    "      100    0.004    0.000    0.023    0.000 base.py:213(get_params)\n",
    "        1    0.004    0.004  291.865  291.865 forest.py:220(fit)\n",
    "       20    0.004    0.000    0.004    0.000 {method 'randint' of 'mtrand.RandomState' objects}\n",
    "        1    0.004    0.004    0.005    0.005 pool.py:531(close)\n",
    "        1    0.003    0.003    0.006    0.006 parallel.py:473(__init__)\n",
    "     1128    0.003    0.000    0.003    0.000 {built-in method builtins.hasattr}\n",
    "```"
   ]
  },
  {
   "cell_type": "code",
   "execution_count": 27,
   "metadata": {},
   "outputs": [
    {
     "name": "stdout",
     "output_type": "stream",
     "text": [
      "RMSE train: 0.7742444081877221\n",
      "RMSE val: 0.7672266305399347\n",
      "R^2 val: 0.21656830827996176\n"
     ]
    }
   ],
   "source": [
    "print(f'RMSE train: {rmse(m.predict(x), y)}')\n",
    "print(f'RMSE val: {rmse(m.predict(val), y_val)}')\n",
    "print(f'R^2 val: {m.score(val, y_val)}')"
   ]
  },
  {
   "cell_type": "code",
   "execution_count": 28,
   "metadata": {},
   "outputs": [],
   "source": [
    "preds_model_1 = m.predict(x)"
   ]
  },
  {
   "cell_type": "markdown",
   "metadata": {},
   "source": [
    "### 00:33:30 - On the Kaggle leaderboard\n",
    "\n",
    "* Random forests don't work that well on the data.\n",
    "* Someone on Kaggle found you just take the last 2 weeks and take the average sales by `store_nbr`, `item_nbr`, `onpromotion` and puts you in the top 30."
   ]
  },
  {
   "cell_type": "markdown",
   "metadata": {},
   "source": [
    "### 00:39:08 - Errors in ML\n",
    "\n",
    "* Machine learning can be very frustrating because errors can be silent: the performance on the model can be slightly worse, you don't know if it's a bug or a limitation as the data.\n",
    "* One idea: create a scatterplot of predictions from one predictions on one model and predictions from another on another axis. Should be a straight line."
   ]
  },
  {
   "cell_type": "code",
   "execution_count": 29,
   "metadata": {},
   "outputs": [],
   "source": [
    "m = RandomForestRegressor(n_estimators=20, min_samples_leaf=3, n_jobs=8)\n",
    "m.fit(x, y)\n",
    "preds_model_2 = m.predict(x)"
   ]
  },
  {
   "cell_type": "code",
   "execution_count": 34,
   "metadata": {},
   "outputs": [
    {
     "data": {
      "image/png": "[encoded data removed]",
      "text/plain": [
       "<Figure size 432x288 with 1 Axes>"
      ]
     },
     "metadata": {},
     "output_type": "display_data"
    }
   ],
   "source": [
    "plt.scatter(preds_model_1[:2000], preds_model_2[:2000])\n",
    "plt.show()"
   ]
  },
  {
   "cell_type": "markdown",
   "metadata": {},
   "source": [
    "### 00:41:16 - Audience questions\n",
    "\n",
    "* Q1: When should you use external data (like weather etc)?\n",
    "* A1: Very often. On Kaggle, you have to provide the data you used on the forum (if competition allows it)."
   ]
  },
  {
   "cell_type": "markdown",
   "metadata": {},
   "source": [
    "### 00:44:39 - Calibrating validation set"
   ]
  },
  {
   "cell_type": "code",
   "execution_count": null,
   "metadata": {},
   "outputs": [],
   "source": []
  }
 ],
 "metadata": {
  "kernelspec": {
   "display_name": "Python 3",
   "language": "python",
   "name": "python3"
  },
  "language_info": {
   "codemirror_mode": {
    "name": "ipython",
    "version": 3
   },
   "file_extension": ".py",
   "mimetype": "text/x-python",
   "name": "python",
   "nbconvert_exporter": "python",
   "pygments_lexer": "ipython3",
   "version": "3.6.5"
  }
 },
 "nbformat": 4,
 "nbformat_minor": 2
}
