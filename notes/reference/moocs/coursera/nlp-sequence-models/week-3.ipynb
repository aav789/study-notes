{
 "cells": [
  {
   "cell_type": "markdown",
   "metadata": {},
   "source": [
    "# Week 3\n",
    "\n",
    "## Basic Models\n",
    "\n",
    "* Sequence to sequence model:\n",
    "  * Given pairs of French and English sentences:\n",
    "      Jane visite l'Afrique en septembre\n",
    "      Jane is visitied Africa in September\n",
    "  \n",
    "  * Build RNN that generates a prediction at each step and feeds the prediction into the next step (standard RNN).\n",
    "  * This appears to work very well.\n",
    "  \n",
    "* Same system also works for image captioning.\n",
    "  * Can take the last FC layer of a CNN like AlexNet and feed it into an RNN, which returns a caption one word at a time.\n",
    "  \n",
    "* Key difference between generating sequences and doing these tasks: don't want a random caption or translation, want the \"best\"."
   ]
  },
  {
   "cell_type": "markdown",
   "metadata": {},
   "source": [
    "### Picking the most likely sentence\n",
    "\n",
    "* Machine translation can be thought of as building a "
   ]
  }
 ],
 "metadata": {
  "kernelspec": {
   "display_name": "Python 3",
   "language": "python",
   "name": "python3"
  },
  "language_info": {
   "codemirror_mode": {
    "name": "ipython",
    "version": 3
   },
   "file_extension": ".py",
   "mimetype": "text/x-python",
   "name": "python",
   "nbconvert_exporter": "python",
   "pygments_lexer": "ipython3",
   "version": "3.6.4"
  }
 },
 "nbformat": 4,
 "nbformat_minor": 2
}
