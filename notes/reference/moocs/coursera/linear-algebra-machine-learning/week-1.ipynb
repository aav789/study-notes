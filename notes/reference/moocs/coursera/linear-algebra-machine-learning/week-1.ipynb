{
 "cells": [
  {
   "cell_type": "markdown",
   "metadata": {},
   "source": [
    "# Week 1"
   ]
  },
  {
   "cell_type": "markdown",
   "metadata": {},
   "source": [
    "## Introduction\n",
    "\n",
    "* Professor: David Dye\n",
    "* Lots of data in the world: need ways to make sense of it.\n",
    "* Linear algebra (vector/matrix algebra) important in ML.\n",
    "* Multivariate calculus important for understanding how a thing you're trying to optimise, changes with respect to variables.\n",
    "* Most DS and ML courses have these as a prerequisite: this course fills the gap."
   ]
  },
  {
   "cell_type": "markdown",
   "metadata": {},
   "source": [
    "## Motivations for Linear Algebra"
   ]
  },
  {
   "cell_type": "markdown",
   "metadata": {},
   "source": [
    "* Solving simulaneous equations:\n",
    "\n",
    "    $\n",
    "    2a + 3b = 8\\\\\n",
    "    10a + 1b = 13\n",
    "    $\n",
    "    \n",
    "    can be represented as a matrix of a and b values:\n",
    "    \n",
    "    $\n",
    "    [ 2, \\ 3 ]\\\\\n",
    "    [ 10, 1 ]\n",
    "    $\n",
    "\n",
    "* Fitting an equation to some data.\n",
    "  * Useful for describing a population without requiring data."
   ]
  },
  {
   "cell_type": "markdown",
   "metadata": {},
   "source": [
    "## Vectors in Data Science"
   ]
  },
  {
   "cell_type": "markdown",
   "metadata": {},
   "source": [
    "### Getting a handle on vectors\n",
    "\n",
    "* Normal gaussian distribution function:\n",
    "\n",
    "  $ f(x) = \\frac{1}{\\sigma \\sqrt{2\\pi}} \\exp({ \\frac{-(x-\\mu)}{2\\sigma^2})} $\n",
    "\n",
    "  * Centre of $\\mu$ and a width of $\\sigma$\n",
    "  \n",
    "* How to find mu / sigma that fits data best:\n",
    "  * Determine some function that tells you how far off you are: eg sum of squared differences.\n",
    "  * Then, use calculus to walk toward the most optimial solution."
   ]
  },
  {
   "cell_type": "markdown",
   "metadata": {},
   "source": [
    "## Operations with vectors\n",
    "\n",
    "* Vector can be thought of an object that moves about space.\n",
    "  * Space = physical space or data space.\n",
    "  * Example vector might include properties of a house: 120 sqm^2, 2 bedrooms, 1 bathroom, $150k: `[120, 2, 1, 150]`\n",
    "\n",
    "* Vector should obey 2 rules:\n",
    "  1. Addition:\n",
    "    * associative: doesn't matter what order you add \n",
    "    * `vector_1 + vector_2 = vector_2 + vector_1`\n",
    "    * Since subtraction is just addition of the negative, ie `r - r = r + (-r)`, then the same rules apply to subtraction as addition.\n",
    "  2. Multiplication by a scalar:\n",
    "    * Multiples each value in the vector by some scalar: `2 * [1, 2] = [1 * 2, 2 * 2] = [2, 4]`"
   ]
  }
 ],
 "metadata": {
  "kernelspec": {
   "display_name": "Python 3",
   "language": "python",
   "name": "python3"
  },
  "language_info": {
   "codemirror_mode": {
    "name": "ipython",
    "version": 3
   },
   "file_extension": ".py",
   "mimetype": "text/x-python",
   "name": "python",
   "nbconvert_exporter": "python",
   "pygments_lexer": "ipython3",
   "version": "3.6.2"
  }
 },
 "nbformat": 4,
 "nbformat_minor": 2
}
