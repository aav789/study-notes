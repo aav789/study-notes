{
 "cells": [
  {
   "cell_type": "markdown",
   "metadata": {},
   "source": [
    "# Experiment4: Trump Tweet Generator\n",
    "\n",
    "The goal of this notebook is to use the embeddings generated in Lesson 4 to build a Trump Tweet generator.\n",
    "\n",
    "Plan:\n",
    "\n",
    "1. Prepare dataset.\n",
    "2. Load and test embeddings.\n",
    "3. Finetune language model on Trump tweets.\n",
    "4. Test."
   ]
  },
  {
   "cell_type": "code",
   "execution_count": 1,
   "metadata": {},
   "outputs": [],
   "source": [
    "%reload_ext autoreload\n",
    "%autoreload 2\n",
    "%matplotlib inline\n",
    "\n",
    "import json\n",
    "import re\n",
    "import html\n",
    "import random\n",
    "\n",
    "from pathlib import Path\n",
    "\n",
    "import torchtext\n",
    "from torchtext import vocab, data\n",
    "from torchtext.datasets import language_modeling\n",
    "\n",
    "from fastai.fastai.rnn_reg import *\n",
    "from fastai.fastai.rnn_train import *\n",
    "from fastai.fastai.nlp import *\n",
    "from fastai.fastai.lm_rnn import *\n",
    "\n",
    "import dill"
   ]
  },
  {
   "cell_type": "markdown",
   "metadata": {},
   "source": [
    "## 1. Prepare dataset"
   ]
  },
  {
   "cell_type": "code",
   "execution_count": 3,
   "metadata": {},
   "outputs": [],
   "source": [
    "PATH = Path('data/trump')"
   ]
  },
  {
   "cell_type": "code",
   "execution_count": 3,
   "metadata": {},
   "outputs": [],
   "source": [
    "PATH.mkdir(exist_ok=True)"
   ]
  },
  {
   "cell_type": "code",
   "execution_count": 4,
   "metadata": {},
   "outputs": [
    {
     "name": "stdout",
     "output_type": "stream",
     "text": [
      "Cloning into 'data/trump'...\n",
      "remote: Counting objects: 36441, done.\u001b[K\n",
      "remote: Compressing objects: 100% (83/83), done.\u001b[K\n",
      "remote: Total 36441 (delta 28), reused 57 (delta 1), pack-reused 36357\u001b[K\n",
      "Receiving objects: 100% (36441/36441), 3.18 GiB | 71.81 MiB/s, done.\n",
      "Resolving deltas: 100% (10162/10162), done.\n",
      "Checking connectivity... done.\n"
     ]
    }
   ],
   "source": [
    "!git clone git@github.com:bpb27/trump_tweet_data_archive.git {PATH}"
   ]
  },
  {
   "cell_type": "code",
   "execution_count": 4,
   "metadata": {},
   "outputs": [],
   "source": [
    "for file in PATH.iterdir():\n",
    "    if not file.name.endswith('zip'):\n",
    "        continue\n",
    "\n",
    "    !unzip -q -d{PATH} -o {file}"
   ]
  },
  {
   "cell_type": "code",
   "execution_count": 5,
   "metadata": {},
   "outputs": [],
   "source": [
    "trump_2018 = json.load(open(PATH / 'master_2018.json'))"
   ]
  },
  {
   "cell_type": "code",
   "execution_count": 6,
   "metadata": {},
   "outputs": [
    {
     "data": {
      "text/plain": [
       "list"
      ]
     },
     "execution_count": 6,
     "metadata": {},
     "output_type": "execute_result"
    }
   ],
   "source": [
    "type(trump_2018)"
   ]
  },
  {
   "cell_type": "code",
   "execution_count": 7,
   "metadata": {},
   "outputs": [
    {
     "data": {
      "text/plain": [
       "'HAPPY NEW YEAR! We are MAKING AMERICA GREAT AGAIN, and much faster than anyone thought possible!'"
      ]
     },
     "execution_count": 7,
     "metadata": {},
     "output_type": "execute_result"
    }
   ],
   "source": [
    "trump_2018[3]['full_text']"
   ]
  },
  {
   "cell_type": "markdown",
   "metadata": {},
   "source": [
    "Iterate through each master file and save text into train and validation sets."
   ]
  },
  {
   "cell_type": "code",
   "execution_count": 8,
   "metadata": {},
   "outputs": [],
   "source": [
    "TRN = 'train'\n",
    "VAL = 'val'\n",
    "\n",
    "TRN_PATH = PATH / TRN\n",
    "VAL_PATH = PATH / VAL\n",
    "\n",
    "TRN_PATH.mkdir(exist_ok=True)\n",
    "VAL_PATH.mkdir(exist_ok=True)"
   ]
  },
  {
   "cell_type": "code",
   "execution_count": 11,
   "metadata": {},
   "outputs": [],
   "source": [
    "random.seed(42)\n",
    "\n",
    "for file in PATH.iterdir():\n",
    "    if not (\n",
    "        file.name.endswith('json') and\n",
    "        file.name.startswith('master')\n",
    "        \n",
    "    ):\n",
    "        continue\n",
    "        \n",
    "    tweets = json.load(open(file))\n",
    "    \n",
    "    for t in tweets:\n",
    "        # Ignore replies\n",
    "        if t.get('in_reply_to_status_id'):\n",
    "            continue\n",
    "            \n",
    "        # Ignore retweets\n",
    "        if t['retweeted']:\n",
    "            continue\n",
    "    \n",
    "        if t.get('full_text'):\n",
    "            text = t['full_text']\n",
    "        else:\n",
    "            text = t['text']\n",
    "            \n",
    "        text = text.strip()\n",
    "            \n",
    "        if text.startswith('RT'):\n",
    "            continue\n",
    "            \n",
    "        # Strip urls\n",
    "        text = ' '.join(\n",
    "            [w for w in text.split(' ') if not w.startswith('http')])\n",
    "            \n",
    "        # Unescape html entites\n",
    "        text = html.unescape(text)\n",
    "        \n",
    "        set_name = 'val' if random.random() > 0.8 else 'train'\n",
    "        \n",
    "        with open(PATH / set_name / f\"{t['id']}.txt\", 'w') as fh:\n",
    "            fh.write(text)"
   ]
  },
  {
   "cell_type": "code",
   "execution_count": 12,
   "metadata": {},
   "outputs": [
    {
     "name": "stdout",
     "output_type": "stream",
     "text": [
      "From Donald Trump: Andrea Bocelli @ Mar-a-Lago - Many say best night of entertainment in long history of Palm Beach"
     ]
    }
   ],
   "source": [
    "!cat {PATH}/train/10027087487.txt"
   ]
  },
  {
   "cell_type": "markdown",
   "metadata": {},
   "source": [
    "## 2. Create word embeddings on IMDB data"
   ]
  },
  {
   "cell_type": "code",
   "execution_count": 7,
   "metadata": {},
   "outputs": [
    {
     "name": "stdout",
     "output_type": "stream",
     "text": [
      "imdbEr.txt  imdb.vocab  \u001b[0m\u001b[01;34mmodels\u001b[0m/  README  \u001b[01;34mtest\u001b[0m/  \u001b[01;34mtmp\u001b[0m/  \u001b[01;34mtrain\u001b[0m/\r\n"
     ]
    }
   ],
   "source": [
    "PATH='data/aclImdb/'\n",
    "\n",
    "TRN_PATH = 'train/all/'\n",
    "VAL_PATH = 'test/all/'\n",
    "TRN = f'{PATH}{TRN_PATH}'\n",
    "VAL = f'{PATH}{VAL_PATH}'\n",
    "\n",
    "%ls {PATH}"
   ]
  },
  {
   "cell_type": "code",
   "execution_count": 10,
   "metadata": {},
   "outputs": [],
   "source": [
    "TEXT = data.Field(lower=True, tokenize=\"spacy\")"
   ]
  },
  {
   "cell_type": "code",
   "execution_count": 11,
   "metadata": {},
   "outputs": [],
   "source": [
    "bs=64; bptt=70"
   ]
  },
  {
   "cell_type": "code",
   "execution_count": 12,
   "metadata": {},
   "outputs": [
    {
     "name": "stdout",
     "output_type": "stream",
     "text": [
      "CPU times: user 3min 56s, sys: 3.5 s, total: 3min 59s\n",
      "Wall time: 3min 59s\n"
     ]
    }
   ],
   "source": [
    "%%time\n",
    "imdb_model_data = LanguageModelData.from_text_files(\n",
    "    PATH, TEXT,\n",
    "    train=TRN_PATH, validation=VAL_PATH, test=VAL_PATH,\n",
    "    bs=bs, bptt=bptt, min_freq=10)"
   ]
  },
  {
   "cell_type": "code",
   "execution_count": 13,
   "metadata": {},
   "outputs": [],
   "source": [
    "dill.dump(TEXT, open(f'{PATH}models/TEXT.pkl','wb'))"
   ]
  },
  {
   "cell_type": "code",
   "execution_count": 14,
   "metadata": {},
   "outputs": [],
   "source": [
    "em_sz = 200  # size of each embedding vector\n",
    "nh = 500     # number of hidden activations per layer\n",
    "nl = 3       # number of layers\n",
    "\n",
    "opt_fn = partial(optim.Adam, betas=(0.7, 0.99))"
   ]
  },
  {
   "cell_type": "code",
   "execution_count": 15,
   "metadata": {},
   "outputs": [],
   "source": [
    "learner = imdb_model_data.get_model(opt_fn, em_sz, nh, nl,\n",
    "               dropouti=0.05, dropout=0.05, wdrop=0.1, dropoute=0.02, dropouth=0.05)\n",
    "learner.reg_fn = partial(seq2seq_reg, alpha=2, beta=1)\n",
    "learner.clip=0.3"
   ]
  },
  {
   "cell_type": "code",
   "execution_count": 16,
   "metadata": {},
   "outputs": [
    {
     "data": {
      "application/vnd.jupyter.widget-view+json": {
       "model_id": "99eaf2ac06f341618b70f56f2af5dbdc",
       "version_major": 2,
       "version_minor": 0
      },
      "text/plain": [
       "HBox(children=(IntProgress(value=0, description='Epoch', max=15), HTML(value='')))"
      ]
     },
     "metadata": {},
     "output_type": "display_data"
    },
    {
     "name": "stdout",
     "output_type": "stream",
     "text": [
      "epoch      trn_loss   val_loss                                \n",
      "    0      4.823443   4.711968  \n",
      "    1      4.642202   4.519935                                \n",
      "    2      4.530305   4.438553                                \n",
      "    3      4.588088   4.467611                                \n",
      "    4      4.502331   4.395613                                \n",
      "    5      4.417197   4.338107                                \n",
      "    6      4.393524   4.321291                                \n",
      "    7      4.522829   4.414174                                \n",
      "    8      4.50086    4.389934                                \n",
      "    9      4.458413   4.356636                                \n",
      "    10     4.422713   4.326128                                \n",
      "    11     4.38166    4.296248                                \n",
      "    12     4.350391   4.272144                                \n",
      "    13     4.310256   4.258536                                \n",
      "    14     4.337864   4.255822                                \n",
      "\n"
     ]
    },
    {
     "data": {
      "text/plain": [
       "[array([4.25582])]"
      ]
     },
     "execution_count": 16,
     "metadata": {},
     "output_type": "execute_result"
    }
   ],
   "source": [
    "learner.fit(3e-3, 4, wds=1e-6, cycle_len=1, cycle_mult=2)"
   ]
  },
  {
   "cell_type": "code",
   "execution_count": 17,
   "metadata": {},
   "outputs": [],
   "source": [
    "learner.save_encoder('adam1_enc')"
   ]
  },
  {
   "cell_type": "code",
   "execution_count": 18,
   "metadata": {},
   "outputs": [],
   "source": [
    "learner.load_encoder('adam1_enc')"
   ]
  },
  {
   "cell_type": "code",
   "execution_count": 20,
   "metadata": {},
   "outputs": [],
   "source": [
    "learner.save('adam3_model')"
   ]
  },
  {
   "cell_type": "code",
   "execution_count": 21,
   "metadata": {},
   "outputs": [
    {
     "data": {
      "application/vnd.jupyter.widget-view+json": {
       "model_id": "16bee8364b344145af4c52f427ae6a37",
       "version_major": 2,
       "version_minor": 0
      },
      "text/plain": [
       "HBox(children=(IntProgress(value=0, description='Epoch', max=10), HTML(value='')))"
      ]
     },
     "metadata": {},
     "output_type": "display_data"
    },
    {
     "name": "stdout",
     "output_type": "stream",
     "text": [
      "epoch      trn_loss   val_loss                                \n",
      "    0      4.472974   4.37178   \n",
      "    1      4.462487   4.359999                                \n",
      "    2      4.441079   4.339152                                \n",
      " 92%|█████████▏| 4223/4583 [19:42<01:40,  3.57it/s, loss=4.42]    3      4.411868   4.319829  \n",
      "    4      4.382664   4.294869                                \n",
      "    5      4.346344   4.270796                                \n",
      "    6      4.313401   4.250776                                \n",
      "    7      4.324756   4.237291                                \n",
      "    8      4.263578   4.227346                                \n",
      "    9      4.270439   4.225821                                \n",
      "\n"
     ]
    },
    {
     "data": {
      "text/plain": [
       "[array([4.22582])]"
      ]
     },
     "execution_count": 21,
     "metadata": {},
     "output_type": "execute_result"
    }
   ],
   "source": [
    "learner.fit(3e-3, 1, wds=1e-6, cycle_len=10, cycle_save_name='adam3_20')"
   ]
  },
  {
   "cell_type": "code",
   "execution_count": 22,
   "metadata": {},
   "outputs": [],
   "source": [
    "learner.save_encoder('adam3_20_enc')"
   ]
  },
  {
   "cell_type": "code",
   "execution_count": 24,
   "metadata": {},
   "outputs": [
    {
     "data": {
      "application/vnd.jupyter.widget-view+json": {
       "model_id": "068687b189ed4f1da9e590bd0a6950d3",
       "version_major": 2,
       "version_minor": 0
      },
      "text/plain": [
       "HBox(children=(IntProgress(value=0, description='Epoch', max=10), HTML(value='')))"
      ]
     },
     "metadata": {},
     "output_type": "display_data"
    },
    {
     "name": "stdout",
     "output_type": "stream",
     "text": [
      "epoch      trn_loss   val_loss                                \n",
      "    0      4.380983   4.284288  \n",
      "    1      4.354751   4.273869                                \n",
      "    2      4.356179   4.266137                                \n",
      "    3      4.329464   4.255518                                \n",
      "    4      4.315512   4.244637                                \n",
      "    5      4.297495   4.234239                                \n",
      "    6      4.270093   4.222948                                \n",
      "    7      4.255681   4.216224                                \n",
      "    8      4.250174   4.213073                                \n",
      "    9      4.236307   4.212431                                \n",
      "\n"
     ]
    },
    {
     "data": {
      "text/plain": [
       "[array([4.21243])]"
      ]
     },
     "execution_count": 24,
     "metadata": {},
     "output_type": "execute_result"
    }
   ],
   "source": [
    "learner.fit(0.0015, 1, wds=1e-6, cycle_len=10, cycle_save_name='adam4_10')"
   ]
  },
  {
   "cell_type": "code",
   "execution_count": 25,
   "metadata": {},
   "outputs": [],
   "source": [
    "learner.save_encoder('adam4_10_enc')"
   ]
  },
  {
   "cell_type": "code",
   "execution_count": 26,
   "metadata": {},
   "outputs": [
    {
     "data": {
      "application/vnd.jupyter.widget-view+json": {
       "model_id": "f04c4c83c463404a8484ef535c9e1f8e",
       "version_major": 2,
       "version_minor": 0
      },
      "text/plain": [
       "HBox(children=(IntProgress(value=0, description='Epoch', max=15), HTML(value='')))"
      ]
     },
     "metadata": {},
     "output_type": "display_data"
    },
    {
     "name": "stdout",
     "output_type": "stream",
     "text": [
      "epoch      trn_loss   val_loss                                \n",
      "    0      4.310396   4.225647  \n",
      "    1      4.347734   4.244958                                \n",
      "    2      4.275885   4.217382                                \n",
      "    3      4.363409   4.264354                                \n",
      "    4      4.316585   4.239199                                \n",
      "    5      4.287024   4.216901                                \n",
      "    6      4.248019   4.210321                                \n",
      "    7      4.363109   4.266071                                \n",
      "    8      4.357974   4.260314                                \n",
      "    9      4.323174   4.245379                                \n",
      "    10     4.29578    4.232848                                \n",
      " 94%|█████████▍| 4310/4583 [20:25<01:17,  3.52it/s, loss=4.29]    11     4.280968   4.218835  \n",
      "    12     4.260347   4.209569                                \n",
      "    13     4.232872   4.203747                                \n",
      "    14     4.232934   4.202884                                \n",
      "\n"
     ]
    },
    {
     "data": {
      "text/plain": [
       "[array([4.20288])]"
      ]
     },
     "execution_count": 26,
     "metadata": {},
     "output_type": "execute_result"
    }
   ],
   "source": [
    "learner.fit(0.0015, 4, wds=1e-6, cycle_len=1, cycle_mult=2)"
   ]
  },
  {
   "cell_type": "code",
   "execution_count": 27,
   "metadata": {},
   "outputs": [],
   "source": [
    "learner.save_encoder('adam5_enc')"
   ]
  },
  {
   "cell_type": "code",
   "execution_count": 28,
   "metadata": {},
   "outputs": [],
   "source": [
    "dill.dump(TEXT, open(f'{PATH}models/TEXT-adam5.pkl','wb'))"
   ]
  },
  {
   "cell_type": "markdown",
   "metadata": {},
   "source": [
    "## 3. Fine-tune language model on Trump set"
   ]
  },
  {
   "cell_type": "code",
   "execution_count": 2,
   "metadata": {},
   "outputs": [],
   "source": [
    "PATH = Path('data/trump')"
   ]
  },
  {
   "cell_type": "code",
   "execution_count": 3,
   "metadata": {},
   "outputs": [],
   "source": [
    "TEXT = dill.load(open(f'./data/aclImdb/models/TEXT-adam5.pkl', 'rb'))     "
   ]
  },
  {
   "cell_type": "code",
   "execution_count": 4,
   "metadata": {},
   "outputs": [],
   "source": [
    "TRN = 'train'\n",
    "VAL = 'val'\n",
    "bs=64\n",
    "bptt=70\n",
    "em_sz = 200  # size of each embedding vector\n",
    "nh = 500     # number of hidden activations per layer\n",
    "nl = 3       # number of layers"
   ]
  },
  {
   "cell_type": "code",
   "execution_count": 5,
   "metadata": {},
   "outputs": [],
   "source": [
    "trump_model_data = LanguageModelData.from_text_files(\n",
    "    PATH, TEXT,\n",
    "    train=TRN, validation=VAL, test=VAL,\n",
    "    bs=bs, bptt=bptt, min_freq=10)"
   ]
  },
  {
   "cell_type": "code",
   "execution_count": 6,
   "metadata": {},
   "outputs": [],
   "source": [
    "opt_fn = partial(optim.Adam, betas=(0.7, 0.99))"
   ]
  },
  {
   "cell_type": "code",
   "execution_count": 8,
   "metadata": {},
   "outputs": [],
   "source": [
    "m3 = trump_model_data.get_model(\n",
    "    opt_fn, em_sz, nh, nl,\n",
    "    dropouti=0.05, dropout=0.05, wdrop=0.1, dropoute=0.02, dropouth=0.05)"
   ]
  },
  {
   "cell_type": "code",
   "execution_count": 11,
   "metadata": {},
   "outputs": [],
   "source": [
    "m3.reg_fn = partial(seq2seq_reg, alpha=2, beta=1)\n",
    "m3.load_encoder(f'adam5_enc')"
   ]
  },
  {
   "cell_type": "code",
   "execution_count": 12,
   "metadata": {},
   "outputs": [],
   "source": [
    "lrs=np.array([1e-4,1e-4,1e-4,1e-3,1e-2])"
   ]
  },
  {
   "cell_type": "code",
   "execution_count": 13,
   "metadata": {},
   "outputs": [],
   "source": [
    "m3.freeze_to(-1)"
   ]
  },
  {
   "cell_type": "code",
   "execution_count": 15,
   "metadata": {},
   "outputs": [
    {
     "data": {
      "application/vnd.jupyter.widget-view+json": {
       "model_id": "9d1ef55677f2476895e8af09f445161a",
       "version_major": 2,
       "version_minor": 0
      },
      "text/plain": [
       "HBox(children=(IntProgress(value=0, description='Epoch', max=10), HTML(value='')))"
      ]
     },
     "metadata": {},
     "output_type": "display_data"
    },
    {
     "name": "stdout",
     "output_type": "stream",
     "text": [
      "epoch      trn_loss   val_loss                              \n",
      "    0      4.684523   4.197061  \n",
      "    1      4.047135   3.914536                              \n",
      "    2      3.748342   3.812412                              \n",
      "    3      3.560045   3.747139                              \n",
      "    4      3.401466   3.721526                              \n",
      "    5      3.258891   3.705311                              \n",
      "    6      3.164892   3.702058                              \n",
      "    7      3.109769   3.702141                              \n",
      "    8      3.052933   3.698228                              \n",
      "    9      3.040893   3.700763                              \n",
      "\n"
     ]
    },
    {
     "data": {
      "text/plain": [
       "[array([3.70076])]"
      ]
     },
     "execution_count": 15,
     "metadata": {},
     "output_type": "execute_result"
    }
   ],
   "source": [
    "m3.fit(3e-3, 1, wds=1e-6, cycle_len=10)"
   ]
  },
  {
   "cell_type": "code",
   "execution_count": 16,
   "metadata": {},
   "outputs": [],
   "source": [
    "model = m3.model"
   ]
  },
  {
   "cell_type": "code",
   "execution_count": 27,
   "metadata": {},
   "outputs": [],
   "source": [
    "ss = \"am\""
   ]
  },
  {
   "cell_type": "code",
   "execution_count": 28,
   "metadata": {},
   "outputs": [
    {
     "data": {
      "text/plain": [
       "'am'"
      ]
     },
     "execution_count": 28,
     "metadata": {},
     "output_type": "execute_result"
    }
   ],
   "source": [
    "s = [TEXT.tokenize(ss)]\n",
    "t = TEXT.numericalize(s)\n",
    "' '.join(s[0])"
   ]
  },
  {
   "cell_type": "code",
   "execution_count": 29,
   "metadata": {},
   "outputs": [],
   "source": [
    "model[0].bs = 1\n",
    "model.eval()\n",
    "model.reset()\n",
    "res, *_ = model(t)\n",
    "model[0].bs = bs"
   ]
  },
  {
   "cell_type": "code",
   "execution_count": 30,
   "metadata": {},
   "outputs": [
    {
     "data": {
      "text/plain": [
       "[',', '.', 'in', 'at', 'to', '<unk>', 'i', '!', 'a', 'and']"
      ]
     },
     "execution_count": 30,
     "metadata": {},
     "output_type": "execute_result"
    }
   ],
   "source": [
    "next_words = torch.topk(res[-1], 10)[1]\n",
    "[TEXT.vocab.itos[o] for o in to_np(next_words)]"
   ]
  },
  {
   "cell_type": "code",
   "execution_count": 62,
   "metadata": {},
   "outputs": [
    {
     "name": "stdout",
     "output_type": "stream",
     "text": [
      "am \n",
      "\n",
      "champion <eos> \" a good night for the american people . \" # obama <eos> \" i 'm a big fan of all of the other candidates and i have a lot of common sense . \" donald trump \" <eos> \" you have to love what you do . \" -- think like a champion <eos> \" <unk> : # new york city , trump national hotel & tower , new york , is the best hotel in the world ! ! ! ! ! ! ! ! ! ! ! ! ! ! ! ! ! ! ! ...\n"
     ]
    }
   ],
   "source": [
    "print(ss,\"\\n\")\n",
    "for i in range(100):\n",
    "    n=res[-1].topk(10)[1]\n",
    "    \n",
    "    n = n[random.randint(0, 9)] if n.data[0]==0 else n[0]\n",
    "\n",
    "    print(TEXT.vocab.itos[n.data[0]], end=' ')\n",
    "    res,*_ = model(n[0].unsqueeze(0))\n",
    "print('...')"
   ]
  },
  {
   "cell_type": "code",
   "execution_count": 36,
   "metadata": {},
   "outputs": [
    {
     "data": {
      "text/plain": [
       "10.741398811340332"
      ]
     },
     "execution_count": 36,
     "metadata": {},
     "output_type": "execute_result"
    }
   ],
   "source": [
    "res[-1].topk(2)[0].data[0]"
   ]
  },
  {
   "cell_type": "code",
   "execution_count": 40,
   "metadata": {},
   "outputs": [
    {
     "data": {
      "text/plain": [
       "46"
      ]
     },
     "execution_count": 40,
     "metadata": {},
     "output_type": "execute_result"
    }
   ],
   "source": [
    "n.data[0]"
   ]
  },
  {
   "cell_type": "code",
   "execution_count": 53,
   "metadata": {},
   "outputs": [
    {
     "data": {
      "text/plain": [
       "38"
      ]
     },
     "execution_count": 53,
     "metadata": {},
     "output_type": "execute_result"
    }
   ],
   "source": [
    "n.data[0]"
   ]
  },
  {
   "cell_type": "code",
   "execution_count": 59,
   "metadata": {},
   "outputs": [
    {
     "data": {
      "text/plain": [
       "Variable containing:\n",
       " 10.1666\n",
       "  8.7362\n",
       "  8.1153\n",
       "  7.8387\n",
       "  7.3282\n",
       "  7.0713\n",
       "  6.8716\n",
       "  6.7939\n",
       "  6.5435\n",
       "  6.4551\n",
       "[torch.cuda.FloatTensor of size 10 (GPU 0)]"
      ]
     },
     "execution_count": 59,
     "metadata": {},
     "output_type": "execute_result"
    }
   ],
   "source": [
    "res[-1].topk(10)[0]"
   ]
  },
  {
   "cell_type": "code",
   "execution_count": null,
   "metadata": {},
   "outputs": [],
   "source": []
  }
 ],
 "metadata": {
  "kernelspec": {
   "display_name": "Python 3",
   "language": "python",
   "name": "python3"
  },
  "language_info": {
   "codemirror_mode": {
    "name": "ipython",
    "version": 3
   },
   "file_extension": ".py",
   "mimetype": "text/x-python",
   "name": "python",
   "nbconvert_exporter": "python",
   "pygments_lexer": "ipython3",
   "version": "3.6.5"
  }
 },
 "nbformat": 4,
 "nbformat_minor": 2
}
