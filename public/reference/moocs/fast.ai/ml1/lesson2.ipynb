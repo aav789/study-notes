{
 "cells": [
  {
   "cell_type": "code",
   "execution_count": 1,
   "metadata": {},
   "outputs": [],
   "source": [
    "%load_ext autoreload\n",
    "%autoreload 2\n",
    "\n",
    "%matplotlib inline\n",
    "\n",
    "from fastai.imports import *\n",
    "from fastai.structured import *\n",
    "\n",
    "from pandas_summary import DataFrameSummary\n",
    "from sklearn.ensemble import RandomForestRegressor, RandomForestClassifier\n",
    "from IPython.display import display\n",
    "from pathlib import Path\n",
    "from sklearn.ensemble import ExtraTreesRegressor\n",
    "\n",
    "from sklearn import metrics"
   ]
  },
  {
   "cell_type": "markdown",
   "metadata": {},
   "source": [
    "# Lesson 2\n",
    "\n",
    "## 00:00:00 - What's coming\n",
    "\n",
    "* So far all we've learned: there's a thing called Random Forests that works quite well for some datasets.\n",
    "  * Diving deeper into RFs next.\n",
    "* After: how do we interpret Random Forests to understand our data?"
   ]
  },
  {
   "cell_type": "markdown",
   "metadata": {},
   "source": [
    "## 00:00:45 - Review\n",
    "\n",
    "* Learned about Fast.ai library.\n",
    "  * Highly opinionated: lots of research for best practises.\n",
    "* Lots of wrappers on top of existing code.\n",
    "* Most of today is about getting stuff into and out of Scikit-learn.\n",
    "\n",
    "## 00:01:44 - Fast.ai library\n",
    "\n",
    "* Set of notebooks under `fastai/courses/ml1`.\n",
    "* In that directory, there's a symlink to the parent `fastai` package directory.\n",
    "* If you want to use Fast.ai library, need to symlink:\n",
    "  ``ln -s ../fastai fastai``\n",
    "  \n",
    "## 00:03:35 - Audience question\n",
    "\n",
    "* Q1: Do you create symlinks with `ln -s`?\n",
    "* A1: Yes: `ln -s <source> <dest>`.\n",
    "  * Similar to shortcut in Windows and alias in Mac.\n",
    "  \n",
    "## 00:05:29 - Bluebooks revisited \n",
    "\n",
    "* Important to deeply understand evaluation metric for the project.\n",
    "* In this case it's root mean log squared error: `sqrt(log(acts) - log(preds))**2`"
   ]
  },
  {
   "cell_type": "code",
   "execution_count": 2,
   "metadata": {},
   "outputs": [],
   "source": [
    "PATH = Path('./data/bluebook/')"
   ]
  },
  {
   "cell_type": "code",
   "execution_count": 3,
   "metadata": {
    "scrolled": true
   },
   "outputs": [],
   "source": [
    "df_raw = pd.read_csv(f'{PATH}/Train.csv', low_memory=False, parse_dates=['saledate'])"
   ]
  },
  {
   "cell_type": "code",
   "execution_count": 4,
   "metadata": {},
   "outputs": [
    {
     "data": {
      "text/html": [
       "<div>\n",
       "<style scoped>\n",
       "    .dataframe tbody tr th:only-of-type {\n",
       "        vertical-align: middle;\n",
       "    }\n",
       "\n",
       "    .dataframe tbody tr th {\n",
       "        vertical-align: top;\n",
       "    }\n",
       "\n",
       "    .dataframe thead th {\n",
       "        text-align: right;\n",
       "    }\n",
       "</style>\n",
       "<table border=\"1\" class=\"dataframe\">\n",
       "  <thead>\n",
       "    <tr style=\"text-align: right;\">\n",
       "      <th></th>\n",
       "      <th>SalesID</th>\n",
       "      <th>SalePrice</th>\n",
       "      <th>MachineID</th>\n",
       "      <th>ModelID</th>\n",
       "      <th>datasource</th>\n",
       "      <th>auctioneerID</th>\n",
       "      <th>YearMade</th>\n",
       "      <th>MachineHoursCurrentMeter</th>\n",
       "      <th>UsageBand</th>\n",
       "      <th>saledate</th>\n",
       "      <th>...</th>\n",
       "      <th>Undercarriage_Pad_Width</th>\n",
       "      <th>Stick_Length</th>\n",
       "      <th>Thumb</th>\n",
       "      <th>Pattern_Changer</th>\n",
       "      <th>Grouser_Type</th>\n",
       "      <th>Backhoe_Mounting</th>\n",
       "      <th>Blade_Type</th>\n",
       "      <th>Travel_Controls</th>\n",
       "      <th>Differential_Type</th>\n",
       "      <th>Steering_Controls</th>\n",
       "    </tr>\n",
       "  </thead>\n",
       "  <tbody>\n",
       "    <tr>\n",
       "      <th>0</th>\n",
       "      <td>1139246</td>\n",
       "      <td>66000</td>\n",
       "      <td>999089</td>\n",
       "      <td>3157</td>\n",
       "      <td>121</td>\n",
       "      <td>3.0</td>\n",
       "      <td>2004</td>\n",
       "      <td>68.0</td>\n",
       "      <td>Low</td>\n",
       "      <td>2006-11-16</td>\n",
       "      <td>...</td>\n",
       "      <td>NaN</td>\n",
       "      <td>NaN</td>\n",
       "      <td>NaN</td>\n",
       "      <td>NaN</td>\n",
       "      <td>NaN</td>\n",
       "      <td>NaN</td>\n",
       "      <td>NaN</td>\n",
       "      <td>NaN</td>\n",
       "      <td>Standard</td>\n",
       "      <td>Conventional</td>\n",
       "    </tr>\n",
       "    <tr>\n",
       "      <th>1</th>\n",
       "      <td>1139248</td>\n",
       "      <td>57000</td>\n",
       "      <td>117657</td>\n",
       "      <td>77</td>\n",
       "      <td>121</td>\n",
       "      <td>3.0</td>\n",
       "      <td>1996</td>\n",
       "      <td>4640.0</td>\n",
       "      <td>Low</td>\n",
       "      <td>2004-03-26</td>\n",
       "      <td>...</td>\n",
       "      <td>NaN</td>\n",
       "      <td>NaN</td>\n",
       "      <td>NaN</td>\n",
       "      <td>NaN</td>\n",
       "      <td>NaN</td>\n",
       "      <td>NaN</td>\n",
       "      <td>NaN</td>\n",
       "      <td>NaN</td>\n",
       "      <td>Standard</td>\n",
       "      <td>Conventional</td>\n",
       "    </tr>\n",
       "    <tr>\n",
       "      <th>2</th>\n",
       "      <td>1139249</td>\n",
       "      <td>10000</td>\n",
       "      <td>434808</td>\n",
       "      <td>7009</td>\n",
       "      <td>121</td>\n",
       "      <td>3.0</td>\n",
       "      <td>2001</td>\n",
       "      <td>2838.0</td>\n",
       "      <td>High</td>\n",
       "      <td>2004-02-26</td>\n",
       "      <td>...</td>\n",
       "      <td>NaN</td>\n",
       "      <td>NaN</td>\n",
       "      <td>NaN</td>\n",
       "      <td>NaN</td>\n",
       "      <td>NaN</td>\n",
       "      <td>NaN</td>\n",
       "      <td>NaN</td>\n",
       "      <td>NaN</td>\n",
       "      <td>NaN</td>\n",
       "      <td>NaN</td>\n",
       "    </tr>\n",
       "    <tr>\n",
       "      <th>3</th>\n",
       "      <td>1139251</td>\n",
       "      <td>38500</td>\n",
       "      <td>1026470</td>\n",
       "      <td>332</td>\n",
       "      <td>121</td>\n",
       "      <td>3.0</td>\n",
       "      <td>2001</td>\n",
       "      <td>3486.0</td>\n",
       "      <td>High</td>\n",
       "      <td>2011-05-19</td>\n",
       "      <td>...</td>\n",
       "      <td>NaN</td>\n",
       "      <td>NaN</td>\n",
       "      <td>NaN</td>\n",
       "      <td>NaN</td>\n",
       "      <td>NaN</td>\n",
       "      <td>NaN</td>\n",
       "      <td>NaN</td>\n",
       "      <td>NaN</td>\n",
       "      <td>NaN</td>\n",
       "      <td>NaN</td>\n",
       "    </tr>\n",
       "    <tr>\n",
       "      <th>4</th>\n",
       "      <td>1139253</td>\n",
       "      <td>11000</td>\n",
       "      <td>1057373</td>\n",
       "      <td>17311</td>\n",
       "      <td>121</td>\n",
       "      <td>3.0</td>\n",
       "      <td>2007</td>\n",
       "      <td>722.0</td>\n",
       "      <td>Medium</td>\n",
       "      <td>2009-07-23</td>\n",
       "      <td>...</td>\n",
       "      <td>NaN</td>\n",
       "      <td>NaN</td>\n",
       "      <td>NaN</td>\n",
       "      <td>NaN</td>\n",
       "      <td>NaN</td>\n",
       "      <td>NaN</td>\n",
       "      <td>NaN</td>\n",
       "      <td>NaN</td>\n",
       "      <td>NaN</td>\n",
       "      <td>NaN</td>\n",
       "    </tr>\n",
       "  </tbody>\n",
       "</table>\n",
       "<p>5 rows × 53 columns</p>\n",
       "</div>"
      ],
      "text/plain": [
       "   SalesID  SalePrice  MachineID  ModelID  datasource  auctioneerID  YearMade  \\\n",
       "0  1139246      66000     999089     3157         121           3.0      2004   \n",
       "1  1139248      57000     117657       77         121           3.0      1996   \n",
       "2  1139249      10000     434808     7009         121           3.0      2001   \n",
       "3  1139251      38500    1026470      332         121           3.0      2001   \n",
       "4  1139253      11000    1057373    17311         121           3.0      2007   \n",
       "\n",
       "   MachineHoursCurrentMeter UsageBand   saledate        ...         \\\n",
       "0                      68.0       Low 2006-11-16        ...          \n",
       "1                    4640.0       Low 2004-03-26        ...          \n",
       "2                    2838.0      High 2004-02-26        ...          \n",
       "3                    3486.0      High 2011-05-19        ...          \n",
       "4                     722.0    Medium 2009-07-23        ...          \n",
       "\n",
       "  Undercarriage_Pad_Width Stick_Length Thumb Pattern_Changer Grouser_Type  \\\n",
       "0                     NaN          NaN   NaN             NaN          NaN   \n",
       "1                     NaN          NaN   NaN             NaN          NaN   \n",
       "2                     NaN          NaN   NaN             NaN          NaN   \n",
       "3                     NaN          NaN   NaN             NaN          NaN   \n",
       "4                     NaN          NaN   NaN             NaN          NaN   \n",
       "\n",
       "  Backhoe_Mounting Blade_Type Travel_Controls Differential_Type  \\\n",
       "0              NaN        NaN             NaN          Standard   \n",
       "1              NaN        NaN             NaN          Standard   \n",
       "2              NaN        NaN             NaN               NaN   \n",
       "3              NaN        NaN             NaN               NaN   \n",
       "4              NaN        NaN             NaN               NaN   \n",
       "\n",
       "  Steering_Controls  \n",
       "0      Conventional  \n",
       "1      Conventional  \n",
       "2               NaN  \n",
       "3               NaN  \n",
       "4               NaN  \n",
       "\n",
       "[5 rows x 53 columns]"
      ]
     },
     "execution_count": 4,
     "metadata": {},
     "output_type": "execute_result"
    }
   ],
   "source": [
    "df_raw.head()"
   ]
  },
  {
   "cell_type": "code",
   "execution_count": 5,
   "metadata": {},
   "outputs": [],
   "source": [
    "add_datepart(df_raw, 'saledate')"
   ]
  },
  {
   "cell_type": "code",
   "execution_count": 6,
   "metadata": {},
   "outputs": [
    {
     "data": {
      "text/plain": [
       "0    2006\n",
       "1    2004\n",
       "2    2004\n",
       "3    2011\n",
       "4    2009\n",
       "Name: saleYear, dtype: int64"
      ]
     },
     "execution_count": 6,
     "metadata": {},
     "output_type": "execute_result"
    }
   ],
   "source": [
    "df_raw.saleYear.head()"
   ]
  },
  {
   "cell_type": "code",
   "execution_count": 7,
   "metadata": {},
   "outputs": [],
   "source": [
    "df_raw.SalePrice = np.log(df_raw.SalePrice)"
   ]
  },
  {
   "cell_type": "markdown",
   "metadata": {},
   "source": [
    "Can use `train_cats` from the Fast.ai library to replace strings with categories."
   ]
  },
  {
   "cell_type": "code",
   "execution_count": 8,
   "metadata": {},
   "outputs": [],
   "source": [
    "train_cats(df_raw)"
   ]
  },
  {
   "cell_type": "code",
   "execution_count": 9,
   "metadata": {},
   "outputs": [
    {
     "data": {
      "text/plain": [
       "Index(['High', 'Low', 'Medium'], dtype='object')"
      ]
     },
     "execution_count": 9,
     "metadata": {},
     "output_type": "execute_result"
    }
   ],
   "source": [
    "df_raw.UsageBand.cat.categories"
   ]
  },
  {
   "cell_type": "markdown",
   "metadata": {},
   "source": [
    "Let's you easily convert categories to codes."
   ]
  },
  {
   "cell_type": "code",
   "execution_count": 10,
   "metadata": {},
   "outputs": [
    {
     "data": {
      "text/plain": [
       "0    1\n",
       "1    1\n",
       "2    0\n",
       "3    0\n",
       "dtype: int8"
      ]
     },
     "execution_count": 10,
     "metadata": {},
     "output_type": "execute_result"
    }
   ],
   "source": [
    "df_raw.UsageBand.cat.codes[:4]"
   ]
  },
  {
   "cell_type": "markdown",
   "metadata": {},
   "source": [
    "`proc_df` will convert categorical columns into codes, convert missing values with the median and add a column that tell you if a value is missing or not."
   ]
  },
  {
   "cell_type": "code",
   "execution_count": 11,
   "metadata": {},
   "outputs": [],
   "source": [
    "df, y, na_dict = proc_df(df_raw, 'SalePrice')"
   ]
  },
  {
   "cell_type": "code",
   "execution_count": 12,
   "metadata": {},
   "outputs": [
    {
     "data": {
      "text/plain": [
       "0.9831044622669224"
      ]
     },
     "execution_count": 12,
     "metadata": {},
     "output_type": "execute_result"
    }
   ],
   "source": [
    "m = RandomForestRegressor(n_jobs=-1)\n",
    "m.fit(df, y)\n",
    "m.score(df, y)"
   ]
  },
  {
   "cell_type": "markdown",
   "metadata": {},
   "source": [
    "### 00:10:50 - $r^2$"
   ]
  },
  {
   "cell_type": "markdown",
   "metadata": {},
   "source": [
    "* $R^2 = 1 - \\frac{SS_{res}}{SS_{tot}}$\n",
    "* Model tells you how much better you are than just predicting the mean.\n",
    "* Range of values is 1 and below: possible to make a model much worse than the mean."
   ]
  },
  {
   "cell_type": "markdown",
   "metadata": {},
   "source": [
    "### 00:17:32 - Measuring overfitting"
   ]
  },
  {
   "cell_type": "markdown",
   "metadata": {},
   "source": [
    "* With only training performance, you don't know if your model is going to generalise well.\n",
    "\n",
    "<img src=\"./images/underfitting-vs-overfitting.png\" width=600px>\n",
    "\n",
    "  * Aka: overfitting\n",
    " \n",
    "* To solve this problem: create a good validation.\n",
    "* Validation set should be as similiar as possible to validation set.\n",
    "  * Time series: validation set should be the same time frame as a test set if possible.\n",
    "  \n",
    "* In real world: test set should not be looked at while training model. Should only be looked at at the very end of the project."
   ]
  },
  {
   "cell_type": "code",
   "execution_count": 13,
   "metadata": {},
   "outputs": [
    {
     "data": {
      "text/plain": [
       "((389125, 66), (389125, 66), (12000, 66))"
      ]
     },
     "execution_count": 13,
     "metadata": {},
     "output_type": "execute_result"
    }
   ],
   "source": [
    "def split_vals(a, n): return a[:n].copy(), a[n:].copy()\n",
    "\n",
    "n_valid = 12000\n",
    "n_trn = len(df) - n_valid\n",
    "raw_train, raw_valid = split_vals(df_raw, n_trn)\n",
    "X_train, X_valid = split_vals(df, n_trn)\n",
    "y_train, y_valid = split_vals(y, n_trn)\n",
    "\n",
    "X_train.shape, X_train.shape, X_valid.shape"
   ]
  },
  {
   "cell_type": "markdown",
   "metadata": {},
   "source": [
    "#### 00:23:56 - Audience questions\n",
    "\n",
    "* Q1: For categorical data, should you convert them into different columns: aka one-hot encoding.\n",
    "* A1: Will be covered later.\n",
    "\n",
    "* Q2: Re dividing set into train and validation, why not use pick them randomly?\n",
    "* A2: Because it is closer to the Kaggle test set: a random validation set would be much easier.\n",
    "\n",
    "* Q3: If our $r^2$ turns out bad on validation set and we keep trying to improve it, wouldn't we overfit our validation set?\n",
    "* A3: That's the point of the test set and actually Kaggle has a 4th set to deal with overfitting on the test set."
   ]
  },
  {
   "cell_type": "markdown",
   "metadata": {},
   "source": []
  },
  {
   "cell_type": "code",
   "execution_count": 14,
   "metadata": {},
   "outputs": [
    {
     "name": "stdout",
     "output_type": "stream",
     "text": [
      "CPU times: user 1min 28s, sys: 1.06 s, total: 1min 29s\n",
      "Wall time: 19.4 s\n",
      "RMSE train: 0.09058650464539587\n",
      "RMSE val: 0.24969205971085992\n",
      "R^2 val: 0.8886584051772132\n"
     ]
    }
   ],
   "source": [
    "def rmse(x, y): return math.sqrt(((x-y) ** 2).mean())\n",
    "\n",
    "m = RandomForestRegressor(n_jobs=-1)\n",
    "%time m.fit(X_train, y_train)\n",
    "\n",
    "print(f'RMSE train: {rmse(m.predict(X_train), y_train)}')\n",
    "print(f'RMSE val: {rmse(m.predict(X_valid), y_valid)}')\n",
    "print(f'R^2 val: {m.score(X_valid, y_valid)}')"
   ]
  },
  {
   "cell_type": "markdown",
   "metadata": {},
   "source": [
    "## 00:27:08 - Fast.ai style guide (why not use PEP8?)\n",
    "\n",
    "* Being able to look at something in one go has a lot of value.\n",
    "* Consistently use certain letters to mean certain things makes sense in data science.\n",
    "* Should still know and use PEP8 as a software engineer.\n",
    "\n",
    "## 00:29:28 - Speeding up training and development\n",
    "\n",
    "* Rule of thumb: if something takes more than 10 secs to run, it's too long to run interactively analysis.\n",
    "  * Solution: train on a smaller dataset while experimenting.\n",
    "  * Can pass `subset` param to `proc_df` to reduce the sample size.\n",
    "  * Want to ensure you resplit your validation set (otherwise it's cheating)."
   ]
  },
  {
   "cell_type": "code",
   "execution_count": 15,
   "metadata": {},
   "outputs": [],
   "source": [
    "df_trn, y_trn, nas = proc_df(df_raw, 'SalePrice', subset=30000)\n",
    "X_train, _ = split_vals(df_trn, 20000)\n",
    "y_train, _ = split_vals(y_trn, 20000)"
   ]
  },
  {
   "cell_type": "code",
   "execution_count": 16,
   "metadata": {},
   "outputs": [
    {
     "name": "stdout",
     "output_type": "stream",
     "text": [
      "CPU times: user 2.76 s, sys: 38 ms, total: 2.79 s\n",
      "Wall time: 692 ms\n",
      "RMSE train: 0.11212894704774892\n",
      "RMSE val: 0.36895426363850503\n",
      "R^2 val: 0.7568954759985358\n"
     ]
    }
   ],
   "source": [
    "m = RandomForestRegressor(n_jobs=-1)\n",
    "%time m.fit(X_train, y_train)\n",
    "\n",
    "print(f'RMSE train: {rmse(m.predict(X_train), y_train)}')\n",
    "print(f'RMSE val: {rmse(m.predict(X_valid), y_valid)}')\n",
    "print(f'R^2 val: {m.score(X_valid, y_valid)}')"
   ]
  },
  {
   "cell_type": "markdown",
   "metadata": {},
   "source": [
    "## 00:31:50 - Viewing a single tree\n",
    "\n",
    "* \"Forest is made of trees\"\n",
    "* In Scikit-learn, trees are called estimators."
   ]
  },
  {
   "cell_type": "code",
   "execution_count": 17,
   "metadata": {},
   "outputs": [
    {
     "name": "stdout",
     "output_type": "stream",
     "text": [
      "RMSE val: 0.5814947072343097\n",
      "R^2 val: 0.3961354899757379\n"
     ]
    }
   ],
   "source": [
    "m = RandomForestRegressor(n_estimators=1, max_depth=3, bootstrap=False, n_jobs=-1)\n",
    "m.fit(X_train, y_train)\n",
    "\n",
    "print(f'RMSE val: {rmse(m.predict(X_valid), y_valid)}')\n",
    "print(f'R^2 val: {m.score(X_valid, y_valid)}')"
   ]
  },
  {
   "cell_type": "code",
   "execution_count": 18,
   "metadata": {},
   "outputs": [
    {
     "data": {
      "image/svg+xml": [
       "<?xml version=\"1.0\" encoding=\"UTF-8\" standalone=\"no\"?>\n",
       "<!DOCTYPE svg PUBLIC \"-//W3C//DTD SVG 1.1//EN\"\n",
       " \"http://www.w3.org/Graphics/SVG/1.1/DTD/svg11.dtd\">\n",
       "<!-- Generated by graphviz version 2.40.1 (20161225.0304)\n",
       " -->\n",
       "<!-- Title: Tree Pages: 1 -->\n",
       "<svg width=\"720pt\" height=\"434pt\"\n",
       " viewBox=\"0.00 0.00 720.00 434.45\" xmlns=\"http://www.w3.org/2000/svg\" xmlns:xlink=\"http://www.w3.org/1999/xlink\">\n",
       "<g id=\"graph0\" class=\"graph\" transform=\"scale(.8136 .8136) rotate(0) translate(4 530)\">\n",
       "<title>Tree</title>\n",
       "<polygon fill=\"#ffffff\" stroke=\"transparent\" points=\"-4,4 -4,-530 880.9719,-530 880.9719,4 -4,4\"/>\n",
       "<!-- 0 -->\n",
       "<g id=\"node1\" class=\"node\">\n",
       "<title>0</title>\n",
       "<polygon fill=\"#e58139\" fill-opacity=\"0.733333\" stroke=\"#000000\" points=\"166.4874,-322 25.4565,-322 25.4565,-258 166.4874,-258 166.4874,-322\"/>\n",
       "<text text-anchor=\"start\" x=\"33.2146\" y=\"-306.8\" font-family=\"Times,serif\" font-size=\"14.00\" fill=\"#000000\">Coupler_System ≤ 0.5</text>\n",
       "<text text-anchor=\"start\" x=\"61.4983\" y=\"-292.8\" font-family=\"Times,serif\" font-size=\"14.00\" fill=\"#000000\">mse = 0.454</text>\n",
       "<text text-anchor=\"start\" x=\"48.4724\" y=\"-278.8\" font-family=\"Times,serif\" font-size=\"14.00\" fill=\"#000000\">samples = 20000</text>\n",
       "<text text-anchor=\"start\" x=\"54.6282\" y=\"-264.8\" font-family=\"Times,serif\" font-size=\"14.00\" fill=\"#000000\">value = 10.111</text>\n",
       "</g>\n",
       "<!-- 1 -->\n",
       "<g id=\"node2\" class=\"node\">\n",
       "<title>1</title>\n",
       "<polygon fill=\"#e58139\" fill-opacity=\"0.792157\" stroke=\"#000000\" points=\"391.3373,-356 264.6066,-356 264.6066,-292 391.3373,-292 391.3373,-356\"/>\n",
       "<text text-anchor=\"start\" x=\"272.5393\" y=\"-340.8\" font-family=\"Times,serif\" font-size=\"14.00\" fill=\"#000000\">YearMade ≤ 1986.5</text>\n",
       "<text text-anchor=\"start\" x=\"293.4983\" y=\"-326.8\" font-family=\"Times,serif\" font-size=\"14.00\" fill=\"#000000\">mse = 0.396</text>\n",
       "<text text-anchor=\"start\" x=\"280.4724\" y=\"-312.8\" font-family=\"Times,serif\" font-size=\"14.00\" fill=\"#000000\">samples = 18203</text>\n",
       "<text text-anchor=\"start\" x=\"286.1155\" y=\"-298.8\" font-family=\"Times,serif\" font-size=\"14.00\" fill=\"#000000\">value = 10.202</text>\n",
       "</g>\n",
       "<!-- 0&#45;&gt;1 -->\n",
       "<g id=\"edge1\" class=\"edge\">\n",
       "<title>0&#45;&gt;1</title>\n",
       "<path fill=\"none\" stroke=\"#000000\" d=\"M166.5245,-300.3396C194.3076,-304.4113 226.2221,-309.0884 254.3015,-313.2035\"/>\n",
       "<polygon fill=\"#000000\" stroke=\"#000000\" points=\"254.0565,-316.7049 264.4583,-314.692 255.0715,-309.7788 254.0565,-316.7049\"/>\n",
       "<text text-anchor=\"middle\" x=\"244.4042\" y=\"-325.4195\" font-family=\"Times,serif\" font-size=\"14.00\" fill=\"#000000\">True</text>\n",
       "</g>\n",
       "<!-- 8 -->\n",
       "<g id=\"node9\" class=\"node\">\n",
       "<title>8</title>\n",
       "<polygon fill=\"#e58139\" fill-opacity=\"0.149020\" stroke=\"#000000\" points=\"391.3373,-234 264.6066,-234 264.6066,-170 391.3373,-170 391.3373,-234\"/>\n",
       "<text text-anchor=\"start\" x=\"272.5393\" y=\"-218.8\" font-family=\"Times,serif\" font-size=\"14.00\" fill=\"#000000\">YearMade ≤ 1998.5</text>\n",
       "<text text-anchor=\"start\" x=\"293.7547\" y=\"-204.8\" font-family=\"Times,serif\" font-size=\"14.00\" fill=\"#000000\">mse = 0.113</text>\n",
       "<text text-anchor=\"start\" x=\"283.9724\" y=\"-190.8\" font-family=\"Times,serif\" font-size=\"14.00\" fill=\"#000000\">samples = 1797</text>\n",
       "<text text-anchor=\"start\" x=\"293.1155\" y=\"-176.8\" font-family=\"Times,serif\" font-size=\"14.00\" fill=\"#000000\">value = 9.19</text>\n",
       "</g>\n",
       "<!-- 0&#45;&gt;8 -->\n",
       "<g id=\"edge8\" class=\"edge\">\n",
       "<title>0&#45;&gt;8</title>\n",
       "<path fill=\"none\" stroke=\"#000000\" d=\"M166.5245,-263.2387C194.5513,-252.6078 226.7823,-240.3823 255.0396,-229.664\"/>\n",
       "<polygon fill=\"#000000\" stroke=\"#000000\" points=\"256.3496,-232.9105 264.4583,-226.0914 253.867,-226.3655 256.3496,-232.9105\"/>\n",
       "<text text-anchor=\"middle\" x=\"241.6603\" y=\"-211.6323\" font-family=\"Times,serif\" font-size=\"14.00\" fill=\"#000000\">False</text>\n",
       "</g>\n",
       "<!-- 2 -->\n",
       "<g id=\"node3\" class=\"node\">\n",
       "<title>2</title>\n",
       "<polygon fill=\"#e58139\" fill-opacity=\"0.600000\" stroke=\"#000000\" points=\"634.9808,-465 514.9631,-465 514.9631,-401 634.9808,-401 634.9808,-465\"/>\n",
       "<text text-anchor=\"start\" x=\"522.718\" y=\"-449.8\" font-family=\"Times,serif\" font-size=\"14.00\" fill=\"#000000\">ModelID ≤ 4178.5</text>\n",
       "<text text-anchor=\"start\" x=\"540.4983\" y=\"-435.8\" font-family=\"Times,serif\" font-size=\"14.00\" fill=\"#000000\">mse = 0.341</text>\n",
       "<text text-anchor=\"start\" x=\"531.2288\" y=\"-421.8\" font-family=\"Times,serif\" font-size=\"14.00\" fill=\"#000000\">samples = 6119</text>\n",
       "<text text-anchor=\"start\" x=\"536.6155\" y=\"-407.8\" font-family=\"Times,serif\" font-size=\"14.00\" fill=\"#000000\">value = 9.897</text>\n",
       "</g>\n",
       "<!-- 1&#45;&gt;2 -->\n",
       "<g id=\"edge2\" class=\"edge\">\n",
       "<title>1&#45;&gt;2</title>\n",
       "<path fill=\"none\" stroke=\"#000000\" d=\"M391.5806,-352.0702C426.352,-367.4147 469.4808,-386.4472 505.1763,-402.1995\"/>\n",
       "<polygon fill=\"#000000\" stroke=\"#000000\" points=\"503.9945,-405.5036 514.5564,-406.3389 506.8207,-399.0994 503.9945,-405.5036\"/>\n",
       "</g>\n",
       "<!-- 5 -->\n",
       "<g id=\"node6\" class=\"node\">\n",
       "<title>5</title>\n",
       "<polygon fill=\"#e58139\" fill-opacity=\"0.890196\" stroke=\"#000000\" points=\"653.8177,-356 496.1262,-356 496.1262,-292 653.8177,-292 653.8177,-356\"/>\n",
       "<text text-anchor=\"start\" x=\"504.0491\" y=\"-340.8\" font-family=\"Times,serif\" font-size=\"14.00\" fill=\"#000000\">fiProductClassDesc ≤ 7.5</text>\n",
       "<text text-anchor=\"start\" x=\"540.4983\" y=\"-326.8\" font-family=\"Times,serif\" font-size=\"14.00\" fill=\"#000000\">mse = 0.352</text>\n",
       "<text text-anchor=\"start\" x=\"527.4724\" y=\"-312.8\" font-family=\"Times,serif\" font-size=\"14.00\" fill=\"#000000\">samples = 12084</text>\n",
       "<text text-anchor=\"start\" x=\"533.1155\" y=\"-298.8\" font-family=\"Times,serif\" font-size=\"14.00\" fill=\"#000000\">value = 10.357</text>\n",
       "</g>\n",
       "<!-- 1&#45;&gt;5 -->\n",
       "<g id=\"edge5\" class=\"edge\">\n",
       "<title>1&#45;&gt;5</title>\n",
       "<path fill=\"none\" stroke=\"#000000\" d=\"M391.5806,-324C420.343,-324 454.8239,-324 486.0858,-324\"/>\n",
       "<polygon fill=\"#000000\" stroke=\"#000000\" points=\"486.1113,-327.5001 496.1113,-324 486.1113,-320.5001 486.1113,-327.5001\"/>\n",
       "</g>\n",
       "<!-- 3 -->\n",
       "<g id=\"node4\" class=\"node\">\n",
       "<title>3</title>\n",
       "<polygon fill=\"#e58139\" fill-opacity=\"0.741176\" stroke=\"#000000\" points=\"857.971,-526 753.9729,-526 753.9729,-476 857.971,-476 857.971,-526\"/>\n",
       "<text text-anchor=\"start\" x=\"771.4983\" y=\"-510.8\" font-family=\"Times,serif\" font-size=\"14.00\" fill=\"#000000\">mse = 0.366</text>\n",
       "<text text-anchor=\"start\" x=\"761.9724\" y=\"-496.8\" font-family=\"Times,serif\" font-size=\"14.00\" fill=\"#000000\">samples = 3013</text>\n",
       "<text text-anchor=\"start\" x=\"764.1155\" y=\"-482.8\" font-family=\"Times,serif\" font-size=\"14.00\" fill=\"#000000\">value = 10.124</text>\n",
       "</g>\n",
       "<!-- 2&#45;&gt;3 -->\n",
       "<g id=\"edge3\" class=\"edge\">\n",
       "<title>2&#45;&gt;3</title>\n",
       "<path fill=\"none\" stroke=\"#000000\" d=\"M635.0615,-450.6887C668.5207,-460.5381 710.1104,-472.781 743.8853,-482.7234\"/>\n",
       "<polygon fill=\"#000000\" stroke=\"#000000\" points=\"743.0622,-486.1295 753.6436,-485.596 745.039,-479.4144 743.0622,-486.1295\"/>\n",
       "</g>\n",
       "<!-- 4 -->\n",
       "<g id=\"node5\" class=\"node\">\n",
       "<title>4</title>\n",
       "<polygon fill=\"#e58139\" fill-opacity=\"0.458824\" stroke=\"#000000\" points=\"857.971,-458 753.9729,-458 753.9729,-408 857.971,-408 857.971,-458\"/>\n",
       "<text text-anchor=\"start\" x=\"771.4983\" y=\"-442.8\" font-family=\"Times,serif\" font-size=\"14.00\" fill=\"#000000\">mse = 0.218</text>\n",
       "<text text-anchor=\"start\" x=\"761.9724\" y=\"-428.8\" font-family=\"Times,serif\" font-size=\"14.00\" fill=\"#000000\">samples = 3106</text>\n",
       "<text text-anchor=\"start\" x=\"767.6155\" y=\"-414.8\" font-family=\"Times,serif\" font-size=\"14.00\" fill=\"#000000\">value = 9.676</text>\n",
       "</g>\n",
       "<!-- 2&#45;&gt;4 -->\n",
       "<g id=\"edge4\" class=\"edge\">\n",
       "<title>2&#45;&gt;4</title>\n",
       "<path fill=\"none\" stroke=\"#000000\" d=\"M635.0615,-433C668.3771,-433 709.7535,-433 743.45,-433\"/>\n",
       "<polygon fill=\"#000000\" stroke=\"#000000\" points=\"743.6436,-436.5001 753.6436,-433 743.6435,-429.5001 743.6436,-436.5001\"/>\n",
       "</g>\n",
       "<!-- 6 -->\n",
       "<g id=\"node7\" class=\"node\">\n",
       "<title>6</title>\n",
       "<polygon fill=\"#e58139\" fill-opacity=\"0.639216\" stroke=\"#000000\" points=\"857.971,-390 753.9729,-390 753.9729,-340 857.971,-340 857.971,-390\"/>\n",
       "<text text-anchor=\"start\" x=\"771.7547\" y=\"-374.8\" font-family=\"Times,serif\" font-size=\"14.00\" fill=\"#000000\">mse = 0.117</text>\n",
       "<text text-anchor=\"start\" x=\"761.9724\" y=\"-360.8\" font-family=\"Times,serif\" font-size=\"14.00\" fill=\"#000000\">samples = 3658</text>\n",
       "<text text-anchor=\"start\" x=\"767.6155\" y=\"-346.8\" font-family=\"Times,serif\" font-size=\"14.00\" fill=\"#000000\">value = 9.963</text>\n",
       "</g>\n",
       "<!-- 5&#45;&gt;6 -->\n",
       "<g id=\"edge6\" class=\"edge\">\n",
       "<title>5&#45;&gt;6</title>\n",
       "<path fill=\"none\" stroke=\"#000000\" d=\"M653.823,-337.9952C683.2736,-343.2224 716.2707,-349.079 743.9888,-353.9987\"/>\n",
       "<polygon fill=\"#000000\" stroke=\"#000000\" points=\"743.4877,-357.4643 753.9455,-355.7659 744.711,-350.5721 743.4877,-357.4643\"/>\n",
       "</g>\n",
       "<!-- 7 -->\n",
       "<g id=\"node8\" class=\"node\">\n",
       "<title>7</title>\n",
       "<polygon fill=\"#e58139\" stroke=\"#000000\" points=\"857.971,-322 753.9729,-322 753.9729,-272 857.971,-272 857.971,-322\"/>\n",
       "<text text-anchor=\"start\" x=\"771.4983\" y=\"-306.8\" font-family=\"Times,serif\" font-size=\"14.00\" fill=\"#000000\">mse = 0.358</text>\n",
       "<text text-anchor=\"start\" x=\"761.9724\" y=\"-292.8\" font-family=\"Times,serif\" font-size=\"14.00\" fill=\"#000000\">samples = 8426</text>\n",
       "<text text-anchor=\"start\" x=\"764.1155\" y=\"-278.8\" font-family=\"Times,serif\" font-size=\"14.00\" fill=\"#000000\">value = 10.527</text>\n",
       "</g>\n",
       "<!-- 5&#45;&gt;7 -->\n",
       "<g id=\"edge7\" class=\"edge\">\n",
       "<title>5&#45;&gt;7</title>\n",
       "<path fill=\"none\" stroke=\"#000000\" d=\"M653.823,-314.7836C683.2736,-311.3414 716.2707,-307.4846 743.9888,-304.2448\"/>\n",
       "<polygon fill=\"#000000\" stroke=\"#000000\" points=\"744.4194,-307.7184 753.9455,-303.081 743.6067,-300.7657 744.4194,-307.7184\"/>\n",
       "</g>\n",
       "<!-- 9 -->\n",
       "<g id=\"node10\" class=\"node\">\n",
       "<title>9</title>\n",
       "<polygon fill=\"#e58139\" fill-opacity=\"0.050980\" stroke=\"#000000\" points=\"657.3177,-234 492.6262,-234 492.6262,-170 657.3177,-170 657.3177,-234\"/>\n",
       "<text text-anchor=\"start\" x=\"500.5491\" y=\"-218.8\" font-family=\"Times,serif\" font-size=\"14.00\" fill=\"#000000\">fiProductClassDesc ≤ 39.5</text>\n",
       "<text text-anchor=\"start\" x=\"540.4983\" y=\"-204.8\" font-family=\"Times,serif\" font-size=\"14.00\" fill=\"#000000\">mse = 0.088</text>\n",
       "<text text-anchor=\"start\" x=\"534.4724\" y=\"-190.8\" font-family=\"Times,serif\" font-size=\"14.00\" fill=\"#000000\">samples = 969</text>\n",
       "<text text-anchor=\"start\" x=\"540.1155\" y=\"-176.8\" font-family=\"Times,serif\" font-size=\"14.00\" fill=\"#000000\">value = 9.04</text>\n",
       "</g>\n",
       "<!-- 8&#45;&gt;9 -->\n",
       "<g id=\"edge9\" class=\"edge\">\n",
       "<title>8&#45;&gt;9</title>\n",
       "<path fill=\"none\" stroke=\"#000000\" d=\"M391.5806,-202C419.1911,-202 452.0713,-202 482.3149,-202\"/>\n",
       "<polygon fill=\"#000000\" stroke=\"#000000\" points=\"482.459,-205.5001 492.459,-202 482.4589,-198.5001 482.459,-205.5001\"/>\n",
       "</g>\n",
       "<!-- 12 -->\n",
       "<g id=\"node13\" class=\"node\">\n",
       "<title>12</title>\n",
       "<polygon fill=\"#e58139\" fill-opacity=\"0.258824\" stroke=\"#000000\" points=\"657.3177,-125 492.6262,-125 492.6262,-61 657.3177,-61 657.3177,-125\"/>\n",
       "<text text-anchor=\"start\" x=\"500.5491\" y=\"-109.8\" font-family=\"Times,serif\" font-size=\"14.00\" fill=\"#000000\">fiProductClassDesc ≤ 40.5</text>\n",
       "<text text-anchor=\"start\" x=\"540.4983\" y=\"-95.8\" font-family=\"Times,serif\" font-size=\"14.00\" fill=\"#000000\">mse = 0.085</text>\n",
       "<text text-anchor=\"start\" x=\"534.4724\" y=\"-81.8\" font-family=\"Times,serif\" font-size=\"14.00\" fill=\"#000000\">samples = 828</text>\n",
       "<text text-anchor=\"start\" x=\"536.6155\" y=\"-67.8\" font-family=\"Times,serif\" font-size=\"14.00\" fill=\"#000000\">value = 9.367</text>\n",
       "</g>\n",
       "<!-- 8&#45;&gt;12 -->\n",
       "<g id=\"edge12\" class=\"edge\">\n",
       "<title>8&#45;&gt;12</title>\n",
       "<path fill=\"none\" stroke=\"#000000\" d=\"M391.5806,-173.9298C422.5457,-160.265 460.1387,-143.6754 493.2075,-129.0823\"/>\n",
       "<polygon fill=\"#000000\" stroke=\"#000000\" points=\"494.6696,-132.2628 502.4053,-125.0233 491.8434,-125.8586 494.6696,-132.2628\"/>\n",
       "</g>\n",
       "<!-- 10 -->\n",
       "<g id=\"node11\" class=\"node\">\n",
       "<title>10</title>\n",
       "<polygon fill=\"transparent\" stroke=\"#000000\" points=\"854.471,-254 757.4729,-254 757.4729,-204 854.471,-204 854.471,-254\"/>\n",
       "<text text-anchor=\"start\" x=\"771.4983\" y=\"-238.8\" font-family=\"Times,serif\" font-size=\"14.00\" fill=\"#000000\">mse = 0.059</text>\n",
       "<text text-anchor=\"start\" x=\"765.4724\" y=\"-224.8\" font-family=\"Times,serif\" font-size=\"14.00\" fill=\"#000000\">samples = 478</text>\n",
       "<text text-anchor=\"start\" x=\"767.6155\" y=\"-210.8\" font-family=\"Times,serif\" font-size=\"14.00\" fill=\"#000000\">value = 8.957</text>\n",
       "</g>\n",
       "<!-- 9&#45;&gt;10 -->\n",
       "<g id=\"edge10\" class=\"edge\">\n",
       "<title>9&#45;&gt;10</title>\n",
       "<path fill=\"none\" stroke=\"#000000\" d=\"M657.3899,-211.6333C687.0321,-215.0979 719.8492,-218.9337 747.0859,-222.1172\"/>\n",
       "<polygon fill=\"#000000\" stroke=\"#000000\" points=\"746.8944,-225.6186 757.2331,-223.3033 747.7071,-218.6659 746.8944,-225.6186\"/>\n",
       "</g>\n",
       "<!-- 11 -->\n",
       "<g id=\"node12\" class=\"node\">\n",
       "<title>11</title>\n",
       "<polygon fill=\"#e58139\" fill-opacity=\"0.101961\" stroke=\"#000000\" points=\"854.471,-186 757.4729,-186 757.4729,-136 854.471,-136 854.471,-186\"/>\n",
       "<text text-anchor=\"start\" x=\"771.4983\" y=\"-170.8\" font-family=\"Times,serif\" font-size=\"14.00\" fill=\"#000000\">mse = 0.103</text>\n",
       "<text text-anchor=\"start\" x=\"765.4724\" y=\"-156.8\" font-family=\"Times,serif\" font-size=\"14.00\" fill=\"#000000\">samples = 491</text>\n",
       "<text text-anchor=\"start\" x=\"771.1155\" y=\"-142.8\" font-family=\"Times,serif\" font-size=\"14.00\" fill=\"#000000\">value = 9.12</text>\n",
       "</g>\n",
       "<!-- 9&#45;&gt;11 -->\n",
       "<g id=\"edge11\" class=\"edge\">\n",
       "<title>9&#45;&gt;11</title>\n",
       "<path fill=\"none\" stroke=\"#000000\" d=\"M657.3899,-187.3717C687.0321,-182.1105 719.8492,-176.2859 747.0859,-171.4516\"/>\n",
       "<polygon fill=\"#000000\" stroke=\"#000000\" points=\"747.9987,-174.8444 757.2331,-169.6506 746.7753,-167.9521 747.9987,-174.8444\"/>\n",
       "</g>\n",
       "<!-- 13 -->\n",
       "<g id=\"node14\" class=\"node\">\n",
       "<title>13</title>\n",
       "<polygon fill=\"#e58139\" fill-opacity=\"0.200000\" stroke=\"#000000\" points=\"854.471,-118 757.4729,-118 757.4729,-68 854.471,-68 854.471,-118\"/>\n",
       "<text text-anchor=\"start\" x=\"771.4983\" y=\"-102.8\" font-family=\"Times,serif\" font-size=\"14.00\" fill=\"#000000\">mse = 0.078</text>\n",
       "<text text-anchor=\"start\" x=\"765.4724\" y=\"-88.8\" font-family=\"Times,serif\" font-size=\"14.00\" fill=\"#000000\">samples = 464</text>\n",
       "<text text-anchor=\"start\" x=\"767.6155\" y=\"-74.8\" font-family=\"Times,serif\" font-size=\"14.00\" fill=\"#000000\">value = 9.274</text>\n",
       "</g>\n",
       "<!-- 12&#45;&gt;13 -->\n",
       "<g id=\"edge13\" class=\"edge\">\n",
       "<title>12&#45;&gt;13</title>\n",
       "<path fill=\"none\" stroke=\"#000000\" d=\"M657.3899,-93C687.0321,-93 719.8492,-93 747.0859,-93\"/>\n",
       "<polygon fill=\"#000000\" stroke=\"#000000\" points=\"747.2331,-96.5001 757.2331,-93 747.2331,-89.5001 747.2331,-96.5001\"/>\n",
       "</g>\n",
       "<!-- 14 -->\n",
       "<g id=\"node15\" class=\"node\">\n",
       "<title>14</title>\n",
       "<polygon fill=\"#e58139\" fill-opacity=\"0.337255\" stroke=\"#000000\" points=\"854.471,-50 757.4729,-50 757.4729,0 854.471,0 854.471,-50\"/>\n",
       "<text text-anchor=\"start\" x=\"774.9983\" y=\"-34.8\" font-family=\"Times,serif\" font-size=\"14.00\" fill=\"#000000\">mse = 0.07</text>\n",
       "<text text-anchor=\"start\" x=\"765.4724\" y=\"-20.8\" font-family=\"Times,serif\" font-size=\"14.00\" fill=\"#000000\">samples = 364</text>\n",
       "<text text-anchor=\"start\" x=\"767.6155\" y=\"-6.8\" font-family=\"Times,serif\" font-size=\"14.00\" fill=\"#000000\">value = 9.484</text>\n",
       "</g>\n",
       "<!-- 12&#45;&gt;14 -->\n",
       "<g id=\"edge14\" class=\"edge\">\n",
       "<title>12&#45;&gt;14</title>\n",
       "<path fill=\"none\" stroke=\"#000000\" d=\"M657.3899,-68.7384C687.1627,-59.9742 720.1384,-50.267 747.4455,-42.2286\"/>\n",
       "<polygon fill=\"#000000\" stroke=\"#000000\" points=\"748.6285,-45.5289 757.2331,-39.3474 746.6517,-38.8138 748.6285,-45.5289\"/>\n",
       "</g>\n",
       "</g>\n",
       "</svg>\n"
      ],
      "text/plain": [
       "<graphviz.files.Source at 0x10ec70358>"
      ]
     },
     "metadata": {},
     "output_type": "display_data"
    }
   ],
   "source": [
    "draw_tree(m.estimators_[0], df_trn, precision=3)"
   ]
  },
  {
   "cell_type": "markdown",
   "metadata": {},
   "source": [
    "* Algorithm has determined that the best split it can make is the `Coupler_System` split at 0.5.\n",
    "* Uses weighted average of the MSE of the two groups to determine if a split is good or not.\n",
    "  * Then for the remaining features, it trys to find the next best split.\n",
    "* Stop when you hit some limit (`max_depth=3`) or when leaf nodes only have 1 thing in them.\n",
    "  * Can do that by removing the `max_depth` param:"
   ]
  },
  {
   "cell_type": "code",
   "execution_count": 19,
   "metadata": {},
   "outputs": [
    {
     "data": {
      "text/plain": [
       "RandomForestRegressor(bootstrap=False, criterion='mse', max_depth=None,\n",
       "           max_features='auto', max_leaf_nodes=None,\n",
       "           min_impurity_decrease=0.0, min_impurity_split=None,\n",
       "           min_samples_leaf=1, min_samples_split=2,\n",
       "           min_weight_fraction_leaf=0.0, n_estimators=1, n_jobs=-1,\n",
       "           oob_score=False, random_state=None, verbose=0, warm_start=False)"
      ]
     },
     "execution_count": 19,
     "metadata": {},
     "output_type": "execute_result"
    }
   ],
   "source": [
    "m = RandomForestRegressor(n_estimators=1, bootstrap=False, n_jobs=-1)\n",
    "m.fit(X_train, y_train)"
   ]
  },
  {
   "cell_type": "code",
   "execution_count": 20,
   "metadata": {},
   "outputs": [
    {
     "name": "stdout",
     "output_type": "stream",
     "text": [
      "RMSE train: 1.0\n",
      "RMSE val: 0.4887548244550871\n",
      "R^2 val: 0.5733909260779704\n"
     ]
    }
   ],
   "source": [
    "print(f'RMSE train: {m.score(X_train, y_train)}')\n",
    "print(f'RMSE val: {rmse(m.predict(X_valid), y_valid)}')\n",
    "print(f'R^2 val: {m.score(X_valid, y_valid)}')"
   ]
  },
  {
   "cell_type": "markdown",
   "metadata": {},
   "source": [
    "* Which gives us a perfect RMSE value, but obviously overfits a lot (though still performs better than `max_depth`).\n",
    "* Approach to making trees better: forests."
   ]
  },
  {
   "cell_type": "markdown",
   "metadata": {},
   "source": [
    "## 00:47:08 - Bagging\n",
    "\n",
    "* Forests uses a statistical technique called \"bagging\".\n",
    "* Random Forests = \"way of bagging trees\".\n",
    "* Bagging:\n",
    "  * Idea of creating multiple models that are predictive but not correlated with each other.\n",
    "  * What if you created massive deep trees on only a small subset of the data (similar to the overfit tree above)?\n",
    "    * That's what a random forest does.\n",
    "    * All have errors but when averaged they should cancel each other out (in theory).\n",
    "* By default, `RandomForestRegressor` creates 10 \"estimators\" (aka random trees)."
   ]
  },
  {
   "cell_type": "code",
   "execution_count": 21,
   "metadata": {},
   "outputs": [
    {
     "name": "stdout",
     "output_type": "stream",
     "text": [
      "R^2 train: 0.9728962882813472\n",
      "RMSE val: 0.3739052335758413\n",
      "R^2 val: 0.7503272975525497\n"
     ]
    }
   ],
   "source": [
    "m = RandomForestRegressor(n_jobs=-1)\n",
    "m.fit(X_train, y_train)\n",
    "print(f'R^2 train: {m.score(X_train, y_train)}')\n",
    "print(f'RMSE val: {rmse(m.predict(X_valid), y_valid)}')\n",
    "print(f'R^2 val: {m.score(X_valid, y_valid)}')"
   ]
  },
  {
   "cell_type": "markdown",
   "metadata": {},
   "source": [
    "### 00:51:27 - Audience questions\n",
    "\n",
    "* Q1: Are we taking 10 crappy models on random subsets and combining them to create a good model?\n",
    "* A1: Yes.\n",
    "\n",
    "* Q2: Is there a certain number of trees you need to get a good RMSE?\n",
    "* A2: Will look at hyperparameters soon.\n",
    "\n",
    "* Q3: Can subsets have overlap?\n",
    "* A3: Scikit-learn, picks out n rows with \"replacement\", which means that on average 63.2% of rows are represented.\n",
    "\n",
    "* Q4: Is a tree simply finding points most like your current point?\n",
    "* A4: Yes, but you're trying to find a model which tells you which variables are important and how they work together."
   ]
  },
  {
   "cell_type": "markdown",
   "metadata": {},
   "source": [
    "### 00:56:06 - ExtraTreesRegressor and uncorrelated trees\n",
    "\n",
    "* Want each individual tree to be predictive but uncorrelated.\n",
    "  * Talked about by original paper author in late 90s.\n",
    "* Recent research found that less correlated is more important than less predictive.\n",
    "  * Another class called `ExtraTreesRegressor` uses an \"extremely randomised tree\" model which randomly tries a few splits of a few variables, so it's faster and can build more trees."
   ]
  },
  {
   "cell_type": "code",
   "execution_count": 22,
   "metadata": {},
   "outputs": [
    {
     "name": "stdout",
     "output_type": "stream",
     "text": [
      "R^2 train: 1.0\n",
      "RMSE val: 0.36479917516633253\n",
      "R^2 val: 0.7623402317086848\n"
     ]
    }
   ],
   "source": [
    "m = ExtraTreesRegressor(n_jobs=-1)\n",
    "m.fit(X_train, y_train)\n",
    "print(f'R^2 train: {m.score(X_train, y_train)}')\n",
    "print(f'RMSE val: {rmse(m.predict(X_valid), y_valid)}')\n",
    "print(f'R^2 val: {m.score(X_valid, y_valid)}')"
   ]
  },
  {
   "cell_type": "markdown",
   "metadata": {},
   "source": [
    "### 00:58:02 - Audience questions\n",
    "\n",
    "* Q1: What do you mean by uncorrelated trees?\n",
    "* A1: If I build 1000 trees on 10 different datapoints, it's likely that each tree will be very different to each other.\n",
    "\n",
    "* Q2: When should you use a `RandomForest` over an `ExtraTreesRegressor`?\n",
    "* A2: That's hyperparameter tuning which we'll cover later.\n",
    "\n",
    "* Q3: How do splits work with continuous values?\n",
    "* A3: Each node has the average of all the nodes in the tree and uses that to figure out the optimial split.\n",
    "\n",
    "* Q4: How do you find the optimal split?\n",
    "* A4: Try each data point - CPUs are fast.\n",
    "\n",
    "* Q5: Do we always use average each tree node?\n",
    "* A5: There are other types of trees with leaf nodes that are independant linear regressions but not common in practise.\n",
    "\n",
    "* Q6: If you have many trees with many leaf nodes across trees, how do you find the average across the validation set?\n",
    "* A6: For each node, you run it through each tree to find the value where it lands and do for each tree. You then average the tree "
   ]
  },
  {
   "cell_type": "markdown",
   "metadata": {},
   "source": [
    "## 01:04:28 - Examining trees in forest\n",
    "\n",
    "* Each tree store in `estimators_` in the model object:"
   ]
  },
  {
   "cell_type": "code",
   "execution_count": 23,
   "metadata": {},
   "outputs": [
    {
     "data": {
      "text/plain": [
       "RandomForestRegressor(bootstrap=True, criterion='mse', max_depth=None,\n",
       "           max_features='auto', max_leaf_nodes=None,\n",
       "           min_impurity_decrease=0.0, min_impurity_split=None,\n",
       "           min_samples_leaf=1, min_samples_split=2,\n",
       "           min_weight_fraction_leaf=0.0, n_estimators=10, n_jobs=-1,\n",
       "           oob_score=False, random_state=None, verbose=0, warm_start=False)"
      ]
     },
     "execution_count": 23,
     "metadata": {},
     "output_type": "execute_result"
    }
   ],
   "source": [
    "m = RandomForestRegressor(n_jobs=-1)\n",
    "m.fit(X_train, y_train)"
   ]
  },
  {
   "cell_type": "code",
   "execution_count": 24,
   "metadata": {},
   "outputs": [],
   "source": [
    "preds = np.stack([t.predict(X_valid) for t in m.estimators_])"
   ]
  },
  {
   "cell_type": "code",
   "execution_count": 25,
   "metadata": {},
   "outputs": [
    {
     "name": "stdout",
     "output_type": "stream",
     "text": [
      "Predictions: [ 9.85219 10.43412  9.3501   9.30565  9.10498  8.9872   9.3501   9.21034 10.12663  8.9872 ]\n",
      "Avg: 9.47085102156989\n",
      "Actual: 9.104979856318357\n"
     ]
    }
   ],
   "source": [
    "print('Predictions:', preds[:,0])\n",
    "print('Avg:', np.mean(preds[:,0]))\n",
    "print('Actual:', y_valid[0])"
   ]
  },
  {
   "cell_type": "markdown",
   "metadata": {},
   "source": [
    "* Because tree has 10 estimators in it, we expect an array with 10 x val set predictions:"
   ]
  },
  {
   "cell_type": "code",
   "execution_count": 26,
   "metadata": {},
   "outputs": [
    {
     "data": {
      "text/plain": [
       "(10, 12000)"
      ]
     },
     "execution_count": 26,
     "metadata": {},
     "output_type": "execute_result"
    }
   ],
   "source": [
    "preds.shape"
   ]
  },
  {
   "cell_type": "markdown",
   "metadata": {},
   "source": [
    "* Can plot the mean of all predictions up to ith tree (can see $r^2$ gets better as you add more trees):"
   ]
  },
  {
   "cell_type": "code",
   "execution_count": 27,
   "metadata": {},
   "outputs": [
    {
     "data": {
      "text/plain": [
       "[<matplotlib.lines.Line2D at 0x13bf0fa90>]"
      ]
     },
     "execution_count": 27,
     "metadata": {},
     "output_type": "execute_result"
    },
    {
     "data": {
      "image/png": "[encoded data removed]",
      "text/plain": [
       "<Figure size 432x288 with 1 Axes>"
      ]
     },
     "metadata": {},
     "output_type": "display_data"
    }
   ],
   "source": [
    "plt.plot([metrics.r2_score(y_valid, np.mean(preds[:i+1], axis=0)) for i in range(10)])"
   ]
  },
  {
   "cell_type": "markdown",
   "metadata": {},
   "source": [
    "* However, it doesn't appear to improve much as you get above 5 trees."
   ]
  },
  {
   "cell_type": "code",
   "execution_count": 28,
   "metadata": {},
   "outputs": [
    {
     "name": "stdout",
     "output_type": "stream",
     "text": [
      "R^2 val: 0.7809096924387907\n"
     ]
    }
   ],
   "source": [
    "m = RandomForestRegressor(n_estimators=20, n_jobs=-1)\n",
    "m.fit(X_train, y_train)\n",
    "print(f'R^2 val: {m.score(X_valid, y_valid)}')"
   ]
  },
  {
   "cell_type": "code",
   "execution_count": 29,
   "metadata": {},
   "outputs": [
    {
     "name": "stdout",
     "output_type": "stream",
     "text": [
      "R^2 val: 0.7840461147967512\n"
     ]
    }
   ],
   "source": [
    "m = RandomForestRegressor(n_estimators=40, n_jobs=-1)\n",
    "m.fit(X_train, y_train)\n",
    "print(f'R^2 val: {m.score(X_valid, y_valid)}')"
   ]
  },
  {
   "cell_type": "code",
   "execution_count": 30,
   "metadata": {},
   "outputs": [
    {
     "name": "stdout",
     "output_type": "stream",
     "text": [
      "R^2 val: 0.7769991439754395\n"
     ]
    }
   ],
   "source": [
    "m = RandomForestRegressor(n_estimators=80, n_jobs=-1)\n",
    "m.fit(X_train, y_train)\n",
    "print(f'R^2 val: {m.score(X_valid, y_valid)}')"
   ]
  },
  {
   "cell_type": "markdown",
   "metadata": {},
   "source": [
    "* Expect some point where adding more trees doesn't help that much.\n",
    "  * First hyperparameter to set = `n_estimators`."
   ]
  },
  {
   "cell_type": "markdown",
   "metadata": {},
   "source": [
    "## 01:10:07 - Out-of-bag (OOB) score\n",
    "\n",
    "* Sometimes dataset is small and you don't want to pull out a validation set: OOB score helps.\n",
    "* Since creating trees doesn't use all data in the training set, could create a validation set for each tree.\n",
    "  * Then calculate the error on training set, but only use the items which the tree wasn't trained on to make predictions.\n",
    "  * Score available as `oob_score_` in Scikit-learn."
   ]
  },
  {
   "cell_type": "code",
   "execution_count": 31,
   "metadata": {},
   "outputs": [
    {
     "data": {
      "text/plain": [
       "RandomForestRegressor(bootstrap=True, criterion='mse', max_depth=None,\n",
       "           max_features='auto', max_leaf_nodes=None,\n",
       "           min_impurity_decrease=0.0, min_impurity_split=None,\n",
       "           min_samples_leaf=1, min_samples_split=2,\n",
       "           min_weight_fraction_leaf=0.0, n_estimators=40, n_jobs=-1,\n",
       "           oob_score=True, random_state=None, verbose=0, warm_start=False)"
      ]
     },
     "execution_count": 31,
     "metadata": {},
     "output_type": "execute_result"
    }
   ],
   "source": [
    "m = RandomForestRegressor(n_jobs=-1, n_estimators=40, oob_score=True)\n",
    "m.fit(X_train, y_train)"
   ]
  },
  {
   "cell_type": "code",
   "execution_count": 32,
   "metadata": {},
   "outputs": [
    {
     "name": "stdout",
     "output_type": "stream",
     "text": [
      "0.8557801416628087\n"
     ]
    }
   ],
   "source": [
    "print(m.oob_score_)"
   ]
  },
  {
   "cell_type": "markdown",
   "metadata": {},
   "source": [
    "* Can use oob score with grid search to find best hyperparameters."
   ]
  },
  {
   "cell_type": "markdown",
   "metadata": {},
   "source": [
    "## 01:14:45 - Subsampling"
   ]
  },
  {
   "cell_type": "markdown",
   "metadata": {},
   "source": [
    "* Instead of taking a subset of data when feeding into the forest, use a subset of the same size when creating trees.\n",
    "* Fast.ai library has a function `set_rf_samples` that hacks it into RandomForest"
   ]
  },
  {
   "cell_type": "code",
   "execution_count": 33,
   "metadata": {},
   "outputs": [
    {
     "data": {
      "text/plain": [
       "<function fastai.structured.set_rf_samples(n)>"
      ]
     },
     "execution_count": 33,
     "metadata": {},
     "output_type": "execute_result"
    }
   ],
   "source": [
    "set_rf_samples"
   ]
  },
  {
   "cell_type": "code",
   "execution_count": 34,
   "metadata": {},
   "outputs": [],
   "source": [
    "df_trn, y_trn, nas = proc_df(df_raw, 'SalePrice')\n",
    "X_train, _ = split_vals(df_trn, 20000)\n",
    "y_train, _ = split_vals(y_trn, 20000)"
   ]
  },
  {
   "cell_type": "code",
   "execution_count": 35,
   "metadata": {},
   "outputs": [
    {
     "data": {
      "text/plain": [
       "20000"
      ]
     },
     "execution_count": 35,
     "metadata": {},
     "output_type": "execute_result"
    }
   ],
   "source": [
    "len(X_train)"
   ]
  },
  {
   "cell_type": "code",
   "execution_count": 36,
   "metadata": {},
   "outputs": [],
   "source": [
    "set_rf_samples(20000)"
   ]
  },
  {
   "cell_type": "code",
   "execution_count": 38,
   "metadata": {},
   "outputs": [
    {
     "name": "stdout",
     "output_type": "stream",
     "text": [
      "CPU times: user 11.7 s, sys: 129 ms, total: 11.8 s\n",
      "Wall time: 1.88 s\n"
     ]
    },
    {
     "data": {
      "text/plain": [
       "RandomForestRegressor(bootstrap=True, criterion='mse', max_depth=None,\n",
       "           max_features='auto', max_leaf_nodes=None,\n",
       "           min_impurity_decrease=0.0, min_impurity_split=None,\n",
       "           min_samples_leaf=1, min_samples_split=2,\n",
       "           min_weight_fraction_leaf=0.0, n_estimators=40, n_jobs=-1,\n",
       "           oob_score=True, random_state=None, verbose=0, warm_start=False)"
      ]
     },
     "execution_count": 38,
     "metadata": {},
     "output_type": "execute_result"
    }
   ],
   "source": [
    "m = RandomForestRegressor(n_jobs=-1, n_estimators=40, oob_score=True)\n",
    "%time m.fit(X_train, y_train)"
   ]
  },
  {
   "cell_type": "code",
   "execution_count": 40,
   "metadata": {},
   "outputs": [
    {
     "name": "stdout",
     "output_type": "stream",
     "text": [
      "R^2 val: 0.8126480173042334\n"
     ]
    }
   ],
   "source": [
    "print(f'R^2 val: {m.score(X_valid, y_valid)}')"
   ]
  },
  {
   "cell_type": "markdown",
   "metadata": {},
   "source": [
    "### 01:18:26 - Audience questions\n",
    "\n",
    "* Q1: How does the OOB score work when using `set_rf_samples`?\n",
    "* A1: The current version doesn't change how OOB is calculated, so you need to make `oob_score=False`."
   ]
  },
  {
   "cell_type": "markdown",
   "metadata": {},
   "source": [
    "* When doing analysis, generally best to use small subsets, especially when trying to figure out which features are important.\n",
    "  * Want a large enough sample size to have reasonable accuracy, but small enough so it runs quickly."
   ]
  },
  {
   "cell_type": "markdown",
   "metadata": {},
   "source": [
    "### 01:21:19 - Other hyperparameters"
   ]
  },
  {
   "cell_type": "code",
   "execution_count": 41,
   "metadata": {},
   "outputs": [],
   "source": [
    "reset_rf_samples()"
   ]
  },
  {
   "cell_type": "code",
   "execution_count": 42,
   "metadata": {},
   "outputs": [
    {
     "name": "stdout",
     "output_type": "stream",
     "text": [
      "CPU times: user 11.6 s, sys: 98.2 ms, total: 11.7 s\n",
      "Wall time: 1.9 s\n",
      "R^2 val: 0.8138654309853924\n"
     ]
    }
   ],
   "source": [
    "m = RandomForestRegressor(n_jobs=-1, n_estimators=40, oob_score=True)\n",
    "%time m.fit(X_train, y_train)\n",
    "print(f'R^2 val: {m.score(X_valid, y_valid)}')"
   ]
  },
  {
   "cell_type": "markdown",
   "metadata": {},
   "source": [
    "* `min_samples_leaf`: stop training when leaf nodes have 3 or less samples.\n",
    "  * Should generalise better but each tree less powerful on its own.\n",
    "  * Values like 1, 3, 5, 10, 25 work well.\n",
    "  * Big dataset might want a very big value like 100s or 1000s."
   ]
  },
  {
   "cell_type": "code",
   "execution_count": 43,
   "metadata": {},
   "outputs": [
    {
     "name": "stdout",
     "output_type": "stream",
     "text": [
      "CPU times: user 9.35 s, sys: 60.9 ms, total: 9.41 s\n",
      "Wall time: 1.54 s\n",
      "R^2 val: 0.8131193501076375\n"
     ]
    }
   ],
   "source": [
    "m = RandomForestRegressor(n_jobs=-1, min_samples_leaf=3, n_estimators=40, oob_score=True)\n",
    "%time m.fit(X_train, y_train)\n",
    "print(f'R^2 val: {m.score(X_valid, y_valid)}')"
   ]
  },
  {
   "cell_type": "markdown",
   "metadata": {},
   "source": [
    "* `max_features`: for each tree, only use a subset of columns: encourages less correlated trees.\n",
    "  * 0.5: randomly choose half.\n",
    "  * 1: default (choose all).\n",
    "  * `sqrt`: sqrt of features.\n",
    "  * `log2`: log2 of features."
   ]
  },
  {
   "cell_type": "code",
   "execution_count": 44,
   "metadata": {},
   "outputs": [
    {
     "name": "stdout",
     "output_type": "stream",
     "text": [
      "CPU times: user 4.92 s, sys: 48.7 ms, total: 4.97 s\n",
      "Wall time: 935 ms\n",
      "R^2 val: 0.8263757591024465\n"
     ]
    }
   ],
   "source": [
    "m = RandomForestRegressor(n_jobs=-1, min_samples_leaf=3, max_features=0.5, n_estimators=40, oob_score=True)\n",
    "%time m.fit(X_train, y_train)\n",
    "print(f'R^2 val: {m.score(X_valid, y_valid)}')"
   ]
  },
  {
   "cell_type": "code",
   "execution_count": 45,
   "metadata": {},
   "outputs": [
    {
     "name": "stdout",
     "output_type": "stream",
     "text": [
      "RMSE val: 0.31180364872294014\n"
     ]
    }
   ],
   "source": [
    "print(f'RMSE val: {rmse(m.predict(X_valid), y_valid)}')"
   ]
  },
  {
   "cell_type": "markdown",
   "metadata": {},
   "source": [
    "* A linear model tends to require more feature engineering, whereas random forest are \"harder to screw up\".\n",
    "  * Trees are infinitely flexible, can use multiple splits to find out any bit of information.\n",
    "  * Can be helpful to order categorical data, but if not, it would just take a few extra splits."
   ]
  },
  {
   "cell_type": "markdown",
   "metadata": {},
   "source": [
    "## 01:34:11 - Assignment\n",
    "\n",
    "* Experiment with Random Forests.\n",
    "  * Draw trees\n",
    "  * Plot errors etc.\n",
    "* Write your own versions of $r^2$"
   ]
  },
  {
   "cell_type": "code",
   "execution_count": null,
   "metadata": {},
   "outputs": [],
   "source": []
  }
 ],
 "metadata": {
  "kernelspec": {
   "display_name": "Python 3",
   "language": "python",
   "name": "python3"
  },
  "language_info": {
   "codemirror_mode": {
    "name": "ipython",
    "version": 3
   },
   "file_extension": ".py",
   "mimetype": "text/x-python",
   "name": "python",
   "nbconvert_exporter": "python",
   "pygments_lexer": "ipython3",
   "version": "3.6.5"
  }
 },
 "nbformat": 4,
 "nbformat_minor": 2
}
