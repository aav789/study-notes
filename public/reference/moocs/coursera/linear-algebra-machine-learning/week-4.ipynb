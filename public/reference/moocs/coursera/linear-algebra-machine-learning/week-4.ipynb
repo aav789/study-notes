{
 "cells": [
  {
   "cell_type": "markdown",
   "metadata": {},
   "source": [
    "# Week 4\n",
    "\n",
    "## Matrices as objects that map one vector onto another; all the types of matrices\n",
    "\n",
    "### Einstein summation convention and the symmetry of the dot product\n",
    "\n",
    "* Process of multiplying a matrix by a vector or a matrix with another matrix, involves taking each row from the first and multiplying with the corresponding column from the second, then adding the results in place:\n",
    "  $\n",
    "  \\begin{pmatrix}1 & 2 & 3\\\\ 1 & 2 & 3\\end{pmatrix} \\begin{pmatrix}2 \\\\ 3 \\\\ 4\\end{pmatrix} = \\begin{pmatrix}1 * 2 + 2 * 3 + 3 * 4 \\\\ 1 * 2 + 2 * 3 + 3 * 4\\end{pmatrix} = \\begin{pmatrix}20 & 20\\end{pmatrix}\n",
    "  $\n",
    "  * The number of cols of the first matrix must match the number of rows of the second. \n",
    "* Einstein summary convention = a simplified way of writing the sum of some indexed terms.\n",
    "  * Normal notation: $= \\sum\\limits_J a_{ij} b_{jk}$\n",
    "  * Einstein summation notation: $= a_{ij} b_{jk}$\n",
    "* Dot product of two vectors is symmetric: $U*V=V*U$."
   ]
  },
  {
   "cell_type": "markdown",
   "metadata": {},
   "source": [
    "## Matrices transform into the new basis vector set\n",
    "\n",
    "### Matrices changing basis\n",
    "\n"
   ]
  }
 ],
 "metadata": {
  "kernelspec": {
   "display_name": "Python 3",
   "language": "python",
   "name": "python3"
  },
  "language_info": {
   "codemirror_mode": {
    "name": "ipython",
    "version": 3
   },
   "file_extension": ".py",
   "mimetype": "text/x-python",
   "name": "python",
   "nbconvert_exporter": "python",
   "pygments_lexer": "ipython3",
   "version": "3.6.2"
  }
 },
 "nbformat": 4,
 "nbformat_minor": 2
}
